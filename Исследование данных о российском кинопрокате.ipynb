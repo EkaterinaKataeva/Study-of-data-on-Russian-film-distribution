{
 "cells": [
  {
   "cell_type": "markdown",
   "metadata": {},
   "source": [
    "<div style=\"border:solid Chocolate 2px; padding: 40px\">\n",
    "\n",
    "<b>Екатерина, привет!</b>\n",
    "\n",
    "Меня зовут Евгений Головин, я буду ревьюером твоего проекта. Если ты не против, то предлагаю построить наше общение на \"ты\" ;) Если удобнее на \"вы\", то нет проблем, только скажи об этом. \n",
    "\n",
    "В ходе работы я оставил тебе комментарии <font color='green'>зеленого</font>, <font color='gold'>желтого</font> и <font color='red'>красного</font> цветов. Сейчас объясню, что они значат:\n",
    "\n",
    "<br/>\n",
    "\n",
    "<div class=\"alert alert-success\">\n",
    "<h2> Комментарий ревьюера <a class=\"tocSkip\"> </h2>\n",
    "\n",
    "<b>Все супер!👍:</b> Решение на этом шаге является полностью правильным.\n",
    "</div>\n",
    "\n",
    "<br/>\n",
    "\n",
    "<div class=\"alert alert-warning\">\n",
    "    <h2> Комментарий ревьюера <a class=\"tocSkip\"> </h2>\n",
    "    \n",
    "<b>Небольшие замечания и рекомендации💡:</b> Решение на этом шаге станет еще лучше, если внести небольшие коррективы.\n",
    "</div>\n",
    "\n",
    "\n",
    "<br/>\n",
    "<div class=\"alert alert-block alert-danger\">\n",
    "<h2> Комментарий ревьюера <a class=\"tocSkip\"></h2>\n",
    "\n",
    "    \n",
    "<b>На доработку🤔:</b>\n",
    " Решение на этом шаге требует существенной переработки и внесения правок. Напоминаю, что проект не может быть принят с первого раза, если ревью содержит комментарии, рекомендующие доработать шаги.\n",
    "</div>\n",
    "    \n",
    "Увидев мой комментарий, не удаляй его, он будет очень полезен в случае повторной проверки работы :)\n",
    "    \n",
    "<div class=\"alert alert-info\">\n",
    "<b>А свой помечай вот так, чтобы я его не потерял ;)</b> \n",
    "</div>\n",
    "    \n",
    "На мои комменатрии можно и нужно реагировать, только делать это стоит так, чтобы твои и мои комменты не смешались: выделяй свои цветами, сильно отличающимися от моих.\n",
    "    \n",
    "Увидев у тебя неточность, в первый раз я лишь укажу на ее наличие и дам тебе возможность самому найти и исправить ее. На реальной работе твой руководитель будет поступать также, и я пытаюсь подготовить тебя именно к работе аналитиком. Но если ты пока не справишься с такой задачей - при следующей проверке я дам более точную подсказку!"
   ]
  },
  {
   "cell_type": "markdown",
   "metadata": {},
   "source": [
    "<div class=\"alert alert-block alert-danger\">\n",
    "<h2> Комментарий ревьюера v1 <a class=\"tocSkip\"></h2>\n",
    "\n",
    "<b>На доработку🤔:</b>  Давай начнем с введения?"
   ]
  },
  {
   "cell_type": "markdown",
   "metadata": {},
   "source": [
    "**Перед нами стоит задача изучить рынок российского кинопроката и выявить текущие тренды. Особенное внимание мы уделим фильмам, которые получили государственную поддержку, и попробуем разобраться, насколько такие фильмы интересны зрителю. Заказчиком данного исследования выступает Министерство культуры Российской Федерации.**"
   ]
  },
  {
   "cell_type": "markdown",
   "metadata": {},
   "source": [
    "<div class=\"alert alert-warning\">\n",
    "    <h2> Комментарий ревьюера v2 <a class=\"tocSkip\"> </h2>\n",
    "    \n",
    "<b>Небольшие замечания и рекомендации💡:</b>Хорошо) Но на будущее будет здорово поставить цель, написать план работы, описать данные"
   ]
  },
  {
   "cell_type": "markdown",
   "metadata": {
    "id": "sIfNaMOxgFyK"
   },
   "source": [
    "## Исследование данных о российском кинопрокате\n",
    "\n"
   ]
  },
  {
   "cell_type": "markdown",
   "metadata": {
    "id": "3bSlkCsbgFyL"
   },
   "source": [
    "### Шаг 1. Откройте файлы с данными и объедините их в один датафрейм. \n",
    "\n",
    "Объедините данные таким образом, чтобы все объекты из датасета `mkrf_movies` обязательно вошли в получившийся датафрейм. \n",
    "\n",
    "<div id=\"accordion\">\n",
    "    <div class=\"card\">\n",
    "        <div class=\"card-header\" id=\"headingThree\">\n",
    "            <button class=\"btn btn-link collapsed\" data-toggle=\"collapse\" data-target=\"#collapseHint_0\" aria-expanded=\"false\" aria-controls=\"collapseHint_0\">Подсказка</button>\n",
    "        </div>\n",
    "        <div id=\"collapseHint_0\" class=\"collapse\" aria-labelledby=\"headingThree\" data-parent=\"#accordion\">\n",
    "            <div class=\"card-body\">\n",
    "Обратите внимание на тип данных столбца, по которому будете соединять датафреймы. Тип данных этих столбцов должен быть одинаковым в обоих датафреймах.\n",
    "            </div>\n",
    "        </div>\n",
    "    </div>\n",
    "</div>"
   ]
  },
  {
   "cell_type": "code",
   "execution_count": 2,
   "metadata": {
    "id": "dw87FlzMgFyM"
   },
   "outputs": [],
   "source": [
    "#импортируем библиотеку pandas\n",
    "import pandas as pd"
   ]
  },
  {
   "cell_type": "code",
   "execution_count": 3,
   "metadata": {},
   "outputs": [],
   "source": [
    "#откроем таблицу с данными о прокатных удостоверениях\n",
    "data1 = pd.read_csv('/datasets/mkrf_movies.csv')"
   ]
  },
  {
   "cell_type": "code",
   "execution_count": 4,
   "metadata": {
    "scrolled": true
   },
   "outputs": [
    {
     "data": {
      "text/html": [
       "<div>\n",
       "<style scoped>\n",
       "    .dataframe tbody tr th:only-of-type {\n",
       "        vertical-align: middle;\n",
       "    }\n",
       "\n",
       "    .dataframe tbody tr th {\n",
       "        vertical-align: top;\n",
       "    }\n",
       "\n",
       "    .dataframe thead th {\n",
       "        text-align: right;\n",
       "    }\n",
       "</style>\n",
       "<table border=\"1\" class=\"dataframe\">\n",
       "  <thead>\n",
       "    <tr style=\"text-align: right;\">\n",
       "      <th></th>\n",
       "      <th>title</th>\n",
       "      <th>puNumber</th>\n",
       "      <th>show_start_date</th>\n",
       "      <th>type</th>\n",
       "      <th>film_studio</th>\n",
       "      <th>production_country</th>\n",
       "      <th>director</th>\n",
       "      <th>producer</th>\n",
       "      <th>age_restriction</th>\n",
       "      <th>refundable_support</th>\n",
       "      <th>nonrefundable_support</th>\n",
       "      <th>budget</th>\n",
       "      <th>financing_source</th>\n",
       "      <th>ratings</th>\n",
       "      <th>genres</th>\n",
       "    </tr>\n",
       "  </thead>\n",
       "  <tbody>\n",
       "    <tr>\n",
       "      <th>0</th>\n",
       "      <td>Открытый простор</td>\n",
       "      <td>221048915</td>\n",
       "      <td>2015-11-27T12:00:00.000Z</td>\n",
       "      <td>Художественный</td>\n",
       "      <td>Тачстоун Пикчерз, Кобальт Пикчерз, Бикон Пикче...</td>\n",
       "      <td>США</td>\n",
       "      <td>Кевин Костнер</td>\n",
       "      <td>Дэвид Валдес, Кевин Костнер, Джейк Эбертс</td>\n",
       "      <td>«18+» - запрещено для детей</td>\n",
       "      <td>NaN</td>\n",
       "      <td>NaN</td>\n",
       "      <td>NaN</td>\n",
       "      <td>NaN</td>\n",
       "      <td>7.2</td>\n",
       "      <td>боевик,драма,мелодрама</td>\n",
       "    </tr>\n",
       "    <tr>\n",
       "      <th>1</th>\n",
       "      <td>Особо важное задание</td>\n",
       "      <td>111013716</td>\n",
       "      <td>2016-09-13T12:00:00.000Z</td>\n",
       "      <td>Художественный</td>\n",
       "      <td>Киностудия \"Мосфильм\"</td>\n",
       "      <td>СССР</td>\n",
       "      <td>Е.Матвеев</td>\n",
       "      <td>NaN</td>\n",
       "      <td>«6+» - для детей старше 6 лет</td>\n",
       "      <td>NaN</td>\n",
       "      <td>NaN</td>\n",
       "      <td>NaN</td>\n",
       "      <td>NaN</td>\n",
       "      <td>6.6</td>\n",
       "      <td>драма,военный</td>\n",
       "    </tr>\n",
       "    <tr>\n",
       "      <th>2</th>\n",
       "      <td>Особо опасен</td>\n",
       "      <td>221038416</td>\n",
       "      <td>2016-10-10T12:00:00.000Z</td>\n",
       "      <td>Художественный</td>\n",
       "      <td>Юниверсал Пикчерз, Кикстарт Продакшнз, Марк Пл...</td>\n",
       "      <td>США</td>\n",
       "      <td>Тимур Бекмамбетов</td>\n",
       "      <td>Джим Лемли, Джейсон Нетер, Марк Е.Платт, Яйн Смит</td>\n",
       "      <td>«18+» - запрещено для детей</td>\n",
       "      <td>NaN</td>\n",
       "      <td>NaN</td>\n",
       "      <td>NaN</td>\n",
       "      <td>NaN</td>\n",
       "      <td>6.8</td>\n",
       "      <td>фантастика,боевик,триллер</td>\n",
       "    </tr>\n",
       "    <tr>\n",
       "      <th>3</th>\n",
       "      <td>Особо опасен</td>\n",
       "      <td>221026916</td>\n",
       "      <td>2016-06-10T12:00:00.000Z</td>\n",
       "      <td>Художественный</td>\n",
       "      <td>Юниверсал Пикчерз, Кикстарт Продакшнз, Марк Пл...</td>\n",
       "      <td>США</td>\n",
       "      <td>Тимур Бекмамбетов</td>\n",
       "      <td>Джим Лемли, Джейсон Нетер, Марк Е.Платт, Яйн Смит</td>\n",
       "      <td>«18+» - запрещено для детей</td>\n",
       "      <td>NaN</td>\n",
       "      <td>NaN</td>\n",
       "      <td>NaN</td>\n",
       "      <td>NaN</td>\n",
       "      <td>6.8</td>\n",
       "      <td>фантастика,боевик,триллер</td>\n",
       "    </tr>\n",
       "    <tr>\n",
       "      <th>4</th>\n",
       "      <td>Особо опасен</td>\n",
       "      <td>221030815</td>\n",
       "      <td>2015-07-29T12:00:00.000Z</td>\n",
       "      <td>Художественный</td>\n",
       "      <td>Юниверсал Пикчерз, Кикстарт Продакшнз, Марк Пл...</td>\n",
       "      <td>США</td>\n",
       "      <td>Тимур Бекмамбетов</td>\n",
       "      <td>Джим Лемли, Джейсон Нетер, Марк Е.Платт, Яйн Смит</td>\n",
       "      <td>«18+» - запрещено для детей</td>\n",
       "      <td>NaN</td>\n",
       "      <td>NaN</td>\n",
       "      <td>NaN</td>\n",
       "      <td>NaN</td>\n",
       "      <td>6.8</td>\n",
       "      <td>фантастика,боевик,триллер</td>\n",
       "    </tr>\n",
       "  </tbody>\n",
       "</table>\n",
       "</div>"
      ],
      "text/plain": [
       "                  title   puNumber           show_start_date            type  \\\n",
       "0      Открытый простор  221048915  2015-11-27T12:00:00.000Z  Художественный   \n",
       "1  Особо важное задание  111013716  2016-09-13T12:00:00.000Z  Художественный   \n",
       "2          Особо опасен  221038416  2016-10-10T12:00:00.000Z  Художественный   \n",
       "3          Особо опасен  221026916  2016-06-10T12:00:00.000Z  Художественный   \n",
       "4          Особо опасен  221030815  2015-07-29T12:00:00.000Z  Художественный   \n",
       "\n",
       "                                         film_studio production_country  \\\n",
       "0  Тачстоун Пикчерз, Кобальт Пикчерз, Бикон Пикче...                США   \n",
       "1                              Киностудия \"Мосфильм\"               СССР   \n",
       "2  Юниверсал Пикчерз, Кикстарт Продакшнз, Марк Пл...                США   \n",
       "3  Юниверсал Пикчерз, Кикстарт Продакшнз, Марк Пл...                США   \n",
       "4  Юниверсал Пикчерз, Кикстарт Продакшнз, Марк Пл...                США   \n",
       "\n",
       "            director                                           producer  \\\n",
       "0      Кевин Костнер          Дэвид Валдес, Кевин Костнер, Джейк Эбертс   \n",
       "1          Е.Матвеев                                                NaN   \n",
       "2  Тимур Бекмамбетов  Джим Лемли, Джейсон Нетер, Марк Е.Платт, Яйн Смит   \n",
       "3  Тимур Бекмамбетов  Джим Лемли, Джейсон Нетер, Марк Е.Платт, Яйн Смит   \n",
       "4  Тимур Бекмамбетов  Джим Лемли, Джейсон Нетер, Марк Е.Платт, Яйн Смит   \n",
       "\n",
       "                 age_restriction  refundable_support  nonrefundable_support  \\\n",
       "0    «18+» - запрещено для детей                 NaN                    NaN   \n",
       "1  «6+» - для детей старше 6 лет                 NaN                    NaN   \n",
       "2    «18+» - запрещено для детей                 NaN                    NaN   \n",
       "3    «18+» - запрещено для детей                 NaN                    NaN   \n",
       "4    «18+» - запрещено для детей                 NaN                    NaN   \n",
       "\n",
       "   budget financing_source ratings                     genres  \n",
       "0     NaN              NaN     7.2     боевик,драма,мелодрама  \n",
       "1     NaN              NaN     6.6              драма,военный  \n",
       "2     NaN              NaN     6.8  фантастика,боевик,триллер  \n",
       "3     NaN              NaN     6.8  фантастика,боевик,триллер  \n",
       "4     NaN              NaN     6.8  фантастика,боевик,триллер  "
      ]
     },
     "execution_count": 4,
     "metadata": {},
     "output_type": "execute_result"
    }
   ],
   "source": [
    "#ознакомимся с ней\n",
    "data1.head()"
   ]
  },
  {
   "cell_type": "code",
   "execution_count": 5,
   "metadata": {},
   "outputs": [
    {
     "name": "stdout",
     "output_type": "stream",
     "text": [
      "<class 'pandas.core.frame.DataFrame'>\n",
      "RangeIndex: 7486 entries, 0 to 7485\n",
      "Data columns (total 15 columns):\n",
      " #   Column                 Non-Null Count  Dtype  \n",
      "---  ------                 --------------  -----  \n",
      " 0   title                  7486 non-null   object \n",
      " 1   puNumber               7486 non-null   object \n",
      " 2   show_start_date        7486 non-null   object \n",
      " 3   type                   7486 non-null   object \n",
      " 4   film_studio            7468 non-null   object \n",
      " 5   production_country     7484 non-null   object \n",
      " 6   director               7477 non-null   object \n",
      " 7   producer               6918 non-null   object \n",
      " 8   age_restriction        7486 non-null   object \n",
      " 9   refundable_support     332 non-null    float64\n",
      " 10  nonrefundable_support  332 non-null    float64\n",
      " 11  budget                 332 non-null    float64\n",
      " 12  financing_source       332 non-null    object \n",
      " 13  ratings                6519 non-null   object \n",
      " 14  genres                 6510 non-null   object \n",
      "dtypes: float64(3), object(12)\n",
      "memory usage: 877.4+ KB\n"
     ]
    }
   ],
   "source": [
    "data1.info()"
   ]
  },
  {
   "cell_type": "code",
   "execution_count": 6,
   "metadata": {},
   "outputs": [],
   "source": [
    "#откроем таблицу с данными о прокате в российских кинотеатрах\n",
    "data2 = pd.read_csv('/datasets/mkrf_shows.csv')"
   ]
  },
  {
   "cell_type": "code",
   "execution_count": 7,
   "metadata": {},
   "outputs": [
    {
     "data": {
      "text/html": [
       "<div>\n",
       "<style scoped>\n",
       "    .dataframe tbody tr th:only-of-type {\n",
       "        vertical-align: middle;\n",
       "    }\n",
       "\n",
       "    .dataframe tbody tr th {\n",
       "        vertical-align: top;\n",
       "    }\n",
       "\n",
       "    .dataframe thead th {\n",
       "        text-align: right;\n",
       "    }\n",
       "</style>\n",
       "<table border=\"1\" class=\"dataframe\">\n",
       "  <thead>\n",
       "    <tr style=\"text-align: right;\">\n",
       "      <th></th>\n",
       "      <th>puNumber</th>\n",
       "      <th>box_office</th>\n",
       "    </tr>\n",
       "  </thead>\n",
       "  <tbody>\n",
       "    <tr>\n",
       "      <th>0</th>\n",
       "      <td>111000113</td>\n",
       "      <td>2.450000e+03</td>\n",
       "    </tr>\n",
       "    <tr>\n",
       "      <th>1</th>\n",
       "      <td>111000115</td>\n",
       "      <td>6.104000e+04</td>\n",
       "    </tr>\n",
       "    <tr>\n",
       "      <th>2</th>\n",
       "      <td>111000116</td>\n",
       "      <td>1.530300e+08</td>\n",
       "    </tr>\n",
       "    <tr>\n",
       "      <th>3</th>\n",
       "      <td>111000117</td>\n",
       "      <td>1.226096e+07</td>\n",
       "    </tr>\n",
       "    <tr>\n",
       "      <th>4</th>\n",
       "      <td>111000118</td>\n",
       "      <td>1.636841e+08</td>\n",
       "    </tr>\n",
       "  </tbody>\n",
       "</table>\n",
       "</div>"
      ],
      "text/plain": [
       "    puNumber    box_office\n",
       "0  111000113  2.450000e+03\n",
       "1  111000115  6.104000e+04\n",
       "2  111000116  1.530300e+08\n",
       "3  111000117  1.226096e+07\n",
       "4  111000118  1.636841e+08"
      ]
     },
     "execution_count": 7,
     "metadata": {},
     "output_type": "execute_result"
    }
   ],
   "source": [
    "#ознакомимся с ней\n",
    "data2.head()"
   ]
  },
  {
   "cell_type": "code",
   "execution_count": 8,
   "metadata": {
    "scrolled": true
   },
   "outputs": [
    {
     "name": "stdout",
     "output_type": "stream",
     "text": [
      "<class 'pandas.core.frame.DataFrame'>\n",
      "RangeIndex: 3158 entries, 0 to 3157\n",
      "Data columns (total 2 columns):\n",
      " #   Column      Non-Null Count  Dtype  \n",
      "---  ------      --------------  -----  \n",
      " 0   puNumber    3158 non-null   int64  \n",
      " 1   box_office  3158 non-null   float64\n",
      "dtypes: float64(1), int64(1)\n",
      "memory usage: 49.5 KB\n"
     ]
    }
   ],
   "source": [
    "data2.info()"
   ]
  },
  {
   "cell_type": "markdown",
   "metadata": {},
   "source": [
    "**Объединять данные из двух таблиц будем по общему столбцу 'puNumber'. На основании команд info() мы видим, что тип данных этого столбца в двух датасетах различается, исправим это.**"
   ]
  },
  {
   "cell_type": "code",
   "execution_count": 9,
   "metadata": {},
   "outputs": [],
   "source": [
    "data2['puNumber'] = data2['puNumber'].astype('str')"
   ]
  },
  {
   "cell_type": "code",
   "execution_count": 10,
   "metadata": {
    "scrolled": true
   },
   "outputs": [
    {
     "name": "stdout",
     "output_type": "stream",
     "text": [
      "<class 'pandas.core.frame.DataFrame'>\n",
      "RangeIndex: 3158 entries, 0 to 3157\n",
      "Data columns (total 2 columns):\n",
      " #   Column      Non-Null Count  Dtype  \n",
      "---  ------      --------------  -----  \n",
      " 0   puNumber    3158 non-null   object \n",
      " 1   box_office  3158 non-null   float64\n",
      "dtypes: float64(1), object(1)\n",
      "memory usage: 49.5+ KB\n"
     ]
    }
   ],
   "source": [
    "#проверяем изменения\n",
    "data2.info()"
   ]
  },
  {
   "cell_type": "code",
   "execution_count": 11,
   "metadata": {},
   "outputs": [],
   "source": [
    "data1['puNumber'] = data1['puNumber'].astype('str')"
   ]
  },
  {
   "cell_type": "code",
   "execution_count": 12,
   "metadata": {},
   "outputs": [],
   "source": [
    "#поменяем также тип данных в столбце 'show_start_date'\n",
    "data1['show_start_date'] = pd.to_datetime(data1['show_start_date'], format='%Y-%m-%dT%H:%M:%S.000Z')"
   ]
  },
  {
   "cell_type": "code",
   "execution_count": 13,
   "metadata": {},
   "outputs": [
    {
     "name": "stdout",
     "output_type": "stream",
     "text": [
      "<class 'pandas.core.frame.DataFrame'>\n",
      "RangeIndex: 7486 entries, 0 to 7485\n",
      "Data columns (total 15 columns):\n",
      " #   Column                 Non-Null Count  Dtype         \n",
      "---  ------                 --------------  -----         \n",
      " 0   title                  7486 non-null   object        \n",
      " 1   puNumber               7486 non-null   object        \n",
      " 2   show_start_date        7486 non-null   datetime64[ns]\n",
      " 3   type                   7486 non-null   object        \n",
      " 4   film_studio            7468 non-null   object        \n",
      " 5   production_country     7484 non-null   object        \n",
      " 6   director               7477 non-null   object        \n",
      " 7   producer               6918 non-null   object        \n",
      " 8   age_restriction        7486 non-null   object        \n",
      " 9   refundable_support     332 non-null    float64       \n",
      " 10  nonrefundable_support  332 non-null    float64       \n",
      " 11  budget                 332 non-null    float64       \n",
      " 12  financing_source       332 non-null    object        \n",
      " 13  ratings                6519 non-null   object        \n",
      " 14  genres                 6510 non-null   object        \n",
      "dtypes: datetime64[ns](1), float64(3), object(11)\n",
      "memory usage: 877.4+ KB\n"
     ]
    }
   ],
   "source": [
    "#проверяем изменения\n",
    "data1.info()"
   ]
  },
  {
   "cell_type": "code",
   "execution_count": 14,
   "metadata": {},
   "outputs": [],
   "source": [
    "#объединим две таблицы с данными в одну для удобства анализа\n",
    "data = pd.merge(data1, data2, on='puNumber', how='left')"
   ]
  },
  {
   "cell_type": "code",
   "execution_count": 15,
   "metadata": {},
   "outputs": [
    {
     "data": {
      "text/html": [
       "<div>\n",
       "<style scoped>\n",
       "    .dataframe tbody tr th:only-of-type {\n",
       "        vertical-align: middle;\n",
       "    }\n",
       "\n",
       "    .dataframe tbody tr th {\n",
       "        vertical-align: top;\n",
       "    }\n",
       "\n",
       "    .dataframe thead th {\n",
       "        text-align: right;\n",
       "    }\n",
       "</style>\n",
       "<table border=\"1\" class=\"dataframe\">\n",
       "  <thead>\n",
       "    <tr style=\"text-align: right;\">\n",
       "      <th></th>\n",
       "      <th>title</th>\n",
       "      <th>puNumber</th>\n",
       "      <th>show_start_date</th>\n",
       "      <th>type</th>\n",
       "      <th>film_studio</th>\n",
       "      <th>production_country</th>\n",
       "      <th>director</th>\n",
       "      <th>producer</th>\n",
       "      <th>age_restriction</th>\n",
       "      <th>refundable_support</th>\n",
       "      <th>nonrefundable_support</th>\n",
       "      <th>budget</th>\n",
       "      <th>financing_source</th>\n",
       "      <th>ratings</th>\n",
       "      <th>genres</th>\n",
       "      <th>box_office</th>\n",
       "    </tr>\n",
       "  </thead>\n",
       "  <tbody>\n",
       "    <tr>\n",
       "      <th>0</th>\n",
       "      <td>Открытый простор</td>\n",
       "      <td>221048915</td>\n",
       "      <td>2015-11-27 12:00:00</td>\n",
       "      <td>Художественный</td>\n",
       "      <td>Тачстоун Пикчерз, Кобальт Пикчерз, Бикон Пикче...</td>\n",
       "      <td>США</td>\n",
       "      <td>Кевин Костнер</td>\n",
       "      <td>Дэвид Валдес, Кевин Костнер, Джейк Эбертс</td>\n",
       "      <td>«18+» - запрещено для детей</td>\n",
       "      <td>NaN</td>\n",
       "      <td>NaN</td>\n",
       "      <td>NaN</td>\n",
       "      <td>NaN</td>\n",
       "      <td>7.2</td>\n",
       "      <td>боевик,драма,мелодрама</td>\n",
       "      <td>NaN</td>\n",
       "    </tr>\n",
       "    <tr>\n",
       "      <th>1</th>\n",
       "      <td>Особо важное задание</td>\n",
       "      <td>111013716</td>\n",
       "      <td>2016-09-13 12:00:00</td>\n",
       "      <td>Художественный</td>\n",
       "      <td>Киностудия \"Мосфильм\"</td>\n",
       "      <td>СССР</td>\n",
       "      <td>Е.Матвеев</td>\n",
       "      <td>NaN</td>\n",
       "      <td>«6+» - для детей старше 6 лет</td>\n",
       "      <td>NaN</td>\n",
       "      <td>NaN</td>\n",
       "      <td>NaN</td>\n",
       "      <td>NaN</td>\n",
       "      <td>6.6</td>\n",
       "      <td>драма,военный</td>\n",
       "      <td>NaN</td>\n",
       "    </tr>\n",
       "    <tr>\n",
       "      <th>2</th>\n",
       "      <td>Особо опасен</td>\n",
       "      <td>221038416</td>\n",
       "      <td>2016-10-10 12:00:00</td>\n",
       "      <td>Художественный</td>\n",
       "      <td>Юниверсал Пикчерз, Кикстарт Продакшнз, Марк Пл...</td>\n",
       "      <td>США</td>\n",
       "      <td>Тимур Бекмамбетов</td>\n",
       "      <td>Джим Лемли, Джейсон Нетер, Марк Е.Платт, Яйн Смит</td>\n",
       "      <td>«18+» - запрещено для детей</td>\n",
       "      <td>NaN</td>\n",
       "      <td>NaN</td>\n",
       "      <td>NaN</td>\n",
       "      <td>NaN</td>\n",
       "      <td>6.8</td>\n",
       "      <td>фантастика,боевик,триллер</td>\n",
       "      <td>NaN</td>\n",
       "    </tr>\n",
       "    <tr>\n",
       "      <th>3</th>\n",
       "      <td>Особо опасен</td>\n",
       "      <td>221026916</td>\n",
       "      <td>2016-06-10 12:00:00</td>\n",
       "      <td>Художественный</td>\n",
       "      <td>Юниверсал Пикчерз, Кикстарт Продакшнз, Марк Пл...</td>\n",
       "      <td>США</td>\n",
       "      <td>Тимур Бекмамбетов</td>\n",
       "      <td>Джим Лемли, Джейсон Нетер, Марк Е.Платт, Яйн Смит</td>\n",
       "      <td>«18+» - запрещено для детей</td>\n",
       "      <td>NaN</td>\n",
       "      <td>NaN</td>\n",
       "      <td>NaN</td>\n",
       "      <td>NaN</td>\n",
       "      <td>6.8</td>\n",
       "      <td>фантастика,боевик,триллер</td>\n",
       "      <td>NaN</td>\n",
       "    </tr>\n",
       "    <tr>\n",
       "      <th>4</th>\n",
       "      <td>Особо опасен</td>\n",
       "      <td>221030815</td>\n",
       "      <td>2015-07-29 12:00:00</td>\n",
       "      <td>Художественный</td>\n",
       "      <td>Юниверсал Пикчерз, Кикстарт Продакшнз, Марк Пл...</td>\n",
       "      <td>США</td>\n",
       "      <td>Тимур Бекмамбетов</td>\n",
       "      <td>Джим Лемли, Джейсон Нетер, Марк Е.Платт, Яйн Смит</td>\n",
       "      <td>«18+» - запрещено для детей</td>\n",
       "      <td>NaN</td>\n",
       "      <td>NaN</td>\n",
       "      <td>NaN</td>\n",
       "      <td>NaN</td>\n",
       "      <td>6.8</td>\n",
       "      <td>фантастика,боевик,триллер</td>\n",
       "      <td>NaN</td>\n",
       "    </tr>\n",
       "  </tbody>\n",
       "</table>\n",
       "</div>"
      ],
      "text/plain": [
       "                  title   puNumber     show_start_date            type  \\\n",
       "0      Открытый простор  221048915 2015-11-27 12:00:00  Художественный   \n",
       "1  Особо важное задание  111013716 2016-09-13 12:00:00  Художественный   \n",
       "2          Особо опасен  221038416 2016-10-10 12:00:00  Художественный   \n",
       "3          Особо опасен  221026916 2016-06-10 12:00:00  Художественный   \n",
       "4          Особо опасен  221030815 2015-07-29 12:00:00  Художественный   \n",
       "\n",
       "                                         film_studio production_country  \\\n",
       "0  Тачстоун Пикчерз, Кобальт Пикчерз, Бикон Пикче...                США   \n",
       "1                              Киностудия \"Мосфильм\"               СССР   \n",
       "2  Юниверсал Пикчерз, Кикстарт Продакшнз, Марк Пл...                США   \n",
       "3  Юниверсал Пикчерз, Кикстарт Продакшнз, Марк Пл...                США   \n",
       "4  Юниверсал Пикчерз, Кикстарт Продакшнз, Марк Пл...                США   \n",
       "\n",
       "            director                                           producer  \\\n",
       "0      Кевин Костнер          Дэвид Валдес, Кевин Костнер, Джейк Эбертс   \n",
       "1          Е.Матвеев                                                NaN   \n",
       "2  Тимур Бекмамбетов  Джим Лемли, Джейсон Нетер, Марк Е.Платт, Яйн Смит   \n",
       "3  Тимур Бекмамбетов  Джим Лемли, Джейсон Нетер, Марк Е.Платт, Яйн Смит   \n",
       "4  Тимур Бекмамбетов  Джим Лемли, Джейсон Нетер, Марк Е.Платт, Яйн Смит   \n",
       "\n",
       "                 age_restriction  refundable_support  nonrefundable_support  \\\n",
       "0    «18+» - запрещено для детей                 NaN                    NaN   \n",
       "1  «6+» - для детей старше 6 лет                 NaN                    NaN   \n",
       "2    «18+» - запрещено для детей                 NaN                    NaN   \n",
       "3    «18+» - запрещено для детей                 NaN                    NaN   \n",
       "4    «18+» - запрещено для детей                 NaN                    NaN   \n",
       "\n",
       "   budget financing_source ratings                     genres  box_office  \n",
       "0     NaN              NaN     7.2     боевик,драма,мелодрама         NaN  \n",
       "1     NaN              NaN     6.6              драма,военный         NaN  \n",
       "2     NaN              NaN     6.8  фантастика,боевик,триллер         NaN  \n",
       "3     NaN              NaN     6.8  фантастика,боевик,триллер         NaN  \n",
       "4     NaN              NaN     6.8  фантастика,боевик,триллер         NaN  "
      ]
     },
     "execution_count": 15,
     "metadata": {},
     "output_type": "execute_result"
    }
   ],
   "source": [
    "#проверяем, что появился столбец 'box_office'\n",
    "data.head()"
   ]
  },
  {
   "cell_type": "code",
   "execution_count": 16,
   "metadata": {
    "scrolled": false
   },
   "outputs": [
    {
     "name": "stdout",
     "output_type": "stream",
     "text": [
      "<class 'pandas.core.frame.DataFrame'>\n",
      "Int64Index: 7486 entries, 0 to 7485\n",
      "Data columns (total 16 columns):\n",
      " #   Column                 Non-Null Count  Dtype         \n",
      "---  ------                 --------------  -----         \n",
      " 0   title                  7486 non-null   object        \n",
      " 1   puNumber               7486 non-null   object        \n",
      " 2   show_start_date        7486 non-null   datetime64[ns]\n",
      " 3   type                   7486 non-null   object        \n",
      " 4   film_studio            7468 non-null   object        \n",
      " 5   production_country     7484 non-null   object        \n",
      " 6   director               7477 non-null   object        \n",
      " 7   producer               6918 non-null   object        \n",
      " 8   age_restriction        7486 non-null   object        \n",
      " 9   refundable_support     332 non-null    float64       \n",
      " 10  nonrefundable_support  332 non-null    float64       \n",
      " 11  budget                 332 non-null    float64       \n",
      " 12  financing_source       332 non-null    object        \n",
      " 13  ratings                6519 non-null   object        \n",
      " 14  genres                 6510 non-null   object        \n",
      " 15  box_office             3158 non-null   float64       \n",
      "dtypes: datetime64[ns](1), float64(4), object(11)\n",
      "memory usage: 994.2+ KB\n"
     ]
    }
   ],
   "source": [
    "data.info()"
   ]
  },
  {
   "cell_type": "markdown",
   "metadata": {},
   "source": [
    "<div class=\"alert alert-warning\">\n",
    "    <h2> Комментарий ревьюера v1 <a class=\"tocSkip\"> </h2>\n",
    "    \n",
    "<b>Небольшие замечания и рекомендации💡:</b> Объединение выпонено почти верно) как думаешь, верный параметр how ты выбрала? Не подйодет ли лучше \"left\"?"
   ]
  },
  {
   "cell_type": "markdown",
   "metadata": {
    "id": "KLDGpPG0gFyM"
   },
   "source": [
    "### Шаг 2. Предобработка данных"
   ]
  },
  {
   "cell_type": "markdown",
   "metadata": {
    "id": "ssWwKXsxgFyO"
   },
   "source": [
    "#### Шаг 2.1. Проверьте типы данных\n",
    "\n",
    "- Проверьте типы данных в датафрейме и преобразуйте их там, где это необходимо."
   ]
  },
  {
   "cell_type": "code",
   "execution_count": 17,
   "metadata": {
    "id": "kVGSplJOgFyO"
   },
   "outputs": [],
   "source": [
    "#мы уже сделали это выше"
   ]
  },
  {
   "cell_type": "markdown",
   "metadata": {},
   "source": [
    "<div class=\"alert alert-block alert-danger\">\n",
    "<h2> Комментарий ревьюера v1 <a class=\"tocSkip\"></h2>\n",
    "\n",
    "<b>На доработку🤔:</b> Все ли типы данных перобразованы? А, например, ratings?"
   ]
  },
  {
   "cell_type": "code",
   "execution_count": 18,
   "metadata": {},
   "outputs": [
    {
     "data": {
      "text/plain": [
       "array(['7.2', '6.6', '6.8', '7.7', '8.3', '8.0', '7.8', '8.1', '7.1',\n",
       "       '6.0', '7.4', '5.8', '8.7', '6.3', '6.9', '5.0', '4.3', '7.3',\n",
       "       '7.0', '6.4', nan, '8.2', '7.5', '6.7', '7.9', '5.9', '6.2', '5.6',\n",
       "       '6.5', '2.4', '7.6', '6.1', '8.6', '8.5', '8.8', '5.5', '5.1',\n",
       "       '5.7', '5.4', '99%', '4.4', '4.5', '5.3', '4.1', '8.4', '2.6',\n",
       "       '3.8', '4.6', '4.8', '4.0', '3.0', '1.6', '4.2', '5.2', '4.7',\n",
       "       '4.9', '3.9', '2.7', '3.3', '2.9', '28%', '3.7', '1.4', '3.1',\n",
       "       '97%', '3.5', '3.2', '2.8', '1.5', '2.1', '2.5', '9.2', '3.4',\n",
       "       '1.1', '3.6', '83%', '64%', '91%', '94%', '62%', '79%', '90%',\n",
       "       '19%', '88%', '1.0', '89%', '1.3', '1.9', '1.8', '1.2', '1.7',\n",
       "       '9.0', '98%', '8.9', '9.1'], dtype=object)"
      ]
     },
     "execution_count": 18,
     "metadata": {},
     "output_type": "execute_result"
    }
   ],
   "source": [
    "#найдем аномальные значения в столбце с рейтингом фильмов\n",
    "data['ratings'].unique()"
   ]
  },
  {
   "cell_type": "code",
   "execution_count": 19,
   "metadata": {},
   "outputs": [],
   "source": [
    "#удалим знаки процентов\n",
    "data['ratings'] = data['ratings'].str.rstrip('%')"
   ]
  },
  {
   "cell_type": "code",
   "execution_count": 20,
   "metadata": {},
   "outputs": [],
   "source": [
    "#изменим тип данных\n",
    "data['ratings'] = data['ratings'].astype('float')"
   ]
  },
  {
   "cell_type": "code",
   "execution_count": 21,
   "metadata": {},
   "outputs": [],
   "source": [
    "#исправим данные по рейтингу фильмов на корректные\n",
    "data.loc[data['ratings'] > 10, 'ratings'] = data.loc[data['ratings'] > 10, 'ratings'] / 10"
   ]
  },
  {
   "cell_type": "code",
   "execution_count": 22,
   "metadata": {
    "scrolled": true
   },
   "outputs": [
    {
     "data": {
      "text/plain": [
       "array([7.2, 6.6, 6.8, 7.7, 8.3, 8. , 7.8, 8.1, 7.1, 6. , 7.4, 5.8, 8.7,\n",
       "       6.3, 6.9, 5. , 4.3, 7.3, 7. , 6.4, nan, 8.2, 7.5, 6.7, 7.9, 5.9,\n",
       "       6.2, 5.6, 6.5, 2.4, 7.6, 6.1, 8.6, 8.5, 8.8, 5.5, 5.1, 5.7, 5.4,\n",
       "       9.9, 4.4, 4.5, 5.3, 4.1, 8.4, 2.6, 3.8, 4.6, 4.8, 4. , 3. , 1.6,\n",
       "       4.2, 5.2, 4.7, 4.9, 3.9, 2.7, 3.3, 2.9, 2.8, 3.7, 1.4, 3.1, 9.7,\n",
       "       3.5, 3.2, 1.5, 2.1, 2.5, 9.2, 3.4, 1.1, 3.6, 9.1, 9.4, 9. , 1.9,\n",
       "       1. , 8.9, 1.3, 1.8, 1.2, 1.7, 9.8])"
      ]
     },
     "execution_count": 22,
     "metadata": {},
     "output_type": "execute_result"
    }
   ],
   "source": [
    "#проверим, что все в порядке\n",
    "data['ratings'].unique()"
   ]
  },
  {
   "cell_type": "markdown",
   "metadata": {},
   "source": [
    "<div class=\"alert alert-success\">\n",
    "<h2> Комментарий ревьюера v2 <a class=\"tocSkip\"> </h2>\n",
    "\n",
    "<b>Все супер!👍:</b> Хорошо) "
   ]
  },
  {
   "cell_type": "markdown",
   "metadata": {
    "id": "i0MOLbF-gFyP"
   },
   "source": [
    "#### Шаг 2.2. Изучите пропуски в датафрейме\n",
    "\n",
    "- Объясните, почему заполнили пропуски определённым образом или почему не стали этого делать."
   ]
  },
  {
   "cell_type": "markdown",
   "metadata": {},
   "source": [
    "**Пропуски есть в столбцах 'producer', 'director' и 'film_studio', но в них мы не имеем возможности их корректно заполнить. Зато мы можем заполнить пропуски в столбце 'refundable_support' на нулевые значения, так как если эти ячейки пусты, значит государственной поддержки не было.**"
   ]
  },
  {
   "cell_type": "code",
   "execution_count": 23,
   "metadata": {
    "id": "8MJD_lkngFyP"
   },
   "outputs": [],
   "source": [
    "data['refundable_support'] = data['refundable_support'].fillna(0)"
   ]
  },
  {
   "cell_type": "code",
   "execution_count": 24,
   "metadata": {},
   "outputs": [],
   "source": [
    "#то же касается и столбца 'nonrefundable_support'\n",
    "data['nonrefundable_support'] = data['nonrefundable_support'].fillna(0)"
   ]
  },
  {
   "cell_type": "code",
   "execution_count": 25,
   "metadata": {},
   "outputs": [],
   "source": [
    "#в столбце 'budget' также можно заменить пропуски на нулевые значения\n",
    "data['budget'] = data['budget'].fillna(0)"
   ]
  },
  {
   "cell_type": "code",
   "execution_count": 26,
   "metadata": {},
   "outputs": [],
   "source": [
    "#в столбце 'financing_source' отсутствующие значения источника финансирования заменим на 'нет'\n",
    "data['financing_source'] = data['financing_source'].fillna('нет')"
   ]
  },
  {
   "cell_type": "markdown",
   "metadata": {},
   "source": [
    "**Столбцы с рейтингом и жанром трогать не будем, так как нет возможности корректно заполнить эти данные. То же касается и информации о сборах в рублях.**"
   ]
  },
  {
   "cell_type": "code",
   "execution_count": 27,
   "metadata": {
    "scrolled": true
   },
   "outputs": [
    {
     "name": "stdout",
     "output_type": "stream",
     "text": [
      "<class 'pandas.core.frame.DataFrame'>\n",
      "Int64Index: 7486 entries, 0 to 7485\n",
      "Data columns (total 16 columns):\n",
      " #   Column                 Non-Null Count  Dtype         \n",
      "---  ------                 --------------  -----         \n",
      " 0   title                  7486 non-null   object        \n",
      " 1   puNumber               7486 non-null   object        \n",
      " 2   show_start_date        7486 non-null   datetime64[ns]\n",
      " 3   type                   7486 non-null   object        \n",
      " 4   film_studio            7468 non-null   object        \n",
      " 5   production_country     7484 non-null   object        \n",
      " 6   director               7477 non-null   object        \n",
      " 7   producer               6918 non-null   object        \n",
      " 8   age_restriction        7486 non-null   object        \n",
      " 9   refundable_support     7486 non-null   float64       \n",
      " 10  nonrefundable_support  7486 non-null   float64       \n",
      " 11  budget                 7486 non-null   float64       \n",
      " 12  financing_source       7486 non-null   object        \n",
      " 13  ratings                6519 non-null   float64       \n",
      " 14  genres                 6510 non-null   object        \n",
      " 15  box_office             3158 non-null   float64       \n",
      "dtypes: datetime64[ns](1), float64(5), object(10)\n",
      "memory usage: 994.2+ KB\n"
     ]
    }
   ],
   "source": [
    "#посмотрим на результат наших замен\n",
    "data.info()"
   ]
  },
  {
   "cell_type": "markdown",
   "metadata": {},
   "source": [
    "<div class=\"alert alert-success\">\n",
    "<h2> Комментарий ревьюера v1 <a class=\"tocSkip\"> </h2>\n",
    "\n",
    "<b>Все супер!👍:</b>Хорошо) "
   ]
  },
  {
   "cell_type": "markdown",
   "metadata": {
    "id": "4c6k1t9ygFyQ"
   },
   "source": [
    "#### Шаг 2.3. Изучите дубликаты в датафрейме\n",
    "- Проверьте, есть ли в данных дубликаты. Опишите причины, которые могли повлиять на появление дублей."
   ]
  },
  {
   "cell_type": "code",
   "execution_count": 28,
   "metadata": {
    "scrolled": true
   },
   "outputs": [
    {
     "data": {
      "text/html": [
       "<div>\n",
       "<style scoped>\n",
       "    .dataframe tbody tr th:only-of-type {\n",
       "        vertical-align: middle;\n",
       "    }\n",
       "\n",
       "    .dataframe tbody tr th {\n",
       "        vertical-align: top;\n",
       "    }\n",
       "\n",
       "    .dataframe thead th {\n",
       "        text-align: right;\n",
       "    }\n",
       "</style>\n",
       "<table border=\"1\" class=\"dataframe\">\n",
       "  <thead>\n",
       "    <tr style=\"text-align: right;\">\n",
       "      <th></th>\n",
       "      <th>title</th>\n",
       "      <th>puNumber</th>\n",
       "      <th>show_start_date</th>\n",
       "      <th>type</th>\n",
       "      <th>film_studio</th>\n",
       "      <th>production_country</th>\n",
       "      <th>director</th>\n",
       "      <th>producer</th>\n",
       "      <th>age_restriction</th>\n",
       "      <th>refundable_support</th>\n",
       "      <th>nonrefundable_support</th>\n",
       "      <th>budget</th>\n",
       "      <th>financing_source</th>\n",
       "      <th>ratings</th>\n",
       "      <th>genres</th>\n",
       "      <th>box_office</th>\n",
       "    </tr>\n",
       "  </thead>\n",
       "  <tbody>\n",
       "    <tr>\n",
       "      <th>3</th>\n",
       "      <td>Особо опасен</td>\n",
       "      <td>221026916</td>\n",
       "      <td>2016-06-10 12:00:00</td>\n",
       "      <td>Художественный</td>\n",
       "      <td>Юниверсал Пикчерз, Кикстарт Продакшнз, Марк Пл...</td>\n",
       "      <td>США</td>\n",
       "      <td>Тимур Бекмамбетов</td>\n",
       "      <td>Джим Лемли, Джейсон Нетер, Марк Е.Платт, Яйн Смит</td>\n",
       "      <td>«18+» - запрещено для детей</td>\n",
       "      <td>0.0</td>\n",
       "      <td>0.0</td>\n",
       "      <td>0.0</td>\n",
       "      <td>нет</td>\n",
       "      <td>6.8</td>\n",
       "      <td>фантастика,боевик,триллер</td>\n",
       "      <td>NaN</td>\n",
       "    </tr>\n",
       "    <tr>\n",
       "      <th>4</th>\n",
       "      <td>Особо опасен</td>\n",
       "      <td>221030815</td>\n",
       "      <td>2015-07-29 12:00:00</td>\n",
       "      <td>Художественный</td>\n",
       "      <td>Юниверсал Пикчерз, Кикстарт Продакшнз, Марк Пл...</td>\n",
       "      <td>США</td>\n",
       "      <td>Тимур Бекмамбетов</td>\n",
       "      <td>Джим Лемли, Джейсон Нетер, Марк Е.Платт, Яйн Смит</td>\n",
       "      <td>«18+» - запрещено для детей</td>\n",
       "      <td>0.0</td>\n",
       "      <td>0.0</td>\n",
       "      <td>0.0</td>\n",
       "      <td>нет</td>\n",
       "      <td>6.8</td>\n",
       "      <td>фантастика,боевик,триллер</td>\n",
       "      <td>NaN</td>\n",
       "    </tr>\n",
       "    <tr>\n",
       "      <th>41</th>\n",
       "      <td>Алекс и Эмма</td>\n",
       "      <td>221004616</td>\n",
       "      <td>2016-02-09 12:00:00</td>\n",
       "      <td>Художественный</td>\n",
       "      <td>Эскейп Артистс, Франчайз Пикчерз, Рейнер-Грэйс...</td>\n",
       "      <td>США</td>\n",
       "      <td>Роб Райнер</td>\n",
       "      <td>Тодд Блэк, Элан Грейсман, Джереми Левен, Роб Р...</td>\n",
       "      <td>«16+» - для детей старше 16 лет</td>\n",
       "      <td>0.0</td>\n",
       "      <td>0.0</td>\n",
       "      <td>0.0</td>\n",
       "      <td>нет</td>\n",
       "      <td>6.4</td>\n",
       "      <td>мелодрама,комедия</td>\n",
       "      <td>NaN</td>\n",
       "    </tr>\n",
       "    <tr>\n",
       "      <th>110</th>\n",
       "      <td>Гарри Поттер и орден Феникса /По роману Дж.К.Р...</td>\n",
       "      <td>121026316</td>\n",
       "      <td>2016-09-23 12:00:00</td>\n",
       "      <td>Художественный</td>\n",
       "      <td>Уорнер Бразерс, Хэйдей Филмз</td>\n",
       "      <td>США - Великобритания</td>\n",
       "      <td>Дэвид Йетс</td>\n",
       "      <td>Дэйвид Баррон, Дэйвид Хейман</td>\n",
       "      <td>«16+» - для детей старше 16 лет</td>\n",
       "      <td>0.0</td>\n",
       "      <td>0.0</td>\n",
       "      <td>0.0</td>\n",
       "      <td>нет</td>\n",
       "      <td>7.7</td>\n",
       "      <td>фэнтези,приключения,семейный</td>\n",
       "      <td>759526.00</td>\n",
       "    </tr>\n",
       "    <tr>\n",
       "      <th>113</th>\n",
       "      <td>Гарри Поттер и узник Азкабана /По роману Дж.К....</td>\n",
       "      <td>121026116</td>\n",
       "      <td>2016-09-23 12:00:00</td>\n",
       "      <td>Художественный</td>\n",
       "      <td>Хэйдей Филмз, 1492 Пикчерз, Уорнер Бразерс</td>\n",
       "      <td>США</td>\n",
       "      <td>Альфонсо Куарон</td>\n",
       "      <td>Майкл Барната</td>\n",
       "      <td>«12+» - для детей старше 12 лет</td>\n",
       "      <td>0.0</td>\n",
       "      <td>0.0</td>\n",
       "      <td>0.0</td>\n",
       "      <td>нет</td>\n",
       "      <td>8.2</td>\n",
       "      <td>фэнтези,приключения,семейный</td>\n",
       "      <td>1125302.00</td>\n",
       "    </tr>\n",
       "    <tr>\n",
       "      <th>...</th>\n",
       "      <td>...</td>\n",
       "      <td>...</td>\n",
       "      <td>...</td>\n",
       "      <td>...</td>\n",
       "      <td>...</td>\n",
       "      <td>...</td>\n",
       "      <td>...</td>\n",
       "      <td>...</td>\n",
       "      <td>...</td>\n",
       "      <td>...</td>\n",
       "      <td>...</td>\n",
       "      <td>...</td>\n",
       "      <td>...</td>\n",
       "      <td>...</td>\n",
       "      <td>...</td>\n",
       "      <td>...</td>\n",
       "    </tr>\n",
       "    <tr>\n",
       "      <th>7369</th>\n",
       "      <td>Невиновен</td>\n",
       "      <td>111019319</td>\n",
       "      <td>2019-11-07 12:00:00</td>\n",
       "      <td>Художественный</td>\n",
       "      <td>ООО \"Кавказфильм\"</td>\n",
       "      <td>Россия</td>\n",
       "      <td>А.Емкужев</td>\n",
       "      <td>А.Емкужев, А.Хуажева, ООО \"Корпорация Русская ...</td>\n",
       "      <td>«16+» - для детей старше 16 лет</td>\n",
       "      <td>0.0</td>\n",
       "      <td>0.0</td>\n",
       "      <td>0.0</td>\n",
       "      <td>нет</td>\n",
       "      <td>7.5</td>\n",
       "      <td>триллер,детектив,криминал</td>\n",
       "      <td>NaN</td>\n",
       "    </tr>\n",
       "    <tr>\n",
       "      <th>7416</th>\n",
       "      <td>Отель \"Гранд Будапешт\"</td>\n",
       "      <td>121035119</td>\n",
       "      <td>2019-12-13 12:00:00</td>\n",
       "      <td>Художественный</td>\n",
       "      <td>Американ Эмпирикал, Индиан Пэинтбраш, Скотт Ру...</td>\n",
       "      <td>Германия, США</td>\n",
       "      <td>Уэс Андерсен</td>\n",
       "      <td>Уэс Андерсон, Джереми Доусон, Стивен Рейлс</td>\n",
       "      <td>«16+» - для детей старше 16 лет</td>\n",
       "      <td>0.0</td>\n",
       "      <td>0.0</td>\n",
       "      <td>0.0</td>\n",
       "      <td>нет</td>\n",
       "      <td>7.9</td>\n",
       "      <td>комедия,приключения,детектив</td>\n",
       "      <td>NaN</td>\n",
       "    </tr>\n",
       "    <tr>\n",
       "      <th>7438</th>\n",
       "      <td>Зверь</td>\n",
       "      <td>121035919</td>\n",
       "      <td>2019-12-05 12:00:00</td>\n",
       "      <td>Художественный</td>\n",
       "      <td>Студио энд Нью</td>\n",
       "      <td>Южная Корея</td>\n",
       "      <td>Ли Джон-хо</td>\n",
       "      <td>Чан Гён-ик, Чон Джи-хун, Пэк Кён сук</td>\n",
       "      <td>«18+» - запрещено для детей</td>\n",
       "      <td>0.0</td>\n",
       "      <td>0.0</td>\n",
       "      <td>0.0</td>\n",
       "      <td>нет</td>\n",
       "      <td>6.5</td>\n",
       "      <td>триллер,драма</td>\n",
       "      <td>175003.51</td>\n",
       "    </tr>\n",
       "    <tr>\n",
       "      <th>7450</th>\n",
       "      <td>В тихом омуте</td>\n",
       "      <td>121036919</td>\n",
       "      <td>2019-12-09 12:00:00</td>\n",
       "      <td>Художественный</td>\n",
       "      <td>Хэд Гир Филмз, Крео Филмз, Локал Хироу, Метрол...</td>\n",
       "      <td>США</td>\n",
       "      <td>Адам Рэндолл</td>\n",
       "      <td>Мэтт Уолдек</td>\n",
       "      <td>«18+» - запрещено для детей</td>\n",
       "      <td>0.0</td>\n",
       "      <td>0.0</td>\n",
       "      <td>0.0</td>\n",
       "      <td>нет</td>\n",
       "      <td>6.8</td>\n",
       "      <td>триллер,криминал,детектив</td>\n",
       "      <td>NaN</td>\n",
       "    </tr>\n",
       "    <tr>\n",
       "      <th>7474</th>\n",
       "      <td>Вторжение</td>\n",
       "      <td>111022519</td>\n",
       "      <td>2019-12-23 12:00:00</td>\n",
       "      <td>Художественный</td>\n",
       "      <td>ООО \"Арт Пикчерс Студия\", ООО \"Водород 2011\"</td>\n",
       "      <td>Россия</td>\n",
       "      <td>Ф.Бондарчук</td>\n",
       "      <td>Ф.Бондарчук, М.Врубель, А.Андрющенко, Д.Рудовский</td>\n",
       "      <td>«12+» - для детей старше 12 лет</td>\n",
       "      <td>100000000.0</td>\n",
       "      <td>400000000.0</td>\n",
       "      <td>944000000.0</td>\n",
       "      <td>Фонд кино</td>\n",
       "      <td>5.7</td>\n",
       "      <td>фантастика,боевик</td>\n",
       "      <td>NaN</td>\n",
       "    </tr>\n",
       "  </tbody>\n",
       "</table>\n",
       "<p>714 rows × 16 columns</p>\n",
       "</div>"
      ],
      "text/plain": [
       "                                                  title   puNumber  \\\n",
       "3                                          Особо опасен  221026916   \n",
       "4                                          Особо опасен  221030815   \n",
       "41                                         Алекс и Эмма  221004616   \n",
       "110   Гарри Поттер и орден Феникса /По роману Дж.К.Р...  121026316   \n",
       "113   Гарри Поттер и узник Азкабана /По роману Дж.К....  121026116   \n",
       "...                                                 ...        ...   \n",
       "7369                                          Невиновен  111019319   \n",
       "7416                             Отель \"Гранд Будапешт\"  121035119   \n",
       "7438                                              Зверь  121035919   \n",
       "7450                                      В тихом омуте  121036919   \n",
       "7474                                          Вторжение  111022519   \n",
       "\n",
       "         show_start_date             type  \\\n",
       "3    2016-06-10 12:00:00   Художественный   \n",
       "4    2015-07-29 12:00:00   Художественный   \n",
       "41   2016-02-09 12:00:00   Художественный   \n",
       "110  2016-09-23 12:00:00   Художественный   \n",
       "113  2016-09-23 12:00:00   Художественный   \n",
       "...                  ...              ...   \n",
       "7369 2019-11-07 12:00:00   Художественный   \n",
       "7416 2019-12-13 12:00:00   Художественный   \n",
       "7438 2019-12-05 12:00:00   Художественный   \n",
       "7450 2019-12-09 12:00:00   Художественный   \n",
       "7474 2019-12-23 12:00:00   Художественный   \n",
       "\n",
       "                                            film_studio    production_country  \\\n",
       "3     Юниверсал Пикчерз, Кикстарт Продакшнз, Марк Пл...                   США   \n",
       "4     Юниверсал Пикчерз, Кикстарт Продакшнз, Марк Пл...                   США   \n",
       "41    Эскейп Артистс, Франчайз Пикчерз, Рейнер-Грэйс...                   США   \n",
       "110                        Уорнер Бразерс, Хэйдей Филмз  США - Великобритания   \n",
       "113          Хэйдей Филмз, 1492 Пикчерз, Уорнер Бразерс                   США   \n",
       "...                                                 ...                   ...   \n",
       "7369                                  ООО \"Кавказфильм\"                Россия   \n",
       "7416  Американ Эмпирикал, Индиан Пэинтбраш, Скотт Ру...         Германия, США   \n",
       "7438                                     Студио энд Нью           Южная Корея   \n",
       "7450  Хэд Гир Филмз, Крео Филмз, Локал Хироу, Метрол...                   США   \n",
       "7474       ООО \"Арт Пикчерс Студия\", ООО \"Водород 2011\"                Россия   \n",
       "\n",
       "               director                                           producer  \\\n",
       "3     Тимур Бекмамбетов  Джим Лемли, Джейсон Нетер, Марк Е.Платт, Яйн Смит   \n",
       "4     Тимур Бекмамбетов  Джим Лемли, Джейсон Нетер, Марк Е.Платт, Яйн Смит   \n",
       "41           Роб Райнер  Тодд Блэк, Элан Грейсман, Джереми Левен, Роб Р...   \n",
       "110          Дэвид Йетс                       Дэйвид Баррон, Дэйвид Хейман   \n",
       "113     Альфонсо Куарон                                      Майкл Барната   \n",
       "...                 ...                                                ...   \n",
       "7369          А.Емкужев  А.Емкужев, А.Хуажева, ООО \"Корпорация Русская ...   \n",
       "7416       Уэс Андерсен         Уэс Андерсон, Джереми Доусон, Стивен Рейлс   \n",
       "7438         Ли Джон-хо               Чан Гён-ик, Чон Джи-хун, Пэк Кён сук   \n",
       "7450       Адам Рэндолл                                        Мэтт Уолдек   \n",
       "7474        Ф.Бондарчук  Ф.Бондарчук, М.Врубель, А.Андрющенко, Д.Рудовский   \n",
       "\n",
       "                      age_restriction  refundable_support  \\\n",
       "3         «18+» - запрещено для детей                 0.0   \n",
       "4         «18+» - запрещено для детей                 0.0   \n",
       "41    «16+» - для детей старше 16 лет                 0.0   \n",
       "110   «16+» - для детей старше 16 лет                 0.0   \n",
       "113   «12+» - для детей старше 12 лет                 0.0   \n",
       "...                               ...                 ...   \n",
       "7369  «16+» - для детей старше 16 лет                 0.0   \n",
       "7416  «16+» - для детей старше 16 лет                 0.0   \n",
       "7438      «18+» - запрещено для детей                 0.0   \n",
       "7450      «18+» - запрещено для детей                 0.0   \n",
       "7474  «12+» - для детей старше 12 лет         100000000.0   \n",
       "\n",
       "      nonrefundable_support       budget financing_source  ratings  \\\n",
       "3                       0.0          0.0              нет      6.8   \n",
       "4                       0.0          0.0              нет      6.8   \n",
       "41                      0.0          0.0              нет      6.4   \n",
       "110                     0.0          0.0              нет      7.7   \n",
       "113                     0.0          0.0              нет      8.2   \n",
       "...                     ...          ...              ...      ...   \n",
       "7369                    0.0          0.0              нет      7.5   \n",
       "7416                    0.0          0.0              нет      7.9   \n",
       "7438                    0.0          0.0              нет      6.5   \n",
       "7450                    0.0          0.0              нет      6.8   \n",
       "7474            400000000.0  944000000.0        Фонд кино      5.7   \n",
       "\n",
       "                            genres  box_office  \n",
       "3        фантастика,боевик,триллер         NaN  \n",
       "4        фантастика,боевик,триллер         NaN  \n",
       "41               мелодрама,комедия         NaN  \n",
       "110   фэнтези,приключения,семейный   759526.00  \n",
       "113   фэнтези,приключения,семейный  1125302.00  \n",
       "...                            ...         ...  \n",
       "7369     триллер,детектив,криминал         NaN  \n",
       "7416  комедия,приключения,детектив         NaN  \n",
       "7438                 триллер,драма   175003.51  \n",
       "7450     триллер,криминал,детектив         NaN  \n",
       "7474             фантастика,боевик         NaN  \n",
       "\n",
       "[714 rows x 16 columns]"
      ]
     },
     "execution_count": 28,
     "metadata": {},
     "output_type": "execute_result"
    }
   ],
   "source": [
    "#посмотрим дубликаты в столбце с названиями\n",
    "data.loc[data.duplicated(['title'])]"
   ]
  },
  {
   "cell_type": "markdown",
   "metadata": {},
   "source": [
    "**Мы видим некоторые дубликаты в столбце с названиями фильмов, но их немного, и они не повлияют на анализ данных, поэтому их можно проигнорировать. Дубликаты могут встречаться в столбцах 'show_start_date', 'type', 'film_studio', 'production_country', 'director', 'producer', 'age_restriction', 'financing_source', 'ratings', 'genres', что совершенно логично и нормально для изучаемых нами данных.**"
   ]
  },
  {
   "cell_type": "markdown",
   "metadata": {},
   "source": [
    "<div class=\"alert alert-block alert-danger\">\n",
    "<h2> Комментарий ревьюера v1 <a class=\"tocSkip\"></h2>\n",
    "\n",
    "<b>На доработку🤔:</b> А дублирующие значения в прокатных удостоврениях? ПРоверим?)"
   ]
  },
  {
   "cell_type": "code",
   "execution_count": 29,
   "metadata": {},
   "outputs": [
    {
     "data": {
      "text/html": [
       "<div>\n",
       "<style scoped>\n",
       "    .dataframe tbody tr th:only-of-type {\n",
       "        vertical-align: middle;\n",
       "    }\n",
       "\n",
       "    .dataframe tbody tr th {\n",
       "        vertical-align: top;\n",
       "    }\n",
       "\n",
       "    .dataframe thead th {\n",
       "        text-align: right;\n",
       "    }\n",
       "</style>\n",
       "<table border=\"1\" class=\"dataframe\">\n",
       "  <thead>\n",
       "    <tr style=\"text-align: right;\">\n",
       "      <th></th>\n",
       "      <th>title</th>\n",
       "      <th>puNumber</th>\n",
       "      <th>show_start_date</th>\n",
       "      <th>type</th>\n",
       "      <th>film_studio</th>\n",
       "      <th>production_country</th>\n",
       "      <th>director</th>\n",
       "      <th>producer</th>\n",
       "      <th>age_restriction</th>\n",
       "      <th>refundable_support</th>\n",
       "      <th>nonrefundable_support</th>\n",
       "      <th>budget</th>\n",
       "      <th>financing_source</th>\n",
       "      <th>ratings</th>\n",
       "      <th>genres</th>\n",
       "      <th>box_office</th>\n",
       "    </tr>\n",
       "  </thead>\n",
       "  <tbody>\n",
       "    <tr>\n",
       "      <th>4639</th>\n",
       "      <td>Иоанна - женщина на папском престоле /По роман...</td>\n",
       "      <td>221154310</td>\n",
       "      <td>2010-12-17 12:00:00</td>\n",
       "      <td>Художественный</td>\n",
       "      <td>Константин Фильм, А Эр Ди Дегето Фильм, Дюне ...</td>\n",
       "      <td>Германия - Великобритания - Италия - Испания</td>\n",
       "      <td>Зенке Вортманн</td>\n",
       "      <td>Оливер Бербен, Дорис Д.Хайнце, Фарук Элтан</td>\n",
       "      <td>«16+» - для детей старше 16 лет</td>\n",
       "      <td>0.0</td>\n",
       "      <td>0.0</td>\n",
       "      <td>0.0</td>\n",
       "      <td>нет</td>\n",
       "      <td>7.6</td>\n",
       "      <td>драма,мелодрама,история</td>\n",
       "      <td>NaN</td>\n",
       "    </tr>\n",
       "    <tr>\n",
       "      <th>5068</th>\n",
       "      <td>Анализируй то!</td>\n",
       "      <td>221054410</td>\n",
       "      <td>2010-05-25 12:00:00</td>\n",
       "      <td>Художественный</td>\n",
       "      <td>Уорнер Бразерс, Виллидж Роадшоу Пикчерз, Эн-Пи...</td>\n",
       "      <td>США</td>\n",
       "      <td>Гарольд Реймис</td>\n",
       "      <td>Джейн Розенталь, Паул Уэйнстейн</td>\n",
       "      <td>«12+» - для детей старше 12 лет</td>\n",
       "      <td>0.0</td>\n",
       "      <td>0.0</td>\n",
       "      <td>0.0</td>\n",
       "      <td>нет</td>\n",
       "      <td>6.8</td>\n",
       "      <td>комедия,криминал</td>\n",
       "      <td>NaN</td>\n",
       "    </tr>\n",
       "  </tbody>\n",
       "</table>\n",
       "</div>"
      ],
      "text/plain": [
       "                                                  title   puNumber  \\\n",
       "4639  Иоанна - женщина на папском престоле /По роман...  221154310   \n",
       "5068                                     Анализируй то!  221054410   \n",
       "\n",
       "         show_start_date            type  \\\n",
       "4639 2010-12-17 12:00:00  Художественный   \n",
       "5068 2010-05-25 12:00:00  Художественный   \n",
       "\n",
       "                                            film_studio  \\\n",
       "4639   Константин Фильм, А Эр Ди Дегето Фильм, Дюне ...   \n",
       "5068  Уорнер Бразерс, Виллидж Роадшоу Пикчерз, Эн-Пи...   \n",
       "\n",
       "                                production_country        director  \\\n",
       "4639  Германия - Великобритания - Италия - Испания  Зенке Вортманн   \n",
       "5068                                           США  Гарольд Реймис   \n",
       "\n",
       "                                        producer  \\\n",
       "4639  Оливер Бербен, Дорис Д.Хайнце, Фарук Элтан   \n",
       "5068             Джейн Розенталь, Паул Уэйнстейн   \n",
       "\n",
       "                      age_restriction  refundable_support  \\\n",
       "4639  «16+» - для детей старше 16 лет                 0.0   \n",
       "5068  «12+» - для детей старше 12 лет                 0.0   \n",
       "\n",
       "      nonrefundable_support  budget financing_source  ratings  \\\n",
       "4639                    0.0     0.0              нет      7.6   \n",
       "5068                    0.0     0.0              нет      6.8   \n",
       "\n",
       "                       genres  box_office  \n",
       "4639  драма,мелодрама,история         NaN  \n",
       "5068         комедия,криминал         NaN  "
      ]
     },
     "execution_count": 29,
     "metadata": {},
     "output_type": "execute_result"
    }
   ],
   "source": [
    "#поищем дубликаты в столбце с прокатными удостоверениями\n",
    "data.loc[data['puNumber'].duplicated()]"
   ]
  },
  {
   "cell_type": "code",
   "execution_count": 30,
   "metadata": {
    "scrolled": true
   },
   "outputs": [
    {
     "data": {
      "text/html": [
       "<div>\n",
       "<style scoped>\n",
       "    .dataframe tbody tr th:only-of-type {\n",
       "        vertical-align: middle;\n",
       "    }\n",
       "\n",
       "    .dataframe tbody tr th {\n",
       "        vertical-align: top;\n",
       "    }\n",
       "\n",
       "    .dataframe thead th {\n",
       "        text-align: right;\n",
       "    }\n",
       "</style>\n",
       "<table border=\"1\" class=\"dataframe\">\n",
       "  <thead>\n",
       "    <tr style=\"text-align: right;\">\n",
       "      <th></th>\n",
       "      <th>title</th>\n",
       "      <th>puNumber</th>\n",
       "      <th>show_start_date</th>\n",
       "      <th>type</th>\n",
       "      <th>film_studio</th>\n",
       "      <th>production_country</th>\n",
       "      <th>director</th>\n",
       "      <th>producer</th>\n",
       "      <th>age_restriction</th>\n",
       "      <th>refundable_support</th>\n",
       "      <th>nonrefundable_support</th>\n",
       "      <th>budget</th>\n",
       "      <th>financing_source</th>\n",
       "      <th>ratings</th>\n",
       "      <th>genres</th>\n",
       "      <th>box_office</th>\n",
       "    </tr>\n",
       "  </thead>\n",
       "  <tbody>\n",
       "    <tr>\n",
       "      <th>4638</th>\n",
       "      <td>Как жениться и остаться холостым</td>\n",
       "      <td>221154310</td>\n",
       "      <td>2010-12-17 12:00:00</td>\n",
       "      <td>Художественный</td>\n",
       "      <td>Ше Вам, Скрипт Ассосье, Тэ Фэ 1 Фильм Продюксь...</td>\n",
       "      <td>Франция</td>\n",
       "      <td>Эрик Лартиго</td>\n",
       "      <td>Амандин Било, Алан Шаба</td>\n",
       "      <td>«16+» - для детей старше 16 лет</td>\n",
       "      <td>0.0</td>\n",
       "      <td>0.0</td>\n",
       "      <td>0.0</td>\n",
       "      <td>нет</td>\n",
       "      <td>7.0</td>\n",
       "      <td>мелодрама,комедия</td>\n",
       "      <td>NaN</td>\n",
       "    </tr>\n",
       "    <tr>\n",
       "      <th>4639</th>\n",
       "      <td>Иоанна - женщина на папском престоле /По роман...</td>\n",
       "      <td>221154310</td>\n",
       "      <td>2010-12-17 12:00:00</td>\n",
       "      <td>Художественный</td>\n",
       "      <td>Константин Фильм, А Эр Ди Дегето Фильм, Дюне ...</td>\n",
       "      <td>Германия - Великобритания - Италия - Испания</td>\n",
       "      <td>Зенке Вортманн</td>\n",
       "      <td>Оливер Бербен, Дорис Д.Хайнце, Фарук Элтан</td>\n",
       "      <td>«16+» - для детей старше 16 лет</td>\n",
       "      <td>0.0</td>\n",
       "      <td>0.0</td>\n",
       "      <td>0.0</td>\n",
       "      <td>нет</td>\n",
       "      <td>7.6</td>\n",
       "      <td>драма,мелодрама,история</td>\n",
       "      <td>NaN</td>\n",
       "    </tr>\n",
       "  </tbody>\n",
       "</table>\n",
       "</div>"
      ],
      "text/plain": [
       "                                                  title   puNumber  \\\n",
       "4638                   Как жениться и остаться холостым  221154310   \n",
       "4639  Иоанна - женщина на папском престоле /По роман...  221154310   \n",
       "\n",
       "         show_start_date            type  \\\n",
       "4638 2010-12-17 12:00:00  Художественный   \n",
       "4639 2010-12-17 12:00:00  Художественный   \n",
       "\n",
       "                                            film_studio  \\\n",
       "4638  Ше Вам, Скрипт Ассосье, Тэ Фэ 1 Фильм Продюксь...   \n",
       "4639   Константин Фильм, А Эр Ди Дегето Фильм, Дюне ...   \n",
       "\n",
       "                                production_country        director  \\\n",
       "4638                                       Франция    Эрик Лартиго   \n",
       "4639  Германия - Великобритания - Италия - Испания  Зенке Вортманн   \n",
       "\n",
       "                                        producer  \\\n",
       "4638                     Амандин Било, Алан Шаба   \n",
       "4639  Оливер Бербен, Дорис Д.Хайнце, Фарук Элтан   \n",
       "\n",
       "                      age_restriction  refundable_support  \\\n",
       "4638  «16+» - для детей старше 16 лет                 0.0   \n",
       "4639  «16+» - для детей старше 16 лет                 0.0   \n",
       "\n",
       "      nonrefundable_support  budget financing_source  ratings  \\\n",
       "4638                    0.0     0.0              нет      7.0   \n",
       "4639                    0.0     0.0              нет      7.6   \n",
       "\n",
       "                       genres  box_office  \n",
       "4638        мелодрама,комедия         NaN  \n",
       "4639  драма,мелодрама,история         NaN  "
      ]
     },
     "execution_count": 30,
     "metadata": {},
     "output_type": "execute_result"
    }
   ],
   "source": [
    "#выведем эти строки на экран\n",
    "data.loc[data['puNumber'] == '221154310']"
   ]
  },
  {
   "cell_type": "code",
   "execution_count": 31,
   "metadata": {
    "scrolled": true
   },
   "outputs": [
    {
     "data": {
      "text/html": [
       "<div>\n",
       "<style scoped>\n",
       "    .dataframe tbody tr th:only-of-type {\n",
       "        vertical-align: middle;\n",
       "    }\n",
       "\n",
       "    .dataframe tbody tr th {\n",
       "        vertical-align: top;\n",
       "    }\n",
       "\n",
       "    .dataframe thead th {\n",
       "        text-align: right;\n",
       "    }\n",
       "</style>\n",
       "<table border=\"1\" class=\"dataframe\">\n",
       "  <thead>\n",
       "    <tr style=\"text-align: right;\">\n",
       "      <th></th>\n",
       "      <th>title</th>\n",
       "      <th>puNumber</th>\n",
       "      <th>show_start_date</th>\n",
       "      <th>type</th>\n",
       "      <th>film_studio</th>\n",
       "      <th>production_country</th>\n",
       "      <th>director</th>\n",
       "      <th>producer</th>\n",
       "      <th>age_restriction</th>\n",
       "      <th>refundable_support</th>\n",
       "      <th>nonrefundable_support</th>\n",
       "      <th>budget</th>\n",
       "      <th>financing_source</th>\n",
       "      <th>ratings</th>\n",
       "      <th>genres</th>\n",
       "      <th>box_office</th>\n",
       "    </tr>\n",
       "  </thead>\n",
       "  <tbody>\n",
       "    <tr>\n",
       "      <th>5067</th>\n",
       "      <td>Анализируй это!</td>\n",
       "      <td>221054410</td>\n",
       "      <td>2010-05-25 12:00:00</td>\n",
       "      <td>Художественный</td>\n",
       "      <td>Уорнер Бразерс, Вилладж Роудшоу Филмз ЛТД</td>\n",
       "      <td>США-Австралия</td>\n",
       "      <td>ХЭрольд Рэмис</td>\n",
       "      <td>Джейн Розенталь, Пола Уейнстейн</td>\n",
       "      <td>«16+» - для детей старше 16 лет</td>\n",
       "      <td>0.0</td>\n",
       "      <td>0.0</td>\n",
       "      <td>0.0</td>\n",
       "      <td>нет</td>\n",
       "      <td>7.4</td>\n",
       "      <td>комедия,криминал</td>\n",
       "      <td>NaN</td>\n",
       "    </tr>\n",
       "    <tr>\n",
       "      <th>5068</th>\n",
       "      <td>Анализируй то!</td>\n",
       "      <td>221054410</td>\n",
       "      <td>2010-05-25 12:00:00</td>\n",
       "      <td>Художественный</td>\n",
       "      <td>Уорнер Бразерс, Виллидж Роадшоу Пикчерз, Эн-Пи...</td>\n",
       "      <td>США</td>\n",
       "      <td>Гарольд Реймис</td>\n",
       "      <td>Джейн Розенталь, Паул Уэйнстейн</td>\n",
       "      <td>«12+» - для детей старше 12 лет</td>\n",
       "      <td>0.0</td>\n",
       "      <td>0.0</td>\n",
       "      <td>0.0</td>\n",
       "      <td>нет</td>\n",
       "      <td>6.8</td>\n",
       "      <td>комедия,криминал</td>\n",
       "      <td>NaN</td>\n",
       "    </tr>\n",
       "  </tbody>\n",
       "</table>\n",
       "</div>"
      ],
      "text/plain": [
       "                title   puNumber     show_start_date            type  \\\n",
       "5067  Анализируй это!  221054410 2010-05-25 12:00:00  Художественный   \n",
       "5068   Анализируй то!  221054410 2010-05-25 12:00:00  Художественный   \n",
       "\n",
       "                                            film_studio production_country  \\\n",
       "5067          Уорнер Бразерс, Вилладж Роудшоу Филмз ЛТД      США-Австралия   \n",
       "5068  Уорнер Бразерс, Виллидж Роадшоу Пикчерз, Эн-Пи...                США   \n",
       "\n",
       "            director                         producer  \\\n",
       "5067   ХЭрольд Рэмис  Джейн Розенталь, Пола Уейнстейн   \n",
       "5068  Гарольд Реймис  Джейн Розенталь, Паул Уэйнстейн   \n",
       "\n",
       "                      age_restriction  refundable_support  \\\n",
       "5067  «16+» - для детей старше 16 лет                 0.0   \n",
       "5068  «12+» - для детей старше 12 лет                 0.0   \n",
       "\n",
       "      nonrefundable_support  budget financing_source  ratings  \\\n",
       "5067                    0.0     0.0              нет      7.4   \n",
       "5068                    0.0     0.0              нет      6.8   \n",
       "\n",
       "                genres  box_office  \n",
       "5067  комедия,криминал         NaN  \n",
       "5068  комедия,криминал         NaN  "
      ]
     },
     "execution_count": 31,
     "metadata": {},
     "output_type": "execute_result"
    }
   ],
   "source": [
    "data.loc[data['puNumber'] == '221054410']"
   ]
  },
  {
   "cell_type": "code",
   "execution_count": 32,
   "metadata": {},
   "outputs": [],
   "source": [
    "data['puNumber'] = data['puNumber'].drop_duplicates()"
   ]
  },
  {
   "cell_type": "markdown",
   "metadata": {},
   "source": [
    "<div class=\"alert alert-warning\">\n",
    "    <h2> Комментарий ревьюера v2 <a class=\"tocSkip\"> </h2>\n",
    "    \n",
    "<b>Небольшие замечания и рекомендации💡:</b> Было бы здорово сделать вывод или написать пару слов) "
   ]
  },
  {
   "cell_type": "markdown",
   "metadata": {},
   "source": [
    "#### Шаг 2.4. Изучите категориальные значения\n",
    "\n",
    "- Посмотрите, какая общая проблема встречается почти во всех категориальных столбцах;\n",
    "- Исправьте проблемные значения в поле `type`.\n",
    "\n",
    "<div id=\"accordion\">\n",
    "    <div class=\"card\">\n",
    "        <div class=\"card-header\" id=\"headingThree\">\n",
    "            <button class=\"btn btn-link collapsed\" data-toggle=\"collapse\" data-target=\"#collapseHint_1\" aria-expanded=\"false\" aria-controls=\"collapseHint_1\">Подсказка</button>\n",
    "        </div>\n",
    "        <div id=\"collapseHint_1\" class=\"collapse\" aria-labelledby=\"headingThree\" data-parent=\"#accordion\">\n",
    "            <div class=\"card-body\">\n",
    "В поле <code>type</code> есть несколько значений, у которых появился пробел в начале строки. Самый простой способ их «починить» -- использовать метод <a href=\"https://pandas.pydata.org/docs/reference/api/pandas.Series.str.strip.html#pandas.Series.str.strip\">.str.strip</a>. Этот метод удаляет все пробелы, которые встречаются в начале и в конце строки. Применяют его таким образом:<br>\n",
    "<code>df['type'].str.strip()</code>\n",
    "            </div>\n",
    "        </div>\n",
    "    </div>\n",
    "</div>"
   ]
  },
  {
   "cell_type": "code",
   "execution_count": 33,
   "metadata": {},
   "outputs": [
    {
     "data": {
      "text/plain": [
       "array(['Художественный', 'Анимационный', 'Прочие', 'Документальный',\n",
       "       'Научно-популярный', ' Художественный', ' Анимационный',\n",
       "       'Музыкально-развлекательный'], dtype=object)"
      ]
     },
     "execution_count": 33,
     "metadata": {},
     "output_type": "execute_result"
    }
   ],
   "source": [
    "#посмотрим на уникальные значения столбца 'type'\n",
    "data['type'].unique()"
   ]
  },
  {
   "cell_type": "markdown",
   "metadata": {},
   "source": [
    "**Избавимся от дубликатов в столбце 'type'.**"
   ]
  },
  {
   "cell_type": "code",
   "execution_count": 34,
   "metadata": {
    "scrolled": true
   },
   "outputs": [
    {
     "data": {
      "text/plain": [
       "0       Художественный\n",
       "1       Художественный\n",
       "2       Художественный\n",
       "3       Художественный\n",
       "4       Художественный\n",
       "             ...      \n",
       "7481            Прочие\n",
       "7482    Художественный\n",
       "7483    Художественный\n",
       "7484      Анимационный\n",
       "7485      Анимационный\n",
       "Name: type, Length: 7486, dtype: object"
      ]
     },
     "execution_count": 34,
     "metadata": {},
     "output_type": "execute_result"
    }
   ],
   "source": [
    "data['type'].str.strip()"
   ]
  },
  {
   "cell_type": "code",
   "execution_count": 35,
   "metadata": {
    "scrolled": true
   },
   "outputs": [
    {
     "data": {
      "text/plain": [
       "array(['Художественный', 'Анимационный', 'Прочие', 'Документальный',\n",
       "       'Научно-популярный', ' Художественный', ' Анимационный',\n",
       "       'Музыкально-развлекательный'], dtype=object)"
      ]
     },
     "execution_count": 35,
     "metadata": {},
     "output_type": "execute_result"
    }
   ],
   "source": [
    "#проверим, что сработало\n",
    "data['type'].unique()"
   ]
  },
  {
   "cell_type": "markdown",
   "metadata": {},
   "source": [
    "**В столбцах с режиссером, продюссером и жанром есть проблема, которая заключается в том, что данные в строках не разделены пробелами. Исправим это.**"
   ]
  },
  {
   "cell_type": "markdown",
   "metadata": {},
   "source": [
    "<div class=\"alert alert-warning\">\n",
    "    <h2> Комментарий ревьюера v1<a class=\"tocSkip\"> </h2>\n",
    "    \n",
    "<b>Небольшие замечания и рекомендации💡:</b> Упс, появились предпреждения. Для борьбы с ними могу посоветовать такой прием (импорт ставь в самом начале):\n",
    "    \n",
    "    import warnings\n",
    "\n",
    "    warnings.filterwarnings(\"ignore\")"
   ]
  },
  {
   "cell_type": "code",
   "execution_count": 36,
   "metadata": {},
   "outputs": [],
   "source": [
    "#зададим команду для игнорирования предупреждающих сообщений\n",
    "import warnings\n",
    "warnings.filterwarnings(\"ignore\")"
   ]
  },
  {
   "cell_type": "code",
   "execution_count": 37,
   "metadata": {},
   "outputs": [],
   "source": [
    "data['director'] = data['director'].str.replace(r',([^ ])', r', \\1')"
   ]
  },
  {
   "cell_type": "code",
   "execution_count": 38,
   "metadata": {
    "scrolled": true
   },
   "outputs": [],
   "source": [
    "data['producer'] = data['producer'].str.replace(r',([^ ])', r', \\1')"
   ]
  },
  {
   "cell_type": "code",
   "execution_count": 39,
   "metadata": {
    "scrolled": true
   },
   "outputs": [],
   "source": [
    "data['genres'] = data['genres'].str.replace(r',([^ ])', r', \\1')"
   ]
  },
  {
   "cell_type": "code",
   "execution_count": 40,
   "metadata": {
    "scrolled": true
   },
   "outputs": [
    {
     "data": {
      "text/html": [
       "<div>\n",
       "<style scoped>\n",
       "    .dataframe tbody tr th:only-of-type {\n",
       "        vertical-align: middle;\n",
       "    }\n",
       "\n",
       "    .dataframe tbody tr th {\n",
       "        vertical-align: top;\n",
       "    }\n",
       "\n",
       "    .dataframe thead th {\n",
       "        text-align: right;\n",
       "    }\n",
       "</style>\n",
       "<table border=\"1\" class=\"dataframe\">\n",
       "  <thead>\n",
       "    <tr style=\"text-align: right;\">\n",
       "      <th></th>\n",
       "      <th>title</th>\n",
       "      <th>puNumber</th>\n",
       "      <th>show_start_date</th>\n",
       "      <th>type</th>\n",
       "      <th>film_studio</th>\n",
       "      <th>production_country</th>\n",
       "      <th>director</th>\n",
       "      <th>producer</th>\n",
       "      <th>age_restriction</th>\n",
       "      <th>refundable_support</th>\n",
       "      <th>nonrefundable_support</th>\n",
       "      <th>budget</th>\n",
       "      <th>financing_source</th>\n",
       "      <th>ratings</th>\n",
       "      <th>genres</th>\n",
       "      <th>box_office</th>\n",
       "    </tr>\n",
       "  </thead>\n",
       "  <tbody>\n",
       "    <tr>\n",
       "      <th>0</th>\n",
       "      <td>Открытый простор</td>\n",
       "      <td>221048915</td>\n",
       "      <td>2015-11-27 12:00:00</td>\n",
       "      <td>Художественный</td>\n",
       "      <td>Тачстоун Пикчерз, Кобальт Пикчерз, Бикон Пикче...</td>\n",
       "      <td>США</td>\n",
       "      <td>Кевин Костнер</td>\n",
       "      <td>Дэвид Валдес, Кевин Костнер, Джейк Эбертс</td>\n",
       "      <td>«18+» - запрещено для детей</td>\n",
       "      <td>0.0</td>\n",
       "      <td>0.0</td>\n",
       "      <td>0.0</td>\n",
       "      <td>нет</td>\n",
       "      <td>7.2</td>\n",
       "      <td>боевик, драма, мелодрама</td>\n",
       "      <td>NaN</td>\n",
       "    </tr>\n",
       "    <tr>\n",
       "      <th>1</th>\n",
       "      <td>Особо важное задание</td>\n",
       "      <td>111013716</td>\n",
       "      <td>2016-09-13 12:00:00</td>\n",
       "      <td>Художественный</td>\n",
       "      <td>Киностудия \"Мосфильм\"</td>\n",
       "      <td>СССР</td>\n",
       "      <td>Е.Матвеев</td>\n",
       "      <td>NaN</td>\n",
       "      <td>«6+» - для детей старше 6 лет</td>\n",
       "      <td>0.0</td>\n",
       "      <td>0.0</td>\n",
       "      <td>0.0</td>\n",
       "      <td>нет</td>\n",
       "      <td>6.6</td>\n",
       "      <td>драма, военный</td>\n",
       "      <td>NaN</td>\n",
       "    </tr>\n",
       "    <tr>\n",
       "      <th>2</th>\n",
       "      <td>Особо опасен</td>\n",
       "      <td>221038416</td>\n",
       "      <td>2016-10-10 12:00:00</td>\n",
       "      <td>Художественный</td>\n",
       "      <td>Юниверсал Пикчерз, Кикстарт Продакшнз, Марк Пл...</td>\n",
       "      <td>США</td>\n",
       "      <td>Тимур Бекмамбетов</td>\n",
       "      <td>Джим Лемли, Джейсон Нетер, Марк Е.Платт, Яйн Смит</td>\n",
       "      <td>«18+» - запрещено для детей</td>\n",
       "      <td>0.0</td>\n",
       "      <td>0.0</td>\n",
       "      <td>0.0</td>\n",
       "      <td>нет</td>\n",
       "      <td>6.8</td>\n",
       "      <td>фантастика, боевик, триллер</td>\n",
       "      <td>NaN</td>\n",
       "    </tr>\n",
       "    <tr>\n",
       "      <th>3</th>\n",
       "      <td>Особо опасен</td>\n",
       "      <td>221026916</td>\n",
       "      <td>2016-06-10 12:00:00</td>\n",
       "      <td>Художественный</td>\n",
       "      <td>Юниверсал Пикчерз, Кикстарт Продакшнз, Марк Пл...</td>\n",
       "      <td>США</td>\n",
       "      <td>Тимур Бекмамбетов</td>\n",
       "      <td>Джим Лемли, Джейсон Нетер, Марк Е.Платт, Яйн Смит</td>\n",
       "      <td>«18+» - запрещено для детей</td>\n",
       "      <td>0.0</td>\n",
       "      <td>0.0</td>\n",
       "      <td>0.0</td>\n",
       "      <td>нет</td>\n",
       "      <td>6.8</td>\n",
       "      <td>фантастика, боевик, триллер</td>\n",
       "      <td>NaN</td>\n",
       "    </tr>\n",
       "    <tr>\n",
       "      <th>4</th>\n",
       "      <td>Особо опасен</td>\n",
       "      <td>221030815</td>\n",
       "      <td>2015-07-29 12:00:00</td>\n",
       "      <td>Художественный</td>\n",
       "      <td>Юниверсал Пикчерз, Кикстарт Продакшнз, Марк Пл...</td>\n",
       "      <td>США</td>\n",
       "      <td>Тимур Бекмамбетов</td>\n",
       "      <td>Джим Лемли, Джейсон Нетер, Марк Е.Платт, Яйн Смит</td>\n",
       "      <td>«18+» - запрещено для детей</td>\n",
       "      <td>0.0</td>\n",
       "      <td>0.0</td>\n",
       "      <td>0.0</td>\n",
       "      <td>нет</td>\n",
       "      <td>6.8</td>\n",
       "      <td>фантастика, боевик, триллер</td>\n",
       "      <td>NaN</td>\n",
       "    </tr>\n",
       "  </tbody>\n",
       "</table>\n",
       "</div>"
      ],
      "text/plain": [
       "                  title   puNumber     show_start_date            type  \\\n",
       "0      Открытый простор  221048915 2015-11-27 12:00:00  Художественный   \n",
       "1  Особо важное задание  111013716 2016-09-13 12:00:00  Художественный   \n",
       "2          Особо опасен  221038416 2016-10-10 12:00:00  Художественный   \n",
       "3          Особо опасен  221026916 2016-06-10 12:00:00  Художественный   \n",
       "4          Особо опасен  221030815 2015-07-29 12:00:00  Художественный   \n",
       "\n",
       "                                         film_studio production_country  \\\n",
       "0  Тачстоун Пикчерз, Кобальт Пикчерз, Бикон Пикче...                США   \n",
       "1                              Киностудия \"Мосфильм\"               СССР   \n",
       "2  Юниверсал Пикчерз, Кикстарт Продакшнз, Марк Пл...                США   \n",
       "3  Юниверсал Пикчерз, Кикстарт Продакшнз, Марк Пл...                США   \n",
       "4  Юниверсал Пикчерз, Кикстарт Продакшнз, Марк Пл...                США   \n",
       "\n",
       "            director                                           producer  \\\n",
       "0      Кевин Костнер          Дэвид Валдес, Кевин Костнер, Джейк Эбертс   \n",
       "1          Е.Матвеев                                                NaN   \n",
       "2  Тимур Бекмамбетов  Джим Лемли, Джейсон Нетер, Марк Е.Платт, Яйн Смит   \n",
       "3  Тимур Бекмамбетов  Джим Лемли, Джейсон Нетер, Марк Е.Платт, Яйн Смит   \n",
       "4  Тимур Бекмамбетов  Джим Лемли, Джейсон Нетер, Марк Е.Платт, Яйн Смит   \n",
       "\n",
       "                 age_restriction  refundable_support  nonrefundable_support  \\\n",
       "0    «18+» - запрещено для детей                 0.0                    0.0   \n",
       "1  «6+» - для детей старше 6 лет                 0.0                    0.0   \n",
       "2    «18+» - запрещено для детей                 0.0                    0.0   \n",
       "3    «18+» - запрещено для детей                 0.0                    0.0   \n",
       "4    «18+» - запрещено для детей                 0.0                    0.0   \n",
       "\n",
       "   budget financing_source  ratings                       genres  box_office  \n",
       "0     0.0              нет      7.2     боевик, драма, мелодрама         NaN  \n",
       "1     0.0              нет      6.6               драма, военный         NaN  \n",
       "2     0.0              нет      6.8  фантастика, боевик, триллер         NaN  \n",
       "3     0.0              нет      6.8  фантастика, боевик, триллер         NaN  \n",
       "4     0.0              нет      6.8  фантастика, боевик, триллер         NaN  "
      ]
     },
     "execution_count": 40,
     "metadata": {},
     "output_type": "execute_result"
    }
   ],
   "source": [
    "#проверим, что теперь все в порядке\n",
    "data.head()"
   ]
  },
  {
   "cell_type": "markdown",
   "metadata": {},
   "source": [
    "<div class=\"alert alert-block alert-danger\">\n",
    "<h2> Комментарий ревьюера v1 <a class=\"tocSkip\"></h2>\n",
    "\n",
    "<b>На доработку🤔:</b>  Хорошо, а кроме пробелов какая еще проблема встречается?)"
   ]
  },
  {
   "cell_type": "code",
   "execution_count": 41,
   "metadata": {},
   "outputs": [],
   "source": [
    "#так как инициалы и фамилия прописаны без пробела, исправим это\n",
    "data['producer'] = data['producer'].str.replace('.', '. ')"
   ]
  },
  {
   "cell_type": "code",
   "execution_count": 42,
   "metadata": {},
   "outputs": [],
   "source": [
    "data['director'] = data['director'].str.replace('.', '. ')"
   ]
  },
  {
   "cell_type": "code",
   "execution_count": 43,
   "metadata": {},
   "outputs": [
    {
     "data": {
      "text/html": [
       "<div>\n",
       "<style scoped>\n",
       "    .dataframe tbody tr th:only-of-type {\n",
       "        vertical-align: middle;\n",
       "    }\n",
       "\n",
       "    .dataframe tbody tr th {\n",
       "        vertical-align: top;\n",
       "    }\n",
       "\n",
       "    .dataframe thead th {\n",
       "        text-align: right;\n",
       "    }\n",
       "</style>\n",
       "<table border=\"1\" class=\"dataframe\">\n",
       "  <thead>\n",
       "    <tr style=\"text-align: right;\">\n",
       "      <th></th>\n",
       "      <th>title</th>\n",
       "      <th>puNumber</th>\n",
       "      <th>show_start_date</th>\n",
       "      <th>type</th>\n",
       "      <th>film_studio</th>\n",
       "      <th>production_country</th>\n",
       "      <th>director</th>\n",
       "      <th>producer</th>\n",
       "      <th>age_restriction</th>\n",
       "      <th>refundable_support</th>\n",
       "      <th>nonrefundable_support</th>\n",
       "      <th>budget</th>\n",
       "      <th>financing_source</th>\n",
       "      <th>ratings</th>\n",
       "      <th>genres</th>\n",
       "      <th>box_office</th>\n",
       "    </tr>\n",
       "  </thead>\n",
       "  <tbody>\n",
       "    <tr>\n",
       "      <th>0</th>\n",
       "      <td>Открытый простор</td>\n",
       "      <td>221048915</td>\n",
       "      <td>2015-11-27 12:00:00</td>\n",
       "      <td>Художественный</td>\n",
       "      <td>Тачстоун Пикчерз, Кобальт Пикчерз, Бикон Пикче...</td>\n",
       "      <td>США</td>\n",
       "      <td>Кевин Костнер</td>\n",
       "      <td>Дэвид Валдес, Кевин Костнер, Джейк Эбертс</td>\n",
       "      <td>«18+» - запрещено для детей</td>\n",
       "      <td>0.0</td>\n",
       "      <td>0.0</td>\n",
       "      <td>0.0</td>\n",
       "      <td>нет</td>\n",
       "      <td>7.2</td>\n",
       "      <td>боевик, драма, мелодрама</td>\n",
       "      <td>NaN</td>\n",
       "    </tr>\n",
       "    <tr>\n",
       "      <th>1</th>\n",
       "      <td>Особо важное задание</td>\n",
       "      <td>111013716</td>\n",
       "      <td>2016-09-13 12:00:00</td>\n",
       "      <td>Художественный</td>\n",
       "      <td>Киностудия \"Мосфильм\"</td>\n",
       "      <td>СССР</td>\n",
       "      <td>Е. Матвеев</td>\n",
       "      <td>NaN</td>\n",
       "      <td>«6+» - для детей старше 6 лет</td>\n",
       "      <td>0.0</td>\n",
       "      <td>0.0</td>\n",
       "      <td>0.0</td>\n",
       "      <td>нет</td>\n",
       "      <td>6.6</td>\n",
       "      <td>драма, военный</td>\n",
       "      <td>NaN</td>\n",
       "    </tr>\n",
       "    <tr>\n",
       "      <th>2</th>\n",
       "      <td>Особо опасен</td>\n",
       "      <td>221038416</td>\n",
       "      <td>2016-10-10 12:00:00</td>\n",
       "      <td>Художественный</td>\n",
       "      <td>Юниверсал Пикчерз, Кикстарт Продакшнз, Марк Пл...</td>\n",
       "      <td>США</td>\n",
       "      <td>Тимур Бекмамбетов</td>\n",
       "      <td>Джим Лемли, Джейсон Нетер, Марк Е. Платт, Яйн ...</td>\n",
       "      <td>«18+» - запрещено для детей</td>\n",
       "      <td>0.0</td>\n",
       "      <td>0.0</td>\n",
       "      <td>0.0</td>\n",
       "      <td>нет</td>\n",
       "      <td>6.8</td>\n",
       "      <td>фантастика, боевик, триллер</td>\n",
       "      <td>NaN</td>\n",
       "    </tr>\n",
       "    <tr>\n",
       "      <th>3</th>\n",
       "      <td>Особо опасен</td>\n",
       "      <td>221026916</td>\n",
       "      <td>2016-06-10 12:00:00</td>\n",
       "      <td>Художественный</td>\n",
       "      <td>Юниверсал Пикчерз, Кикстарт Продакшнз, Марк Пл...</td>\n",
       "      <td>США</td>\n",
       "      <td>Тимур Бекмамбетов</td>\n",
       "      <td>Джим Лемли, Джейсон Нетер, Марк Е. Платт, Яйн ...</td>\n",
       "      <td>«18+» - запрещено для детей</td>\n",
       "      <td>0.0</td>\n",
       "      <td>0.0</td>\n",
       "      <td>0.0</td>\n",
       "      <td>нет</td>\n",
       "      <td>6.8</td>\n",
       "      <td>фантастика, боевик, триллер</td>\n",
       "      <td>NaN</td>\n",
       "    </tr>\n",
       "    <tr>\n",
       "      <th>4</th>\n",
       "      <td>Особо опасен</td>\n",
       "      <td>221030815</td>\n",
       "      <td>2015-07-29 12:00:00</td>\n",
       "      <td>Художественный</td>\n",
       "      <td>Юниверсал Пикчерз, Кикстарт Продакшнз, Марк Пл...</td>\n",
       "      <td>США</td>\n",
       "      <td>Тимур Бекмамбетов</td>\n",
       "      <td>Джим Лемли, Джейсон Нетер, Марк Е. Платт, Яйн ...</td>\n",
       "      <td>«18+» - запрещено для детей</td>\n",
       "      <td>0.0</td>\n",
       "      <td>0.0</td>\n",
       "      <td>0.0</td>\n",
       "      <td>нет</td>\n",
       "      <td>6.8</td>\n",
       "      <td>фантастика, боевик, триллер</td>\n",
       "      <td>NaN</td>\n",
       "    </tr>\n",
       "  </tbody>\n",
       "</table>\n",
       "</div>"
      ],
      "text/plain": [
       "                  title   puNumber     show_start_date            type  \\\n",
       "0      Открытый простор  221048915 2015-11-27 12:00:00  Художественный   \n",
       "1  Особо важное задание  111013716 2016-09-13 12:00:00  Художественный   \n",
       "2          Особо опасен  221038416 2016-10-10 12:00:00  Художественный   \n",
       "3          Особо опасен  221026916 2016-06-10 12:00:00  Художественный   \n",
       "4          Особо опасен  221030815 2015-07-29 12:00:00  Художественный   \n",
       "\n",
       "                                         film_studio production_country  \\\n",
       "0  Тачстоун Пикчерз, Кобальт Пикчерз, Бикон Пикче...                США   \n",
       "1                              Киностудия \"Мосфильм\"               СССР   \n",
       "2  Юниверсал Пикчерз, Кикстарт Продакшнз, Марк Пл...                США   \n",
       "3  Юниверсал Пикчерз, Кикстарт Продакшнз, Марк Пл...                США   \n",
       "4  Юниверсал Пикчерз, Кикстарт Продакшнз, Марк Пл...                США   \n",
       "\n",
       "            director                                           producer  \\\n",
       "0      Кевин Костнер          Дэвид Валдес, Кевин Костнер, Джейк Эбертс   \n",
       "1         Е. Матвеев                                                NaN   \n",
       "2  Тимур Бекмамбетов  Джим Лемли, Джейсон Нетер, Марк Е. Платт, Яйн ...   \n",
       "3  Тимур Бекмамбетов  Джим Лемли, Джейсон Нетер, Марк Е. Платт, Яйн ...   \n",
       "4  Тимур Бекмамбетов  Джим Лемли, Джейсон Нетер, Марк Е. Платт, Яйн ...   \n",
       "\n",
       "                 age_restriction  refundable_support  nonrefundable_support  \\\n",
       "0    «18+» - запрещено для детей                 0.0                    0.0   \n",
       "1  «6+» - для детей старше 6 лет                 0.0                    0.0   \n",
       "2    «18+» - запрещено для детей                 0.0                    0.0   \n",
       "3    «18+» - запрещено для детей                 0.0                    0.0   \n",
       "4    «18+» - запрещено для детей                 0.0                    0.0   \n",
       "\n",
       "   budget financing_source  ratings                       genres  box_office  \n",
       "0     0.0              нет      7.2     боевик, драма, мелодрама         NaN  \n",
       "1     0.0              нет      6.6               драма, военный         NaN  \n",
       "2     0.0              нет      6.8  фантастика, боевик, триллер         NaN  \n",
       "3     0.0              нет      6.8  фантастика, боевик, триллер         NaN  \n",
       "4     0.0              нет      6.8  фантастика, боевик, триллер         NaN  "
      ]
     },
     "execution_count": 43,
     "metadata": {},
     "output_type": "execute_result"
    }
   ],
   "source": [
    "#проверим, что теперь все в порядке\n",
    "data.head()"
   ]
  },
  {
   "cell_type": "markdown",
   "metadata": {},
   "source": [
    "<div class=\"alert alert-info\">\n",
    "<b>Подскажите пожалуйста, я больше не вижу ничего странного.</b> \n",
    "</div>"
   ]
  },
  {
   "cell_type": "markdown",
   "metadata": {},
   "source": [
    "<div class=\"alert alert-warning\">\n",
    "    <h2> Комментарий ревьюера v2 <a class=\"tocSkip\"> </h2>\n",
    "    \n",
    "<b>Небольшие замечания и рекомендации💡:</b> Встречается перечисление) "
   ]
  },
  {
   "cell_type": "markdown",
   "metadata": {
    "id": "XFSN5lrEgFyR"
   },
   "source": [
    "#### Шаг 2.5. Проверьте количественные значения\n",
    "\n",
    "- Проверьте, обнаружились ли в таких столбцах подозрительные данные. Как с такими данными лучше поступить?\n",
    "\n",
    "<div id=\"accordion\">\n",
    "    <div class=\"card\">\n",
    "        <div class=\"card-header\" id=\"headingThree\">\n",
    "            <button class=\"btn btn-link collapsed\" data-toggle=\"collapse\" data-target=\"#collapseHint_budget\" aria-expanded=\"false\" aria-controls=\"collapseHint_budget\">Подсказка</button>\n",
    "        </div>\n",
    "        <div id=\"collapseHint_budget\" class=\"collapse\" aria-labelledby=\"headingThree\" data-parent=\"#accordion\">\n",
    "            <div class=\"card-body\">\n",
    "Обратите внимание на описание столбца <code>budget</code>. Как этот столбец соотносится с двумя другими: <code>refundable_support</code> и <code>nonrefundable_support</code>?\n",
    "            </div>\n",
    "        </div>\n",
    "    </div>\n",
    "</div>"
   ]
  },
  {
   "cell_type": "code",
   "execution_count": 44,
   "metadata": {
    "id": "YbzClBxagFyS"
   },
   "outputs": [],
   "source": [
    "#посмотрим, есть ли подозрительные строки\n",
    "problem_budget = data[data['budget'] < (data['refundable_support'] + data['nonrefundable_support'])]"
   ]
  },
  {
   "cell_type": "code",
   "execution_count": 45,
   "metadata": {
    "scrolled": true
   },
   "outputs": [
    {
     "data": {
      "text/html": [
       "<div>\n",
       "<style scoped>\n",
       "    .dataframe tbody tr th:only-of-type {\n",
       "        vertical-align: middle;\n",
       "    }\n",
       "\n",
       "    .dataframe tbody tr th {\n",
       "        vertical-align: top;\n",
       "    }\n",
       "\n",
       "    .dataframe thead th {\n",
       "        text-align: right;\n",
       "    }\n",
       "</style>\n",
       "<table border=\"1\" class=\"dataframe\">\n",
       "  <thead>\n",
       "    <tr style=\"text-align: right;\">\n",
       "      <th></th>\n",
       "      <th>title</th>\n",
       "      <th>puNumber</th>\n",
       "      <th>show_start_date</th>\n",
       "      <th>type</th>\n",
       "      <th>film_studio</th>\n",
       "      <th>production_country</th>\n",
       "      <th>director</th>\n",
       "      <th>producer</th>\n",
       "      <th>age_restriction</th>\n",
       "      <th>refundable_support</th>\n",
       "      <th>nonrefundable_support</th>\n",
       "      <th>budget</th>\n",
       "      <th>financing_source</th>\n",
       "      <th>ratings</th>\n",
       "      <th>genres</th>\n",
       "      <th>box_office</th>\n",
       "    </tr>\n",
       "  </thead>\n",
       "  <tbody>\n",
       "    <tr>\n",
       "      <th>2053</th>\n",
       "      <td>14+</td>\n",
       "      <td>111023614</td>\n",
       "      <td>2014-12-19 12:00:00</td>\n",
       "      <td>Художественный</td>\n",
       "      <td>ООО Киностудия  \"Сентябрь\"</td>\n",
       "      <td>Россия</td>\n",
       "      <td>А. Зайцев</td>\n",
       "      <td>О. Гранина, А. Зайцев</td>\n",
       "      <td>«16+» - для детей старше 16 лет</td>\n",
       "      <td>0.0</td>\n",
       "      <td>23000000.0</td>\n",
       "      <td>0.0</td>\n",
       "      <td>Министерство культуры, Фонд кино</td>\n",
       "      <td>6.6</td>\n",
       "      <td>мелодрама</td>\n",
       "      <td>1.023402e+07</td>\n",
       "    </tr>\n",
       "    <tr>\n",
       "      <th>2058</th>\n",
       "      <td>Дуxless 2</td>\n",
       "      <td>111000415</td>\n",
       "      <td>2015-01-26 12:00:00</td>\n",
       "      <td>Художественный</td>\n",
       "      <td>ООО \"Киностудия \"Слово\", ООО \"Арт Пикчерс Студия\"</td>\n",
       "      <td>Россия</td>\n",
       "      <td>Р. Прыгунов</td>\n",
       "      <td>П. Ануров, Ф. Бондарчук, Д. Рудовский</td>\n",
       "      <td>«16+» - для детей старше 16 лет</td>\n",
       "      <td>0.0</td>\n",
       "      <td>75000000.0</td>\n",
       "      <td>0.0</td>\n",
       "      <td>Фонд кино</td>\n",
       "      <td>6.6</td>\n",
       "      <td>драма</td>\n",
       "      <td>4.461635e+08</td>\n",
       "    </tr>\n",
       "    <tr>\n",
       "      <th>2472</th>\n",
       "      <td>Воин (2015)</td>\n",
       "      <td>111017315</td>\n",
       "      <td>2015-09-28 12:00:00</td>\n",
       "      <td>Художественный</td>\n",
       "      <td>ООО \"Форпост Продакшн\", ООО \"Арт Пикчерс Студия\"</td>\n",
       "      <td>Россия</td>\n",
       "      <td>А. Андрианов</td>\n",
       "      <td>ООО \"Арт Пикчерс Студия\"</td>\n",
       "      <td>«12+» - для детей старше 12 лет</td>\n",
       "      <td>10000000.0</td>\n",
       "      <td>70000000.0</td>\n",
       "      <td>0.0</td>\n",
       "      <td>Фонд кино</td>\n",
       "      <td>7.8</td>\n",
       "      <td>боевик, драма, криминал</td>\n",
       "      <td>1.965724e+08</td>\n",
       "    </tr>\n",
       "    <tr>\n",
       "      <th>2532</th>\n",
       "      <td>Бармен.</td>\n",
       "      <td>111009615</td>\n",
       "      <td>2015-05-26 12:00:00</td>\n",
       "      <td>Художественный</td>\n",
       "      <td>АО \"ВайТ Медиа\", ООО \"Арт Пикчерс Студия\"</td>\n",
       "      <td>Россия</td>\n",
       "      <td>Д. Штурманова</td>\n",
       "      <td>Т. Вайнштейн</td>\n",
       "      <td>«16+» - для детей старше 16 лет</td>\n",
       "      <td>20000000.0</td>\n",
       "      <td>0.0</td>\n",
       "      <td>0.0</td>\n",
       "      <td>Фонд кино</td>\n",
       "      <td>6.2</td>\n",
       "      <td>комедия, фэнтези</td>\n",
       "      <td>6.741897e+07</td>\n",
       "    </tr>\n",
       "    <tr>\n",
       "      <th>2615</th>\n",
       "      <td>Савва. Сердце воина</td>\n",
       "      <td>114001715</td>\n",
       "      <td>2015-07-21 12:00:00</td>\n",
       "      <td>Анимационный</td>\n",
       "      <td>ООО \"Глюкоза Продакшн\", ООО \"Арт Пикчерс Студия\"</td>\n",
       "      <td>Россия</td>\n",
       "      <td>М. Фадеев</td>\n",
       "      <td>А. Чистяков</td>\n",
       "      <td>«6+» - для детей старше 6 лет</td>\n",
       "      <td>60000000.0</td>\n",
       "      <td>100000000.0</td>\n",
       "      <td>0.0</td>\n",
       "      <td>Фонд кино</td>\n",
       "      <td>4.6</td>\n",
       "      <td>мультфильм, приключения, фэнтези</td>\n",
       "      <td>1.844876e+08</td>\n",
       "    </tr>\n",
       "    <tr>\n",
       "      <th>2684</th>\n",
       "      <td>Тряпичный союз</td>\n",
       "      <td>111010215</td>\n",
       "      <td>2015-06-08 12:00:00</td>\n",
       "      <td>Художественный</td>\n",
       "      <td>ООО \"Кинокомпания \"КОКТЕБЕЛЬ\"</td>\n",
       "      <td>Россия</td>\n",
       "      <td>М. Местецкий</td>\n",
       "      <td>Р. Борисевич, А. Кушаев</td>\n",
       "      <td>«18+» - запрещено для детей</td>\n",
       "      <td>0.0</td>\n",
       "      <td>59000000.0</td>\n",
       "      <td>0.0</td>\n",
       "      <td>Фонд кино</td>\n",
       "      <td>6.3</td>\n",
       "      <td>комедия, драма</td>\n",
       "      <td>1.957739e+06</td>\n",
       "    </tr>\n",
       "    <tr>\n",
       "      <th>2788</th>\n",
       "      <td>Срочно выйду замуж</td>\n",
       "      <td>111017115</td>\n",
       "      <td>2015-09-30 12:00:00</td>\n",
       "      <td>Художественный</td>\n",
       "      <td>АО \"ВайТ Медиа\", ООО \"Арт Пикчерс Студия\"</td>\n",
       "      <td>Россия</td>\n",
       "      <td>С Чекалов</td>\n",
       "      <td>Ф. Бондарчук, Т. Вайнштейн, Д. Рудовский</td>\n",
       "      <td>«16+» - для детей старше 16 лет</td>\n",
       "      <td>0.0</td>\n",
       "      <td>35000000.0</td>\n",
       "      <td>0.0</td>\n",
       "      <td>Фонд кино</td>\n",
       "      <td>5.1</td>\n",
       "      <td>комедия, мелодрама</td>\n",
       "      <td>7.293778e+07</td>\n",
       "    </tr>\n",
       "    <tr>\n",
       "      <th>2874</th>\n",
       "      <td>Помню - не помню!</td>\n",
       "      <td>111004916</td>\n",
       "      <td>2016-03-01 12:00:00</td>\n",
       "      <td>Художественный</td>\n",
       "      <td>ООО \"КиноФирма\"</td>\n",
       "      <td>Россия</td>\n",
       "      <td>В. Ровенский</td>\n",
       "      <td>ООО \"КиноФирма\"</td>\n",
       "      <td>«12+» - для детей старше 12 лет</td>\n",
       "      <td>0.0</td>\n",
       "      <td>6000000.0</td>\n",
       "      <td>0.0</td>\n",
       "      <td>Министерство культуры</td>\n",
       "      <td>4.3</td>\n",
       "      <td>комедия</td>\n",
       "      <td>1.536293e+07</td>\n",
       "    </tr>\n",
       "    <tr>\n",
       "      <th>3047</th>\n",
       "      <td>Любовь с ограничениями</td>\n",
       "      <td>111008216</td>\n",
       "      <td>2016-04-29 12:00:00</td>\n",
       "      <td>Художественный</td>\n",
       "      <td>АО \"ВайТ Медиа\", ООО \"Арт Пикчерс Студия\"</td>\n",
       "      <td>Россия</td>\n",
       "      <td>Д. Тюрин</td>\n",
       "      <td>Ф. Бондарчук, Т. Вайнштейн, Д. Рудовский</td>\n",
       "      <td>«16+» - для детей старше 16 лет</td>\n",
       "      <td>19000000.0</td>\n",
       "      <td>51000000.0</td>\n",
       "      <td>0.0</td>\n",
       "      <td>Фонд кино</td>\n",
       "      <td>6.3</td>\n",
       "      <td>комедия, мелодрама</td>\n",
       "      <td>7.029905e+07</td>\n",
       "    </tr>\n",
       "    <tr>\n",
       "      <th>3565</th>\n",
       "      <td>Притяжение (2016)</td>\n",
       "      <td>111018116</td>\n",
       "      <td>2016-12-16 12:00:00</td>\n",
       "      <td>Художественный</td>\n",
       "      <td>ООО \"Водород 2011\",  ООО \"Арт Пикчерс Студия\"</td>\n",
       "      <td>Россия</td>\n",
       "      <td>Ф. Бондарчук</td>\n",
       "      <td>ООО \"Арт Пикчерс Студия\"</td>\n",
       "      <td>«12+» - для детей старше 12 лет</td>\n",
       "      <td>0.0</td>\n",
       "      <td>250000000.0</td>\n",
       "      <td>0.0</td>\n",
       "      <td>Фонд кино</td>\n",
       "      <td>5.6</td>\n",
       "      <td>фантастика</td>\n",
       "      <td>1.038321e+09</td>\n",
       "    </tr>\n",
       "    <tr>\n",
       "      <th>3675</th>\n",
       "      <td>Чудо-юдо</td>\n",
       "      <td>114001817</td>\n",
       "      <td>2017-06-27 12:00:00</td>\n",
       "      <td>Анимационный</td>\n",
       "      <td>ООО \"КиноФирма\"</td>\n",
       "      <td>Россия</td>\n",
       "      <td>А. Лукичев</td>\n",
       "      <td>ООО \"КиноФирма\"</td>\n",
       "      <td>«6+» - для детей старше 6 лет</td>\n",
       "      <td>20000000.0</td>\n",
       "      <td>20000000.0</td>\n",
       "      <td>0.0</td>\n",
       "      <td>Фонд кино</td>\n",
       "      <td>5.2</td>\n",
       "      <td>мультфильм, фэнтези, семейный</td>\n",
       "      <td>5.510801e+07</td>\n",
       "    </tr>\n",
       "    <tr>\n",
       "      <th>3739</th>\n",
       "      <td>Мифы</td>\n",
       "      <td>111004317</td>\n",
       "      <td>2017-06-07 12:00:00</td>\n",
       "      <td>Художественный</td>\n",
       "      <td>ООО \"ХАЙПФИЛМ\", ООО \"Арт Пикчерс Студия\"</td>\n",
       "      <td>Россия</td>\n",
       "      <td>А. Молочников</td>\n",
       "      <td>Ф. Бондарчук, Д. Рудовский, И. Стюарт, М. Осма...</td>\n",
       "      <td>«16+» - для детей старше 16 лет</td>\n",
       "      <td>25000000.0</td>\n",
       "      <td>20000000.0</td>\n",
       "      <td>0.0</td>\n",
       "      <td>Фонд кино</td>\n",
       "      <td>4.8</td>\n",
       "      <td>комедия</td>\n",
       "      <td>5.045195e+07</td>\n",
       "    </tr>\n",
       "    <tr>\n",
       "      <th>5673</th>\n",
       "      <td>Селфи</td>\n",
       "      <td>111012117</td>\n",
       "      <td>2018-02-01 12:00:00</td>\n",
       "      <td>Художественный</td>\n",
       "      <td>ООО \"Киностудия \"Слово\", ООО \"Арт Пикчерс Студия\"</td>\n",
       "      <td>Россия</td>\n",
       "      <td>Н. Хомерики</td>\n",
       "      <td>П. Ануров, Ф. Бондарчук, Д. Рудовский</td>\n",
       "      <td>«16+» - для детей старше 16 лет</td>\n",
       "      <td>20000000.0</td>\n",
       "      <td>40000000.0</td>\n",
       "      <td>0.0</td>\n",
       "      <td>Фонд кино</td>\n",
       "      <td>5.8</td>\n",
       "      <td>триллер, драма</td>\n",
       "      <td>2.251964e+08</td>\n",
       "    </tr>\n",
       "    <tr>\n",
       "      <th>5806</th>\n",
       "      <td>Два хвоста</td>\n",
       "      <td>114001018</td>\n",
       "      <td>2018-05-31 12:00:00</td>\n",
       "      <td>Анимационный</td>\n",
       "      <td>ООО \"ЛИЦЕНЗИОННЫЕ БРЕНДЫ\"</td>\n",
       "      <td>Россия</td>\n",
       "      <td>В. Ровенский, Н. Лопато, В. Азеев</td>\n",
       "      <td>ООО \"ЛИЦЕНЗИОННЫЕ БРЕНДЫ\"</td>\n",
       "      <td>«6+» - для детей старше 6 лет</td>\n",
       "      <td>10000000.0</td>\n",
       "      <td>60000000.0</td>\n",
       "      <td>0.0</td>\n",
       "      <td>Фонд кино</td>\n",
       "      <td>5.0</td>\n",
       "      <td>мультфильм, детский</td>\n",
       "      <td>1.065143e+08</td>\n",
       "    </tr>\n",
       "    <tr>\n",
       "      <th>6008</th>\n",
       "      <td>Принцесса и дракон</td>\n",
       "      <td>114003018</td>\n",
       "      <td>2018-08-23 12:00:00</td>\n",
       "      <td>Анимационный</td>\n",
       "      <td>ООО \"ЛИЦЕНЗИОННЫЕ БРЕНДЫ\"</td>\n",
       "      <td>Россия</td>\n",
       "      <td>М. Нефедова</td>\n",
       "      <td>ООО \"ЛИЦЕНЗИОННЫЕ БРЕНДЫ\"</td>\n",
       "      <td>«6+» - для детей старше 6 лет</td>\n",
       "      <td>40000000.0</td>\n",
       "      <td>40000000.0</td>\n",
       "      <td>0.0</td>\n",
       "      <td>Фонд кино</td>\n",
       "      <td>5.2</td>\n",
       "      <td>мультфильм, фэнтези, детский</td>\n",
       "      <td>8.336633e+07</td>\n",
       "    </tr>\n",
       "    <tr>\n",
       "      <th>6323</th>\n",
       "      <td>Баба Яга</td>\n",
       "      <td>114006518</td>\n",
       "      <td>2018-11-08 12:00:00</td>\n",
       "      <td>Анимационный</td>\n",
       "      <td>ООО \"Арт Пикчерс Студия\"</td>\n",
       "      <td>Россия</td>\n",
       "      <td>В. Саков</td>\n",
       "      <td>ООО \"Арт Пикчерс Студия\", ООО \"КРИЭЙТИВ АНИМЭЙ...</td>\n",
       "      <td>«6+» - для детей старше 6 лет</td>\n",
       "      <td>0.0</td>\n",
       "      <td>138969465.0</td>\n",
       "      <td>0.0</td>\n",
       "      <td>Фонд кино</td>\n",
       "      <td>NaN</td>\n",
       "      <td>NaN</td>\n",
       "      <td>1.334699e+06</td>\n",
       "    </tr>\n",
       "    <tr>\n",
       "      <th>6823</th>\n",
       "      <td>Большое путешествие</td>\n",
       "      <td>114002419</td>\n",
       "      <td>2019-04-20 12:00:00</td>\n",
       "      <td>Анимационный</td>\n",
       "      <td>ООО \"ЛИЦЕНЗИОННЫЕ БРЕНДЫ\"</td>\n",
       "      <td>Россия</td>\n",
       "      <td>Н. Лопато, В. Ровенский</td>\n",
       "      <td>ООО \"ЛИЦЕНЗИОННЫЕ БРЕНДЫ\"</td>\n",
       "      <td>«6+» - для детей старше 6 лет</td>\n",
       "      <td>60000000.0</td>\n",
       "      <td>120000000.0</td>\n",
       "      <td>0.0</td>\n",
       "      <td>Фонд кино</td>\n",
       "      <td>6.2</td>\n",
       "      <td>мультфильм, комедия, приключения</td>\n",
       "      <td>1.476068e+08</td>\n",
       "    </tr>\n",
       "  </tbody>\n",
       "</table>\n",
       "</div>"
      ],
      "text/plain": [
       "                       title   puNumber     show_start_date             type  \\\n",
       "2053                     14+  111023614 2014-12-19 12:00:00   Художественный   \n",
       "2058               Дуxless 2  111000415 2015-01-26 12:00:00   Художественный   \n",
       "2472             Воин (2015)  111017315 2015-09-28 12:00:00   Художественный   \n",
       "2532                 Бармен.  111009615 2015-05-26 12:00:00   Художественный   \n",
       "2615     Савва. Сердце воина  114001715 2015-07-21 12:00:00     Анимационный   \n",
       "2684          Тряпичный союз  111010215 2015-06-08 12:00:00   Художественный   \n",
       "2788      Срочно выйду замуж  111017115 2015-09-30 12:00:00   Художественный   \n",
       "2874       Помню - не помню!  111004916 2016-03-01 12:00:00   Художественный   \n",
       "3047  Любовь с ограничениями  111008216 2016-04-29 12:00:00   Художественный   \n",
       "3565       Притяжение (2016)  111018116 2016-12-16 12:00:00   Художественный   \n",
       "3675                Чудо-юдо  114001817 2017-06-27 12:00:00     Анимационный   \n",
       "3739                    Мифы  111004317 2017-06-07 12:00:00   Художественный   \n",
       "5673                   Селфи  111012117 2018-02-01 12:00:00   Художественный   \n",
       "5806              Два хвоста  114001018 2018-05-31 12:00:00     Анимационный   \n",
       "6008      Принцесса и дракон  114003018 2018-08-23 12:00:00     Анимационный   \n",
       "6323                Баба Яга  114006518 2018-11-08 12:00:00     Анимационный   \n",
       "6823     Большое путешествие  114002419 2019-04-20 12:00:00     Анимационный   \n",
       "\n",
       "                                            film_studio production_country  \\\n",
       "2053                         ООО Киностудия  \"Сентябрь\"             Россия   \n",
       "2058  ООО \"Киностудия \"Слово\", ООО \"Арт Пикчерс Студия\"             Россия   \n",
       "2472   ООО \"Форпост Продакшн\", ООО \"Арт Пикчерс Студия\"             Россия   \n",
       "2532          АО \"ВайТ Медиа\", ООО \"Арт Пикчерс Студия\"             Россия   \n",
       "2615   ООО \"Глюкоза Продакшн\", ООО \"Арт Пикчерс Студия\"             Россия   \n",
       "2684                      ООО \"Кинокомпания \"КОКТЕБЕЛЬ\"             Россия   \n",
       "2788          АО \"ВайТ Медиа\", ООО \"Арт Пикчерс Студия\"             Россия   \n",
       "2874                                    ООО \"КиноФирма\"             Россия   \n",
       "3047          АО \"ВайТ Медиа\", ООО \"Арт Пикчерс Студия\"             Россия   \n",
       "3565      ООО \"Водород 2011\",  ООО \"Арт Пикчерс Студия\"             Россия   \n",
       "3675                                    ООО \"КиноФирма\"             Россия   \n",
       "3739           ООО \"ХАЙПФИЛМ\", ООО \"Арт Пикчерс Студия\"             Россия   \n",
       "5673  ООО \"Киностудия \"Слово\", ООО \"Арт Пикчерс Студия\"             Россия   \n",
       "5806                          ООО \"ЛИЦЕНЗИОННЫЕ БРЕНДЫ\"             Россия   \n",
       "6008                          ООО \"ЛИЦЕНЗИОННЫЕ БРЕНДЫ\"             Россия   \n",
       "6323                           ООО \"Арт Пикчерс Студия\"             Россия   \n",
       "6823                          ООО \"ЛИЦЕНЗИОННЫЕ БРЕНДЫ\"             Россия   \n",
       "\n",
       "                               director  \\\n",
       "2053                          А. Зайцев   \n",
       "2058                        Р. Прыгунов   \n",
       "2472                       А. Андрианов   \n",
       "2532                      Д. Штурманова   \n",
       "2615                          М. Фадеев   \n",
       "2684                       М. Местецкий   \n",
       "2788                          С Чекалов   \n",
       "2874                       В. Ровенский   \n",
       "3047                           Д. Тюрин   \n",
       "3565                       Ф. Бондарчук   \n",
       "3675                         А. Лукичев   \n",
       "3739                      А. Молочников   \n",
       "5673                        Н. Хомерики   \n",
       "5806  В. Ровенский, Н. Лопато, В. Азеев   \n",
       "6008                        М. Нефедова   \n",
       "6323                           В. Саков   \n",
       "6823            Н. Лопато, В. Ровенский   \n",
       "\n",
       "                                               producer  \\\n",
       "2053                              О. Гранина, А. Зайцев   \n",
       "2058              П. Ануров, Ф. Бондарчук, Д. Рудовский   \n",
       "2472                           ООО \"Арт Пикчерс Студия\"   \n",
       "2532                                       Т. Вайнштейн   \n",
       "2615                                        А. Чистяков   \n",
       "2684                            Р. Борисевич, А. Кушаев   \n",
       "2788           Ф. Бондарчук, Т. Вайнштейн, Д. Рудовский   \n",
       "2874                                    ООО \"КиноФирма\"   \n",
       "3047           Ф. Бондарчук, Т. Вайнштейн, Д. Рудовский   \n",
       "3565                           ООО \"Арт Пикчерс Студия\"   \n",
       "3675                                    ООО \"КиноФирма\"   \n",
       "3739  Ф. Бондарчук, Д. Рудовский, И. Стюарт, М. Осма...   \n",
       "5673              П. Ануров, Ф. Бондарчук, Д. Рудовский   \n",
       "5806                          ООО \"ЛИЦЕНЗИОННЫЕ БРЕНДЫ\"   \n",
       "6008                          ООО \"ЛИЦЕНЗИОННЫЕ БРЕНДЫ\"   \n",
       "6323  ООО \"Арт Пикчерс Студия\", ООО \"КРИЭЙТИВ АНИМЭЙ...   \n",
       "6823                          ООО \"ЛИЦЕНЗИОННЫЕ БРЕНДЫ\"   \n",
       "\n",
       "                      age_restriction  refundable_support  \\\n",
       "2053  «16+» - для детей старше 16 лет                 0.0   \n",
       "2058  «16+» - для детей старше 16 лет                 0.0   \n",
       "2472  «12+» - для детей старше 12 лет          10000000.0   \n",
       "2532  «16+» - для детей старше 16 лет          20000000.0   \n",
       "2615    «6+» - для детей старше 6 лет          60000000.0   \n",
       "2684      «18+» - запрещено для детей                 0.0   \n",
       "2788  «16+» - для детей старше 16 лет                 0.0   \n",
       "2874  «12+» - для детей старше 12 лет                 0.0   \n",
       "3047  «16+» - для детей старше 16 лет          19000000.0   \n",
       "3565  «12+» - для детей старше 12 лет                 0.0   \n",
       "3675    «6+» - для детей старше 6 лет          20000000.0   \n",
       "3739  «16+» - для детей старше 16 лет          25000000.0   \n",
       "5673  «16+» - для детей старше 16 лет          20000000.0   \n",
       "5806    «6+» - для детей старше 6 лет          10000000.0   \n",
       "6008    «6+» - для детей старше 6 лет          40000000.0   \n",
       "6323    «6+» - для детей старше 6 лет                 0.0   \n",
       "6823    «6+» - для детей старше 6 лет          60000000.0   \n",
       "\n",
       "      nonrefundable_support  budget                  financing_source  \\\n",
       "2053             23000000.0     0.0  Министерство культуры, Фонд кино   \n",
       "2058             75000000.0     0.0                         Фонд кино   \n",
       "2472             70000000.0     0.0                         Фонд кино   \n",
       "2532                    0.0     0.0                         Фонд кино   \n",
       "2615            100000000.0     0.0                         Фонд кино   \n",
       "2684             59000000.0     0.0                         Фонд кино   \n",
       "2788             35000000.0     0.0                         Фонд кино   \n",
       "2874              6000000.0     0.0             Министерство культуры   \n",
       "3047             51000000.0     0.0                         Фонд кино   \n",
       "3565            250000000.0     0.0                         Фонд кино   \n",
       "3675             20000000.0     0.0                         Фонд кино   \n",
       "3739             20000000.0     0.0                         Фонд кино   \n",
       "5673             40000000.0     0.0                         Фонд кино   \n",
       "5806             60000000.0     0.0                         Фонд кино   \n",
       "6008             40000000.0     0.0                         Фонд кино   \n",
       "6323            138969465.0     0.0                         Фонд кино   \n",
       "6823            120000000.0     0.0                         Фонд кино   \n",
       "\n",
       "      ratings                            genres    box_office  \n",
       "2053      6.6                         мелодрама  1.023402e+07  \n",
       "2058      6.6                             драма  4.461635e+08  \n",
       "2472      7.8           боевик, драма, криминал  1.965724e+08  \n",
       "2532      6.2                  комедия, фэнтези  6.741897e+07  \n",
       "2615      4.6  мультфильм, приключения, фэнтези  1.844876e+08  \n",
       "2684      6.3                    комедия, драма  1.957739e+06  \n",
       "2788      5.1                комедия, мелодрама  7.293778e+07  \n",
       "2874      4.3                           комедия  1.536293e+07  \n",
       "3047      6.3                комедия, мелодрама  7.029905e+07  \n",
       "3565      5.6                        фантастика  1.038321e+09  \n",
       "3675      5.2     мультфильм, фэнтези, семейный  5.510801e+07  \n",
       "3739      4.8                           комедия  5.045195e+07  \n",
       "5673      5.8                    триллер, драма  2.251964e+08  \n",
       "5806      5.0               мультфильм, детский  1.065143e+08  \n",
       "6008      5.2      мультфильм, фэнтези, детский  8.336633e+07  \n",
       "6323      NaN                               NaN  1.334699e+06  \n",
       "6823      6.2  мультфильм, комедия, приключения  1.476068e+08  "
      ]
     },
     "execution_count": 45,
     "metadata": {},
     "output_type": "execute_result"
    }
   ],
   "source": [
    "#выведем на экран\n",
    "problem_budget"
   ]
  },
  {
   "cell_type": "code",
   "execution_count": 46,
   "metadata": {},
   "outputs": [],
   "source": [
    "#избавимся от этих строк, так как они некорректны и неинформативны\n",
    "data = data[data['budget'] >= (data['refundable_support'] + data['nonrefundable_support'])]"
   ]
  },
  {
   "cell_type": "markdown",
   "metadata": {},
   "source": [
    "<div class=\"alert alert-success\">\n",
    "<h2> Комментарий ревьюера v1 <a class=\"tocSkip\"> </h2>\n",
    "\n",
    "<b>Все супер!👍:</b> Окей, можно) "
   ]
  },
  {
   "cell_type": "markdown",
   "metadata": {
    "id": "Eu6oWp2CgFyS"
   },
   "source": [
    "#### Шаг 2.6. Добавьте новые столбцы\n",
    "\n",
    "\n",
    "\n"
   ]
  },
  {
   "cell_type": "markdown",
   "metadata": {
    "id": "7GgW-UpAgFyS"
   },
   "source": [
    "- Создайте столбец с информацией о годе проката. Выделите год из даты премьеры фильма."
   ]
  },
  {
   "cell_type": "code",
   "execution_count": 47,
   "metadata": {},
   "outputs": [],
   "source": [
    "data['show_start_date'] = pd.to_datetime(data['show_start_date'], format='%Y-%m-%d')"
   ]
  },
  {
   "cell_type": "code",
   "execution_count": 48,
   "metadata": {
    "id": "I-yd1DkWgFyT"
   },
   "outputs": [],
   "source": [
    "data['rental_year'] = data['show_start_date'].dt.year"
   ]
  },
  {
   "cell_type": "code",
   "execution_count": 49,
   "metadata": {},
   "outputs": [
    {
     "data": {
      "text/html": [
       "<div>\n",
       "<style scoped>\n",
       "    .dataframe tbody tr th:only-of-type {\n",
       "        vertical-align: middle;\n",
       "    }\n",
       "\n",
       "    .dataframe tbody tr th {\n",
       "        vertical-align: top;\n",
       "    }\n",
       "\n",
       "    .dataframe thead th {\n",
       "        text-align: right;\n",
       "    }\n",
       "</style>\n",
       "<table border=\"1\" class=\"dataframe\">\n",
       "  <thead>\n",
       "    <tr style=\"text-align: right;\">\n",
       "      <th></th>\n",
       "      <th>title</th>\n",
       "      <th>puNumber</th>\n",
       "      <th>show_start_date</th>\n",
       "      <th>type</th>\n",
       "      <th>film_studio</th>\n",
       "      <th>production_country</th>\n",
       "      <th>director</th>\n",
       "      <th>producer</th>\n",
       "      <th>age_restriction</th>\n",
       "      <th>refundable_support</th>\n",
       "      <th>nonrefundable_support</th>\n",
       "      <th>budget</th>\n",
       "      <th>financing_source</th>\n",
       "      <th>ratings</th>\n",
       "      <th>genres</th>\n",
       "      <th>box_office</th>\n",
       "      <th>rental_year</th>\n",
       "    </tr>\n",
       "  </thead>\n",
       "  <tbody>\n",
       "    <tr>\n",
       "      <th>0</th>\n",
       "      <td>Открытый простор</td>\n",
       "      <td>221048915</td>\n",
       "      <td>2015-11-27 12:00:00</td>\n",
       "      <td>Художественный</td>\n",
       "      <td>Тачстоун Пикчерз, Кобальт Пикчерз, Бикон Пикче...</td>\n",
       "      <td>США</td>\n",
       "      <td>Кевин Костнер</td>\n",
       "      <td>Дэвид Валдес, Кевин Костнер, Джейк Эбертс</td>\n",
       "      <td>«18+» - запрещено для детей</td>\n",
       "      <td>0.0</td>\n",
       "      <td>0.0</td>\n",
       "      <td>0.0</td>\n",
       "      <td>нет</td>\n",
       "      <td>7.2</td>\n",
       "      <td>боевик, драма, мелодрама</td>\n",
       "      <td>NaN</td>\n",
       "      <td>2015</td>\n",
       "    </tr>\n",
       "    <tr>\n",
       "      <th>1</th>\n",
       "      <td>Особо важное задание</td>\n",
       "      <td>111013716</td>\n",
       "      <td>2016-09-13 12:00:00</td>\n",
       "      <td>Художественный</td>\n",
       "      <td>Киностудия \"Мосфильм\"</td>\n",
       "      <td>СССР</td>\n",
       "      <td>Е. Матвеев</td>\n",
       "      <td>NaN</td>\n",
       "      <td>«6+» - для детей старше 6 лет</td>\n",
       "      <td>0.0</td>\n",
       "      <td>0.0</td>\n",
       "      <td>0.0</td>\n",
       "      <td>нет</td>\n",
       "      <td>6.6</td>\n",
       "      <td>драма, военный</td>\n",
       "      <td>NaN</td>\n",
       "      <td>2016</td>\n",
       "    </tr>\n",
       "    <tr>\n",
       "      <th>2</th>\n",
       "      <td>Особо опасен</td>\n",
       "      <td>221038416</td>\n",
       "      <td>2016-10-10 12:00:00</td>\n",
       "      <td>Художественный</td>\n",
       "      <td>Юниверсал Пикчерз, Кикстарт Продакшнз, Марк Пл...</td>\n",
       "      <td>США</td>\n",
       "      <td>Тимур Бекмамбетов</td>\n",
       "      <td>Джим Лемли, Джейсон Нетер, Марк Е. Платт, Яйн ...</td>\n",
       "      <td>«18+» - запрещено для детей</td>\n",
       "      <td>0.0</td>\n",
       "      <td>0.0</td>\n",
       "      <td>0.0</td>\n",
       "      <td>нет</td>\n",
       "      <td>6.8</td>\n",
       "      <td>фантастика, боевик, триллер</td>\n",
       "      <td>NaN</td>\n",
       "      <td>2016</td>\n",
       "    </tr>\n",
       "    <tr>\n",
       "      <th>3</th>\n",
       "      <td>Особо опасен</td>\n",
       "      <td>221026916</td>\n",
       "      <td>2016-06-10 12:00:00</td>\n",
       "      <td>Художественный</td>\n",
       "      <td>Юниверсал Пикчерз, Кикстарт Продакшнз, Марк Пл...</td>\n",
       "      <td>США</td>\n",
       "      <td>Тимур Бекмамбетов</td>\n",
       "      <td>Джим Лемли, Джейсон Нетер, Марк Е. Платт, Яйн ...</td>\n",
       "      <td>«18+» - запрещено для детей</td>\n",
       "      <td>0.0</td>\n",
       "      <td>0.0</td>\n",
       "      <td>0.0</td>\n",
       "      <td>нет</td>\n",
       "      <td>6.8</td>\n",
       "      <td>фантастика, боевик, триллер</td>\n",
       "      <td>NaN</td>\n",
       "      <td>2016</td>\n",
       "    </tr>\n",
       "    <tr>\n",
       "      <th>4</th>\n",
       "      <td>Особо опасен</td>\n",
       "      <td>221030815</td>\n",
       "      <td>2015-07-29 12:00:00</td>\n",
       "      <td>Художественный</td>\n",
       "      <td>Юниверсал Пикчерз, Кикстарт Продакшнз, Марк Пл...</td>\n",
       "      <td>США</td>\n",
       "      <td>Тимур Бекмамбетов</td>\n",
       "      <td>Джим Лемли, Джейсон Нетер, Марк Е. Платт, Яйн ...</td>\n",
       "      <td>«18+» - запрещено для детей</td>\n",
       "      <td>0.0</td>\n",
       "      <td>0.0</td>\n",
       "      <td>0.0</td>\n",
       "      <td>нет</td>\n",
       "      <td>6.8</td>\n",
       "      <td>фантастика, боевик, триллер</td>\n",
       "      <td>NaN</td>\n",
       "      <td>2015</td>\n",
       "    </tr>\n",
       "  </tbody>\n",
       "</table>\n",
       "</div>"
      ],
      "text/plain": [
       "                  title   puNumber     show_start_date            type  \\\n",
       "0      Открытый простор  221048915 2015-11-27 12:00:00  Художественный   \n",
       "1  Особо важное задание  111013716 2016-09-13 12:00:00  Художественный   \n",
       "2          Особо опасен  221038416 2016-10-10 12:00:00  Художественный   \n",
       "3          Особо опасен  221026916 2016-06-10 12:00:00  Художественный   \n",
       "4          Особо опасен  221030815 2015-07-29 12:00:00  Художественный   \n",
       "\n",
       "                                         film_studio production_country  \\\n",
       "0  Тачстоун Пикчерз, Кобальт Пикчерз, Бикон Пикче...                США   \n",
       "1                              Киностудия \"Мосфильм\"               СССР   \n",
       "2  Юниверсал Пикчерз, Кикстарт Продакшнз, Марк Пл...                США   \n",
       "3  Юниверсал Пикчерз, Кикстарт Продакшнз, Марк Пл...                США   \n",
       "4  Юниверсал Пикчерз, Кикстарт Продакшнз, Марк Пл...                США   \n",
       "\n",
       "            director                                           producer  \\\n",
       "0      Кевин Костнер          Дэвид Валдес, Кевин Костнер, Джейк Эбертс   \n",
       "1         Е. Матвеев                                                NaN   \n",
       "2  Тимур Бекмамбетов  Джим Лемли, Джейсон Нетер, Марк Е. Платт, Яйн ...   \n",
       "3  Тимур Бекмамбетов  Джим Лемли, Джейсон Нетер, Марк Е. Платт, Яйн ...   \n",
       "4  Тимур Бекмамбетов  Джим Лемли, Джейсон Нетер, Марк Е. Платт, Яйн ...   \n",
       "\n",
       "                 age_restriction  refundable_support  nonrefundable_support  \\\n",
       "0    «18+» - запрещено для детей                 0.0                    0.0   \n",
       "1  «6+» - для детей старше 6 лет                 0.0                    0.0   \n",
       "2    «18+» - запрещено для детей                 0.0                    0.0   \n",
       "3    «18+» - запрещено для детей                 0.0                    0.0   \n",
       "4    «18+» - запрещено для детей                 0.0                    0.0   \n",
       "\n",
       "   budget financing_source  ratings                       genres  box_office  \\\n",
       "0     0.0              нет      7.2     боевик, драма, мелодрама         NaN   \n",
       "1     0.0              нет      6.6               драма, военный         NaN   \n",
       "2     0.0              нет      6.8  фантастика, боевик, триллер         NaN   \n",
       "3     0.0              нет      6.8  фантастика, боевик, триллер         NaN   \n",
       "4     0.0              нет      6.8  фантастика, боевик, триллер         NaN   \n",
       "\n",
       "   rental_year  \n",
       "0         2015  \n",
       "1         2016  \n",
       "2         2016  \n",
       "3         2016  \n",
       "4         2015  "
      ]
     },
     "execution_count": 49,
     "metadata": {},
     "output_type": "execute_result"
    }
   ],
   "source": [
    "#проверим, что столбец появился\n",
    "data.head()"
   ]
  },
  {
   "cell_type": "markdown",
   "metadata": {
    "id": "nFTDLDYOgFyT"
   },
   "source": [
    "- Создайте два столбца: с именем и фамилией главного режиссёра и основным жанром фильма. В столбцы войдут первые значения из списка режиссёров и жанров соответственно.\n",
    "\n",
    "<div id=\"accordion\">\n",
    "    <div class=\"card\">\n",
    "        <div class=\"card-header\" id=\"headingThree\">\n",
    "            <button class=\"btn btn-link collapsed\" data-toggle=\"collapse\" data-target=\"#collapseHint_2\" aria-expanded=\"false\" aria-controls=\"collapseHint_2\">Подсказка</button>\n",
    "        </div>\n",
    "        <div id=\"collapseHint_2\" class=\"collapse\" aria-labelledby=\"headingThree\" data-parent=\"#accordion\">\n",
    "            <div class=\"card-body\">\n",
    "Чтобы создать такие столбцы, лучше всего использовать собственную функцию. Эту функцию можно применить к двум столбцам сразу. \n",
    "            </div>\n",
    "        </div>\n",
    "    </div>\n",
    "</div>"
   ]
  },
  {
   "cell_type": "code",
   "execution_count": 50,
   "metadata": {
    "id": "LSbRZKbMgFyU"
   },
   "outputs": [],
   "source": [
    "#напишем функцию для добавления новых столбцов\n",
    "def main(data, columns):\n",
    "    for column in columns:\n",
    "        data[f'main_{column}'] = data[column].dropna().apply(lambda x: x.split(', ')[0])\n",
    "    return data"
   ]
  },
  {
   "cell_type": "code",
   "execution_count": 51,
   "metadata": {},
   "outputs": [],
   "source": [
    "#перезапишем датафрейм,добавив новые столбцы с помощью функции\n",
    "data = main(data, ['director', 'genres'])"
   ]
  },
  {
   "cell_type": "code",
   "execution_count": 52,
   "metadata": {},
   "outputs": [
    {
     "data": {
      "text/html": [
       "<div>\n",
       "<style scoped>\n",
       "    .dataframe tbody tr th:only-of-type {\n",
       "        vertical-align: middle;\n",
       "    }\n",
       "\n",
       "    .dataframe tbody tr th {\n",
       "        vertical-align: top;\n",
       "    }\n",
       "\n",
       "    .dataframe thead th {\n",
       "        text-align: right;\n",
       "    }\n",
       "</style>\n",
       "<table border=\"1\" class=\"dataframe\">\n",
       "  <thead>\n",
       "    <tr style=\"text-align: right;\">\n",
       "      <th></th>\n",
       "      <th>title</th>\n",
       "      <th>puNumber</th>\n",
       "      <th>show_start_date</th>\n",
       "      <th>type</th>\n",
       "      <th>film_studio</th>\n",
       "      <th>production_country</th>\n",
       "      <th>director</th>\n",
       "      <th>producer</th>\n",
       "      <th>age_restriction</th>\n",
       "      <th>refundable_support</th>\n",
       "      <th>nonrefundable_support</th>\n",
       "      <th>budget</th>\n",
       "      <th>financing_source</th>\n",
       "      <th>ratings</th>\n",
       "      <th>genres</th>\n",
       "      <th>box_office</th>\n",
       "      <th>rental_year</th>\n",
       "      <th>main_director</th>\n",
       "      <th>main_genres</th>\n",
       "    </tr>\n",
       "  </thead>\n",
       "  <tbody>\n",
       "    <tr>\n",
       "      <th>0</th>\n",
       "      <td>Открытый простор</td>\n",
       "      <td>221048915</td>\n",
       "      <td>2015-11-27 12:00:00</td>\n",
       "      <td>Художественный</td>\n",
       "      <td>Тачстоун Пикчерз, Кобальт Пикчерз, Бикон Пикче...</td>\n",
       "      <td>США</td>\n",
       "      <td>Кевин Костнер</td>\n",
       "      <td>Дэвид Валдес, Кевин Костнер, Джейк Эбертс</td>\n",
       "      <td>«18+» - запрещено для детей</td>\n",
       "      <td>0.0</td>\n",
       "      <td>0.0</td>\n",
       "      <td>0.0</td>\n",
       "      <td>нет</td>\n",
       "      <td>7.2</td>\n",
       "      <td>боевик, драма, мелодрама</td>\n",
       "      <td>NaN</td>\n",
       "      <td>2015</td>\n",
       "      <td>Кевин Костнер</td>\n",
       "      <td>боевик</td>\n",
       "    </tr>\n",
       "    <tr>\n",
       "      <th>1</th>\n",
       "      <td>Особо важное задание</td>\n",
       "      <td>111013716</td>\n",
       "      <td>2016-09-13 12:00:00</td>\n",
       "      <td>Художественный</td>\n",
       "      <td>Киностудия \"Мосфильм\"</td>\n",
       "      <td>СССР</td>\n",
       "      <td>Е. Матвеев</td>\n",
       "      <td>NaN</td>\n",
       "      <td>«6+» - для детей старше 6 лет</td>\n",
       "      <td>0.0</td>\n",
       "      <td>0.0</td>\n",
       "      <td>0.0</td>\n",
       "      <td>нет</td>\n",
       "      <td>6.6</td>\n",
       "      <td>драма, военный</td>\n",
       "      <td>NaN</td>\n",
       "      <td>2016</td>\n",
       "      <td>Е. Матвеев</td>\n",
       "      <td>драма</td>\n",
       "    </tr>\n",
       "    <tr>\n",
       "      <th>2</th>\n",
       "      <td>Особо опасен</td>\n",
       "      <td>221038416</td>\n",
       "      <td>2016-10-10 12:00:00</td>\n",
       "      <td>Художественный</td>\n",
       "      <td>Юниверсал Пикчерз, Кикстарт Продакшнз, Марк Пл...</td>\n",
       "      <td>США</td>\n",
       "      <td>Тимур Бекмамбетов</td>\n",
       "      <td>Джим Лемли, Джейсон Нетер, Марк Е. Платт, Яйн ...</td>\n",
       "      <td>«18+» - запрещено для детей</td>\n",
       "      <td>0.0</td>\n",
       "      <td>0.0</td>\n",
       "      <td>0.0</td>\n",
       "      <td>нет</td>\n",
       "      <td>6.8</td>\n",
       "      <td>фантастика, боевик, триллер</td>\n",
       "      <td>NaN</td>\n",
       "      <td>2016</td>\n",
       "      <td>Тимур Бекмамбетов</td>\n",
       "      <td>фантастика</td>\n",
       "    </tr>\n",
       "    <tr>\n",
       "      <th>3</th>\n",
       "      <td>Особо опасен</td>\n",
       "      <td>221026916</td>\n",
       "      <td>2016-06-10 12:00:00</td>\n",
       "      <td>Художественный</td>\n",
       "      <td>Юниверсал Пикчерз, Кикстарт Продакшнз, Марк Пл...</td>\n",
       "      <td>США</td>\n",
       "      <td>Тимур Бекмамбетов</td>\n",
       "      <td>Джим Лемли, Джейсон Нетер, Марк Е. Платт, Яйн ...</td>\n",
       "      <td>«18+» - запрещено для детей</td>\n",
       "      <td>0.0</td>\n",
       "      <td>0.0</td>\n",
       "      <td>0.0</td>\n",
       "      <td>нет</td>\n",
       "      <td>6.8</td>\n",
       "      <td>фантастика, боевик, триллер</td>\n",
       "      <td>NaN</td>\n",
       "      <td>2016</td>\n",
       "      <td>Тимур Бекмамбетов</td>\n",
       "      <td>фантастика</td>\n",
       "    </tr>\n",
       "    <tr>\n",
       "      <th>4</th>\n",
       "      <td>Особо опасен</td>\n",
       "      <td>221030815</td>\n",
       "      <td>2015-07-29 12:00:00</td>\n",
       "      <td>Художественный</td>\n",
       "      <td>Юниверсал Пикчерз, Кикстарт Продакшнз, Марк Пл...</td>\n",
       "      <td>США</td>\n",
       "      <td>Тимур Бекмамбетов</td>\n",
       "      <td>Джим Лемли, Джейсон Нетер, Марк Е. Платт, Яйн ...</td>\n",
       "      <td>«18+» - запрещено для детей</td>\n",
       "      <td>0.0</td>\n",
       "      <td>0.0</td>\n",
       "      <td>0.0</td>\n",
       "      <td>нет</td>\n",
       "      <td>6.8</td>\n",
       "      <td>фантастика, боевик, триллер</td>\n",
       "      <td>NaN</td>\n",
       "      <td>2015</td>\n",
       "      <td>Тимур Бекмамбетов</td>\n",
       "      <td>фантастика</td>\n",
       "    </tr>\n",
       "  </tbody>\n",
       "</table>\n",
       "</div>"
      ],
      "text/plain": [
       "                  title   puNumber     show_start_date            type  \\\n",
       "0      Открытый простор  221048915 2015-11-27 12:00:00  Художественный   \n",
       "1  Особо важное задание  111013716 2016-09-13 12:00:00  Художественный   \n",
       "2          Особо опасен  221038416 2016-10-10 12:00:00  Художественный   \n",
       "3          Особо опасен  221026916 2016-06-10 12:00:00  Художественный   \n",
       "4          Особо опасен  221030815 2015-07-29 12:00:00  Художественный   \n",
       "\n",
       "                                         film_studio production_country  \\\n",
       "0  Тачстоун Пикчерз, Кобальт Пикчерз, Бикон Пикче...                США   \n",
       "1                              Киностудия \"Мосфильм\"               СССР   \n",
       "2  Юниверсал Пикчерз, Кикстарт Продакшнз, Марк Пл...                США   \n",
       "3  Юниверсал Пикчерз, Кикстарт Продакшнз, Марк Пл...                США   \n",
       "4  Юниверсал Пикчерз, Кикстарт Продакшнз, Марк Пл...                США   \n",
       "\n",
       "            director                                           producer  \\\n",
       "0      Кевин Костнер          Дэвид Валдес, Кевин Костнер, Джейк Эбертс   \n",
       "1         Е. Матвеев                                                NaN   \n",
       "2  Тимур Бекмамбетов  Джим Лемли, Джейсон Нетер, Марк Е. Платт, Яйн ...   \n",
       "3  Тимур Бекмамбетов  Джим Лемли, Джейсон Нетер, Марк Е. Платт, Яйн ...   \n",
       "4  Тимур Бекмамбетов  Джим Лемли, Джейсон Нетер, Марк Е. Платт, Яйн ...   \n",
       "\n",
       "                 age_restriction  refundable_support  nonrefundable_support  \\\n",
       "0    «18+» - запрещено для детей                 0.0                    0.0   \n",
       "1  «6+» - для детей старше 6 лет                 0.0                    0.0   \n",
       "2    «18+» - запрещено для детей                 0.0                    0.0   \n",
       "3    «18+» - запрещено для детей                 0.0                    0.0   \n",
       "4    «18+» - запрещено для детей                 0.0                    0.0   \n",
       "\n",
       "   budget financing_source  ratings                       genres  box_office  \\\n",
       "0     0.0              нет      7.2     боевик, драма, мелодрама         NaN   \n",
       "1     0.0              нет      6.6               драма, военный         NaN   \n",
       "2     0.0              нет      6.8  фантастика, боевик, триллер         NaN   \n",
       "3     0.0              нет      6.8  фантастика, боевик, триллер         NaN   \n",
       "4     0.0              нет      6.8  фантастика, боевик, триллер         NaN   \n",
       "\n",
       "   rental_year      main_director main_genres  \n",
       "0         2015      Кевин Костнер      боевик  \n",
       "1         2016         Е. Матвеев       драма  \n",
       "2         2016  Тимур Бекмамбетов  фантастика  \n",
       "3         2016  Тимур Бекмамбетов  фантастика  \n",
       "4         2015  Тимур Бекмамбетов  фантастика  "
      ]
     },
     "execution_count": 52,
     "metadata": {},
     "output_type": "execute_result"
    }
   ],
   "source": [
    "#проверим, что столбцы появились\n",
    "data.head()"
   ]
  },
  {
   "cell_type": "markdown",
   "metadata": {
    "id": "1FsCXHwdgFyU"
   },
   "source": [
    "- Посчитайте, какую долю от общего бюджета фильма составляет государственная поддержка."
   ]
  },
  {
   "cell_type": "code",
   "execution_count": 53,
   "metadata": {
    "id": "LV6qFuZLgFyV"
   },
   "outputs": [],
   "source": [
    "#добавим столбец с информацией о доле государственной поддержки\n",
    "data['budget_share'] = (data['refundable_support'] + data['nonrefundable_support']) / data['budget']"
   ]
  },
  {
   "cell_type": "code",
   "execution_count": 54,
   "metadata": {},
   "outputs": [
    {
     "data": {
      "text/html": [
       "<div>\n",
       "<style scoped>\n",
       "    .dataframe tbody tr th:only-of-type {\n",
       "        vertical-align: middle;\n",
       "    }\n",
       "\n",
       "    .dataframe tbody tr th {\n",
       "        vertical-align: top;\n",
       "    }\n",
       "\n",
       "    .dataframe thead th {\n",
       "        text-align: right;\n",
       "    }\n",
       "</style>\n",
       "<table border=\"1\" class=\"dataframe\">\n",
       "  <thead>\n",
       "    <tr style=\"text-align: right;\">\n",
       "      <th></th>\n",
       "      <th>title</th>\n",
       "      <th>puNumber</th>\n",
       "      <th>show_start_date</th>\n",
       "      <th>type</th>\n",
       "      <th>film_studio</th>\n",
       "      <th>production_country</th>\n",
       "      <th>director</th>\n",
       "      <th>producer</th>\n",
       "      <th>age_restriction</th>\n",
       "      <th>refundable_support</th>\n",
       "      <th>nonrefundable_support</th>\n",
       "      <th>budget</th>\n",
       "      <th>financing_source</th>\n",
       "      <th>ratings</th>\n",
       "      <th>genres</th>\n",
       "      <th>box_office</th>\n",
       "      <th>rental_year</th>\n",
       "      <th>main_director</th>\n",
       "      <th>main_genres</th>\n",
       "      <th>budget_share</th>\n",
       "    </tr>\n",
       "  </thead>\n",
       "  <tbody>\n",
       "    <tr>\n",
       "      <th>1281</th>\n",
       "      <td>Пока еще жива</td>\n",
       "      <td>111005313</td>\n",
       "      <td>2013-10-11 12:00:00</td>\n",
       "      <td>Художественный</td>\n",
       "      <td>АНО содействия развитию кинематографии \"Ангел-...</td>\n",
       "      <td>Россия</td>\n",
       "      <td>А. Атанесян</td>\n",
       "      <td>А. Атанесян, М. Бабаханов, Р. Бутко</td>\n",
       "      <td>«16+» - для детей старше 16 лет</td>\n",
       "      <td>0.0</td>\n",
       "      <td>26500000.0</td>\n",
       "      <td>79411900.0</td>\n",
       "      <td>Министерство культуры</td>\n",
       "      <td>8.1</td>\n",
       "      <td>драма, мелодрама</td>\n",
       "      <td>3.653536e+05</td>\n",
       "      <td>2013</td>\n",
       "      <td>А. Атанесян</td>\n",
       "      <td>драма</td>\n",
       "      <td>0.333703</td>\n",
       "    </tr>\n",
       "    <tr>\n",
       "      <th>1448</th>\n",
       "      <td>Бесславные придурки</td>\n",
       "      <td>111003314</td>\n",
       "      <td>2014-03-28 12:00:00</td>\n",
       "      <td>Художественный</td>\n",
       "      <td>ООО \"Компания \"АТК-Студио\"</td>\n",
       "      <td>Россия</td>\n",
       "      <td>А. Якимчук</td>\n",
       "      <td>А. Тютрюмов</td>\n",
       "      <td>«12+» - для детей старше 12 лет</td>\n",
       "      <td>0.0</td>\n",
       "      <td>26000000.0</td>\n",
       "      <td>37142857.0</td>\n",
       "      <td>Министерство культуры</td>\n",
       "      <td>NaN</td>\n",
       "      <td>NaN</td>\n",
       "      <td>2.814000e+04</td>\n",
       "      <td>2014</td>\n",
       "      <td>А. Якимчук</td>\n",
       "      <td>NaN</td>\n",
       "      <td>0.700000</td>\n",
       "    </tr>\n",
       "    <tr>\n",
       "      <th>1498</th>\n",
       "      <td>Невидимки</td>\n",
       "      <td>111004213</td>\n",
       "      <td>2013-09-10 12:00:00</td>\n",
       "      <td>Художественный</td>\n",
       "      <td>ООО \"Компания \"РЕАЛ-ДАКОТА\"</td>\n",
       "      <td>Россия</td>\n",
       "      <td>Р. Давлетьяров, С. Комаров</td>\n",
       "      <td>Р. Давлетьяров, А. Котелевский, А. Олейников</td>\n",
       "      <td>«12+» - для детей старше 12 лет</td>\n",
       "      <td>0.0</td>\n",
       "      <td>107847945.0</td>\n",
       "      <td>176023490.0</td>\n",
       "      <td>Фонд кино</td>\n",
       "      <td>5.3</td>\n",
       "      <td>комедия, фантастика</td>\n",
       "      <td>1.995703e+07</td>\n",
       "      <td>2013</td>\n",
       "      <td>Р. Давлетьяров</td>\n",
       "      <td>комедия</td>\n",
       "      <td>0.612691</td>\n",
       "    </tr>\n",
       "    <tr>\n",
       "      <th>1524</th>\n",
       "      <td>БЕРЦЫ</td>\n",
       "      <td>111004314</td>\n",
       "      <td>2014-05-05 12:00:00</td>\n",
       "      <td>Художественный</td>\n",
       "      <td>ООО \"Студия \"Пассажир\"</td>\n",
       "      <td>Россия</td>\n",
       "      <td>Е. Миндадзе (псевдоним Катя Шагалова)</td>\n",
       "      <td>Л. Антонова</td>\n",
       "      <td>«16+» - для детей старше 16 лет</td>\n",
       "      <td>0.0</td>\n",
       "      <td>28000000.0</td>\n",
       "      <td>40574140.0</td>\n",
       "      <td>Министерство культуры</td>\n",
       "      <td>4.2</td>\n",
       "      <td>драма</td>\n",
       "      <td>5.591750e+04</td>\n",
       "      <td>2014</td>\n",
       "      <td>Е. Миндадзе (псевдоним Катя Шагалова)</td>\n",
       "      <td>драма</td>\n",
       "      <td>0.690095</td>\n",
       "    </tr>\n",
       "    <tr>\n",
       "      <th>1792</th>\n",
       "      <td>Братья Ч</td>\n",
       "      <td>111004414</td>\n",
       "      <td>2014-04-23 12:00:00</td>\n",
       "      <td>Художественный</td>\n",
       "      <td>ООО \"Студия \"Пассажир\"</td>\n",
       "      <td>Россия</td>\n",
       "      <td>М. Угаров</td>\n",
       "      <td>А. Миндадзе, Л. Антонова</td>\n",
       "      <td>«16+» - для детей старше 16 лет</td>\n",
       "      <td>0.0</td>\n",
       "      <td>25000000.0</td>\n",
       "      <td>40015122.0</td>\n",
       "      <td>Министерство культуры</td>\n",
       "      <td>6.4</td>\n",
       "      <td>драма</td>\n",
       "      <td>2.321000e+05</td>\n",
       "      <td>2014</td>\n",
       "      <td>М. Угаров</td>\n",
       "      <td>драма</td>\n",
       "      <td>0.624764</td>\n",
       "    </tr>\n",
       "    <tr>\n",
       "      <th>...</th>\n",
       "      <td>...</td>\n",
       "      <td>...</td>\n",
       "      <td>...</td>\n",
       "      <td>...</td>\n",
       "      <td>...</td>\n",
       "      <td>...</td>\n",
       "      <td>...</td>\n",
       "      <td>...</td>\n",
       "      <td>...</td>\n",
       "      <td>...</td>\n",
       "      <td>...</td>\n",
       "      <td>...</td>\n",
       "      <td>...</td>\n",
       "      <td>...</td>\n",
       "      <td>...</td>\n",
       "      <td>...</td>\n",
       "      <td>...</td>\n",
       "      <td>...</td>\n",
       "      <td>...</td>\n",
       "      <td>...</td>\n",
       "    </tr>\n",
       "    <tr>\n",
       "      <th>7464</th>\n",
       "      <td>Союз спасения</td>\n",
       "      <td>111022019</td>\n",
       "      <td>2019-12-26 12:00:00</td>\n",
       "      <td>Художественный</td>\n",
       "      <td>ЗАО \"Дирекция кино\"</td>\n",
       "      <td>Россия</td>\n",
       "      <td>А. Кравчук</td>\n",
       "      <td>А. Максимов, К. Эрнст</td>\n",
       "      <td>«12+» - для детей старше 12 лет</td>\n",
       "      <td>100000000.0</td>\n",
       "      <td>400000000.0</td>\n",
       "      <td>980000000.0</td>\n",
       "      <td>Фонд кино</td>\n",
       "      <td>6.0</td>\n",
       "      <td>история, биография, драма</td>\n",
       "      <td>7.177032e+08</td>\n",
       "      <td>2019</td>\n",
       "      <td>А. Кравчук</td>\n",
       "      <td>история</td>\n",
       "      <td>0.510204</td>\n",
       "    </tr>\n",
       "    <tr>\n",
       "      <th>7466</th>\n",
       "      <td>Иван Царевич и Серый Волк 4</td>\n",
       "      <td>114005019</td>\n",
       "      <td>2019-12-20 12:00:00</td>\n",
       "      <td>Анимационный</td>\n",
       "      <td>ООО \"Студия анимационного кино \"Мельница\"</td>\n",
       "      <td>Россия</td>\n",
       "      <td>Д. Шмидт, К. Феоктистов</td>\n",
       "      <td>С. Сельянов, А. Боярский</td>\n",
       "      <td>«6+» - для детей старше 6 лет</td>\n",
       "      <td>100000000.0</td>\n",
       "      <td>0.0</td>\n",
       "      <td>190000000.0</td>\n",
       "      <td>Фонд кино</td>\n",
       "      <td>6.7</td>\n",
       "      <td>мультфильм, приключения, семейный</td>\n",
       "      <td>5.010692e+08</td>\n",
       "      <td>2019</td>\n",
       "      <td>Д. Шмидт</td>\n",
       "      <td>мультфильм</td>\n",
       "      <td>0.526316</td>\n",
       "    </tr>\n",
       "    <tr>\n",
       "      <th>7474</th>\n",
       "      <td>Вторжение</td>\n",
       "      <td>111022519</td>\n",
       "      <td>2019-12-23 12:00:00</td>\n",
       "      <td>Художественный</td>\n",
       "      <td>ООО \"Арт Пикчерс Студия\", ООО \"Водород 2011\"</td>\n",
       "      <td>Россия</td>\n",
       "      <td>Ф. Бондарчук</td>\n",
       "      <td>Ф. Бондарчук, М. Врубель, А. Андрющенко, Д. Ру...</td>\n",
       "      <td>«12+» - для детей старше 12 лет</td>\n",
       "      <td>100000000.0</td>\n",
       "      <td>400000000.0</td>\n",
       "      <td>944000000.0</td>\n",
       "      <td>Фонд кино</td>\n",
       "      <td>5.7</td>\n",
       "      <td>фантастика, боевик</td>\n",
       "      <td>NaN</td>\n",
       "      <td>2019</td>\n",
       "      <td>Ф. Бондарчук</td>\n",
       "      <td>фантастика</td>\n",
       "      <td>0.529661</td>\n",
       "    </tr>\n",
       "    <tr>\n",
       "      <th>7476</th>\n",
       "      <td>Я свободен</td>\n",
       "      <td>111023019</td>\n",
       "      <td>2019-12-26 12:00:00</td>\n",
       "      <td>Художественный</td>\n",
       "      <td>АО \"ТПО \"Киностудия им. М.Горького\"</td>\n",
       "      <td>Россия</td>\n",
       "      <td>И. Северов</td>\n",
       "      <td>С. Зернов</td>\n",
       "      <td>«12+» - для детей старше 12 лет</td>\n",
       "      <td>0.0</td>\n",
       "      <td>30000000.0</td>\n",
       "      <td>46154000.0</td>\n",
       "      <td>Министерство культуры</td>\n",
       "      <td>5.9</td>\n",
       "      <td>драма</td>\n",
       "      <td>NaN</td>\n",
       "      <td>2019</td>\n",
       "      <td>И. Северов</td>\n",
       "      <td>драма</td>\n",
       "      <td>0.649998</td>\n",
       "    </tr>\n",
       "    <tr>\n",
       "      <th>7478</th>\n",
       "      <td>(Не)идеальный мужчина</td>\n",
       "      <td>111023119</td>\n",
       "      <td>2019-12-24 12:00:00</td>\n",
       "      <td>Художественный</td>\n",
       "      <td>ООО \"Нон-Стоп Продакшн\"</td>\n",
       "      <td>Россия</td>\n",
       "      <td>М. Бальчюнас (псевдоним М. Вайсберг)</td>\n",
       "      <td>С. Мелькумов, А. Роднянский, М. Вайсберг, Р. М...</td>\n",
       "      <td>«12+» - для детей старше 12 лет</td>\n",
       "      <td>40000000.0</td>\n",
       "      <td>60000000.0</td>\n",
       "      <td>150147502.0</td>\n",
       "      <td>Фонд кино</td>\n",
       "      <td>4.5</td>\n",
       "      <td>комедия, фантастика, мелодрама</td>\n",
       "      <td>NaN</td>\n",
       "      <td>2019</td>\n",
       "      <td>М. Бальчюнас (псевдоним М. Вайсберг)</td>\n",
       "      <td>комедия</td>\n",
       "      <td>0.666012</td>\n",
       "    </tr>\n",
       "  </tbody>\n",
       "</table>\n",
       "<p>315 rows × 20 columns</p>\n",
       "</div>"
      ],
      "text/plain": [
       "                            title   puNumber     show_start_date  \\\n",
       "1281                Пока еще жива  111005313 2013-10-11 12:00:00   \n",
       "1448          Бесславные придурки  111003314 2014-03-28 12:00:00   \n",
       "1498                    Невидимки  111004213 2013-09-10 12:00:00   \n",
       "1524                        БЕРЦЫ  111004314 2014-05-05 12:00:00   \n",
       "1792                     Братья Ч  111004414 2014-04-23 12:00:00   \n",
       "...                           ...        ...                 ...   \n",
       "7464                Союз спасения  111022019 2019-12-26 12:00:00   \n",
       "7466  Иван Царевич и Серый Волк 4  114005019 2019-12-20 12:00:00   \n",
       "7474                    Вторжение  111022519 2019-12-23 12:00:00   \n",
       "7476                   Я свободен  111023019 2019-12-26 12:00:00   \n",
       "7478        (Не)идеальный мужчина  111023119 2019-12-24 12:00:00   \n",
       "\n",
       "                 type                                        film_studio  \\\n",
       "1281   Художественный  АНО содействия развитию кинематографии \"Ангел-...   \n",
       "1448   Художественный                         ООО \"Компания \"АТК-Студио\"   \n",
       "1498   Художественный                        ООО \"Компания \"РЕАЛ-ДАКОТА\"   \n",
       "1524   Художественный                             ООО \"Студия \"Пассажир\"   \n",
       "1792   Художественный                             ООО \"Студия \"Пассажир\"   \n",
       "...               ...                                                ...   \n",
       "7464   Художественный                                ЗАО \"Дирекция кино\"   \n",
       "7466     Анимационный          ООО \"Студия анимационного кино \"Мельница\"   \n",
       "7474   Художественный       ООО \"Арт Пикчерс Студия\", ООО \"Водород 2011\"   \n",
       "7476   Художественный                АО \"ТПО \"Киностудия им. М.Горького\"   \n",
       "7478   Художественный                           ООО \"Нон-Стоп Продакшн\"    \n",
       "\n",
       "     production_country                               director  \\\n",
       "1281             Россия                            А. Атанесян   \n",
       "1448             Россия                             А. Якимчук   \n",
       "1498             Россия             Р. Давлетьяров, С. Комаров   \n",
       "1524             Россия  Е. Миндадзе (псевдоним Катя Шагалова)   \n",
       "1792             Россия                              М. Угаров   \n",
       "...                 ...                                    ...   \n",
       "7464             Россия                             А. Кравчук   \n",
       "7466             Россия                Д. Шмидт, К. Феоктистов   \n",
       "7474             Россия                           Ф. Бондарчук   \n",
       "7476             Россия                             И. Северов   \n",
       "7478             Россия   М. Бальчюнас (псевдоним М. Вайсберг)   \n",
       "\n",
       "                                               producer  \\\n",
       "1281                А. Атанесян, М. Бабаханов, Р. Бутко   \n",
       "1448                                        А. Тютрюмов   \n",
       "1498       Р. Давлетьяров, А. Котелевский, А. Олейников   \n",
       "1524                                        Л. Антонова   \n",
       "1792                           А. Миндадзе, Л. Антонова   \n",
       "...                                                 ...   \n",
       "7464                              А. Максимов, К. Эрнст   \n",
       "7466                           С. Сельянов, А. Боярский   \n",
       "7474  Ф. Бондарчук, М. Врубель, А. Андрющенко, Д. Ру...   \n",
       "7476                                          С. Зернов   \n",
       "7478  С. Мелькумов, А. Роднянский, М. Вайсберг, Р. М...   \n",
       "\n",
       "                      age_restriction  refundable_support  \\\n",
       "1281  «16+» - для детей старше 16 лет                 0.0   \n",
       "1448  «12+» - для детей старше 12 лет                 0.0   \n",
       "1498  «12+» - для детей старше 12 лет                 0.0   \n",
       "1524  «16+» - для детей старше 16 лет                 0.0   \n",
       "1792  «16+» - для детей старше 16 лет                 0.0   \n",
       "...                               ...                 ...   \n",
       "7464  «12+» - для детей старше 12 лет         100000000.0   \n",
       "7466    «6+» - для детей старше 6 лет         100000000.0   \n",
       "7474  «12+» - для детей старше 12 лет         100000000.0   \n",
       "7476  «12+» - для детей старше 12 лет                 0.0   \n",
       "7478  «12+» - для детей старше 12 лет          40000000.0   \n",
       "\n",
       "      nonrefundable_support       budget       financing_source  ratings  \\\n",
       "1281             26500000.0   79411900.0  Министерство культуры      8.1   \n",
       "1448             26000000.0   37142857.0  Министерство культуры      NaN   \n",
       "1498            107847945.0  176023490.0              Фонд кино      5.3   \n",
       "1524             28000000.0   40574140.0  Министерство культуры      4.2   \n",
       "1792             25000000.0   40015122.0  Министерство культуры      6.4   \n",
       "...                     ...          ...                    ...      ...   \n",
       "7464            400000000.0  980000000.0              Фонд кино      6.0   \n",
       "7466                    0.0  190000000.0              Фонд кино      6.7   \n",
       "7474            400000000.0  944000000.0              Фонд кино      5.7   \n",
       "7476             30000000.0   46154000.0  Министерство культуры      5.9   \n",
       "7478             60000000.0  150147502.0              Фонд кино      4.5   \n",
       "\n",
       "                                 genres    box_office  rental_year  \\\n",
       "1281                   драма, мелодрама  3.653536e+05         2013   \n",
       "1448                                NaN  2.814000e+04         2014   \n",
       "1498                комедия, фантастика  1.995703e+07         2013   \n",
       "1524                              драма  5.591750e+04         2014   \n",
       "1792                              драма  2.321000e+05         2014   \n",
       "...                                 ...           ...          ...   \n",
       "7464          история, биография, драма  7.177032e+08         2019   \n",
       "7466  мультфильм, приключения, семейный  5.010692e+08         2019   \n",
       "7474                 фантастика, боевик           NaN         2019   \n",
       "7476                              драма           NaN         2019   \n",
       "7478     комедия, фантастика, мелодрама           NaN         2019   \n",
       "\n",
       "                              main_director main_genres  budget_share  \n",
       "1281                            А. Атанесян       драма      0.333703  \n",
       "1448                             А. Якимчук         NaN      0.700000  \n",
       "1498                         Р. Давлетьяров     комедия      0.612691  \n",
       "1524  Е. Миндадзе (псевдоним Катя Шагалова)       драма      0.690095  \n",
       "1792                              М. Угаров       драма      0.624764  \n",
       "...                                     ...         ...           ...  \n",
       "7464                             А. Кравчук     история      0.510204  \n",
       "7466                               Д. Шмидт  мультфильм      0.526316  \n",
       "7474                           Ф. Бондарчук  фантастика      0.529661  \n",
       "7476                             И. Северов       драма      0.649998  \n",
       "7478   М. Бальчюнас (псевдоним М. Вайсберг)     комедия      0.666012  \n",
       "\n",
       "[315 rows x 20 columns]"
      ]
     },
     "execution_count": 54,
     "metadata": {},
     "output_type": "execute_result"
    }
   ],
   "source": [
    "#проверим, что все корректно\n",
    "data.loc[data['budget_share']>0]"
   ]
  },
  {
   "cell_type": "code",
   "execution_count": 55,
   "metadata": {},
   "outputs": [
    {
     "data": {
      "text/plain": [
       "0.5922645480995804"
      ]
     },
     "execution_count": 55,
     "metadata": {},
     "output_type": "execute_result"
    }
   ],
   "source": [
    "#посчитаем, какую долю в бюджете фильма чаще всего составляет господдержка\n",
    "data['budget_share'].median()"
   ]
  },
  {
   "cell_type": "markdown",
   "metadata": {},
   "source": [
    "**Чаще всего доля государственной поддержки фильма составляет в районе 60% от бюджета.**"
   ]
  },
  {
   "cell_type": "markdown",
   "metadata": {},
   "source": [
    " <div class=\"alert alert-success\">\n",
    "<h2> Комментарий ревьюера v1 <a class=\"tocSkip\"> </h2>\n",
    "\n",
    "<b>Все супер!👍:</b> Столбцы добавлены верно) "
   ]
  },
  {
   "cell_type": "markdown",
   "metadata": {
    "id": "6t4EukPLgFyV"
   },
   "source": [
    "### Шаг 3. Проведите исследовательский анализ данных\n"
   ]
  },
  {
   "cell_type": "markdown",
   "metadata": {
    "id": "vAH8WCzugFyV"
   },
   "source": [
    "- Посмотрите, сколько фильмов выходило в прокат каждый год. Обратите внимание, что данные о прокате в кинотеатрах известны не для всех фильмов. Посчитайте, какую долю составляют фильмы с указанной информацией о прокате в кинотеатрах."
   ]
  },
  {
   "cell_type": "code",
   "execution_count": 56,
   "metadata": {},
   "outputs": [
    {
     "data": {
      "image/png": "[encoded data removed]",
      "text/plain": [
       "<Figure size 432x288 with 1 Axes>"
      ]
     },
     "metadata": {
      "needs_background": "light"
     },
     "output_type": "display_data"
    }
   ],
   "source": [
    "#построим столбчатую диаграмму с количеством фильмов по годам\n",
    "import matplotlib.pyplot as plt\n",
    "# создаем сводную таблицу и строим гистограмму\n",
    "data.pivot_table(index='rental_year', values='title', aggfunc='count').plot(title='Количество фильмов в прокате по годам', kind='bar', legend=False)\n",
    "ax = plt.gca()\n",
    "# подписываем ось x\n",
    "ax.set_xlabel('Годы')\n",
    "# подписываем ось y\n",
    "ax.set_ylabel('Количество фильмов')\n",
    "# отображаем график\n",
    "plt.show()"
   ]
  },
  {
   "cell_type": "code",
   "execution_count": 57,
   "metadata": {
    "scrolled": true
   },
   "outputs": [
    {
     "data": {
      "text/plain": [
       "0.420538224661936"
      ]
     },
     "execution_count": 57,
     "metadata": {},
     "output_type": "execute_result"
    }
   ],
   "source": [
    "#посчитаем, какую долю составляют фильмы с указанной информацией о прокате в кинотеатрах \n",
    "data['box_office'].count() / data['title'].count()"
   ]
  },
  {
   "cell_type": "markdown",
   "metadata": {},
   "source": [
    "**По построенной столбчатой диаграмме видно, что больше всего фильмов выходило в 2010, 2018 и 2019 годах. А меньше всего - в 2017. Информация о прокате в кинотеатрах есть в 42% случаев от общего объема данных, то есть меньше половины.**"
   ]
  },
  {
   "cell_type": "markdown",
   "metadata": {},
   "source": [
    "<div class=\"alert alert-warning\">\n",
    "    <h2> Комментарий ревьюера v1 <a class=\"tocSkip\"> </h2>\n",
    "    \n",
    "<b>Небольшие замечания и рекомендации💡:</b> Хорошо) Подпишем оси и давай рассмотрим на графике доли фильмов по годам?)"
   ]
  },
  {
   "cell_type": "markdown",
   "metadata": {},
   "source": [
    "<div class=\"alert alert-info\">\n",
    "<b>Оси подписала, а как сделать график доли фильмов по годам, подскажите пожалуйста?</b> \n",
    "</div>"
   ]
  },
  {
   "cell_type": "markdown",
   "metadata": {},
   "source": [
    "<div class=\"alert alert-warning\">\n",
    "    <h2> Комментарий ревьюера v2 <a class=\"tocSkip\"> </h2>\n",
    "    \n",
    "<b>Небольшие замечания и рекомендации💡:</b> РАссчитать долю фильмов по годам с указанной информацией о прокате в кинотеатрах и визуализировать) "
   ]
  },
  {
   "cell_type": "markdown",
   "metadata": {
    "id": "BEOdcIrIgFyW"
   },
   "source": [
    "- Изучите, как менялась динамика проката по годам. В каком году сумма сборов была минимальной? А максимальной?"
   ]
  },
  {
   "cell_type": "code",
   "execution_count": null,
   "metadata": {},
   "outputs": [],
   "source": [
    "#приведем цифры в столбцах в более привычный вид для удобства анализа\n",
    "pd.options.display.float_format = '{:.2f}'.format"
   ]
  },
  {
   "cell_type": "code",
   "execution_count": null,
   "metadata": {},
   "outputs": [],
   "source": [
    "#построим столбчатую диаграмму со сборами фильмов по годам\n",
    "data.pivot_table(index='rental_year', values='box_office', aggfunc='sum').plot(kind='bar', title='Сборы фильмов по годам', legend=False)\n",
    "ax = plt.gca()\n",
    "# подпись осей\n",
    "ax.set_xlabel('Год')\n",
    "ax.set_ylabel('Сборы, руб.')\n",
    "ax.ticklabel_format(style='plain', axis='y')\n",
    "plt.show()"
   ]
  },
  {
   "cell_type": "markdown",
   "metadata": {},
   "source": [
    "**По полученной диаграмме видно, что сборы фильмов начали расти с 2014 года, особенно резкий скачок заметен начиная с 2015 года. С 2016 по 2019 годы сборы были стабильны и почти одинаковы, в районе 50 млрд руб. Возможно, диаграмма не совсем отображает действительность, так как данных о сборах за фильмы за 2010-2014 годы меньше. Проверим эту гипотезу.**"
   ]
  },
  {
   "cell_type": "code",
   "execution_count": null,
   "metadata": {
    "scrolled": true
   },
   "outputs": [],
   "source": [
    "data.groupby('rental_year')['box_office'].count()"
   ]
  },
  {
   "cell_type": "markdown",
   "metadata": {},
   "source": [
    "**По итогу группировки мы видим, что действительно информации о количестве фильмов в прокате за 2010-2014 годы меньше, что обуславливает результаты полученной выше диаграммы. То есть скорее всего они не вполне отображают действительность (так как мы знаем, что фильмов, допустим, в 2010 году наоборот выходило очень много). Период же с 2015 по 2019 годы представлен наиболее полно, а значит и данные о сборах по этим годам можно считать корректными и показательными.**"
   ]
  },
  {
   "cell_type": "markdown",
   "metadata": {},
   "source": [
    "**Максимальная сумма сборов была в 2018 году, а минимальная - в 2015 (вывод для справедливого анализа делаем по наиболее представленному периоду).**"
   ]
  },
  {
   "cell_type": "markdown",
   "metadata": {},
   "source": [
    "<div class=\"alert alert-warning\">\n",
    "    <h2> Комментарий ревьюера v1 <a class=\"tocSkip\"> </h2>\n",
    "    \n",
    "<b>Небольшие замечания и рекомендации💡:</b> Хорошо, Подпишем график?)"
   ]
  },
  {
   "cell_type": "markdown",
   "metadata": {},
   "source": [
    "<div class=\"alert alert-success\">\n",
    "<h2> Комментарий ревьюера v2 <a class=\"tocSkip\"> </h2>\n",
    "\n",
    "<b>Все супер!👍:</b>Отлично) \n",
    "    "
   ]
  },
  {
   "cell_type": "markdown",
   "metadata": {
    "id": "G-7qS-N-gFyY"
   },
   "source": [
    "- С помощью сводной таблицы посчитайте среднюю и медианную сумму сборов для каждого года."
   ]
  },
  {
   "cell_type": "code",
   "execution_count": null,
   "metadata": {
    "id": "jmp-rgg9gFyY",
    "scrolled": true
   },
   "outputs": [],
   "source": [
    "#построим сводную таблицу с информацией о средней сумме сборов по годам\n",
    "data.pivot_table(index='rental_year', values='box_office', aggfunc='mean')"
   ]
  },
  {
   "cell_type": "code",
   "execution_count": null,
   "metadata": {},
   "outputs": [],
   "source": [
    "#построим сводную таблицу с информацией о медианной сумме сборов по годам\n",
    "data.pivot_table(index='rental_year', values='box_office', aggfunc='median')"
   ]
  },
  {
   "cell_type": "markdown",
   "metadata": {},
   "source": [
    "**Можно сделать вывод, что значения среднего арифметического слишком сильно отличаются, значит лучше при анализе опираться на значения медианы. В среднем самые большие сборы на каждый конкретный фильм были в 2017 году. В 2015 и 2019 годах сборы, напротив, были самыми скромными. (Период с 2010 по 2014 годы во внимание не берем в связи с недостаточностью информации по этим годам.)**"
   ]
  },
  {
   "cell_type": "markdown",
   "metadata": {},
   "source": [
    "<div class=\"alert alert-warning\">\n",
    "    <h2> Комментарий ревьюера v1 <a class=\"tocSkip\"> </h2>\n",
    "    \n",
    "<b>Небольшие замечания и рекомендации💡:</b>А почему сильно разнятся средняя и медиана?)"
   ]
  },
  {
   "cell_type": "markdown",
   "metadata": {},
   "source": [
    "<div class=\"alert alert-info\">\n",
    "<b>Значения среднего и медианы сильно различаются из-за того, что само количество сборов очень сильно различается, и в датасете присутствуют данные, значения которых сильно выделяются. Они и искажают результат среднего арифметического.</b> \n",
    "</div>"
   ]
  },
  {
   "cell_type": "markdown",
   "metadata": {},
   "source": [
    "<div class=\"alert alert-success\">\n",
    "<h2> Комментарий ревьюера v2 <a class=\"tocSkip\"> </h2>\n",
    "\n",
    "<b>Все супер!👍:</b> Окей"
   ]
  },
  {
   "cell_type": "markdown",
   "metadata": {
    "id": "Ok89WFwJgFyZ"
   },
   "source": [
    "- Определите, влияет ли возрастное ограничение аудитории («6+», «12+», «16+», «18+» и т. д.) на сборы фильма в прокате в период с 2015 по 2019 год? Фильмы с каким возрастным ограничением собрали больше всего денег в прокате? Меняется ли картина в зависимости от года? Если да, предположите, с чем это может быть связано."
   ]
  },
  {
   "cell_type": "code",
   "execution_count": null,
   "metadata": {},
   "outputs": [],
   "source": [
    "#посмотрим, фильмы с каким возрастным рейтингом заработали больше всего денег за весь изучаемый период\n",
    "data.loc[data['rental_year']>=2015].groupby('age_restriction')['box_office'].sum().sort_values()"
   ]
  },
  {
   "cell_type": "code",
   "execution_count": 59,
   "metadata": {
    "scrolled": true
   },
   "outputs": [
    {
     "data": {
      "text/plain": [
       "«0+» - для любой зрительской аудитории     317\n",
       "«6+» - для детей старше 6 лет              479\n",
       "«12+» - для детей старше 12 лет            786\n",
       "«18+» - запрещено для детей               1085\n",
       "«16+» - для детей старше 16 лет           1166\n",
       "Name: age_restriction, dtype: int64"
      ]
     },
     "execution_count": 59,
     "metadata": {},
     "output_type": "execute_result"
    }
   ],
   "source": [
    "#посмотрим, фильмов с каким рейтингом больше всего выходило за изучаемый период\n",
    "data.loc[data['rental_year']>=2015]['age_restriction'].value_counts(ascending=True)"
   ]
  },
  {
   "cell_type": "code",
   "execution_count": null,
   "metadata": {},
   "outputs": [],
   "source": [
    "#напишем функцию для создания нового столбца с краткой информацией по возрастному рейтингу (для удобства чтения графиков)\n",
    "def age_category(age_restriction):\n",
    "    if 'для любой зрительской аудитории' in age_restriction:\n",
    "        return '0+'\n",
    "    elif 'для детей старше 6 лет' in age_restriction:\n",
    "        return '6+'\n",
    "    elif 'для детей старше 12 лет' in age_restriction:\n",
    "        return '12+'\n",
    "    elif 'для детей старше 16 лет' in age_restriction:\n",
    "        return '16+'\n",
    "    elif 'запрещено для детей' in age_restriction:\n",
    "        return '18+'"
   ]
  },
  {
   "cell_type": "code",
   "execution_count": null,
   "metadata": {},
   "outputs": [],
   "source": [
    "#применим функцию\n",
    "data['age'] = data['age_restriction'].apply(age_category)"
   ]
  },
  {
   "cell_type": "code",
   "execution_count": null,
   "metadata": {
    "scrolled": false
   },
   "outputs": [],
   "source": [
    "#посмотрим, появился ли столбец\n",
    "data.head()"
   ]
  },
  {
   "cell_type": "code",
   "execution_count": null,
   "metadata": {},
   "outputs": [],
   "source": [
    "#построим график, по которому будет видно, как количество выходивших фильмов c 2015 по 2019 по каждому возрастному ограничению коррелирует с количеством сборов\n",
    "data.loc[data['rental_year']>=2015].pivot_table(index='age', values='box_office', aggfunc='sum').plot(grid=True, style='o', figsize=(5, 5))"
   ]
  },
  {
   "cell_type": "markdown",
   "metadata": {},
   "source": [
    "**По полученному графику можно сделать вывод, что самую большую выручку приносят фильмы с рейтингом \"16+\". Также много ходят на фильмы \"12+\" и \"6+\". Фильмы \"18+\" у зрителей менее популярны. А самые низкие по сборам - фильмы \"0+\". Т.е. возрастное ограничение влияет на выручку фильмов.**"
   ]
  },
  {
   "cell_type": "code",
   "execution_count": null,
   "metadata": {
    "scrolled": true
   },
   "outputs": [],
   "source": [
    "#построим график сборов в зависимости от возрастного ограничения по годам\n",
    "data[data['box_office'].notna()].pivot_table(index='rental_year', columns='age', values='box_office', aggfunc='sum').plot(kind='line', xlim=[2015, 2019])"
   ]
  },
  {
   "cell_type": "markdown",
   "metadata": {},
   "source": [
    "**Можно сделать вывод, что фильмы \"0+\" с 2015 по 2019 годы всегда приносили меньше всего сборов, а фильмы \"16+\" - абсолютные лидеры по сборам (за исключением только 2015 года, где их немного обогнали фильмы \"12+\"), но это не влияет на общую тенденцию. Общая картина кассовых сборов сохраняется в соответствии с нашим общим графиком без разбивки по годам. Но стоит отметить, что у фильмов с рейтингом \"12+\" наблюдается ощутимое снижение кассовых сборов в период с 2015 до 2017 года, а потом опять идет увеличение их объема. Теоретически это может быть связано с тем, в этот период количество выходящих в прокат фильмов \"12+\" уменьшалось. Проверим эту теорию.**"
   ]
  },
  {
   "cell_type": "code",
   "execution_count": null,
   "metadata": {},
   "outputs": [],
   "source": [
    "data[data['age'] == '12+'].groupby('rental_year')['age'].count()"
   ]
  },
  {
   "cell_type": "markdown",
   "metadata": {},
   "source": [
    "**Так и есть, наша теория подтверждается.**"
   ]
  },
  {
   "cell_type": "markdown",
   "metadata": {},
   "source": [
    "<div class=\"alert alert-block alert-danger\">\n",
    "<h2> Комментарий ревьюера v1 <a class=\"tocSkip\"></h2>\n",
    "\n",
    "<b>На доработку🤔:</b>  А давай посотрим боксплот и изучим поведение медианы?"
   ]
  },
  {
   "cell_type": "code",
   "execution_count": null,
   "metadata": {},
   "outputs": [],
   "source": [
    "#построим диаграмму размаха\n",
    "data.loc[data['rental_year']>=2015].pivot_table(index='age', values='box_office', aggfunc='sum').boxplot()\n",
    "ax = plt.gca()\n",
    "# изменяем форматирование оси y на обычный\n",
    "ax.ticklabel_format(style='plain', axis='y')\n",
    "# отображаем график\n",
    "plt.show()"
   ]
  },
  {
   "cell_type": "markdown",
   "metadata": {},
   "source": [
    "**По построенной диаграмме размаха видно, что за период с 2015 по 2019 годы сборы фильмов в каждой возрастной категории составляли обычно чуть больше 50,5 млрд рублей (медианное значение). Так же есть категории, получившие меньшую выручку с 2015 по 2019 (таких категорий больше, чем тех, которым удалось заработать более 5,5 млрд руб.)**"
   ]
  },
  {
   "cell_type": "markdown",
   "metadata": {},
   "source": [
    "<div class=\"alert alert-warning\">\n",
    "    <h2> Комментарий ревьюера v2 <a class=\"tocSkip\"> </h2>\n",
    "    \n",
    "<b>Небольшие замечания и рекомендации💡:</b>На боксплоте было бы супер рассмотреть возрастные категории отдельно) На данном почти ничего непонятно"
   ]
  },
  {
   "cell_type": "markdown",
   "metadata": {
    "id": "l_Kg6Ku4gFya"
   },
   "source": [
    "### Шаг 4. Исследуйте фильмы, которые получили государственную поддержку\n",
    "\n",
    "На этом этапе нет конкретных инструкций и заданий — поищите интересные закономерности в данных. Посмотрите, сколько выделяют средств на поддержку кино. Проверьте, хорошо ли окупаются такие фильмы, какой у них рейтинг."
   ]
  },
  {
   "cell_type": "code",
   "execution_count": null,
   "metadata": {
    "id": "W9QKpjUdgFyb"
   },
   "outputs": [],
   "source": [
    "#создадим столбец с общей суммой господдержки\n",
    "data['total_support'] = data['refundable_support'] + data['nonrefundable_support']"
   ]
  },
  {
   "cell_type": "code",
   "execution_count": null,
   "metadata": {},
   "outputs": [],
   "source": [
    "#сделаем, чтобы было видно все столбцы таблицы\n",
    "pd.set_option('display.max_columns', None)"
   ]
  },
  {
   "cell_type": "code",
   "execution_count": null,
   "metadata": {},
   "outputs": [],
   "source": [
    "#посмотрим, все ли в порядке\n",
    "data[data['total_support']>0]"
   ]
  },
  {
   "cell_type": "code",
   "execution_count": null,
   "metadata": {},
   "outputs": [],
   "source": [
    "#посчитаем среднее значение господдержки\n",
    "data[data['total_support']>0]['total_support'].mean()"
   ]
  },
  {
   "cell_type": "code",
   "execution_count": null,
   "metadata": {},
   "outputs": [],
   "source": [
    "#посчитаем медиану господдержки\n",
    "data[data['total_support']>0]['nonrefundable_support'].median()"
   ]
  },
  {
   "cell_type": "markdown",
   "metadata": {},
   "source": [
    "**В среднем фильмы получают поддержку от государства в сумме равной примерно 30000000 рублей.**"
   ]
  },
  {
   "cell_type": "code",
   "execution_count": null,
   "metadata": {},
   "outputs": [],
   "source": [
    "#создадим столбец с информацией об окупаемости фильмов\n",
    "data['payback'] = data['box_office'] - data['budget']"
   ]
  },
  {
   "cell_type": "code",
   "execution_count": null,
   "metadata": {},
   "outputs": [],
   "source": [
    "#ознакомимся с получившимися данными\n",
    "data[data['total_support']>0]"
   ]
  },
  {
   "cell_type": "code",
   "execution_count": null,
   "metadata": {},
   "outputs": [],
   "source": [
    "#посмотрим число строк окупившихся фильмов\n",
    "len(data.loc[(data['total_support'] > 0) & (data['payback'] > 0), ['total_support', 'payback']])"
   ]
  },
  {
   "cell_type": "code",
   "execution_count": null,
   "metadata": {},
   "outputs": [],
   "source": [
    "#посмотрим число неокупившихся фильмов\n",
    "len(data.loc[(data['total_support'] > 0) & (data['payback'] <= 0), ['total_support', 'payback']])"
   ]
  },
  {
   "cell_type": "markdown",
   "metadata": {},
   "source": [
    "**Получается, что количество неокупившихся фильмов, при создании которых привлекалась господдержка, в 3,5 раза больше, чем количество окупившихся!**"
   ]
  },
  {
   "cell_type": "code",
   "execution_count": null,
   "metadata": {},
   "outputs": [],
   "source": [
    "#посмотрим медиану окупаемости для всех фильмов, о которых есть информация о сборах, снятых без господдержки\n",
    "data.loc[(data['box_office']>0) & (data['total_support']==0), 'payback'].median()"
   ]
  },
  {
   "cell_type": "code",
   "execution_count": null,
   "metadata": {
    "scrolled": true
   },
   "outputs": [],
   "source": [
    "#посмотрим медиану окупаемости по фильмам с господдержкой\n",
    "data.loc[(data['box_office']>0) & (data['total_support']>0), 'payback'].median()"
   ]
  },
  {
   "cell_type": "markdown",
   "metadata": {},
   "source": [
    "**Картина неутешительная для фильмов с господдержкой. Среднестатистический фильм, снятый без госпеддержки, приносит более 2 млн рублей, в то время как фильмы с господдержкой в среднем снимаются в убыток в 43 млн рублей.**"
   ]
  },
  {
   "cell_type": "code",
   "execution_count": null,
   "metadata": {},
   "outputs": [],
   "source": [
    "#посмотрим медианный рейтинг для всех фильмов, о которых есть информация о сборах, снятых без господдержки\n",
    "data.loc[(data['box_office']>0) & (data['total_support']==0), 'ratings'].median()"
   ]
  },
  {
   "cell_type": "code",
   "execution_count": null,
   "metadata": {},
   "outputs": [],
   "source": [
    "#посмотрим медианный рейтинг для всех фильмов, о которых есть информация о сборах, снятых с господдержкой\n",
    "data.loc[(data['box_office']>0) & (data['total_support']>0), 'ratings'].median()"
   ]
  },
  {
   "cell_type": "markdown",
   "metadata": {},
   "source": [
    "**Выходит, что рейтинги у фильмов без господдержки и с господдержкой почти одинаковые, 6.4 и 6.2 соответственно, чего не скажешь об их окупаемости.**"
   ]
  },
  {
   "cell_type": "markdown",
   "metadata": {},
   "source": [
    "<div class=\"alert alert-warning\">\n",
    "    <h2> Комментарий ревьюера v1 <a class=\"tocSkip\"> </h2>\n",
    "    \n",
    "<b>Небольшие замечания и рекомендации💡:</b> Можем еще поисследовать режиссеров "
   ]
  },
  {
   "cell_type": "code",
   "execution_count": null,
   "metadata": {},
   "outputs": [],
   "source": [
    "#можем посмотреть рейтинг самых неудачных режиссеров\n",
    "data.loc[(data['box_office']>0) & (data['total_support']>0)].groupby('director')['ratings'].median().sort_values()"
   ]
  },
  {
   "cell_type": "code",
   "execution_count": null,
   "metadata": {
    "scrolled": true
   },
   "outputs": [],
   "source": [
    "#а теперь наоборот самых талантливых\n",
    "data.loc[(data['box_office']>0) & (data['total_support']>0)].groupby('director')['ratings'].median().sort_values(ascending=False)"
   ]
  },
  {
   "cell_type": "markdown",
   "metadata": {},
   "source": [
    "**М. Свешников получил самый худший рейтинг за свой фильм 1.0, а Ю. Кара получил просто превосходную оценку в 9.4 балла!**"
   ]
  },
  {
   "cell_type": "code",
   "execution_count": null,
   "metadata": {},
   "outputs": [],
   "source": [
    "#посмотрим, фильмы каких режиссеров больше всего провалились в прокате, а какие, напротив, имели успех\n",
    "data.loc[(data['box_office']>0) & (data['total_support']>0)].groupby('director')['payback'].median().sort_values()"
   ]
  },
  {
   "cell_type": "markdown",
   "metadata": {},
   "source": [
    "**Самый плохой фильм снял О. Степченко, а самый прибыльный - А. Мегердичев.**"
   ]
  },
  {
   "cell_type": "markdown",
   "metadata": {},
   "source": [
    "<div class=\"alert alert-success\">\n",
    "<h2> Комментарий ревьюера v2 <a class=\"tocSkip\"> </h2>\n",
    "\n",
    "<b>Все супер!👍:</b> Отлично, молодец) "
   ]
  },
  {
   "cell_type": "markdown",
   "metadata": {
    "id": "V2gYwMcPgFyd"
   },
   "source": [
    "### Шаг 5. Напишите общий вывод"
   ]
  },
  {
   "cell_type": "markdown",
   "metadata": {},
   "source": [
    "**Нам были предоставлены два датасета с информацией по фильмам, выходившим в прокат с 2010 по 2019 годы. Для удобства анализа мы сразу же объединили две таблицы в одну по общему столбцу с номером прокатного удостоверения фильмов. Для корректного анализа сначала мы произвели предобработку данных: при необходимости преобразовали типы данных; по возможности заполнили пропуски в данных, где это было возможно; избавились от дубликатов; исправили проблемные значения в данных. Далее для наиболее полноценного анализа нами были добавлены новые столбцы в таблицу, которые впоследствии пригодились для расчетов. \n",
    "После этого мы приступили непосредственно к исследованию. Было установлено, что больше всего фильмов выходило в 2010, 2018 и 2019 годах. А меньше всего - в 2017.\n",
    "На основе диаграммы мы сделали вывод, что анализ стоит производить только за период с 2015 по 2019 год (так как в этот период наиболее полно представлена информация по кассовым сборам). Максимальная сумма сборов была в 2018 году, а минимальная - в 2015.\n",
    "В среднем самые большие сборы на каждый конкретный фильм были в 2017 году. В 2015 и 2019 годах сборы, напротив, были самыми скромными.\n",
    "Построив график мы установили, что самую большую выручку приносят фильмы с рейтингом \"16+\". Также много ходят на фильмы \"12+\" и \"6+\". Фильмы \"18+\" у зрителей менее популярны. А самые низкие по сборам - фильмы \"0+\". Т.е. возрастное ограничение напрямую влияет на выручку фильмов.\n",
    "На конечном этапе исследования мы обратились к фильмам с господдержкой. Посчитали, что в среднем фильмы получают поддержку от государства в сумме равной примерно 30000000 рублей. Количество неокупившихся фильмов, при создании которых привлекалась господдержка, в 3,5 раза больше, чем количество окупившихся. Среднестатистический фильм, снятый без госпеддержки, приносит более 2 млн рублей, в то время как фильмы с господдержкой в среднем снимаются в убыток в 43 млн рублей. А вот медианный рейтинг у фильмов без господдержки и с господдержкой почти одинаковый (6.4 и 6.2 соответственно). Министерству культуры можно посоветовать в дальнейшем продолжать сотрудничать с режиссёрами, которые получили высокие рейтинги за свои фильмы (Ю. Кара, Н. Степанова, Р. Прыгунов,А. Атанесян, К. Оганисян и др.), а также с теми, кому удалось побить рекорды по кассовым сборам (среди фильмов, снятых с господдержкой), а именно А. Мегердичев, А. Сидоров, О. Трофим, Н. Лебедев, Д. Киселев, А. Першин (Ж.Крыжовников), А. Карпиловский, А. Черномазов (А. Нужный) и др.**"
   ]
  },
  {
   "cell_type": "markdown",
   "metadata": {},
   "source": [
    "<div class=\"alert alert-block alert-danger\">\n",
    "<h2> Комментарий ревьюера v1 <a class=\"tocSkip\"></h2>\n",
    "\n",
    "<b>На доработку🤔:</b>  Исправим замечания и доработаем вывод? Не забывай подписывать оси и заголовки у графиков) "
   ]
  },
  {
   "cell_type": "markdown",
   "metadata": {},
   "source": [
    "<div class=\"alert alert-success\">\n",
    "<h2> Комментарий ревьюера v2 <a class=\"tocSkip\"> </h2>\n",
    "\n",
    "<b>Все супер!👍:</b> Вывод отражает проделанную работу!"
   ]
  },
  {
   "cell_type": "markdown",
   "metadata": {},
   "source": [
    "<div style=\"border:solid Chocolate 2px; padding: 40px\">\n",
    "    \n",
    "**Общий вывод по проекту ревьювера**:\n",
    "Екатерина, спасибо за  проект! Ты приложила много усилий, чтобы довести его до конца, проделана огромная работа, и это видно невооруженным глазом, ты большая молодец!\n",
    "    \n",
    "**Отмечу положительные моменты**:\n",
    "    \n",
    "    1. Все разложено по полочкам, всегда понятен ход твоих мыслей, приятно смотреть\n",
    "    \n",
    "    2. Отличные визуализации\n",
    "    \n",
    "    3. На разных шагах проекта ты предлагала очень интересные решения и методы для их реализации. Хорошая работа!\n",
    "    \n",
    "    \n",
    "**На что стоит обратить внимание**:\n",
    "    \n",
    "    1. Не все типы данных преобразованы\n",
    "    \n",
    "    2. Оформление графиков\n",
    "    \n",
    "    \n",
    "**Удачи и жду твой проект на повторное ревью!**"
   ]
  },
  {
   "cell_type": "markdown",
   "metadata": {},
   "source": [
    "<div style=\"border:solid Chocolate 2px; padding: 40px\">\n",
    "    \n",
    "**Общий вывод по проекту ревьювера v2**:\n",
    "Екатерина, ошибки исправлены, проект принят, поздравляю тебя! Успешной учебы и еще увидимся в Практикуме!"
   ]
  },
  {
   "cell_type": "markdown",
   "metadata": {
    "id": "AYRg3dzXgFye"
   },
   "source": []
  }
 ],
 "metadata": {
  "ExecuteTimeLog": [
   {
    "duration": 537,
    "start_time": "2021-07-07T10:12:08.634Z"
   },
   {
    "duration": 206,
    "start_time": "2021-07-07T10:12:30.191Z"
   },
   {
    "duration": 227,
    "start_time": "2021-07-07T10:12:33.078Z"
   },
   {
    "duration": 153,
    "start_time": "2021-07-07T10:13:42.146Z"
   },
   {
    "duration": 233,
    "start_time": "2021-07-07T10:30:09.252Z"
   },
   {
    "duration": 19,
    "start_time": "2021-07-07T10:30:15.577Z"
   },
   {
    "duration": 18,
    "start_time": "2021-07-07T10:30:57.348Z"
   },
   {
    "duration": 19,
    "start_time": "2021-07-07T10:31:17.452Z"
   },
   {
    "duration": 21,
    "start_time": "2021-07-07T10:31:32.227Z"
   },
   {
    "duration": 27,
    "start_time": "2021-07-07T10:32:06.588Z"
   },
   {
    "duration": 23,
    "start_time": "2021-07-07T10:32:43.645Z"
   },
   {
    "duration": 24,
    "start_time": "2021-07-07T10:33:06.948Z"
   },
   {
    "duration": 7,
    "start_time": "2021-07-07T10:33:28.558Z"
   },
   {
    "duration": 23,
    "start_time": "2021-07-07T10:33:43.761Z"
   },
   {
    "duration": 28,
    "start_time": "2021-07-07T10:34:13.466Z"
   },
   {
    "duration": 23,
    "start_time": "2021-07-07T10:35:56.187Z"
   },
   {
    "duration": 6,
    "start_time": "2021-07-07T10:36:48.182Z"
   },
   {
    "duration": 14,
    "start_time": "2021-07-07T10:37:49.641Z"
   },
   {
    "duration": 6,
    "start_time": "2021-07-07T10:38:06.694Z"
   },
   {
    "duration": 6,
    "start_time": "2021-07-07T10:38:13.493Z"
   },
   {
    "duration": 19,
    "start_time": "2021-07-07T10:38:44.056Z"
   },
   {
    "duration": 186,
    "start_time": "2021-07-07T10:48:35.618Z"
   },
   {
    "duration": 24,
    "start_time": "2021-07-07T10:48:51.498Z"
   },
   {
    "duration": 20,
    "start_time": "2021-07-07T10:48:59.415Z"
   },
   {
    "duration": 20,
    "start_time": "2021-07-07T10:53:02.195Z"
   },
   {
    "duration": 188,
    "start_time": "2021-07-07T10:54:40.486Z"
   },
   {
    "duration": 115,
    "start_time": "2021-07-07T10:54:52.552Z"
   },
   {
    "duration": 214,
    "start_time": "2021-07-07T10:54:56.354Z"
   },
   {
    "duration": 47,
    "start_time": "2021-07-07T10:54:58.282Z"
   },
   {
    "duration": 217,
    "start_time": "2021-07-07T10:59:16.075Z"
   },
   {
    "duration": 51,
    "start_time": "2021-07-07T10:59:16.243Z"
   },
   {
    "duration": 578,
    "start_time": "2021-07-07T10:59:18.774Z"
   },
   {
    "duration": 161,
    "start_time": "2021-07-07T10:59:21.238Z"
   },
   {
    "duration": 59,
    "start_time": "2021-07-07T10:59:21.453Z"
   },
   {
    "duration": 3,
    "start_time": "2021-07-07T11:02:10.786Z"
   },
   {
    "duration": 13,
    "start_time": "2021-07-07T11:07:07.722Z"
   },
   {
    "duration": 26,
    "start_time": "2021-07-07T11:07:17.958Z"
   },
   {
    "duration": 22,
    "start_time": "2021-07-07T11:08:17.939Z"
   },
   {
    "duration": 212,
    "start_time": "2021-07-07T11:08:19.665Z"
   },
   {
    "duration": 21,
    "start_time": "2021-07-07T11:08:29.945Z"
   },
   {
    "duration": 31,
    "start_time": "2021-07-07T11:08:38.899Z"
   },
   {
    "duration": 23,
    "start_time": "2021-07-07T11:08:54.527Z"
   },
   {
    "duration": 8,
    "start_time": "2021-07-07T11:18:55.974Z"
   },
   {
    "duration": 7,
    "start_time": "2021-07-07T11:19:03.639Z"
   },
   {
    "duration": 7,
    "start_time": "2021-07-07T11:19:06.444Z"
   },
   {
    "duration": 578,
    "start_time": "2021-07-07T12:09:59.576Z"
   },
   {
    "duration": 195,
    "start_time": "2021-07-07T12:10:00.156Z"
   },
   {
    "duration": 115,
    "start_time": "2021-07-07T12:10:00.353Z"
   },
   {
    "duration": 3,
    "start_time": "2021-07-07T12:10:00.470Z"
   },
   {
    "duration": 32,
    "start_time": "2021-07-07T12:10:00.474Z"
   },
   {
    "duration": 23,
    "start_time": "2021-07-07T12:10:00.508Z"
   },
   {
    "duration": 19,
    "start_time": "2021-07-07T12:10:00.533Z"
   },
   {
    "duration": 44,
    "start_time": "2021-07-07T12:10:00.553Z"
   },
   {
    "duration": 7,
    "start_time": "2021-07-07T12:10:00.600Z"
   },
   {
    "duration": 7,
    "start_time": "2021-07-07T12:19:45.761Z"
   },
   {
    "duration": 21,
    "start_time": "2021-07-07T12:21:35.482Z"
   },
   {
    "duration": 21,
    "start_time": "2021-07-07T12:29:23.569Z"
   },
   {
    "duration": 525,
    "start_time": "2021-07-07T12:29:44.542Z"
   },
   {
    "duration": 214,
    "start_time": "2021-07-07T12:29:45.069Z"
   },
   {
    "duration": 92,
    "start_time": "2021-07-07T12:29:45.285Z"
   },
   {
    "duration": 3,
    "start_time": "2021-07-07T12:29:45.379Z"
   },
   {
    "duration": 28,
    "start_time": "2021-07-07T12:29:45.384Z"
   },
   {
    "duration": 23,
    "start_time": "2021-07-07T12:29:45.413Z"
   },
   {
    "duration": 21,
    "start_time": "2021-07-07T12:29:45.437Z"
   },
   {
    "duration": 41,
    "start_time": "2021-07-07T12:29:45.460Z"
   },
   {
    "duration": 7,
    "start_time": "2021-07-07T12:29:45.502Z"
   },
   {
    "duration": 20,
    "start_time": "2021-07-07T12:29:45.511Z"
   },
   {
    "duration": 12,
    "start_time": "2021-07-07T12:34:02.800Z"
   },
   {
    "duration": 7,
    "start_time": "2021-07-07T12:35:10.479Z"
   },
   {
    "duration": 8,
    "start_time": "2021-07-07T12:35:22.440Z"
   },
   {
    "duration": 6,
    "start_time": "2021-07-07T12:35:35.649Z"
   },
   {
    "duration": 6,
    "start_time": "2021-07-07T12:35:43.107Z"
   },
   {
    "duration": 22,
    "start_time": "2021-07-07T12:38:03.029Z"
   },
   {
    "duration": 10,
    "start_time": "2021-07-07T12:38:06.592Z"
   },
   {
    "duration": 563,
    "start_time": "2021-07-07T12:38:46.493Z"
   },
   {
    "duration": 265,
    "start_time": "2021-07-07T12:38:47.058Z"
   },
   {
    "duration": 94,
    "start_time": "2021-07-07T12:38:47.325Z"
   },
   {
    "duration": 3,
    "start_time": "2021-07-07T12:38:47.422Z"
   },
   {
    "duration": 30,
    "start_time": "2021-07-07T12:38:47.427Z"
   },
   {
    "duration": 16,
    "start_time": "2021-07-07T12:38:53.305Z"
   },
   {
    "duration": 10,
    "start_time": "2021-07-07T12:38:53.499Z"
   },
   {
    "duration": 8,
    "start_time": "2021-07-07T12:39:48.161Z"
   },
   {
    "duration": 27,
    "start_time": "2021-07-07T12:41:17.629Z"
   },
   {
    "duration": 17,
    "start_time": "2021-07-07T12:41:17.867Z"
   },
   {
    "duration": 21,
    "start_time": "2021-07-07T12:41:19.310Z"
   },
   {
    "duration": 7,
    "start_time": "2021-07-07T12:41:19.544Z"
   },
   {
    "duration": 20,
    "start_time": "2021-07-07T12:41:20.504Z"
   },
   {
    "duration": 554,
    "start_time": "2021-07-07T12:56:23.696Z"
   },
   {
    "duration": 200,
    "start_time": "2021-07-07T12:56:25.234Z"
   },
   {
    "duration": 119,
    "start_time": "2021-07-07T12:56:25.480Z"
   },
   {
    "duration": 4,
    "start_time": "2021-07-07T12:56:25.762Z"
   },
   {
    "duration": 26,
    "start_time": "2021-07-07T12:56:27.172Z"
   },
   {
    "duration": 12,
    "start_time": "2021-07-07T12:56:29.051Z"
   },
   {
    "duration": 10,
    "start_time": "2021-07-07T12:56:29.291Z"
   },
   {
    "duration": 8,
    "start_time": "2021-07-07T12:56:29.623Z"
   },
   {
    "duration": 28,
    "start_time": "2021-07-07T12:56:32.137Z"
   },
   {
    "duration": 19,
    "start_time": "2021-07-07T12:56:39.785Z"
   },
   {
    "duration": 20,
    "start_time": "2021-07-07T12:56:44.297Z"
   },
   {
    "duration": 7,
    "start_time": "2021-07-07T12:56:45.392Z"
   },
   {
    "duration": 23,
    "start_time": "2021-07-07T12:56:46.615Z"
   },
   {
    "duration": 4,
    "start_time": "2021-07-07T12:57:06.625Z"
   },
   {
    "duration": 32,
    "start_time": "2021-07-07T12:57:36.690Z"
   },
   {
    "duration": 18,
    "start_time": "2021-07-07T12:58:00.149Z"
   },
   {
    "duration": 15,
    "start_time": "2021-07-07T12:59:16.793Z"
   },
   {
    "duration": 7,
    "start_time": "2021-07-07T13:19:22.624Z"
   },
   {
    "duration": 6,
    "start_time": "2021-07-07T14:17:33.527Z"
   },
   {
    "duration": 9,
    "start_time": "2021-07-07T14:17:48.409Z"
   },
   {
    "duration": 8,
    "start_time": "2021-07-07T14:20:13.060Z"
   },
   {
    "duration": 8,
    "start_time": "2021-07-07T14:20:37.957Z"
   },
   {
    "duration": 8,
    "start_time": "2021-07-07T14:20:47.470Z"
   },
   {
    "duration": 9,
    "start_time": "2021-07-07T14:20:54.503Z"
   },
   {
    "duration": 10,
    "start_time": "2021-07-07T14:28:57.763Z"
   },
   {
    "duration": 3,
    "start_time": "2021-07-07T14:30:23.377Z"
   },
   {
    "duration": 3,
    "start_time": "2021-07-07T14:30:36.489Z"
   },
   {
    "duration": 103,
    "start_time": "2021-07-07T14:30:52.351Z"
   },
   {
    "duration": 8,
    "start_time": "2021-07-07T14:30:54.763Z"
   },
   {
    "duration": 8,
    "start_time": "2021-07-07T14:31:29.301Z"
   },
   {
    "duration": 13,
    "start_time": "2021-07-07T14:31:44.516Z"
   },
   {
    "duration": 7,
    "start_time": "2021-07-07T14:33:10.972Z"
   },
   {
    "duration": 11,
    "start_time": "2021-07-07T14:33:27.780Z"
   },
   {
    "duration": 8,
    "start_time": "2021-07-07T14:34:44.588Z"
   },
   {
    "duration": 57,
    "start_time": "2021-07-07T14:35:59.042Z"
   },
   {
    "duration": 3,
    "start_time": "2021-07-07T14:36:28.168Z"
   },
   {
    "duration": 5,
    "start_time": "2021-07-07T14:36:46.254Z"
   },
   {
    "duration": 4,
    "start_time": "2021-07-07T14:36:52.714Z"
   },
   {
    "duration": 3,
    "start_time": "2021-07-07T14:36:56.612Z"
   },
   {
    "duration": 4,
    "start_time": "2021-07-07T14:36:57.049Z"
   },
   {
    "duration": 3,
    "start_time": "2021-07-07T14:39:21.214Z"
   },
   {
    "duration": 7,
    "start_time": "2021-07-07T14:39:52.406Z"
   },
   {
    "duration": 11,
    "start_time": "2021-07-07T14:39:58.576Z"
   },
   {
    "duration": 9,
    "start_time": "2021-07-07T14:40:26.301Z"
   },
   {
    "duration": 10,
    "start_time": "2021-07-07T14:40:31.704Z"
   },
   {
    "duration": 11,
    "start_time": "2021-07-07T14:40:36.249Z"
   },
   {
    "duration": 10,
    "start_time": "2021-07-07T14:40:39.783Z"
   },
   {
    "duration": 9,
    "start_time": "2021-07-07T14:40:48.558Z"
   },
   {
    "duration": 10,
    "start_time": "2021-07-07T14:40:57.143Z"
   },
   {
    "duration": 9,
    "start_time": "2021-07-07T14:41:06.074Z"
   },
   {
    "duration": 4324,
    "start_time": "2021-07-07T14:41:22.004Z"
   },
   {
    "duration": 11,
    "start_time": "2021-07-07T14:41:33.392Z"
   },
   {
    "duration": 9,
    "start_time": "2021-07-07T14:41:39.288Z"
   },
   {
    "duration": 569,
    "start_time": "2021-07-07T14:42:14.387Z"
   },
   {
    "duration": 197,
    "start_time": "2021-07-07T14:42:14.959Z"
   },
   {
    "duration": 84,
    "start_time": "2021-07-07T14:42:16.052Z"
   },
   {
    "duration": 4,
    "start_time": "2021-07-07T14:42:16.900Z"
   },
   {
    "duration": 27,
    "start_time": "2021-07-07T14:42:19.898Z"
   },
   {
    "duration": 12,
    "start_time": "2021-07-07T14:42:21.577Z"
   },
   {
    "duration": 9,
    "start_time": "2021-07-07T14:42:21.813Z"
   },
   {
    "duration": 9,
    "start_time": "2021-07-07T14:42:22.569Z"
   },
   {
    "duration": 29,
    "start_time": "2021-07-07T14:42:25.837Z"
   },
   {
    "duration": 20,
    "start_time": "2021-07-07T14:42:27.003Z"
   },
   {
    "duration": 21,
    "start_time": "2021-07-07T14:42:28.767Z"
   },
   {
    "duration": 7,
    "start_time": "2021-07-07T14:42:29.838Z"
   },
   {
    "duration": 4,
    "start_time": "2021-07-07T14:43:25.493Z"
   },
   {
    "duration": 7,
    "start_time": "2021-07-07T14:43:26.573Z"
   },
   {
    "duration": 10,
    "start_time": "2021-07-07T14:43:31.639Z"
   },
   {
    "duration": 9,
    "start_time": "2021-07-07T14:43:32.046Z"
   },
   {
    "duration": 10,
    "start_time": "2021-07-07T14:43:33.301Z"
   },
   {
    "duration": 12,
    "start_time": "2021-07-07T14:43:33.658Z"
   },
   {
    "duration": 8,
    "start_time": "2021-07-07T14:43:34.552Z"
   },
   {
    "duration": 9,
    "start_time": "2021-07-07T14:43:35.058Z"
   },
   {
    "duration": 12,
    "start_time": "2021-07-07T14:43:35.914Z"
   },
   {
    "duration": 17,
    "start_time": "2021-07-07T14:45:34.368Z"
   },
   {
    "duration": 512,
    "start_time": "2021-07-07T14:51:58.236Z"
   },
   {
    "duration": 223,
    "start_time": "2021-07-07T14:51:58.750Z"
   },
   {
    "duration": 93,
    "start_time": "2021-07-07T14:51:58.977Z"
   },
   {
    "duration": 4,
    "start_time": "2021-07-07T14:51:59.071Z"
   },
   {
    "duration": 37,
    "start_time": "2021-07-07T14:51:59.077Z"
   },
   {
    "duration": 18,
    "start_time": "2021-07-07T14:51:59.116Z"
   },
   {
    "duration": 10,
    "start_time": "2021-07-07T14:51:59.137Z"
   },
   {
    "duration": 8,
    "start_time": "2021-07-07T14:51:59.149Z"
   },
   {
    "duration": 54,
    "start_time": "2021-07-07T14:51:59.158Z"
   },
   {
    "duration": 18,
    "start_time": "2021-07-07T14:51:59.213Z"
   },
   {
    "duration": 22,
    "start_time": "2021-07-07T14:51:59.232Z"
   },
   {
    "duration": 36,
    "start_time": "2021-07-07T14:51:59.255Z"
   },
   {
    "duration": 7,
    "start_time": "2021-07-07T14:51:59.293Z"
   },
   {
    "duration": 10,
    "start_time": "2021-07-07T14:51:59.302Z"
   },
   {
    "duration": 9,
    "start_time": "2021-07-07T14:51:59.313Z"
   },
   {
    "duration": 11,
    "start_time": "2021-07-07T14:51:59.324Z"
   },
   {
    "duration": 8,
    "start_time": "2021-07-07T14:51:59.337Z"
   },
   {
    "duration": 46,
    "start_time": "2021-07-07T14:51:59.347Z"
   },
   {
    "duration": 22,
    "start_time": "2021-07-07T14:51:59.395Z"
   },
   {
    "duration": 24,
    "start_time": "2021-07-07T14:57:32.911Z"
   },
   {
    "duration": 7,
    "start_time": "2021-07-07T14:58:22.070Z"
   },
   {
    "duration": 4,
    "start_time": "2021-07-07T14:59:11.239Z"
   },
   {
    "duration": 25,
    "start_time": "2021-07-07T15:07:22.208Z"
   },
   {
    "duration": 16,
    "start_time": "2021-07-07T15:08:25.560Z"
   },
   {
    "duration": 15,
    "start_time": "2021-07-07T15:08:40.647Z"
   },
   {
    "duration": 14,
    "start_time": "2021-07-07T15:08:46.669Z"
   },
   {
    "duration": 533,
    "start_time": "2021-07-07T15:18:07.440Z"
   },
   {
    "duration": 173,
    "start_time": "2021-07-07T15:18:07.974Z"
   },
   {
    "duration": 84,
    "start_time": "2021-07-07T15:18:08.149Z"
   },
   {
    "duration": 3,
    "start_time": "2021-07-07T15:18:08.235Z"
   },
   {
    "duration": 30,
    "start_time": "2021-07-07T15:18:08.240Z"
   },
   {
    "duration": 22,
    "start_time": "2021-07-07T15:18:08.272Z"
   },
   {
    "duration": 11,
    "start_time": "2021-07-07T15:18:08.295Z"
   },
   {
    "duration": 11,
    "start_time": "2021-07-07T15:18:08.309Z"
   },
   {
    "duration": 40,
    "start_time": "2021-07-07T15:18:08.322Z"
   },
   {
    "duration": 42,
    "start_time": "2021-07-07T15:18:08.364Z"
   },
   {
    "duration": 22,
    "start_time": "2021-07-07T15:18:08.408Z"
   },
   {
    "duration": 5,
    "start_time": "2021-07-07T15:18:08.432Z"
   },
   {
    "duration": 13,
    "start_time": "2021-07-07T15:18:08.439Z"
   },
   {
    "duration": 9,
    "start_time": "2021-07-07T15:18:08.454Z"
   },
   {
    "duration": 32,
    "start_time": "2021-07-07T15:18:08.465Z"
   },
   {
    "duration": 10,
    "start_time": "2021-07-07T15:18:08.501Z"
   },
   {
    "duration": 7,
    "start_time": "2021-07-07T15:18:08.513Z"
   },
   {
    "duration": 11,
    "start_time": "2021-07-07T15:18:08.521Z"
   },
   {
    "duration": 17,
    "start_time": "2021-07-07T15:18:08.534Z"
   },
   {
    "duration": 44,
    "start_time": "2021-07-07T15:18:08.553Z"
   },
   {
    "duration": 22,
    "start_time": "2021-07-07T15:18:08.599Z"
   },
   {
    "duration": 61,
    "start_time": "2021-07-07T15:18:08.622Z"
   },
   {
    "duration": 7,
    "start_time": "2021-07-07T15:18:39.457Z"
   },
   {
    "duration": 5,
    "start_time": "2021-07-07T16:05:17.020Z"
   },
   {
    "duration": 5,
    "start_time": "2021-07-07T16:51:28.794Z"
   },
   {
    "duration": 546,
    "start_time": "2021-07-07T16:52:26.306Z"
   },
   {
    "duration": 203,
    "start_time": "2021-07-07T16:52:27.523Z"
   },
   {
    "duration": 85,
    "start_time": "2021-07-07T16:52:27.736Z"
   },
   {
    "duration": 4,
    "start_time": "2021-07-07T16:52:27.899Z"
   },
   {
    "duration": 25,
    "start_time": "2021-07-07T16:52:28.674Z"
   },
   {
    "duration": 8,
    "start_time": "2021-07-07T16:52:32.956Z"
   },
   {
    "duration": 18,
    "start_time": "2021-07-07T16:52:35.616Z"
   },
   {
    "duration": 6,
    "start_time": "2021-07-07T16:52:36.913Z"
   },
   {
    "duration": 11,
    "start_time": "2021-07-07T16:52:40.258Z"
   },
   {
    "duration": 10,
    "start_time": "2021-07-07T16:52:46.251Z"
   },
   {
    "duration": 8,
    "start_time": "2021-07-07T16:52:47.182Z"
   },
   {
    "duration": 27,
    "start_time": "2021-07-07T16:53:20.391Z"
   },
   {
    "duration": 20,
    "start_time": "2021-07-07T16:53:22.022Z"
   },
   {
    "duration": 23,
    "start_time": "2021-07-07T16:53:23.690Z"
   },
   {
    "duration": 8,
    "start_time": "2021-07-07T16:53:24.261Z"
   },
   {
    "duration": 4,
    "start_time": "2021-07-07T16:53:38.733Z"
   },
   {
    "duration": 7,
    "start_time": "2021-07-07T16:53:40.445Z"
   },
   {
    "duration": 11,
    "start_time": "2021-07-07T16:53:41.348Z"
   },
   {
    "duration": 13,
    "start_time": "2021-07-07T16:53:45.250Z"
   },
   {
    "duration": 12,
    "start_time": "2021-07-07T16:53:45.467Z"
   },
   {
    "duration": 4,
    "start_time": "2021-07-07T16:55:32.704Z"
   },
   {
    "duration": 12,
    "start_time": "2021-07-07T16:55:49.012Z"
   },
   {
    "duration": 18,
    "start_time": "2021-07-07T16:55:49.547Z"
   },
   {
    "duration": 611,
    "start_time": "2021-07-07T16:58:35.156Z"
   },
   {
    "duration": 200,
    "start_time": "2021-07-07T16:58:35.770Z"
   },
   {
    "duration": 86,
    "start_time": "2021-07-07T16:58:35.972Z"
   },
   {
    "duration": 3,
    "start_time": "2021-07-07T16:58:36.060Z"
   },
   {
    "duration": 27,
    "start_time": "2021-07-07T16:58:36.065Z"
   },
   {
    "duration": 8,
    "start_time": "2021-07-07T16:58:36.094Z"
   },
   {
    "duration": 17,
    "start_time": "2021-07-07T16:58:36.103Z"
   },
   {
    "duration": 5,
    "start_time": "2021-07-07T16:58:36.123Z"
   },
   {
    "duration": 11,
    "start_time": "2021-07-07T16:58:36.130Z"
   },
   {
    "duration": 7,
    "start_time": "2021-07-07T16:58:36.143Z"
   },
   {
    "duration": 37,
    "start_time": "2021-07-07T16:58:36.152Z"
   },
   {
    "duration": 27,
    "start_time": "2021-07-07T16:58:36.191Z"
   },
   {
    "duration": 19,
    "start_time": "2021-07-07T16:58:36.219Z"
   },
   {
    "duration": 49,
    "start_time": "2021-07-07T16:58:36.240Z"
   },
   {
    "duration": 6,
    "start_time": "2021-07-07T16:58:36.291Z"
   },
   {
    "duration": 3,
    "start_time": "2021-07-07T16:58:36.299Z"
   },
   {
    "duration": 13,
    "start_time": "2021-07-07T16:58:36.304Z"
   },
   {
    "duration": 10,
    "start_time": "2021-07-07T16:58:36.319Z"
   },
   {
    "duration": 10,
    "start_time": "2021-07-07T16:58:36.331Z"
   },
   {
    "duration": 44,
    "start_time": "2021-07-07T16:58:36.343Z"
   },
   {
    "duration": 4,
    "start_time": "2021-07-07T16:58:36.388Z"
   },
   {
    "duration": 13,
    "start_time": "2021-07-07T16:58:36.394Z"
   },
   {
    "duration": 16,
    "start_time": "2021-07-07T16:58:36.410Z"
   },
   {
    "duration": 8,
    "start_time": "2021-07-07T17:02:31.629Z"
   },
   {
    "duration": 8,
    "start_time": "2021-07-07T17:02:34.308Z"
   },
   {
    "duration": 6,
    "start_time": "2021-07-07T17:05:13.483Z"
   },
   {
    "duration": 17,
    "start_time": "2021-07-07T17:05:20.606Z"
   },
   {
    "duration": 7,
    "start_time": "2021-07-07T17:05:34.638Z"
   },
   {
    "duration": 3,
    "start_time": "2021-07-07T17:06:31.883Z"
   },
   {
    "duration": 570,
    "start_time": "2021-07-07T17:06:37.165Z"
   },
   {
    "duration": 174,
    "start_time": "2021-07-07T17:06:37.737Z"
   },
   {
    "duration": 47,
    "start_time": "2021-07-07T17:06:37.913Z"
   },
   {
    "duration": 3,
    "start_time": "2021-07-07T17:06:37.962Z"
   },
   {
    "duration": 27,
    "start_time": "2021-07-07T17:06:37.967Z"
   },
   {
    "duration": 7,
    "start_time": "2021-07-07T17:06:37.996Z"
   },
   {
    "duration": 16,
    "start_time": "2021-07-07T17:06:38.005Z"
   },
   {
    "duration": 6,
    "start_time": "2021-07-07T17:06:38.024Z"
   },
   {
    "duration": 12,
    "start_time": "2021-07-07T17:06:38.031Z"
   },
   {
    "duration": 41,
    "start_time": "2021-07-07T17:06:38.045Z"
   },
   {
    "duration": 8,
    "start_time": "2021-07-07T17:06:38.088Z"
   },
   {
    "duration": 26,
    "start_time": "2021-07-07T17:06:38.098Z"
   },
   {
    "duration": 17,
    "start_time": "2021-07-07T17:06:38.126Z"
   },
   {
    "duration": 43,
    "start_time": "2021-07-07T17:06:38.144Z"
   },
   {
    "duration": 6,
    "start_time": "2021-07-07T17:06:38.188Z"
   },
   {
    "duration": 5,
    "start_time": "2021-07-07T17:06:38.195Z"
   },
   {
    "duration": 9,
    "start_time": "2021-07-07T17:06:38.201Z"
   },
   {
    "duration": 12,
    "start_time": "2021-07-07T17:06:38.212Z"
   },
   {
    "duration": 11,
    "start_time": "2021-07-07T17:06:38.226Z"
   },
   {
    "duration": 47,
    "start_time": "2021-07-07T17:06:38.239Z"
   },
   {
    "duration": 4,
    "start_time": "2021-07-07T17:06:38.288Z"
   },
   {
    "duration": 13,
    "start_time": "2021-07-07T17:06:38.293Z"
   },
   {
    "duration": 5,
    "start_time": "2021-07-07T17:06:38.309Z"
   },
   {
    "duration": 18,
    "start_time": "2021-07-07T17:06:38.325Z"
   },
   {
    "duration": 20,
    "start_time": "2021-07-07T17:07:02.805Z"
   },
   {
    "duration": 19,
    "start_time": "2021-07-07T17:07:08.527Z"
   },
   {
    "duration": 19,
    "start_time": "2021-07-07T17:07:12.758Z"
   },
   {
    "duration": 22,
    "start_time": "2021-07-07T17:07:17.497Z"
   },
   {
    "duration": 19,
    "start_time": "2021-07-07T17:07:19.645Z"
   },
   {
    "duration": 10,
    "start_time": "2021-07-07T17:07:34.239Z"
   },
   {
    "duration": 17,
    "start_time": "2021-07-07T17:07:54.144Z"
   },
   {
    "duration": 14,
    "start_time": "2021-07-07T17:08:14.357Z"
   },
   {
    "duration": 616,
    "start_time": "2021-07-07T17:08:45.254Z"
   },
   {
    "duration": 178,
    "start_time": "2021-07-07T17:08:45.872Z"
   },
   {
    "duration": 60,
    "start_time": "2021-07-07T17:08:46.054Z"
   },
   {
    "duration": 3,
    "start_time": "2021-07-07T17:08:46.116Z"
   },
   {
    "duration": 26,
    "start_time": "2021-07-07T17:08:46.121Z"
   },
   {
    "duration": 7,
    "start_time": "2021-07-07T17:08:46.149Z"
   },
   {
    "duration": 17,
    "start_time": "2021-07-07T17:08:46.158Z"
   },
   {
    "duration": 14,
    "start_time": "2021-07-07T17:08:46.176Z"
   },
   {
    "duration": 17,
    "start_time": "2021-07-07T17:08:46.193Z"
   },
   {
    "duration": 9,
    "start_time": "2021-07-07T17:08:46.211Z"
   },
   {
    "duration": 21,
    "start_time": "2021-07-07T17:08:46.221Z"
   },
   {
    "duration": 49,
    "start_time": "2021-07-07T17:08:46.244Z"
   },
   {
    "duration": 24,
    "start_time": "2021-07-07T17:08:46.295Z"
   },
   {
    "duration": 22,
    "start_time": "2021-07-07T17:08:46.321Z"
   },
   {
    "duration": 6,
    "start_time": "2021-07-07T17:08:46.345Z"
   },
   {
    "duration": 5,
    "start_time": "2021-07-07T17:08:46.353Z"
   },
   {
    "duration": 13,
    "start_time": "2021-07-07T17:08:46.386Z"
   },
   {
    "duration": 12,
    "start_time": "2021-07-07T17:08:46.402Z"
   },
   {
    "duration": 10,
    "start_time": "2021-07-07T17:08:46.415Z"
   },
   {
    "duration": 7,
    "start_time": "2021-07-07T17:08:46.427Z"
   },
   {
    "duration": 8,
    "start_time": "2021-07-07T17:08:46.435Z"
   },
   {
    "duration": 68,
    "start_time": "2021-07-07T17:08:46.446Z"
   },
   {
    "duration": 13,
    "start_time": "2021-07-07T17:08:46.516Z"
   },
   {
    "duration": 78,
    "start_time": "2021-07-07T17:08:46.530Z"
   },
   {
    "duration": 40,
    "start_time": "2021-07-07T17:09:08.185Z"
   },
   {
    "duration": 16,
    "start_time": "2021-07-07T17:09:19.324Z"
   },
   {
    "duration": 21,
    "start_time": "2021-07-07T17:09:23.290Z"
   },
   {
    "duration": 13,
    "start_time": "2021-07-07T17:09:54.812Z"
   },
   {
    "duration": 13,
    "start_time": "2021-07-07T17:10:02.039Z"
   },
   {
    "duration": 10,
    "start_time": "2021-07-07T17:10:29.632Z"
   },
   {
    "duration": 13,
    "start_time": "2021-07-07T17:10:52.372Z"
   },
   {
    "duration": 13,
    "start_time": "2021-07-07T17:11:17.270Z"
   },
   {
    "duration": 13,
    "start_time": "2021-07-07T17:14:59.284Z"
   },
   {
    "duration": 547,
    "start_time": "2021-07-07T17:18:52.403Z"
   },
   {
    "duration": 163,
    "start_time": "2021-07-07T17:18:52.952Z"
   },
   {
    "duration": 44,
    "start_time": "2021-07-07T17:18:53.117Z"
   },
   {
    "duration": 3,
    "start_time": "2021-07-07T17:18:53.162Z"
   },
   {
    "duration": 26,
    "start_time": "2021-07-07T17:18:53.167Z"
   },
   {
    "duration": 6,
    "start_time": "2021-07-07T17:18:53.195Z"
   },
   {
    "duration": 15,
    "start_time": "2021-07-07T17:18:53.203Z"
   },
   {
    "duration": 5,
    "start_time": "2021-07-07T17:18:53.220Z"
   },
   {
    "duration": 11,
    "start_time": "2021-07-07T17:18:53.228Z"
   },
   {
    "duration": 9,
    "start_time": "2021-07-07T17:18:53.241Z"
   },
   {
    "duration": 41,
    "start_time": "2021-07-07T17:18:53.252Z"
   },
   {
    "duration": 33,
    "start_time": "2021-07-07T17:18:53.295Z"
   },
   {
    "duration": 19,
    "start_time": "2021-07-07T17:18:53.330Z"
   },
   {
    "duration": 49,
    "start_time": "2021-07-07T17:18:53.350Z"
   },
   {
    "duration": 5,
    "start_time": "2021-07-07T17:18:53.401Z"
   },
   {
    "duration": 5,
    "start_time": "2021-07-07T17:18:53.408Z"
   },
   {
    "duration": 11,
    "start_time": "2021-07-07T17:18:53.414Z"
   },
   {
    "duration": 9,
    "start_time": "2021-07-07T17:18:53.427Z"
   },
   {
    "duration": 10,
    "start_time": "2021-07-07T17:18:53.437Z"
   },
   {
    "duration": 39,
    "start_time": "2021-07-07T17:18:53.448Z"
   },
   {
    "duration": 26,
    "start_time": "2021-07-07T17:18:55.799Z"
   },
   {
    "duration": 598,
    "start_time": "2021-07-07T17:20:17.862Z"
   },
   {
    "duration": 161,
    "start_time": "2021-07-07T17:20:18.462Z"
   },
   {
    "duration": 45,
    "start_time": "2021-07-07T17:20:18.626Z"
   },
   {
    "duration": 4,
    "start_time": "2021-07-07T17:20:18.673Z"
   },
   {
    "duration": 38,
    "start_time": "2021-07-07T17:20:26.877Z"
   },
   {
    "duration": 7,
    "start_time": "2021-07-07T17:20:37.405Z"
   },
   {
    "duration": 19,
    "start_time": "2021-07-07T17:20:51.534Z"
   },
   {
    "duration": 5,
    "start_time": "2021-07-07T17:20:57.228Z"
   },
   {
    "duration": 7,
    "start_time": "2021-07-07T17:21:08.235Z"
   },
   {
    "duration": 19,
    "start_time": "2021-07-07T17:21:42.158Z"
   },
   {
    "duration": 14,
    "start_time": "2021-07-07T17:21:50.225Z"
   },
   {
    "duration": 22,
    "start_time": "2021-07-07T17:22:54.104Z"
   },
   {
    "duration": 5,
    "start_time": "2021-07-07T17:22:56.371Z"
   },
   {
    "duration": 14,
    "start_time": "2021-07-07T17:22:58.316Z"
   },
   {
    "duration": 5,
    "start_time": "2021-07-07T17:22:58.493Z"
   },
   {
    "duration": 35,
    "start_time": "2021-07-07T17:22:59.666Z"
   },
   {
    "duration": 6,
    "start_time": "2021-07-07T17:23:02.410Z"
   },
   {
    "duration": 611,
    "start_time": "2021-07-07T17:24:59.664Z"
   },
   {
    "duration": 178,
    "start_time": "2021-07-07T17:25:01.945Z"
   },
   {
    "duration": 47,
    "start_time": "2021-07-07T17:25:02.125Z"
   },
   {
    "duration": 2,
    "start_time": "2021-07-07T17:25:07.903Z"
   },
   {
    "duration": 254,
    "start_time": "2021-07-07T17:25:08.232Z"
   },
   {
    "duration": 182,
    "start_time": "2021-07-07T17:25:08.671Z"
   },
   {
    "duration": 6,
    "start_time": "2021-07-07T17:25:13.104Z"
   },
   {
    "duration": 36,
    "start_time": "2021-07-07T17:25:13.662Z"
   },
   {
    "duration": 7,
    "start_time": "2021-07-07T17:25:14.528Z"
   },
   {
    "duration": 24,
    "start_time": "2021-07-07T17:25:27.982Z"
   },
   {
    "duration": 3,
    "start_time": "2021-07-07T17:25:48.982Z"
   },
   {
    "duration": 165,
    "start_time": "2021-07-07T17:25:48.987Z"
   },
   {
    "duration": 50,
    "start_time": "2021-07-07T17:25:49.154Z"
   },
   {
    "duration": 4,
    "start_time": "2021-07-07T17:25:49.206Z"
   },
   {
    "duration": 26,
    "start_time": "2021-07-07T17:25:49.212Z"
   },
   {
    "duration": 7,
    "start_time": "2021-07-07T17:25:49.240Z"
   },
   {
    "duration": 16,
    "start_time": "2021-07-07T17:25:49.249Z"
   },
   {
    "duration": 22,
    "start_time": "2021-07-07T17:25:49.266Z"
   },
   {
    "duration": 16,
    "start_time": "2021-07-07T17:25:49.291Z"
   },
   {
    "duration": 9,
    "start_time": "2021-07-07T17:25:49.309Z"
   },
   {
    "duration": 7,
    "start_time": "2021-07-07T17:25:49.319Z"
   },
   {
    "duration": 28,
    "start_time": "2021-07-07T17:25:49.328Z"
   },
   {
    "duration": 44,
    "start_time": "2021-07-07T17:25:49.357Z"
   },
   {
    "duration": 22,
    "start_time": "2021-07-07T17:25:49.403Z"
   },
   {
    "duration": 7,
    "start_time": "2021-07-07T17:25:49.427Z"
   },
   {
    "duration": 3,
    "start_time": "2021-07-07T17:25:49.436Z"
   },
   {
    "duration": 44,
    "start_time": "2021-07-07T17:25:49.441Z"
   },
   {
    "duration": 12,
    "start_time": "2021-07-07T17:25:49.488Z"
   },
   {
    "duration": 13,
    "start_time": "2021-07-07T17:25:49.502Z"
   },
   {
    "duration": 10,
    "start_time": "2021-07-07T17:25:49.516Z"
   },
   {
    "duration": 62,
    "start_time": "2021-07-07T17:25:49.527Z"
   },
   {
    "duration": 26,
    "start_time": "2021-07-07T17:26:51.809Z"
   },
   {
    "duration": 26,
    "start_time": "2021-07-07T17:26:55.759Z"
   },
   {
    "duration": 26,
    "start_time": "2021-07-07T17:27:04.501Z"
   },
   {
    "duration": 25,
    "start_time": "2021-07-07T17:28:24.859Z"
   },
   {
    "duration": 21,
    "start_time": "2021-07-07T17:28:55.250Z"
   },
   {
    "duration": 21,
    "start_time": "2021-07-07T17:28:58.885Z"
   },
   {
    "duration": 7,
    "start_time": "2021-07-07T17:45:40.972Z"
   },
   {
    "duration": 13,
    "start_time": "2021-07-07T17:45:42.529Z"
   },
   {
    "duration": 27,
    "start_time": "2021-07-07T17:45:51.026Z"
   },
   {
    "duration": 518,
    "start_time": "2021-07-07T17:46:15.532Z"
   },
   {
    "duration": 235,
    "start_time": "2021-07-07T17:46:16.053Z"
   },
   {
    "duration": 80,
    "start_time": "2021-07-07T17:46:16.292Z"
   },
   {
    "duration": 5,
    "start_time": "2021-07-07T17:46:16.373Z"
   },
   {
    "duration": 26,
    "start_time": "2021-07-07T17:46:16.380Z"
   },
   {
    "duration": 7,
    "start_time": "2021-07-07T17:46:16.408Z"
   },
   {
    "duration": 16,
    "start_time": "2021-07-07T17:46:16.418Z"
   },
   {
    "duration": 5,
    "start_time": "2021-07-07T17:46:16.436Z"
   },
   {
    "duration": 13,
    "start_time": "2021-07-07T17:46:16.442Z"
   },
   {
    "duration": 35,
    "start_time": "2021-07-07T17:46:16.456Z"
   },
   {
    "duration": 8,
    "start_time": "2021-07-07T17:46:16.493Z"
   },
   {
    "duration": 28,
    "start_time": "2021-07-07T17:46:16.502Z"
   },
   {
    "duration": 17,
    "start_time": "2021-07-07T17:46:16.532Z"
   },
   {
    "duration": 44,
    "start_time": "2021-07-07T17:46:16.551Z"
   },
   {
    "duration": 6,
    "start_time": "2021-07-07T17:46:16.597Z"
   },
   {
    "duration": 4,
    "start_time": "2021-07-07T17:46:16.605Z"
   },
   {
    "duration": 9,
    "start_time": "2021-07-07T17:46:16.610Z"
   },
   {
    "duration": 9,
    "start_time": "2021-07-07T17:46:16.621Z"
   },
   {
    "duration": 10,
    "start_time": "2021-07-07T17:46:16.632Z"
   },
   {
    "duration": 43,
    "start_time": "2021-07-07T17:46:16.644Z"
   },
   {
    "duration": 26,
    "start_time": "2021-07-07T17:46:16.689Z"
   },
   {
    "duration": 19,
    "start_time": "2021-07-07T17:46:16.718Z"
   },
   {
    "duration": 8,
    "start_time": "2021-07-07T17:46:16.738Z"
   },
   {
    "duration": 43,
    "start_time": "2021-07-07T17:46:16.747Z"
   },
   {
    "duration": 19,
    "start_time": "2021-07-07T17:46:16.791Z"
   },
   {
    "duration": 9,
    "start_time": "2021-07-07T17:46:16.812Z"
   },
   {
    "duration": 60,
    "start_time": "2021-07-07T17:46:16.822Z"
   },
   {
    "duration": -8,
    "start_time": "2021-07-07T17:46:16.892Z"
   },
   {
    "duration": 12,
    "start_time": "2021-07-07T17:48:47.707Z"
   },
   {
    "duration": 553,
    "start_time": "2021-07-07T18:10:09.350Z"
   },
   {
    "duration": 230,
    "start_time": "2021-07-07T18:10:09.905Z"
   },
   {
    "duration": 97,
    "start_time": "2021-07-07T18:10:10.137Z"
   },
   {
    "duration": 5,
    "start_time": "2021-07-07T18:10:10.236Z"
   },
   {
    "duration": 29,
    "start_time": "2021-07-07T18:10:10.242Z"
   },
   {
    "duration": 7,
    "start_time": "2021-07-07T18:10:10.272Z"
   },
   {
    "duration": 15,
    "start_time": "2021-07-07T18:10:10.281Z"
   },
   {
    "duration": 4,
    "start_time": "2021-07-07T18:10:10.299Z"
   },
   {
    "duration": 14,
    "start_time": "2021-07-07T18:10:10.305Z"
   },
   {
    "duration": 8,
    "start_time": "2021-07-07T18:10:10.321Z"
   },
   {
    "duration": 8,
    "start_time": "2021-07-07T18:10:10.331Z"
   },
   {
    "duration": 56,
    "start_time": "2021-07-07T18:10:10.341Z"
   },
   {
    "duration": 19,
    "start_time": "2021-07-07T18:10:10.399Z"
   },
   {
    "duration": 23,
    "start_time": "2021-07-07T18:10:10.419Z"
   },
   {
    "duration": 6,
    "start_time": "2021-07-07T18:10:10.444Z"
   },
   {
    "duration": 9,
    "start_time": "2021-07-07T18:10:10.451Z"
   },
   {
    "duration": 30,
    "start_time": "2021-07-07T18:10:10.462Z"
   },
   {
    "duration": 9,
    "start_time": "2021-07-07T18:10:10.494Z"
   },
   {
    "duration": 14,
    "start_time": "2021-07-07T18:10:10.505Z"
   },
   {
    "duration": 7,
    "start_time": "2021-07-07T18:10:10.521Z"
   },
   {
    "duration": 26,
    "start_time": "2021-07-07T18:10:10.530Z"
   },
   {
    "duration": 44,
    "start_time": "2021-07-07T18:10:10.558Z"
   },
   {
    "duration": 7,
    "start_time": "2021-07-07T18:10:10.605Z"
   },
   {
    "duration": 11,
    "start_time": "2021-07-07T18:10:10.614Z"
   },
   {
    "duration": 19,
    "start_time": "2021-07-07T18:10:10.626Z"
   },
   {
    "duration": 44,
    "start_time": "2021-07-07T18:10:10.646Z"
   },
   {
    "duration": 516,
    "start_time": "2021-07-07T18:14:00.826Z"
   },
   {
    "duration": 230,
    "start_time": "2021-07-07T18:14:01.344Z"
   },
   {
    "duration": 105,
    "start_time": "2021-07-07T18:14:01.576Z"
   },
   {
    "duration": 5,
    "start_time": "2021-07-07T18:14:01.683Z"
   },
   {
    "duration": 46,
    "start_time": "2021-07-07T18:14:01.690Z"
   },
   {
    "duration": 7,
    "start_time": "2021-07-07T18:14:01.738Z"
   },
   {
    "duration": 20,
    "start_time": "2021-07-07T18:14:01.747Z"
   },
   {
    "duration": 16,
    "start_time": "2021-07-07T18:14:01.769Z"
   },
   {
    "duration": 14,
    "start_time": "2021-07-07T18:14:01.787Z"
   },
   {
    "duration": 15,
    "start_time": "2021-07-07T18:14:01.803Z"
   },
   {
    "duration": 12,
    "start_time": "2021-07-07T18:14:01.820Z"
   },
   {
    "duration": 35,
    "start_time": "2021-07-07T18:14:01.833Z"
   },
   {
    "duration": 31,
    "start_time": "2021-07-07T18:14:01.869Z"
   },
   {
    "duration": 37,
    "start_time": "2021-07-07T18:14:01.902Z"
   },
   {
    "duration": 8,
    "start_time": "2021-07-07T18:14:01.942Z"
   },
   {
    "duration": 16,
    "start_time": "2021-07-07T18:14:01.952Z"
   },
   {
    "duration": 13,
    "start_time": "2021-07-07T18:14:01.970Z"
   },
   {
    "duration": 32,
    "start_time": "2021-07-07T18:14:01.985Z"
   },
   {
    "duration": 11,
    "start_time": "2021-07-07T18:14:02.019Z"
   },
   {
    "duration": 22,
    "start_time": "2021-07-07T18:14:02.031Z"
   },
   {
    "duration": 27,
    "start_time": "2021-07-07T18:14:02.055Z"
   },
   {
    "duration": 18,
    "start_time": "2021-07-07T18:14:02.084Z"
   },
   {
    "duration": 18,
    "start_time": "2021-07-07T18:14:02.106Z"
   },
   {
    "duration": 11,
    "start_time": "2021-07-07T18:14:02.126Z"
   },
   {
    "duration": 21,
    "start_time": "2021-07-07T18:14:02.138Z"
   },
   {
    "duration": 32,
    "start_time": "2021-07-07T18:14:02.161Z"
   },
   {
    "duration": 28,
    "start_time": "2021-07-07T18:14:44.295Z"
   },
   {
    "duration": 6,
    "start_time": "2021-07-07T18:15:05.834Z"
   },
   {
    "duration": 511,
    "start_time": "2021-07-07T18:15:41.541Z"
   },
   {
    "duration": 183,
    "start_time": "2021-07-07T18:15:42.054Z"
   },
   {
    "duration": 50,
    "start_time": "2021-07-07T18:15:42.239Z"
   },
   {
    "duration": 5,
    "start_time": "2021-07-07T18:15:42.291Z"
   },
   {
    "duration": 48,
    "start_time": "2021-07-07T18:15:42.297Z"
   },
   {
    "duration": 8,
    "start_time": "2021-07-07T18:15:42.346Z"
   },
   {
    "duration": 17,
    "start_time": "2021-07-07T18:15:42.356Z"
   },
   {
    "duration": 15,
    "start_time": "2021-07-07T18:15:42.375Z"
   },
   {
    "duration": 12,
    "start_time": "2021-07-07T18:15:42.392Z"
   },
   {
    "duration": 7,
    "start_time": "2021-07-07T18:15:42.406Z"
   },
   {
    "duration": 7,
    "start_time": "2021-07-07T18:15:42.415Z"
   },
   {
    "duration": 29,
    "start_time": "2021-07-07T18:15:42.423Z"
   },
   {
    "duration": 43,
    "start_time": "2021-07-07T18:15:42.453Z"
   },
   {
    "duration": 18,
    "start_time": "2021-07-07T18:15:42.497Z"
   },
   {
    "duration": 6,
    "start_time": "2021-07-07T18:15:42.516Z"
   },
   {
    "duration": 3,
    "start_time": "2021-07-07T18:15:42.523Z"
   },
   {
    "duration": 18,
    "start_time": "2021-07-07T18:15:42.528Z"
   },
   {
    "duration": 10,
    "start_time": "2021-07-07T18:15:42.547Z"
   },
   {
    "duration": 36,
    "start_time": "2021-07-07T18:15:42.559Z"
   },
   {
    "duration": 8,
    "start_time": "2021-07-07T18:15:42.597Z"
   },
   {
    "duration": 28,
    "start_time": "2021-07-07T18:15:42.606Z"
   },
   {
    "duration": 52,
    "start_time": "2021-07-07T18:15:42.635Z"
   },
   {
    "duration": 7,
    "start_time": "2021-07-07T18:15:42.690Z"
   },
   {
    "duration": 10,
    "start_time": "2021-07-07T18:15:42.699Z"
   },
   {
    "duration": 19,
    "start_time": "2021-07-07T18:15:42.711Z"
   },
   {
    "duration": 9,
    "start_time": "2021-07-07T18:15:42.732Z"
   },
   {
    "duration": 5,
    "start_time": "2021-07-07T18:15:42.743Z"
   },
   {
    "duration": 1450,
    "start_time": "2021-07-07T18:15:51.984Z"
   },
   {
    "duration": 161,
    "start_time": "2021-07-07T18:15:53.435Z"
   },
   {
    "duration": 124,
    "start_time": "2021-07-07T18:15:53.598Z"
   },
   {
    "duration": 5,
    "start_time": "2021-07-07T18:15:53.724Z"
   },
   {
    "duration": 34,
    "start_time": "2021-07-07T18:15:53.730Z"
   },
   {
    "duration": 7,
    "start_time": "2021-07-07T18:15:53.765Z"
   },
   {
    "duration": 15,
    "start_time": "2021-07-07T18:15:53.773Z"
   },
   {
    "duration": 5,
    "start_time": "2021-07-07T18:15:53.791Z"
   },
   {
    "duration": 19,
    "start_time": "2021-07-07T18:15:53.798Z"
   },
   {
    "duration": 9,
    "start_time": "2021-07-07T18:15:53.818Z"
   },
   {
    "duration": 19,
    "start_time": "2021-07-07T18:15:53.828Z"
   },
   {
    "duration": 27,
    "start_time": "2021-07-07T18:15:53.848Z"
   },
   {
    "duration": 16,
    "start_time": "2021-07-07T18:15:53.884Z"
   },
   {
    "duration": 29,
    "start_time": "2021-07-07T18:15:53.901Z"
   },
   {
    "duration": 5,
    "start_time": "2021-07-07T18:15:53.932Z"
   },
   {
    "duration": 15,
    "start_time": "2021-07-07T18:15:53.939Z"
   },
   {
    "duration": 13,
    "start_time": "2021-07-07T18:15:53.956Z"
   },
   {
    "duration": 20,
    "start_time": "2021-07-07T18:15:53.971Z"
   },
   {
    "duration": 14,
    "start_time": "2021-07-07T18:15:53.992Z"
   },
   {
    "duration": 9,
    "start_time": "2021-07-07T18:15:54.009Z"
   },
   {
    "duration": 28,
    "start_time": "2021-07-07T18:15:54.020Z"
   },
   {
    "duration": 50,
    "start_time": "2021-07-07T18:15:54.051Z"
   },
   {
    "duration": 8,
    "start_time": "2021-07-07T18:15:54.105Z"
   },
   {
    "duration": 11,
    "start_time": "2021-07-07T18:15:54.115Z"
   },
   {
    "duration": 20,
    "start_time": "2021-07-07T18:15:54.128Z"
   },
   {
    "duration": 13,
    "start_time": "2021-07-07T18:15:54.184Z"
   },
   {
    "duration": 7,
    "start_time": "2021-07-07T18:15:54.199Z"
   },
   {
    "duration": 7,
    "start_time": "2021-07-07T18:17:08.042Z"
   },
   {
    "duration": 8,
    "start_time": "2021-07-07T18:17:21.008Z"
   },
   {
    "duration": 7,
    "start_time": "2021-07-07T18:17:29.003Z"
   },
   {
    "duration": 8,
    "start_time": "2021-07-07T18:17:32.492Z"
   },
   {
    "duration": 9,
    "start_time": "2021-07-07T18:17:41.758Z"
   },
   {
    "duration": 255,
    "start_time": "2021-07-07T18:20:20.897Z"
   },
   {
    "duration": 173,
    "start_time": "2021-07-07T18:20:26.636Z"
   },
   {
    "duration": 7,
    "start_time": "2021-07-07T18:21:47.164Z"
   },
   {
    "duration": 254,
    "start_time": "2021-07-07T18:23:08.703Z"
   },
   {
    "duration": 21,
    "start_time": "2021-07-07T18:23:22.506Z"
   },
   {
    "duration": 315,
    "start_time": "2021-07-07T18:25:54.801Z"
   },
   {
    "duration": 34,
    "start_time": "2021-07-07T18:26:51.817Z"
   },
   {
    "duration": 327,
    "start_time": "2021-07-07T18:26:56.147Z"
   },
   {
    "duration": 342,
    "start_time": "2021-07-07T18:27:15.887Z"
   },
   {
    "duration": 302,
    "start_time": "2021-07-07T18:28:18.569Z"
   },
   {
    "duration": 226,
    "start_time": "2021-07-07T18:29:20.879Z"
   },
   {
    "duration": 207,
    "start_time": "2021-07-07T18:29:58.114Z"
   },
   {
    "duration": 140,
    "start_time": "2021-07-07T18:32:04.372Z"
   },
   {
    "duration": 158,
    "start_time": "2021-07-07T18:32:32.508Z"
   },
   {
    "duration": 145,
    "start_time": "2021-07-07T18:32:41.365Z"
   },
   {
    "duration": 132,
    "start_time": "2021-07-07T18:32:45.199Z"
   },
   {
    "duration": 11,
    "start_time": "2021-07-07T18:35:24.679Z"
   },
   {
    "duration": 268,
    "start_time": "2021-07-07T18:36:16.145Z"
   },
   {
    "duration": 227,
    "start_time": "2021-07-07T18:37:04.918Z"
   },
   {
    "duration": 3,
    "start_time": "2021-07-07T18:37:33.012Z"
   },
   {
    "duration": 671,
    "start_time": "2021-07-07T18:37:38.295Z"
   },
   {
    "duration": 54,
    "start_time": "2021-07-07T18:37:53.406Z"
   },
   {
    "duration": 631,
    "start_time": "2021-07-07T18:37:56.463Z"
   },
   {
    "duration": 19,
    "start_time": "2021-07-07T18:39:40.535Z"
   },
   {
    "duration": 20,
    "start_time": "2021-07-07T18:40:12.236Z"
   },
   {
    "duration": 633,
    "start_time": "2021-07-07T18:42:00.398Z"
   },
   {
    "duration": 218,
    "start_time": "2021-07-07T18:42:01.033Z"
   },
   {
    "duration": 49,
    "start_time": "2021-07-07T18:42:01.253Z"
   },
   {
    "duration": 5,
    "start_time": "2021-07-07T18:42:01.303Z"
   },
   {
    "duration": 27,
    "start_time": "2021-07-07T18:42:01.310Z"
   },
   {
    "duration": 8,
    "start_time": "2021-07-07T18:42:01.339Z"
   },
   {
    "duration": 20,
    "start_time": "2021-07-07T18:42:01.348Z"
   },
   {
    "duration": 6,
    "start_time": "2021-07-07T18:42:01.386Z"
   },
   {
    "duration": 16,
    "start_time": "2021-07-07T18:42:01.394Z"
   },
   {
    "duration": 9,
    "start_time": "2021-07-07T18:42:01.411Z"
   },
   {
    "duration": 11,
    "start_time": "2021-07-07T18:42:01.421Z"
   },
   {
    "duration": 31,
    "start_time": "2021-07-07T18:42:01.434Z"
   },
   {
    "duration": 18,
    "start_time": "2021-07-07T18:42:01.485Z"
   },
   {
    "duration": 23,
    "start_time": "2021-07-07T18:42:01.505Z"
   },
   {
    "duration": 6,
    "start_time": "2021-07-07T18:42:01.530Z"
   },
   {
    "duration": 10,
    "start_time": "2021-07-07T18:42:01.538Z"
   },
   {
    "duration": 13,
    "start_time": "2021-07-07T18:42:01.550Z"
   },
   {
    "duration": 24,
    "start_time": "2021-07-07T18:42:01.564Z"
   },
   {
    "duration": 20,
    "start_time": "2021-07-07T18:42:01.590Z"
   },
   {
    "duration": 8,
    "start_time": "2021-07-07T18:42:01.611Z"
   },
   {
    "duration": 31,
    "start_time": "2021-07-07T18:42:01.620Z"
   },
   {
    "duration": 39,
    "start_time": "2021-07-07T18:42:01.653Z"
   },
   {
    "duration": 8,
    "start_time": "2021-07-07T18:42:01.696Z"
   },
   {
    "duration": 13,
    "start_time": "2021-07-07T18:42:01.705Z"
   },
   {
    "duration": 20,
    "start_time": "2021-07-07T18:42:01.720Z"
   },
   {
    "duration": 12,
    "start_time": "2021-07-07T18:42:01.741Z"
   },
   {
    "duration": 35,
    "start_time": "2021-07-07T18:42:01.755Z"
   },
   {
    "duration": 14,
    "start_time": "2021-07-07T18:42:01.792Z"
   },
   {
    "duration": 188,
    "start_time": "2021-07-07T18:42:01.808Z"
   },
   {
    "duration": 19,
    "start_time": "2021-07-07T18:42:01.998Z"
   },
   {
    "duration": 175,
    "start_time": "2021-07-07T18:42:02.019Z"
   },
   {
    "duration": 134,
    "start_time": "2021-07-07T18:42:02.196Z"
   },
   {
    "duration": 10,
    "start_time": "2021-07-07T18:42:02.331Z"
   },
   {
    "duration": 19,
    "start_time": "2021-07-07T18:42:02.343Z"
   },
   {
    "duration": 628,
    "start_time": "2021-07-07T18:46:30.701Z"
   },
   {
    "duration": 183,
    "start_time": "2021-07-07T18:46:31.331Z"
   },
   {
    "duration": 48,
    "start_time": "2021-07-07T18:46:31.516Z"
   },
   {
    "duration": 5,
    "start_time": "2021-07-07T18:46:31.566Z"
   },
   {
    "duration": 28,
    "start_time": "2021-07-07T18:46:31.572Z"
   },
   {
    "duration": 8,
    "start_time": "2021-07-07T18:46:31.602Z"
   },
   {
    "duration": 19,
    "start_time": "2021-07-07T18:46:31.611Z"
   },
   {
    "duration": 6,
    "start_time": "2021-07-07T18:46:31.633Z"
   },
   {
    "duration": 17,
    "start_time": "2021-07-07T18:46:31.642Z"
   },
   {
    "duration": 10,
    "start_time": "2021-07-07T18:46:31.684Z"
   },
   {
    "duration": 9,
    "start_time": "2021-07-07T18:46:31.695Z"
   },
   {
    "duration": 28,
    "start_time": "2021-07-07T18:46:31.705Z"
   },
   {
    "duration": 18,
    "start_time": "2021-07-07T18:46:31.735Z"
   },
   {
    "duration": 48,
    "start_time": "2021-07-07T18:46:31.755Z"
   },
   {
    "duration": 6,
    "start_time": "2021-07-07T18:46:31.804Z"
   },
   {
    "duration": 4,
    "start_time": "2021-07-07T18:46:31.812Z"
   },
   {
    "duration": 9,
    "start_time": "2021-07-07T18:46:31.817Z"
   },
   {
    "duration": 10,
    "start_time": "2021-07-07T18:46:31.827Z"
   },
   {
    "duration": 12,
    "start_time": "2021-07-07T18:46:31.838Z"
   },
   {
    "duration": 39,
    "start_time": "2021-07-07T18:46:31.851Z"
   },
   {
    "duration": 24,
    "start_time": "2021-07-07T18:46:31.892Z"
   },
   {
    "duration": 15,
    "start_time": "2021-07-07T18:46:31.918Z"
   },
   {
    "duration": 7,
    "start_time": "2021-07-07T18:46:31.936Z"
   },
   {
    "duration": 8,
    "start_time": "2021-07-07T18:46:31.944Z"
   },
   {
    "duration": 19,
    "start_time": "2021-07-07T18:46:31.984Z"
   },
   {
    "duration": 10,
    "start_time": "2021-07-07T18:46:32.004Z"
   },
   {
    "duration": 5,
    "start_time": "2021-07-07T18:46:32.016Z"
   },
   {
    "duration": 9,
    "start_time": "2021-07-07T18:46:32.023Z"
   },
   {
    "duration": 199,
    "start_time": "2021-07-07T18:46:32.033Z"
   },
   {
    "duration": 19,
    "start_time": "2021-07-07T18:46:32.234Z"
   },
   {
    "duration": 159,
    "start_time": "2021-07-07T18:46:32.255Z"
   },
   {
    "duration": 134,
    "start_time": "2021-07-07T18:46:32.416Z"
   },
   {
    "duration": 10,
    "start_time": "2021-07-07T18:46:32.552Z"
   },
   {
    "duration": 34,
    "start_time": "2021-07-07T18:46:32.563Z"
   },
   {
    "duration": 1039,
    "start_time": "2021-07-08T08:41:09.419Z"
   },
   {
    "duration": 333,
    "start_time": "2021-07-08T08:41:10.459Z"
   },
   {
    "duration": 173,
    "start_time": "2021-07-08T08:41:10.794Z"
   },
   {
    "duration": 5,
    "start_time": "2021-07-08T08:41:10.968Z"
   },
   {
    "duration": 25,
    "start_time": "2021-07-08T08:41:10.975Z"
   },
   {
    "duration": 9,
    "start_time": "2021-07-08T08:41:11.002Z"
   },
   {
    "duration": 18,
    "start_time": "2021-07-08T08:41:11.013Z"
   },
   {
    "duration": 6,
    "start_time": "2021-07-08T08:41:11.033Z"
   },
   {
    "duration": 44,
    "start_time": "2021-07-08T08:41:11.042Z"
   },
   {
    "duration": 10,
    "start_time": "2021-07-08T08:41:11.088Z"
   },
   {
    "duration": 9,
    "start_time": "2021-07-08T08:41:11.100Z"
   },
   {
    "duration": 27,
    "start_time": "2021-07-08T08:41:11.111Z"
   },
   {
    "duration": 46,
    "start_time": "2021-07-08T08:41:11.140Z"
   },
   {
    "duration": 17,
    "start_time": "2021-07-08T08:41:11.187Z"
   },
   {
    "duration": 6,
    "start_time": "2021-07-08T08:41:11.206Z"
   },
   {
    "duration": 5,
    "start_time": "2021-07-08T08:41:11.213Z"
   },
   {
    "duration": 10,
    "start_time": "2021-07-08T08:41:11.219Z"
   },
   {
    "duration": 9,
    "start_time": "2021-07-08T08:41:11.230Z"
   },
   {
    "duration": 45,
    "start_time": "2021-07-08T08:41:11.241Z"
   },
   {
    "duration": 7,
    "start_time": "2021-07-08T08:41:11.287Z"
   },
   {
    "duration": 24,
    "start_time": "2021-07-08T08:41:11.296Z"
   },
   {
    "duration": 16,
    "start_time": "2021-07-08T08:41:11.322Z"
   },
   {
    "duration": 7,
    "start_time": "2021-07-08T08:41:11.341Z"
   },
   {
    "duration": 41,
    "start_time": "2021-07-08T08:41:11.349Z"
   },
   {
    "duration": 17,
    "start_time": "2021-07-08T08:41:11.391Z"
   },
   {
    "duration": 9,
    "start_time": "2021-07-08T08:41:11.410Z"
   },
   {
    "duration": 5,
    "start_time": "2021-07-08T08:41:11.421Z"
   },
   {
    "duration": 6,
    "start_time": "2021-07-08T08:41:11.428Z"
   },
   {
    "duration": 198,
    "start_time": "2021-07-08T08:41:11.435Z"
   },
   {
    "duration": 18,
    "start_time": "2021-07-08T08:41:11.635Z"
   },
   {
    "duration": 155,
    "start_time": "2021-07-08T08:41:11.655Z"
   },
   {
    "duration": 138,
    "start_time": "2021-07-08T08:41:11.811Z"
   },
   {
    "duration": 10,
    "start_time": "2021-07-08T08:41:11.950Z"
   },
   {
    "duration": 29,
    "start_time": "2021-07-08T08:41:11.961Z"
   },
   {
    "duration": 171,
    "start_time": "2021-07-08T08:47:44.522Z"
   },
   {
    "duration": 124,
    "start_time": "2021-07-08T08:47:46.872Z"
   },
   {
    "duration": 191,
    "start_time": "2021-07-08T08:47:58.148Z"
   },
   {
    "duration": 191,
    "start_time": "2021-07-08T08:48:07.412Z"
   },
   {
    "duration": 261,
    "start_time": "2021-07-08T08:48:10.385Z"
   },
   {
    "duration": 255,
    "start_time": "2021-07-08T08:48:14.494Z"
   },
   {
    "duration": 219,
    "start_time": "2021-07-08T08:48:22.752Z"
   },
   {
    "duration": 173,
    "start_time": "2021-07-08T08:49:06.395Z"
   },
   {
    "duration": 180,
    "start_time": "2021-07-08T08:49:21.011Z"
   },
   {
    "duration": 6,
    "start_time": "2021-07-08T08:50:31.697Z"
   },
   {
    "duration": 10,
    "start_time": "2021-07-08T08:50:47.394Z"
   },
   {
    "duration": 11,
    "start_time": "2021-07-08T08:53:49.332Z"
   },
   {
    "duration": 171,
    "start_time": "2021-07-08T08:54:28.408Z"
   },
   {
    "duration": 636,
    "start_time": "2021-07-08T09:02:48.385Z"
   },
   {
    "duration": 227,
    "start_time": "2021-07-08T09:02:49.023Z"
   },
   {
    "duration": 104,
    "start_time": "2021-07-08T09:02:49.252Z"
   },
   {
    "duration": 5,
    "start_time": "2021-07-08T09:02:49.358Z"
   },
   {
    "duration": 27,
    "start_time": "2021-07-08T09:02:49.365Z"
   },
   {
    "duration": 8,
    "start_time": "2021-07-08T09:02:49.394Z"
   },
   {
    "duration": 18,
    "start_time": "2021-07-08T09:02:49.404Z"
   },
   {
    "duration": 6,
    "start_time": "2021-07-08T09:02:49.424Z"
   },
   {
    "duration": 11,
    "start_time": "2021-07-08T09:02:49.433Z"
   },
   {
    "duration": 13,
    "start_time": "2021-07-08T09:02:49.485Z"
   },
   {
    "duration": 9,
    "start_time": "2021-07-08T09:02:49.500Z"
   },
   {
    "duration": 38,
    "start_time": "2021-07-08T09:02:49.511Z"
   },
   {
    "duration": 42,
    "start_time": "2021-07-08T09:02:49.551Z"
   },
   {
    "duration": 21,
    "start_time": "2021-07-08T09:02:49.594Z"
   },
   {
    "duration": 6,
    "start_time": "2021-07-08T09:02:49.616Z"
   },
   {
    "duration": 3,
    "start_time": "2021-07-08T09:02:49.623Z"
   },
   {
    "duration": 9,
    "start_time": "2021-07-08T09:02:49.628Z"
   },
   {
    "duration": 52,
    "start_time": "2021-07-08T09:02:49.638Z"
   },
   {
    "duration": 11,
    "start_time": "2021-07-08T09:02:49.692Z"
   },
   {
    "duration": 8,
    "start_time": "2021-07-08T09:02:49.704Z"
   },
   {
    "duration": 27,
    "start_time": "2021-07-08T09:02:49.713Z"
   },
   {
    "duration": 59,
    "start_time": "2021-07-08T09:02:49.741Z"
   },
   {
    "duration": 8,
    "start_time": "2021-07-08T09:02:49.803Z"
   },
   {
    "duration": 14,
    "start_time": "2021-07-08T09:02:49.813Z"
   },
   {
    "duration": 20,
    "start_time": "2021-07-08T09:02:49.829Z"
   },
   {
    "duration": 44,
    "start_time": "2021-07-08T09:02:49.851Z"
   },
   {
    "duration": 14,
    "start_time": "2021-07-08T09:02:49.896Z"
   },
   {
    "duration": 221,
    "start_time": "2021-07-08T09:02:49.912Z"
   },
   {
    "duration": 6,
    "start_time": "2021-07-08T09:02:50.134Z"
   },
   {
    "duration": 206,
    "start_time": "2021-07-08T09:02:50.142Z"
   },
   {
    "duration": 19,
    "start_time": "2021-07-08T09:02:50.350Z"
   },
   {
    "duration": 21,
    "start_time": "2021-07-08T09:02:50.370Z"
   },
   {
    "duration": 20,
    "start_time": "2021-07-08T09:02:50.393Z"
   },
   {
    "duration": 5,
    "start_time": "2021-07-08T09:02:50.414Z"
   },
   {
    "duration": 5,
    "start_time": "2021-07-08T09:03:34.173Z"
   },
   {
    "duration": 6,
    "start_time": "2021-07-08T09:04:49.062Z"
   },
   {
    "duration": 9,
    "start_time": "2021-07-08T09:04:50.118Z"
   },
   {
    "duration": 14,
    "start_time": "2021-07-08T09:04:58.512Z"
   },
   {
    "duration": 9,
    "start_time": "2021-07-08T09:05:10.988Z"
   },
   {
    "duration": 11,
    "start_time": "2021-07-08T09:05:11.743Z"
   },
   {
    "duration": 7,
    "start_time": "2021-07-08T09:05:25.677Z"
   },
   {
    "duration": 13,
    "start_time": "2021-07-08T09:05:47.189Z"
   },
   {
    "duration": 13,
    "start_time": "2021-07-08T09:05:54.755Z"
   },
   {
    "duration": 4,
    "start_time": "2021-07-08T09:06:29.189Z"
   },
   {
    "duration": 244,
    "start_time": "2021-07-08T09:06:29.195Z"
   },
   {
    "duration": 91,
    "start_time": "2021-07-08T09:06:29.441Z"
   },
   {
    "duration": 4,
    "start_time": "2021-07-08T09:06:29.534Z"
   },
   {
    "duration": 28,
    "start_time": "2021-07-08T09:06:29.540Z"
   },
   {
    "duration": 6,
    "start_time": "2021-07-08T09:06:29.570Z"
   },
   {
    "duration": 18,
    "start_time": "2021-07-08T09:06:29.578Z"
   },
   {
    "duration": 5,
    "start_time": "2021-07-08T09:06:29.597Z"
   },
   {
    "duration": 13,
    "start_time": "2021-07-08T09:06:29.605Z"
   },
   {
    "duration": 8,
    "start_time": "2021-07-08T09:06:29.620Z"
   },
   {
    "duration": 7,
    "start_time": "2021-07-08T09:06:29.630Z"
   },
   {
    "duration": 63,
    "start_time": "2021-07-08T09:06:29.639Z"
   },
   {
    "duration": 17,
    "start_time": "2021-07-08T09:06:29.704Z"
   },
   {
    "duration": 20,
    "start_time": "2021-07-08T09:06:29.723Z"
   },
   {
    "duration": 6,
    "start_time": "2021-07-08T09:06:29.745Z"
   },
   {
    "duration": 3,
    "start_time": "2021-07-08T09:06:29.752Z"
   },
   {
    "duration": 7,
    "start_time": "2021-07-08T09:06:29.785Z"
   },
   {
    "duration": 11,
    "start_time": "2021-07-08T09:06:29.794Z"
   },
   {
    "duration": 15,
    "start_time": "2021-07-08T09:06:29.807Z"
   },
   {
    "duration": 8,
    "start_time": "2021-07-08T09:06:29.823Z"
   },
   {
    "duration": 70,
    "start_time": "2021-07-08T09:06:29.832Z"
   },
   {
    "duration": 17,
    "start_time": "2021-07-08T09:06:29.903Z"
   },
   {
    "duration": 9,
    "start_time": "2021-07-08T09:06:29.921Z"
   },
   {
    "duration": 9,
    "start_time": "2021-07-08T09:06:29.932Z"
   },
   {
    "duration": 57,
    "start_time": "2021-07-08T09:06:29.942Z"
   },
   {
    "duration": 11,
    "start_time": "2021-07-08T09:06:30.001Z"
   },
   {
    "duration": 19,
    "start_time": "2021-07-08T09:06:30.016Z"
   },
   {
    "duration": 217,
    "start_time": "2021-07-08T09:06:30.037Z"
   },
   {
    "duration": 6,
    "start_time": "2021-07-08T09:06:30.255Z"
   },
   {
    "duration": 205,
    "start_time": "2021-07-08T09:06:30.263Z"
   },
   {
    "duration": 27,
    "start_time": "2021-07-08T09:06:30.470Z"
   },
   {
    "duration": 11,
    "start_time": "2021-07-08T09:06:30.500Z"
   },
   {
    "duration": 31,
    "start_time": "2021-07-08T09:06:30.513Z"
   },
   {
    "duration": 18,
    "start_time": "2021-07-08T09:06:30.546Z"
   },
   {
    "duration": 11,
    "start_time": "2021-07-08T09:06:30.566Z"
   },
   {
    "duration": 19,
    "start_time": "2021-07-08T09:06:30.579Z"
   },
   {
    "duration": 20,
    "start_time": "2021-07-08T09:06:49.466Z"
   },
   {
    "duration": 9,
    "start_time": "2021-07-08T09:06:51.994Z"
   },
   {
    "duration": 20,
    "start_time": "2021-07-08T09:06:52.273Z"
   },
   {
    "duration": 246,
    "start_time": "2021-07-08T09:10:21.272Z"
   },
   {
    "duration": 84,
    "start_time": "2021-07-08T09:10:21.436Z"
   },
   {
    "duration": 7,
    "start_time": "2021-07-08T09:10:37.608Z"
   },
   {
    "duration": 189,
    "start_time": "2021-07-08T09:10:38.573Z"
   },
   {
    "duration": 185,
    "start_time": "2021-07-08T09:10:53.181Z"
   },
   {
    "duration": 11,
    "start_time": "2021-07-08T09:10:59.549Z"
   },
   {
    "duration": 42,
    "start_time": "2021-07-08T09:10:59.709Z"
   },
   {
    "duration": 12,
    "start_time": "2021-07-08T09:11:02.857Z"
   },
   {
    "duration": 28,
    "start_time": "2021-07-08T09:11:10.062Z"
   },
   {
    "duration": 249,
    "start_time": "2021-07-08T09:11:37.388Z"
   },
   {
    "duration": 232,
    "start_time": "2021-07-08T09:11:49.485Z"
   },
   {
    "duration": 453,
    "start_time": "2021-07-08T09:12:01.546Z"
   },
   {
    "duration": 440,
    "start_time": "2021-07-08T09:12:12.347Z"
   },
   {
    "duration": 213,
    "start_time": "2021-07-08T09:13:32.196Z"
   },
   {
    "duration": 172,
    "start_time": "2021-07-08T09:14:07.400Z"
   },
   {
    "duration": 185,
    "start_time": "2021-07-08T09:14:14.905Z"
   },
   {
    "duration": 209,
    "start_time": "2021-07-08T09:14:40.109Z"
   },
   {
    "duration": 201,
    "start_time": "2021-07-08T09:14:54.506Z"
   },
   {
    "duration": 622,
    "start_time": "2021-07-08T09:18:14.497Z"
   },
   {
    "duration": 220,
    "start_time": "2021-07-08T09:18:15.121Z"
   },
   {
    "duration": 79,
    "start_time": "2021-07-08T09:18:15.343Z"
   },
   {
    "duration": 4,
    "start_time": "2021-07-08T09:18:15.425Z"
   },
   {
    "duration": 24,
    "start_time": "2021-07-08T09:18:15.431Z"
   },
   {
    "duration": 8,
    "start_time": "2021-07-08T09:18:15.457Z"
   },
   {
    "duration": 16,
    "start_time": "2021-07-08T09:18:15.466Z"
   },
   {
    "duration": 5,
    "start_time": "2021-07-08T09:18:15.484Z"
   },
   {
    "duration": 10,
    "start_time": "2021-07-08T09:18:15.493Z"
   },
   {
    "duration": 8,
    "start_time": "2021-07-08T09:18:15.504Z"
   },
   {
    "duration": 7,
    "start_time": "2021-07-08T09:18:15.513Z"
   },
   {
    "duration": 26,
    "start_time": "2021-07-08T09:18:15.522Z"
   },
   {
    "duration": 49,
    "start_time": "2021-07-08T09:18:15.550Z"
   },
   {
    "duration": 21,
    "start_time": "2021-07-08T09:18:15.601Z"
   },
   {
    "duration": 8,
    "start_time": "2021-07-08T09:18:15.624Z"
   },
   {
    "duration": 3,
    "start_time": "2021-07-08T09:18:15.634Z"
   },
   {
    "duration": 8,
    "start_time": "2021-07-08T09:18:15.639Z"
   },
   {
    "duration": 45,
    "start_time": "2021-07-08T09:18:15.649Z"
   },
   {
    "duration": 13,
    "start_time": "2021-07-08T09:18:15.696Z"
   },
   {
    "duration": 10,
    "start_time": "2021-07-08T09:18:15.711Z"
   },
   {
    "duration": 64,
    "start_time": "2021-07-08T09:18:15.722Z"
   },
   {
    "duration": 19,
    "start_time": "2021-07-08T09:18:15.788Z"
   },
   {
    "duration": 9,
    "start_time": "2021-07-08T09:18:15.809Z"
   },
   {
    "duration": 9,
    "start_time": "2021-07-08T09:18:15.820Z"
   },
   {
    "duration": 18,
    "start_time": "2021-07-08T09:18:15.831Z"
   },
   {
    "duration": 43,
    "start_time": "2021-07-08T09:18:15.851Z"
   },
   {
    "duration": 12,
    "start_time": "2021-07-08T09:18:15.897Z"
   },
   {
    "duration": 219,
    "start_time": "2021-07-08T09:18:15.911Z"
   },
   {
    "duration": 8,
    "start_time": "2021-07-08T09:18:16.132Z"
   },
   {
    "duration": 199,
    "start_time": "2021-07-08T09:18:16.141Z"
   },
   {
    "duration": 18,
    "start_time": "2021-07-08T09:18:16.341Z"
   },
   {
    "duration": 24,
    "start_time": "2021-07-08T09:18:16.361Z"
   },
   {
    "duration": 24,
    "start_time": "2021-07-08T09:18:16.387Z"
   },
   {
    "duration": 211,
    "start_time": "2021-07-08T09:18:16.413Z"
   },
   {
    "duration": 18,
    "start_time": "2021-07-08T09:18:16.626Z"
   },
   {
    "duration": 596,
    "start_time": "2021-07-08T10:06:33.623Z"
   },
   {
    "duration": 181,
    "start_time": "2021-07-08T10:06:34.221Z"
   },
   {
    "duration": 176,
    "start_time": "2021-07-08T10:06:34.635Z"
   },
   {
    "duration": 239,
    "start_time": "2021-07-08T10:06:55.572Z"
   },
   {
    "duration": 6,
    "start_time": "2021-07-08T10:06:57.687Z"
   },
   {
    "duration": 4,
    "start_time": "2021-07-08T10:07:03.956Z"
   },
   {
    "duration": 4,
    "start_time": "2021-07-08T10:07:10.376Z"
   },
   {
    "duration": 4,
    "start_time": "2021-07-08T10:17:19.889Z"
   },
   {
    "duration": 3,
    "start_time": "2021-07-08T10:19:19.407Z"
   },
   {
    "duration": 197,
    "start_time": "2021-07-08T10:19:19.412Z"
   },
   {
    "duration": 127,
    "start_time": "2021-07-08T10:19:19.611Z"
   },
   {
    "duration": 4,
    "start_time": "2021-07-08T10:19:19.740Z"
   },
   {
    "duration": 27,
    "start_time": "2021-07-08T10:19:19.746Z"
   },
   {
    "duration": 7,
    "start_time": "2021-07-08T10:19:19.775Z"
   },
   {
    "duration": 30,
    "start_time": "2021-07-08T10:19:19.784Z"
   },
   {
    "duration": 7,
    "start_time": "2021-07-08T10:19:19.817Z"
   },
   {
    "duration": 26,
    "start_time": "2021-07-08T10:19:19.826Z"
   },
   {
    "duration": 18,
    "start_time": "2021-07-08T10:19:19.854Z"
   },
   {
    "duration": 14,
    "start_time": "2021-07-08T10:19:19.874Z"
   },
   {
    "duration": 48,
    "start_time": "2021-07-08T10:19:19.890Z"
   },
   {
    "duration": 17,
    "start_time": "2021-07-08T10:19:19.940Z"
   },
   {
    "duration": 38,
    "start_time": "2021-07-08T10:19:19.959Z"
   },
   {
    "duration": 8,
    "start_time": "2021-07-08T10:19:19.999Z"
   },
   {
    "duration": 15,
    "start_time": "2021-07-08T10:19:20.009Z"
   },
   {
    "duration": 22,
    "start_time": "2021-07-08T10:19:20.026Z"
   },
   {
    "duration": 10,
    "start_time": "2021-07-08T10:19:20.050Z"
   },
   {
    "duration": 10,
    "start_time": "2021-07-08T10:19:20.062Z"
   },
   {
    "duration": 20,
    "start_time": "2021-07-08T10:19:20.073Z"
   },
   {
    "duration": 29,
    "start_time": "2021-07-08T10:19:20.095Z"
   },
   {
    "duration": 17,
    "start_time": "2021-07-08T10:19:20.126Z"
   },
   {
    "duration": 40,
    "start_time": "2021-07-08T10:19:20.146Z"
   },
   {
    "duration": 15,
    "start_time": "2021-07-08T10:19:20.189Z"
   },
   {
    "duration": 19,
    "start_time": "2021-07-08T10:19:20.206Z"
   },
   {
    "duration": 10,
    "start_time": "2021-07-08T10:19:20.226Z"
   },
   {
    "duration": 11,
    "start_time": "2021-07-08T10:19:20.238Z"
   },
   {
    "duration": 297,
    "start_time": "2021-07-08T10:19:20.250Z"
   },
   {
    "duration": 6,
    "start_time": "2021-07-08T10:19:20.549Z"
   },
   {
    "duration": 191,
    "start_time": "2021-07-08T10:19:20.557Z"
   },
   {
    "duration": 19,
    "start_time": "2021-07-08T10:19:20.750Z"
   },
   {
    "duration": 20,
    "start_time": "2021-07-08T10:19:20.771Z"
   },
   {
    "duration": 15,
    "start_time": "2021-07-08T10:19:20.793Z"
   },
   {
    "duration": 222,
    "start_time": "2021-07-08T10:19:20.809Z"
   },
   {
    "duration": 20,
    "start_time": "2021-07-08T10:19:21.033Z"
   },
   {
    "duration": 27,
    "start_time": "2021-07-08T10:45:04.055Z"
   },
   {
    "duration": 8,
    "start_time": "2021-07-08T10:45:08.478Z"
   },
   {
    "duration": 8,
    "start_time": "2021-07-08T10:45:31.982Z"
   },
   {
    "duration": 10,
    "start_time": "2021-07-08T10:46:01.221Z"
   },
   {
    "duration": 17,
    "start_time": "2021-07-08T10:46:40.011Z"
   },
   {
    "duration": 193,
    "start_time": "2021-07-08T10:48:19.471Z"
   },
   {
    "duration": 225,
    "start_time": "2021-07-08T10:49:26.480Z"
   },
   {
    "duration": 204,
    "start_time": "2021-07-08T10:49:59.992Z"
   },
   {
    "duration": 435,
    "start_time": "2021-07-08T10:50:06.779Z"
   },
   {
    "duration": 199,
    "start_time": "2021-07-08T10:50:14.891Z"
   },
   {
    "duration": 204,
    "start_time": "2021-07-08T10:50:18.501Z"
   },
   {
    "duration": 244,
    "start_time": "2021-07-08T10:50:23.359Z"
   },
   {
    "duration": 192,
    "start_time": "2021-07-08T10:50:29.135Z"
   },
   {
    "duration": 218,
    "start_time": "2021-07-08T10:50:33.092Z"
   },
   {
    "duration": 207,
    "start_time": "2021-07-08T10:52:45.381Z"
   },
   {
    "duration": 5,
    "start_time": "2021-07-08T10:53:34.641Z"
   },
   {
    "duration": 196,
    "start_time": "2021-07-08T10:53:41.478Z"
   },
   {
    "duration": 43,
    "start_time": "2021-07-08T10:53:50.335Z"
   },
   {
    "duration": 32,
    "start_time": "2021-07-08T10:53:55.294Z"
   },
   {
    "duration": 55,
    "start_time": "2021-07-08T10:54:09.675Z"
   },
   {
    "duration": 16,
    "start_time": "2021-07-08T10:54:12.260Z"
   },
   {
    "duration": 15,
    "start_time": "2021-07-08T10:54:49.150Z"
   },
   {
    "duration": 20,
    "start_time": "2021-07-08T10:56:07.596Z"
   },
   {
    "duration": 16,
    "start_time": "2021-07-08T10:58:26.276Z"
   },
   {
    "duration": 22,
    "start_time": "2021-07-08T10:59:00.486Z"
   },
   {
    "duration": 18,
    "start_time": "2021-07-08T11:02:09.653Z"
   },
   {
    "duration": 10,
    "start_time": "2021-07-08T11:03:44.331Z"
   },
   {
    "duration": 10,
    "start_time": "2021-07-08T11:03:54.055Z"
   },
   {
    "duration": 12,
    "start_time": "2021-07-08T11:04:41.967Z"
   },
   {
    "duration": 24,
    "start_time": "2021-07-08T11:07:30.732Z"
   },
   {
    "duration": 6,
    "start_time": "2021-07-08T11:07:37.364Z"
   },
   {
    "duration": 16,
    "start_time": "2021-07-08T11:08:01.819Z"
   },
   {
    "duration": 17,
    "start_time": "2021-07-08T11:09:47.488Z"
   },
   {
    "duration": 246,
    "start_time": "2021-07-08T11:10:00.830Z"
   },
   {
    "duration": 18,
    "start_time": "2021-07-08T11:13:55.195Z"
   },
   {
    "duration": 204,
    "start_time": "2021-07-08T11:14:04.951Z"
   },
   {
    "duration": 19,
    "start_time": "2021-07-08T11:15:10.613Z"
   },
   {
    "duration": 680,
    "start_time": "2021-07-08T11:16:25.793Z"
   },
   {
    "duration": 451,
    "start_time": "2021-07-08T11:16:40.313Z"
   },
   {
    "duration": 469,
    "start_time": "2021-07-08T11:17:21.286Z"
   },
   {
    "duration": 20,
    "start_time": "2021-07-08T11:19:12.554Z"
   },
   {
    "duration": 35,
    "start_time": "2021-07-08T11:20:05.484Z"
   },
   {
    "duration": 53,
    "start_time": "2021-07-08T11:21:40.050Z"
   },
   {
    "duration": 13,
    "start_time": "2021-07-08T11:22:26.059Z"
   },
   {
    "duration": 19,
    "start_time": "2021-07-08T11:22:47.419Z"
   },
   {
    "duration": 25,
    "start_time": "2021-07-08T11:23:19.958Z"
   },
   {
    "duration": 29,
    "start_time": "2021-07-08T11:23:25.415Z"
   },
   {
    "duration": 10,
    "start_time": "2021-07-08T11:24:45.138Z"
   },
   {
    "duration": 19,
    "start_time": "2021-07-08T11:24:54.498Z"
   },
   {
    "duration": 12,
    "start_time": "2021-07-08T11:25:32.225Z"
   },
   {
    "duration": 19,
    "start_time": "2021-07-08T11:25:37.092Z"
   },
   {
    "duration": 17,
    "start_time": "2021-07-08T11:25:58.116Z"
   },
   {
    "duration": 15,
    "start_time": "2021-07-08T11:26:02.258Z"
   },
   {
    "duration": 8,
    "start_time": "2021-07-08T11:26:59.682Z"
   },
   {
    "duration": 184,
    "start_time": "2021-07-08T11:27:21.894Z"
   },
   {
    "duration": 8,
    "start_time": "2021-07-08T11:27:23.824Z"
   },
   {
    "duration": 202,
    "start_time": "2021-07-08T11:27:23.962Z"
   },
   {
    "duration": 360,
    "start_time": "2021-07-08T11:28:33.215Z"
   },
   {
    "duration": 231,
    "start_time": "2021-07-08T11:32:05.542Z"
   },
   {
    "duration": 607,
    "start_time": "2021-07-08T11:36:27.854Z"
   },
   {
    "duration": 241,
    "start_time": "2021-07-08T11:36:28.463Z"
   },
   {
    "duration": 67,
    "start_time": "2021-07-08T11:36:28.709Z"
   },
   {
    "duration": 5,
    "start_time": "2021-07-08T11:36:28.778Z"
   },
   {
    "duration": 32,
    "start_time": "2021-07-08T11:36:28.784Z"
   },
   {
    "duration": 11,
    "start_time": "2021-07-08T11:36:28.819Z"
   },
   {
    "duration": 20,
    "start_time": "2021-07-08T11:36:28.834Z"
   },
   {
    "duration": 36,
    "start_time": "2021-07-08T11:36:28.857Z"
   },
   {
    "duration": 16,
    "start_time": "2021-07-08T11:36:28.895Z"
   },
   {
    "duration": 14,
    "start_time": "2021-07-08T11:36:28.913Z"
   },
   {
    "duration": 9,
    "start_time": "2021-07-08T11:36:28.930Z"
   },
   {
    "duration": 55,
    "start_time": "2021-07-08T11:36:28.941Z"
   },
   {
    "duration": 27,
    "start_time": "2021-07-08T11:36:28.999Z"
   },
   {
    "duration": 30,
    "start_time": "2021-07-08T11:36:29.028Z"
   },
   {
    "duration": 31,
    "start_time": "2021-07-08T11:36:29.060Z"
   },
   {
    "duration": 3,
    "start_time": "2021-07-08T11:36:29.093Z"
   },
   {
    "duration": 12,
    "start_time": "2021-07-08T11:36:29.099Z"
   },
   {
    "duration": 11,
    "start_time": "2021-07-08T11:36:29.112Z"
   },
   {
    "duration": 12,
    "start_time": "2021-07-08T11:36:29.125Z"
   },
   {
    "duration": 9,
    "start_time": "2021-07-08T11:36:29.139Z"
   },
   {
    "duration": 31,
    "start_time": "2021-07-08T11:36:29.191Z"
   },
   {
    "duration": 17,
    "start_time": "2021-07-08T11:36:29.226Z"
   },
   {
    "duration": 7,
    "start_time": "2021-07-08T11:36:29.245Z"
   },
   {
    "duration": 10,
    "start_time": "2021-07-08T11:36:29.254Z"
   },
   {
    "duration": 30,
    "start_time": "2021-07-08T11:36:29.292Z"
   },
   {
    "duration": 11,
    "start_time": "2021-07-08T11:36:29.324Z"
   },
   {
    "duration": 11,
    "start_time": "2021-07-08T11:36:29.337Z"
   },
   {
    "duration": 230,
    "start_time": "2021-07-08T11:36:29.349Z"
   },
   {
    "duration": 13,
    "start_time": "2021-07-08T11:36:29.588Z"
   },
   {
    "duration": 205,
    "start_time": "2021-07-08T11:36:29.603Z"
   },
   {
    "duration": 20,
    "start_time": "2021-07-08T11:36:29.810Z"
   },
   {
    "duration": 9,
    "start_time": "2021-07-08T11:36:29.832Z"
   },
   {
    "duration": 16,
    "start_time": "2021-07-08T11:36:29.843Z"
   },
   {
    "duration": 283,
    "start_time": "2021-07-08T11:36:29.861Z"
   },
   {
    "duration": 50,
    "start_time": "2021-07-08T11:36:30.146Z"
   },
   {
    "duration": 14,
    "start_time": "2021-07-08T11:36:30.198Z"
   },
   {
    "duration": 11,
    "start_time": "2021-07-08T11:36:30.214Z"
   },
   {
    "duration": 245,
    "start_time": "2021-07-08T11:36:30.227Z"
   },
   {
    "duration": 439,
    "start_time": "2021-07-08T11:36:30.474Z"
   },
   {
    "duration": 210,
    "start_time": "2021-07-08T11:36:30.915Z"
   },
   {
    "duration": 15,
    "start_time": "2021-07-08T11:36:31.127Z"
   },
   {
    "duration": 17,
    "start_time": "2021-07-08T11:38:20.451Z"
   },
   {
    "duration": 642,
    "start_time": "2021-07-08T11:46:17.881Z"
   },
   {
    "duration": 210,
    "start_time": "2021-07-08T11:46:18.525Z"
   },
   {
    "duration": 104,
    "start_time": "2021-07-08T11:46:18.741Z"
   },
   {
    "duration": 8,
    "start_time": "2021-07-08T11:46:18.847Z"
   },
   {
    "duration": 25,
    "start_time": "2021-07-08T11:46:18.857Z"
   },
   {
    "duration": 14,
    "start_time": "2021-07-08T11:46:18.884Z"
   },
   {
    "duration": 22,
    "start_time": "2021-07-08T11:46:18.900Z"
   },
   {
    "duration": 5,
    "start_time": "2021-07-08T11:46:18.924Z"
   },
   {
    "duration": 13,
    "start_time": "2021-07-08T11:46:18.931Z"
   },
   {
    "duration": 45,
    "start_time": "2021-07-08T11:46:18.946Z"
   },
   {
    "duration": 12,
    "start_time": "2021-07-08T11:46:18.993Z"
   },
   {
    "duration": 38,
    "start_time": "2021-07-08T11:46:19.006Z"
   },
   {
    "duration": 50,
    "start_time": "2021-07-08T11:46:19.046Z"
   },
   {
    "duration": 29,
    "start_time": "2021-07-08T11:46:19.099Z"
   },
   {
    "duration": 7,
    "start_time": "2021-07-08T11:46:19.130Z"
   },
   {
    "duration": 3,
    "start_time": "2021-07-08T11:46:19.139Z"
   },
   {
    "duration": 11,
    "start_time": "2021-07-08T11:46:19.144Z"
   },
   {
    "duration": 40,
    "start_time": "2021-07-08T11:46:19.157Z"
   },
   {
    "duration": 15,
    "start_time": "2021-07-08T11:46:19.199Z"
   },
   {
    "duration": 10,
    "start_time": "2021-07-08T11:46:19.217Z"
   },
   {
    "duration": 68,
    "start_time": "2021-07-08T11:46:19.230Z"
   },
   {
    "duration": 17,
    "start_time": "2021-07-08T11:46:19.301Z"
   },
   {
    "duration": 7,
    "start_time": "2021-07-08T11:46:19.321Z"
   },
   {
    "duration": 11,
    "start_time": "2021-07-08T11:46:19.330Z"
   },
   {
    "duration": 59,
    "start_time": "2021-07-08T11:46:19.343Z"
   },
   {
    "duration": 17,
    "start_time": "2021-07-08T11:46:19.405Z"
   },
   {
    "duration": 16,
    "start_time": "2021-07-08T11:46:19.424Z"
   },
   {
    "duration": 252,
    "start_time": "2021-07-08T11:46:19.443Z"
   },
   {
    "duration": 9,
    "start_time": "2021-07-08T11:46:19.697Z"
   },
   {
    "duration": 224,
    "start_time": "2021-07-08T11:46:19.708Z"
   },
   {
    "duration": 21,
    "start_time": "2021-07-08T11:46:19.934Z"
   },
   {
    "duration": 9,
    "start_time": "2021-07-08T11:46:19.956Z"
   },
   {
    "duration": 32,
    "start_time": "2021-07-08T11:46:19.967Z"
   },
   {
    "duration": 288,
    "start_time": "2021-07-08T11:46:20.004Z"
   },
   {
    "duration": 23,
    "start_time": "2021-07-08T11:46:20.300Z"
   },
   {
    "duration": 11,
    "start_time": "2021-07-08T11:46:20.325Z"
   },
   {
    "duration": 11,
    "start_time": "2021-07-08T11:46:20.339Z"
   },
   {
    "duration": 259,
    "start_time": "2021-07-08T11:46:20.352Z"
   },
   {
    "duration": 438,
    "start_time": "2021-07-08T11:46:20.613Z"
   },
   {
    "duration": 207,
    "start_time": "2021-07-08T11:46:21.054Z"
   },
   {
    "duration": 27,
    "start_time": "2021-07-08T11:46:21.262Z"
   },
   {
    "duration": 19,
    "start_time": "2021-07-08T11:46:21.291Z"
   },
   {
    "duration": 820,
    "start_time": "2021-07-08T11:49:01.655Z"
   },
   {
    "duration": 372,
    "start_time": "2021-07-08T11:49:02.478Z"
   },
   {
    "duration": 98,
    "start_time": "2021-07-08T11:49:02.853Z"
   },
   {
    "duration": 6,
    "start_time": "2021-07-08T11:49:02.953Z"
   },
   {
    "duration": 39,
    "start_time": "2021-07-08T11:49:02.960Z"
   },
   {
    "duration": 9,
    "start_time": "2021-07-08T11:49:03.003Z"
   },
   {
    "duration": 23,
    "start_time": "2021-07-08T11:49:03.014Z"
   },
   {
    "duration": 6,
    "start_time": "2021-07-08T11:49:03.041Z"
   },
   {
    "duration": 20,
    "start_time": "2021-07-08T11:49:03.049Z"
   },
   {
    "duration": 18,
    "start_time": "2021-07-08T11:49:03.084Z"
   },
   {
    "duration": 14,
    "start_time": "2021-07-08T11:49:03.104Z"
   },
   {
    "duration": 39,
    "start_time": "2021-07-08T11:49:03.119Z"
   },
   {
    "duration": 38,
    "start_time": "2021-07-08T11:49:03.160Z"
   },
   {
    "duration": 26,
    "start_time": "2021-07-08T11:49:03.200Z"
   },
   {
    "duration": 7,
    "start_time": "2021-07-08T11:49:03.227Z"
   },
   {
    "duration": 4,
    "start_time": "2021-07-08T11:49:03.236Z"
   },
   {
    "duration": 15,
    "start_time": "2021-07-08T11:49:03.243Z"
   },
   {
    "duration": 21,
    "start_time": "2021-07-08T11:49:03.285Z"
   },
   {
    "duration": 17,
    "start_time": "2021-07-08T11:49:03.309Z"
   },
   {
    "duration": 10,
    "start_time": "2021-07-08T11:49:03.328Z"
   },
   {
    "duration": 65,
    "start_time": "2021-07-08T11:49:03.340Z"
   },
   {
    "duration": 18,
    "start_time": "2021-07-08T11:49:03.407Z"
   },
   {
    "duration": 8,
    "start_time": "2021-07-08T11:49:03.428Z"
   },
   {
    "duration": 15,
    "start_time": "2021-07-08T11:49:03.438Z"
   },
   {
    "duration": 40,
    "start_time": "2021-07-08T11:49:03.455Z"
   },
   {
    "duration": 12,
    "start_time": "2021-07-08T11:49:03.497Z"
   },
   {
    "duration": 29,
    "start_time": "2021-07-08T11:49:03.511Z"
   },
   {
    "duration": 285,
    "start_time": "2021-07-08T11:49:03.542Z"
   },
   {
    "duration": 8,
    "start_time": "2021-07-08T11:49:03.829Z"
   },
   {
    "duration": 227,
    "start_time": "2021-07-08T11:49:03.838Z"
   },
   {
    "duration": 40,
    "start_time": "2021-07-08T11:49:04.066Z"
   },
   {
    "duration": 10,
    "start_time": "2021-07-08T11:49:04.108Z"
   },
   {
    "duration": 26,
    "start_time": "2021-07-08T11:49:04.121Z"
   },
   {
    "duration": 290,
    "start_time": "2021-07-08T11:49:04.149Z"
   },
   {
    "duration": 26,
    "start_time": "2021-07-08T11:49:04.441Z"
   },
   {
    "duration": 31,
    "start_time": "2021-07-08T11:49:04.470Z"
   },
   {
    "duration": 14,
    "start_time": "2021-07-08T11:49:04.503Z"
   },
   {
    "duration": 259,
    "start_time": "2021-07-08T11:49:04.521Z"
   },
   {
    "duration": 480,
    "start_time": "2021-07-08T11:49:04.782Z"
   },
   {
    "duration": 225,
    "start_time": "2021-07-08T11:49:05.264Z"
   },
   {
    "duration": 22,
    "start_time": "2021-07-08T11:49:05.491Z"
   },
   {
    "duration": 24,
    "start_time": "2021-07-08T11:49:05.515Z"
   },
   {
    "duration": 634,
    "start_time": "2021-07-08T11:52:24.960Z"
   },
   {
    "duration": 199,
    "start_time": "2021-07-08T11:52:25.599Z"
   },
   {
    "duration": 106,
    "start_time": "2021-07-08T11:52:25.803Z"
   },
   {
    "duration": 7,
    "start_time": "2021-07-08T11:52:25.911Z"
   },
   {
    "duration": 29,
    "start_time": "2021-07-08T11:52:25.920Z"
   },
   {
    "duration": 7,
    "start_time": "2021-07-08T11:52:25.951Z"
   },
   {
    "duration": 26,
    "start_time": "2021-07-08T11:52:25.961Z"
   },
   {
    "duration": 11,
    "start_time": "2021-07-08T11:52:25.990Z"
   },
   {
    "duration": 29,
    "start_time": "2021-07-08T11:52:26.005Z"
   },
   {
    "duration": 9,
    "start_time": "2021-07-08T11:52:26.036Z"
   },
   {
    "duration": 8,
    "start_time": "2021-07-08T11:52:26.047Z"
   },
   {
    "duration": 63,
    "start_time": "2021-07-08T11:52:26.057Z"
   },
   {
    "duration": 17,
    "start_time": "2021-07-08T11:52:26.122Z"
   },
   {
    "duration": 43,
    "start_time": "2021-07-08T11:52:26.142Z"
   },
   {
    "duration": 17,
    "start_time": "2021-07-08T11:52:26.187Z"
   },
   {
    "duration": 5,
    "start_time": "2021-07-08T11:52:26.206Z"
   },
   {
    "duration": 12,
    "start_time": "2021-07-08T11:52:26.212Z"
   },
   {
    "duration": 11,
    "start_time": "2021-07-08T11:52:26.226Z"
   },
   {
    "duration": 12,
    "start_time": "2021-07-08T11:52:26.238Z"
   },
   {
    "duration": 38,
    "start_time": "2021-07-08T11:52:26.252Z"
   },
   {
    "duration": 40,
    "start_time": "2021-07-08T11:52:26.292Z"
   },
   {
    "duration": 17,
    "start_time": "2021-07-08T11:52:26.336Z"
   },
   {
    "duration": 39,
    "start_time": "2021-07-08T11:52:26.355Z"
   },
   {
    "duration": 11,
    "start_time": "2021-07-08T11:52:26.395Z"
   },
   {
    "duration": 23,
    "start_time": "2021-07-08T11:52:26.408Z"
   },
   {
    "duration": 12,
    "start_time": "2021-07-08T11:52:26.432Z"
   },
   {
    "duration": 41,
    "start_time": "2021-07-08T11:52:26.446Z"
   },
   {
    "duration": 215,
    "start_time": "2021-07-08T11:52:26.493Z"
   },
   {
    "duration": 8,
    "start_time": "2021-07-08T11:52:26.710Z"
   },
   {
    "duration": 228,
    "start_time": "2021-07-08T11:52:26.720Z"
   },
   {
    "duration": 18,
    "start_time": "2021-07-08T11:52:26.950Z"
   },
   {
    "duration": 35,
    "start_time": "2021-07-08T11:52:26.969Z"
   },
   {
    "duration": 23,
    "start_time": "2021-07-08T11:52:27.006Z"
   },
   {
    "duration": 258,
    "start_time": "2021-07-08T11:52:27.030Z"
   },
   {
    "duration": 24,
    "start_time": "2021-07-08T11:52:27.290Z"
   },
   {
    "duration": 12,
    "start_time": "2021-07-08T11:52:27.316Z"
   },
   {
    "duration": 10,
    "start_time": "2021-07-08T11:52:27.329Z"
   },
   {
    "duration": 298,
    "start_time": "2021-07-08T11:52:27.341Z"
   },
   {
    "duration": 436,
    "start_time": "2021-07-08T11:52:27.641Z"
   },
   {
    "duration": 216,
    "start_time": "2021-07-08T11:52:28.079Z"
   },
   {
    "duration": 20,
    "start_time": "2021-07-08T11:52:28.297Z"
   },
   {
    "duration": 17,
    "start_time": "2021-07-08T11:52:28.319Z"
   },
   {
    "duration": 454,
    "start_time": "2023-04-03T09:06:37.968Z"
   },
   {
    "duration": 65,
    "start_time": "2023-04-03T09:06:39.679Z"
   },
   {
    "duration": 559,
    "start_time": "2023-04-03T09:06:57.088Z"
   },
   {
    "duration": 8,
    "start_time": "2023-04-03T09:08:11.861Z"
   },
   {
    "duration": 83,
    "start_time": "2023-04-03T09:08:18.788Z"
   },
   {
    "duration": 24,
    "start_time": "2023-04-03T09:08:19.857Z"
   },
   {
    "duration": 82,
    "start_time": "2023-04-03T09:10:35.701Z"
   },
   {
    "duration": 8,
    "start_time": "2023-04-03T09:10:55.398Z"
   },
   {
    "duration": 16,
    "start_time": "2023-04-03T09:11:06.584Z"
   },
   {
    "duration": 17,
    "start_time": "2023-04-03T09:13:00.468Z"
   },
   {
    "duration": 10,
    "start_time": "2023-04-03T09:13:27.128Z"
   },
   {
    "duration": 282,
    "start_time": "2023-04-03T09:19:28.010Z"
   },
   {
    "duration": 12,
    "start_time": "2023-04-03T09:19:54.758Z"
   },
   {
    "duration": 21,
    "start_time": "2023-04-03T09:20:48.532Z"
   },
   {
    "duration": 15,
    "start_time": "2023-04-03T09:20:58.715Z"
   },
   {
    "duration": 3,
    "start_time": "2023-04-03T09:21:03.923Z"
   },
   {
    "duration": 88,
    "start_time": "2023-04-03T09:21:03.929Z"
   },
   {
    "duration": 17,
    "start_time": "2023-04-03T09:21:04.018Z"
   },
   {
    "duration": 43,
    "start_time": "2023-04-03T09:21:04.038Z"
   },
   {
    "duration": 33,
    "start_time": "2023-04-03T09:21:04.084Z"
   },
   {
    "duration": 9,
    "start_time": "2023-04-03T09:21:04.119Z"
   },
   {
    "duration": 17,
    "start_time": "2023-04-03T09:21:04.130Z"
   },
   {
    "duration": 21,
    "start_time": "2023-04-03T09:21:04.149Z"
   },
   {
    "duration": 11,
    "start_time": "2023-04-03T09:21:26.112Z"
   },
   {
    "duration": 4,
    "start_time": "2023-04-03T09:22:41.663Z"
   },
   {
    "duration": 11,
    "start_time": "2023-04-03T09:22:57.135Z"
   },
   {
    "duration": 634,
    "start_time": "2023-04-03T09:28:58.005Z"
   },
   {
    "duration": 647,
    "start_time": "2023-04-03T09:29:15.000Z"
   },
   {
    "duration": 9,
    "start_time": "2023-04-03T09:29:51.182Z"
   },
   {
    "duration": 13,
    "start_time": "2023-04-03T09:30:33.299Z"
   },
   {
    "duration": 14,
    "start_time": "2023-04-03T09:31:01.978Z"
   },
   {
    "duration": 16,
    "start_time": "2023-04-03T09:31:11.435Z"
   },
   {
    "duration": 11,
    "start_time": "2023-04-03T09:33:35.694Z"
   },
   {
    "duration": 13,
    "start_time": "2023-04-03T09:34:01.901Z"
   },
   {
    "duration": 17,
    "start_time": "2023-04-03T09:40:36.211Z"
   },
   {
    "duration": 24,
    "start_time": "2023-04-03T09:40:48.401Z"
   },
   {
    "duration": 15,
    "start_time": "2023-04-03T09:42:04.535Z"
   },
   {
    "duration": 10,
    "start_time": "2023-04-03T09:43:30.262Z"
   },
   {
    "duration": 22,
    "start_time": "2023-04-03T09:43:31.681Z"
   },
   {
    "duration": 15,
    "start_time": "2023-04-03T09:43:35.135Z"
   },
   {
    "duration": 12,
    "start_time": "2023-04-03T09:43:54.788Z"
   },
   {
    "duration": 22,
    "start_time": "2023-04-03T09:43:56.102Z"
   },
   {
    "duration": 17,
    "start_time": "2023-04-03T09:44:01.688Z"
   },
   {
    "duration": 15,
    "start_time": "2023-04-03T09:44:08.586Z"
   },
   {
    "duration": 25,
    "start_time": "2023-04-03T09:44:25.990Z"
   },
   {
    "duration": 17,
    "start_time": "2023-04-03T09:44:46.018Z"
   },
   {
    "duration": 16,
    "start_time": "2023-04-03T09:45:21.861Z"
   },
   {
    "duration": 14,
    "start_time": "2023-04-03T09:45:26.097Z"
   },
   {
    "duration": 3,
    "start_time": "2023-04-03T09:45:49.464Z"
   },
   {
    "duration": 86,
    "start_time": "2023-04-03T09:45:49.469Z"
   },
   {
    "duration": 15,
    "start_time": "2023-04-03T09:45:49.557Z"
   },
   {
    "duration": 22,
    "start_time": "2023-04-03T09:45:49.573Z"
   },
   {
    "duration": 34,
    "start_time": "2023-04-03T09:45:49.633Z"
   },
   {
    "duration": 7,
    "start_time": "2023-04-03T09:45:49.669Z"
   },
   {
    "duration": 19,
    "start_time": "2023-04-03T09:45:49.678Z"
   },
   {
    "duration": 5,
    "start_time": "2023-04-03T09:45:49.699Z"
   },
   {
    "duration": 12,
    "start_time": "2023-04-03T09:45:49.706Z"
   },
   {
    "duration": 17,
    "start_time": "2023-04-03T09:45:49.720Z"
   },
   {
    "duration": 15,
    "start_time": "2023-04-03T09:45:49.738Z"
   },
   {
    "duration": 33,
    "start_time": "2023-04-03T09:45:49.755Z"
   },
   {
    "duration": 18,
    "start_time": "2023-04-03T09:45:49.790Z"
   },
   {
    "duration": 16,
    "start_time": "2023-04-03T09:45:49.810Z"
   },
   {
    "duration": 9,
    "start_time": "2023-04-03T09:49:14.062Z"
   },
   {
    "duration": 14,
    "start_time": "2023-04-03T09:50:04.518Z"
   },
   {
    "duration": 16,
    "start_time": "2023-04-03T09:55:00.457Z"
   },
   {
    "duration": 17,
    "start_time": "2023-04-03T09:55:01.616Z"
   },
   {
    "duration": 16,
    "start_time": "2023-04-03T09:55:04.718Z"
   },
   {
    "duration": 3,
    "start_time": "2023-04-03T10:00:19.190Z"
   },
   {
    "duration": 48,
    "start_time": "2023-04-03T10:00:36.212Z"
   },
   {
    "duration": 36,
    "start_time": "2023-04-03T10:01:39.470Z"
   },
   {
    "duration": 17,
    "start_time": "2023-04-03T10:02:45.186Z"
   },
   {
    "duration": 28,
    "start_time": "2023-04-03T10:03:15.183Z"
   },
   {
    "duration": 4,
    "start_time": "2023-04-03T10:14:37.833Z"
   },
   {
    "duration": 11,
    "start_time": "2023-04-03T10:14:47.030Z"
   },
   {
    "duration": 16,
    "start_time": "2023-04-03T10:14:51.646Z"
   },
   {
    "duration": 12,
    "start_time": "2023-04-03T10:15:02.318Z"
   },
   {
    "duration": 4,
    "start_time": "2023-04-03T10:15:07.570Z"
   },
   {
    "duration": 4,
    "start_time": "2023-04-03T10:16:19.273Z"
   },
   {
    "duration": 17,
    "start_time": "2023-04-03T10:16:34.443Z"
   },
   {
    "duration": 3,
    "start_time": "2023-04-03T10:19:04.706Z"
   },
   {
    "duration": 17,
    "start_time": "2023-04-03T10:19:06.206Z"
   },
   {
    "duration": 4,
    "start_time": "2023-04-03T10:21:07.117Z"
   },
   {
    "duration": 14,
    "start_time": "2023-04-03T10:21:07.866Z"
   },
   {
    "duration": 4,
    "start_time": "2023-04-03T10:22:37.575Z"
   },
   {
    "duration": 8,
    "start_time": "2023-04-03T10:27:55.372Z"
   },
   {
    "duration": 7,
    "start_time": "2023-04-03T10:28:01.447Z"
   },
   {
    "duration": 8,
    "start_time": "2023-04-03T10:28:30.440Z"
   },
   {
    "duration": 9,
    "start_time": "2023-04-03T10:30:34.649Z"
   },
   {
    "duration": 11,
    "start_time": "2023-04-03T10:30:41.007Z"
   },
   {
    "duration": 34,
    "start_time": "2023-04-03T10:30:55.885Z"
   },
   {
    "duration": 33,
    "start_time": "2023-04-03T10:36:25.446Z"
   },
   {
    "duration": 28,
    "start_time": "2023-04-03T10:36:50.224Z"
   },
   {
    "duration": 20,
    "start_time": "2023-04-03T10:38:42.833Z"
   },
   {
    "duration": 18,
    "start_time": "2023-04-03T10:39:40.219Z"
   },
   {
    "duration": 11,
    "start_time": "2023-04-03T10:39:59.711Z"
   },
   {
    "duration": 31,
    "start_time": "2023-04-03T10:40:16.164Z"
   },
   {
    "duration": 20,
    "start_time": "2023-04-03T10:42:23.658Z"
   },
   {
    "duration": 5,
    "start_time": "2023-04-03T10:45:47.790Z"
   },
   {
    "duration": 4,
    "start_time": "2023-04-03T10:47:04.982Z"
   },
   {
    "duration": 5,
    "start_time": "2023-04-03T10:47:26.131Z"
   },
   {
    "duration": 3,
    "start_time": "2023-04-03T10:51:24.683Z"
   },
   {
    "duration": 8,
    "start_time": "2023-04-03T10:51:32.214Z"
   },
   {
    "duration": 2,
    "start_time": "2023-04-03T10:51:55.263Z"
   },
   {
    "duration": 94,
    "start_time": "2023-04-03T10:51:55.268Z"
   },
   {
    "duration": 16,
    "start_time": "2023-04-03T10:51:55.364Z"
   },
   {
    "duration": 18,
    "start_time": "2023-04-03T10:51:55.382Z"
   },
   {
    "duration": 32,
    "start_time": "2023-04-03T10:51:55.403Z"
   },
   {
    "duration": 8,
    "start_time": "2023-04-03T10:51:55.436Z"
   },
   {
    "duration": 13,
    "start_time": "2023-04-03T10:51:55.446Z"
   },
   {
    "duration": 4,
    "start_time": "2023-04-03T10:51:55.461Z"
   },
   {
    "duration": 14,
    "start_time": "2023-04-03T10:51:55.467Z"
   },
   {
    "duration": 8,
    "start_time": "2023-04-03T10:51:55.482Z"
   },
   {
    "duration": 15,
    "start_time": "2023-04-03T10:51:55.491Z"
   },
   {
    "duration": 16,
    "start_time": "2023-04-03T10:51:55.507Z"
   },
   {
    "duration": 16,
    "start_time": "2023-04-03T10:51:55.525Z"
   },
   {
    "duration": 47,
    "start_time": "2023-04-03T10:51:55.544Z"
   },
   {
    "duration": 3,
    "start_time": "2023-04-03T10:51:55.592Z"
   },
   {
    "duration": 5,
    "start_time": "2023-04-03T10:51:55.597Z"
   },
   {
    "duration": 4,
    "start_time": "2023-04-03T10:51:55.604Z"
   },
   {
    "duration": 6,
    "start_time": "2023-04-03T10:51:55.610Z"
   },
   {
    "duration": 5,
    "start_time": "2023-04-03T10:51:55.618Z"
   },
   {
    "duration": 16,
    "start_time": "2023-04-03T10:51:55.624Z"
   },
   {
    "duration": 30,
    "start_time": "2023-04-03T10:51:55.675Z"
   },
   {
    "duration": 8,
    "start_time": "2023-04-03T10:51:55.707Z"
   },
   {
    "duration": 8,
    "start_time": "2023-04-03T10:53:25.300Z"
   },
   {
    "duration": 27,
    "start_time": "2023-04-03T10:53:36.515Z"
   },
   {
    "duration": 5,
    "start_time": "2023-04-03T10:54:02.735Z"
   },
   {
    "duration": 7,
    "start_time": "2023-04-03T11:52:05.289Z"
   },
   {
    "duration": 5,
    "start_time": "2023-04-03T11:53:13.168Z"
   },
   {
    "duration": 10,
    "start_time": "2023-04-03T11:56:12.858Z"
   },
   {
    "duration": 5,
    "start_time": "2023-04-03T11:56:22.636Z"
   },
   {
    "duration": 9,
    "start_time": "2023-04-03T11:57:05.543Z"
   },
   {
    "duration": 5,
    "start_time": "2023-04-03T11:57:06.601Z"
   },
   {
    "duration": 4,
    "start_time": "2023-04-03T12:01:35.641Z"
   },
   {
    "duration": 6,
    "start_time": "2023-04-03T12:01:37.154Z"
   },
   {
    "duration": 31,
    "start_time": "2023-04-03T12:04:12.910Z"
   },
   {
    "duration": 48,
    "start_time": "2023-04-03T12:04:50.022Z"
   },
   {
    "duration": 10,
    "start_time": "2023-04-03T12:04:58.999Z"
   },
   {
    "duration": 8,
    "start_time": "2023-04-03T12:05:07.121Z"
   },
   {
    "duration": 11,
    "start_time": "2023-04-03T12:06:29.409Z"
   },
   {
    "duration": 5,
    "start_time": "2023-04-03T12:07:33.847Z"
   },
   {
    "duration": 4,
    "start_time": "2023-04-03T12:08:59.797Z"
   },
   {
    "duration": 5,
    "start_time": "2023-04-03T12:09:10.581Z"
   },
   {
    "duration": 7,
    "start_time": "2023-04-03T12:10:53.593Z"
   },
   {
    "duration": 30,
    "start_time": "2023-04-03T12:19:42.474Z"
   },
   {
    "duration": 4,
    "start_time": "2023-04-03T12:28:09.742Z"
   },
   {
    "duration": 7,
    "start_time": "2023-04-03T12:28:18.216Z"
   },
   {
    "duration": 5,
    "start_time": "2023-04-03T12:31:53.797Z"
   },
   {
    "duration": 22,
    "start_time": "2023-04-03T12:31:55.704Z"
   },
   {
    "duration": 6,
    "start_time": "2023-04-03T12:35:58.716Z"
   },
   {
    "duration": 16,
    "start_time": "2023-04-03T12:36:07.223Z"
   },
   {
    "duration": 23,
    "start_time": "2023-04-03T12:37:54.292Z"
   },
   {
    "duration": 10,
    "start_time": "2023-04-03T13:06:26.314Z"
   },
   {
    "duration": 2,
    "start_time": "2023-04-03T13:06:47.313Z"
   },
   {
    "duration": 87,
    "start_time": "2023-04-03T13:06:47.317Z"
   },
   {
    "duration": 16,
    "start_time": "2023-04-03T13:06:47.406Z"
   },
   {
    "duration": 29,
    "start_time": "2023-04-03T13:06:47.423Z"
   },
   {
    "duration": 32,
    "start_time": "2023-04-03T13:06:47.455Z"
   },
   {
    "duration": 7,
    "start_time": "2023-04-03T13:06:47.489Z"
   },
   {
    "duration": 22,
    "start_time": "2023-04-03T13:06:47.498Z"
   },
   {
    "duration": 20,
    "start_time": "2023-04-03T13:06:47.522Z"
   },
   {
    "duration": 22,
    "start_time": "2023-04-03T13:06:47.543Z"
   },
   {
    "duration": 22,
    "start_time": "2023-04-03T13:06:47.567Z"
   },
   {
    "duration": 16,
    "start_time": "2023-04-03T13:06:47.591Z"
   },
   {
    "duration": 16,
    "start_time": "2023-04-03T13:06:47.608Z"
   },
   {
    "duration": 16,
    "start_time": "2023-04-03T13:06:47.626Z"
   },
   {
    "duration": 48,
    "start_time": "2023-04-03T13:06:47.644Z"
   },
   {
    "duration": 3,
    "start_time": "2023-04-03T13:06:47.693Z"
   },
   {
    "duration": 5,
    "start_time": "2023-04-03T13:06:47.698Z"
   },
   {
    "duration": 5,
    "start_time": "2023-04-03T13:06:47.704Z"
   },
   {
    "duration": 14,
    "start_time": "2023-04-03T13:06:47.710Z"
   },
   {
    "duration": 5,
    "start_time": "2023-04-03T13:06:47.726Z"
   },
   {
    "duration": 20,
    "start_time": "2023-04-03T13:06:47.732Z"
   },
   {
    "duration": 41,
    "start_time": "2023-04-03T13:06:47.754Z"
   },
   {
    "duration": 5,
    "start_time": "2023-04-03T13:06:47.796Z"
   },
   {
    "duration": 10,
    "start_time": "2023-04-03T13:06:47.803Z"
   },
   {
    "duration": 8,
    "start_time": "2023-04-03T13:06:47.815Z"
   },
   {
    "duration": 7,
    "start_time": "2023-04-03T13:06:47.825Z"
   },
   {
    "duration": 8,
    "start_time": "2023-04-03T13:06:47.833Z"
   },
   {
    "duration": 51,
    "start_time": "2023-04-03T13:06:47.843Z"
   },
   {
    "duration": 12,
    "start_time": "2023-04-03T13:06:47.896Z"
   },
   {
    "duration": 6,
    "start_time": "2023-04-03T13:06:47.910Z"
   },
   {
    "duration": 21,
    "start_time": "2023-04-03T13:06:47.918Z"
   },
   {
    "duration": 24,
    "start_time": "2023-04-03T13:06:47.941Z"
   },
   {
    "duration": 12,
    "start_time": "2023-04-03T13:06:47.967Z"
   },
   {
    "duration": 12,
    "start_time": "2023-04-03T13:06:47.981Z"
   },
   {
    "duration": 11,
    "start_time": "2023-04-03T13:08:34.898Z"
   },
   {
    "duration": 15,
    "start_time": "2023-04-03T13:08:37.500Z"
   },
   {
    "duration": 3,
    "start_time": "2023-04-03T13:08:45.404Z"
   },
   {
    "duration": 119,
    "start_time": "2023-04-03T13:08:45.410Z"
   },
   {
    "duration": 16,
    "start_time": "2023-04-03T13:08:45.531Z"
   },
   {
    "duration": 34,
    "start_time": "2023-04-03T13:08:45.549Z"
   },
   {
    "duration": 35,
    "start_time": "2023-04-03T13:08:45.585Z"
   },
   {
    "duration": 9,
    "start_time": "2023-04-03T13:08:45.621Z"
   },
   {
    "duration": 16,
    "start_time": "2023-04-03T13:08:45.632Z"
   },
   {
    "duration": 11,
    "start_time": "2023-04-03T13:08:45.650Z"
   },
   {
    "duration": 14,
    "start_time": "2023-04-03T13:08:45.663Z"
   },
   {
    "duration": 17,
    "start_time": "2023-04-03T13:08:45.679Z"
   },
   {
    "duration": 20,
    "start_time": "2023-04-03T13:08:45.698Z"
   },
   {
    "duration": 18,
    "start_time": "2023-04-03T13:08:45.720Z"
   },
   {
    "duration": 37,
    "start_time": "2023-04-03T13:08:45.740Z"
   },
   {
    "duration": 38,
    "start_time": "2023-04-03T13:08:45.779Z"
   },
   {
    "duration": 12,
    "start_time": "2023-04-03T13:08:45.819Z"
   },
   {
    "duration": 9,
    "start_time": "2023-04-03T13:08:45.833Z"
   },
   {
    "duration": 7,
    "start_time": "2023-04-03T13:08:45.843Z"
   },
   {
    "duration": 12,
    "start_time": "2023-04-03T13:08:45.851Z"
   },
   {
    "duration": 7,
    "start_time": "2023-04-03T13:08:45.865Z"
   },
   {
    "duration": 29,
    "start_time": "2023-04-03T13:08:45.874Z"
   },
   {
    "duration": 33,
    "start_time": "2023-04-03T13:08:45.905Z"
   },
   {
    "duration": 4,
    "start_time": "2023-04-03T13:08:45.940Z"
   },
   {
    "duration": 14,
    "start_time": "2023-04-03T13:08:45.946Z"
   },
   {
    "duration": 24,
    "start_time": "2023-04-03T13:08:45.962Z"
   },
   {
    "duration": 12,
    "start_time": "2023-04-03T13:08:45.988Z"
   },
   {
    "duration": 9,
    "start_time": "2023-04-03T13:08:46.002Z"
   },
   {
    "duration": 33,
    "start_time": "2023-04-03T13:08:46.013Z"
   },
   {
    "duration": 7,
    "start_time": "2023-04-03T13:08:46.048Z"
   },
   {
    "duration": 21,
    "start_time": "2023-04-03T13:08:46.057Z"
   },
   {
    "duration": 24,
    "start_time": "2023-04-03T13:08:46.080Z"
   },
   {
    "duration": 41,
    "start_time": "2023-04-03T13:08:46.106Z"
   },
   {
    "duration": 17,
    "start_time": "2023-04-03T13:08:46.149Z"
   },
   {
    "duration": 29,
    "start_time": "2023-04-03T13:08:46.168Z"
   },
   {
    "duration": 11,
    "start_time": "2023-04-03T13:11:37.000Z"
   },
   {
    "duration": 3,
    "start_time": "2023-04-03T13:11:40.025Z"
   },
   {
    "duration": 113,
    "start_time": "2023-04-03T13:11:40.033Z"
   },
   {
    "duration": 15,
    "start_time": "2023-04-03T13:11:40.148Z"
   },
   {
    "duration": 32,
    "start_time": "2023-04-03T13:11:40.164Z"
   },
   {
    "duration": 50,
    "start_time": "2023-04-03T13:11:40.197Z"
   },
   {
    "duration": 7,
    "start_time": "2023-04-03T13:11:40.249Z"
   },
   {
    "duration": 41,
    "start_time": "2023-04-03T13:11:40.258Z"
   },
   {
    "duration": 40,
    "start_time": "2023-04-03T13:11:40.300Z"
   },
   {
    "duration": 26,
    "start_time": "2023-04-03T13:11:40.341Z"
   },
   {
    "duration": 18,
    "start_time": "2023-04-03T13:11:40.369Z"
   },
   {
    "duration": 46,
    "start_time": "2023-04-03T13:11:40.389Z"
   },
   {
    "duration": 24,
    "start_time": "2023-04-03T13:11:40.437Z"
   },
   {
    "duration": 16,
    "start_time": "2023-04-03T13:11:40.463Z"
   },
   {
    "duration": 31,
    "start_time": "2023-04-03T13:11:40.481Z"
   },
   {
    "duration": 7,
    "start_time": "2023-04-03T13:11:40.514Z"
   },
   {
    "duration": 27,
    "start_time": "2023-04-03T13:11:40.522Z"
   },
   {
    "duration": 24,
    "start_time": "2023-04-03T13:11:40.550Z"
   },
   {
    "duration": 13,
    "start_time": "2023-04-03T13:11:40.576Z"
   },
   {
    "duration": 7,
    "start_time": "2023-04-03T13:11:40.591Z"
   },
   {
    "duration": 29,
    "start_time": "2023-04-03T13:11:40.600Z"
   },
   {
    "duration": 42,
    "start_time": "2023-04-03T13:11:40.630Z"
   },
   {
    "duration": 5,
    "start_time": "2023-04-03T13:11:40.674Z"
   },
   {
    "duration": 9,
    "start_time": "2023-04-03T13:11:40.681Z"
   },
   {
    "duration": 9,
    "start_time": "2023-04-03T13:11:40.692Z"
   },
   {
    "duration": 33,
    "start_time": "2023-04-03T13:11:40.703Z"
   },
   {
    "duration": 19,
    "start_time": "2023-04-03T13:11:40.738Z"
   },
   {
    "duration": 60,
    "start_time": "2023-04-03T13:11:40.759Z"
   },
   {
    "duration": 5,
    "start_time": "2023-04-03T13:11:40.821Z"
   },
   {
    "duration": 22,
    "start_time": "2023-04-03T13:11:40.828Z"
   },
   {
    "duration": 31,
    "start_time": "2023-04-03T13:11:40.852Z"
   },
   {
    "duration": 55,
    "start_time": "2023-04-03T13:11:40.885Z"
   },
   {
    "duration": 34,
    "start_time": "2023-04-03T13:11:40.942Z"
   },
   {
    "duration": 23,
    "start_time": "2023-04-03T13:11:40.978Z"
   },
   {
    "duration": 9,
    "start_time": "2023-04-03T13:11:44.711Z"
   },
   {
    "duration": 11,
    "start_time": "2023-04-03T13:12:03.797Z"
   },
   {
    "duration": 3,
    "start_time": "2023-04-03T13:12:06.695Z"
   },
   {
    "duration": 95,
    "start_time": "2023-04-03T13:12:06.700Z"
   },
   {
    "duration": 15,
    "start_time": "2023-04-03T13:12:06.797Z"
   },
   {
    "duration": 27,
    "start_time": "2023-04-03T13:12:06.814Z"
   },
   {
    "duration": 40,
    "start_time": "2023-04-03T13:12:06.843Z"
   },
   {
    "duration": 7,
    "start_time": "2023-04-03T13:12:06.885Z"
   },
   {
    "duration": 28,
    "start_time": "2023-04-03T13:12:06.894Z"
   },
   {
    "duration": 16,
    "start_time": "2023-04-03T13:12:06.924Z"
   },
   {
    "duration": 27,
    "start_time": "2023-04-03T13:12:06.942Z"
   },
   {
    "duration": 20,
    "start_time": "2023-04-03T13:12:06.971Z"
   },
   {
    "duration": 27,
    "start_time": "2023-04-03T13:12:06.993Z"
   },
   {
    "duration": 33,
    "start_time": "2023-04-03T13:12:07.022Z"
   },
   {
    "duration": 17,
    "start_time": "2023-04-03T13:12:07.056Z"
   },
   {
    "duration": 29,
    "start_time": "2023-04-03T13:12:07.074Z"
   },
   {
    "duration": 2,
    "start_time": "2023-04-03T13:12:07.105Z"
   },
   {
    "duration": 6,
    "start_time": "2023-04-03T13:12:07.108Z"
   },
   {
    "duration": 7,
    "start_time": "2023-04-03T13:12:07.115Z"
   },
   {
    "duration": 6,
    "start_time": "2023-04-03T13:12:07.124Z"
   },
   {
    "duration": 23,
    "start_time": "2023-04-03T13:12:07.132Z"
   },
   {
    "duration": 18,
    "start_time": "2023-04-03T13:12:07.157Z"
   },
   {
    "duration": 30,
    "start_time": "2023-04-03T13:12:07.176Z"
   },
   {
    "duration": 5,
    "start_time": "2023-04-03T13:12:07.208Z"
   },
   {
    "duration": 10,
    "start_time": "2023-04-03T13:12:07.214Z"
   },
   {
    "duration": 7,
    "start_time": "2023-04-03T13:12:07.226Z"
   },
   {
    "duration": 14,
    "start_time": "2023-04-03T13:12:07.234Z"
   },
   {
    "duration": 26,
    "start_time": "2023-04-03T13:12:07.250Z"
   },
   {
    "duration": 31,
    "start_time": "2023-04-03T13:12:07.277Z"
   },
   {
    "duration": 7,
    "start_time": "2023-04-03T13:12:07.310Z"
   },
   {
    "duration": 5,
    "start_time": "2023-04-03T13:12:07.320Z"
   },
   {
    "duration": 14,
    "start_time": "2023-04-03T13:12:07.326Z"
   },
   {
    "duration": 34,
    "start_time": "2023-04-03T13:12:07.342Z"
   },
   {
    "duration": 14,
    "start_time": "2023-04-03T13:12:07.378Z"
   },
   {
    "duration": 16,
    "start_time": "2023-04-03T13:12:07.394Z"
   },
   {
    "duration": 3,
    "start_time": "2023-04-03T13:15:03.343Z"
   },
   {
    "duration": 96,
    "start_time": "2023-04-03T13:15:03.348Z"
   },
   {
    "duration": 33,
    "start_time": "2023-04-03T13:15:03.446Z"
   },
   {
    "duration": 31,
    "start_time": "2023-04-03T13:15:03.481Z"
   },
   {
    "duration": 34,
    "start_time": "2023-04-03T13:15:03.515Z"
   },
   {
    "duration": 8,
    "start_time": "2023-04-03T13:15:03.551Z"
   },
   {
    "duration": 12,
    "start_time": "2023-04-03T13:15:03.561Z"
   },
   {
    "duration": 4,
    "start_time": "2023-04-03T13:15:03.575Z"
   },
   {
    "duration": 14,
    "start_time": "2023-04-03T13:15:03.581Z"
   },
   {
    "duration": 26,
    "start_time": "2023-04-03T13:15:03.597Z"
   },
   {
    "duration": 16,
    "start_time": "2023-04-03T13:15:03.627Z"
   },
   {
    "duration": 39,
    "start_time": "2023-04-03T13:15:03.645Z"
   },
   {
    "duration": 18,
    "start_time": "2023-04-03T13:15:03.686Z"
   },
   {
    "duration": 22,
    "start_time": "2023-04-03T13:15:03.705Z"
   },
   {
    "duration": 3,
    "start_time": "2023-04-03T13:15:03.729Z"
   },
   {
    "duration": 5,
    "start_time": "2023-04-03T13:15:03.734Z"
   },
   {
    "duration": 11,
    "start_time": "2023-04-03T13:15:03.740Z"
   },
   {
    "duration": 24,
    "start_time": "2023-04-03T13:15:03.752Z"
   },
   {
    "duration": 6,
    "start_time": "2023-04-03T13:15:03.777Z"
   },
   {
    "duration": 18,
    "start_time": "2023-04-03T13:15:03.784Z"
   },
   {
    "duration": 31,
    "start_time": "2023-04-03T13:15:03.804Z"
   },
   {
    "duration": 5,
    "start_time": "2023-04-03T13:15:03.837Z"
   },
   {
    "duration": 37,
    "start_time": "2023-04-03T13:15:03.844Z"
   },
   {
    "duration": 11,
    "start_time": "2023-04-03T13:15:03.883Z"
   },
   {
    "duration": 14,
    "start_time": "2023-04-03T13:15:03.896Z"
   },
   {
    "duration": 12,
    "start_time": "2023-04-03T13:15:03.912Z"
   },
   {
    "duration": 57,
    "start_time": "2023-04-03T13:15:03.926Z"
   },
   {
    "duration": 7,
    "start_time": "2023-04-03T13:15:03.985Z"
   },
   {
    "duration": 11,
    "start_time": "2023-04-03T13:15:03.995Z"
   },
   {
    "duration": 11,
    "start_time": "2023-04-03T13:15:04.008Z"
   },
   {
    "duration": 31,
    "start_time": "2023-04-03T13:15:04.021Z"
   },
   {
    "duration": 26,
    "start_time": "2023-04-03T13:15:04.054Z"
   },
   {
    "duration": 16,
    "start_time": "2023-04-03T13:15:04.082Z"
   },
   {
    "duration": 23,
    "start_time": "2023-04-03T13:18:04.247Z"
   },
   {
    "duration": 18,
    "start_time": "2023-04-03T13:18:12.040Z"
   },
   {
    "duration": 3,
    "start_time": "2023-04-03T13:18:20.085Z"
   },
   {
    "duration": 96,
    "start_time": "2023-04-03T13:18:20.091Z"
   },
   {
    "duration": 17,
    "start_time": "2023-04-03T13:18:20.188Z"
   },
   {
    "duration": 21,
    "start_time": "2023-04-03T13:18:20.207Z"
   },
   {
    "duration": 35,
    "start_time": "2023-04-03T13:18:20.231Z"
   },
   {
    "duration": 9,
    "start_time": "2023-04-03T13:18:20.268Z"
   },
   {
    "duration": 23,
    "start_time": "2023-04-03T13:18:20.278Z"
   },
   {
    "duration": 13,
    "start_time": "2023-04-03T13:18:20.303Z"
   },
   {
    "duration": 19,
    "start_time": "2023-04-03T13:18:20.319Z"
   },
   {
    "duration": 32,
    "start_time": "2023-04-03T13:18:20.340Z"
   },
   {
    "duration": 39,
    "start_time": "2023-04-03T13:18:20.373Z"
   },
   {
    "duration": 46,
    "start_time": "2023-04-03T13:18:20.414Z"
   },
   {
    "duration": 24,
    "start_time": "2023-04-03T13:18:20.462Z"
   },
   {
    "duration": 35,
    "start_time": "2023-04-03T13:18:20.490Z"
   },
   {
    "duration": 3,
    "start_time": "2023-04-03T13:18:20.527Z"
   },
   {
    "duration": 19,
    "start_time": "2023-04-03T13:18:20.532Z"
   },
   {
    "duration": 4,
    "start_time": "2023-04-03T13:18:20.554Z"
   },
   {
    "duration": 16,
    "start_time": "2023-04-03T13:18:20.560Z"
   },
   {
    "duration": 5,
    "start_time": "2023-04-03T13:18:20.578Z"
   },
   {
    "duration": 34,
    "start_time": "2023-04-03T13:18:20.585Z"
   },
   {
    "duration": 56,
    "start_time": "2023-04-03T13:18:20.621Z"
   },
   {
    "duration": 6,
    "start_time": "2023-04-03T13:18:20.679Z"
   },
   {
    "duration": 14,
    "start_time": "2023-04-03T13:18:20.687Z"
   },
   {
    "duration": 11,
    "start_time": "2023-04-03T13:18:20.703Z"
   },
   {
    "duration": 11,
    "start_time": "2023-04-03T13:18:20.716Z"
   },
   {
    "duration": 6,
    "start_time": "2023-04-03T13:18:20.729Z"
   },
   {
    "duration": 61,
    "start_time": "2023-04-03T13:18:20.737Z"
   },
   {
    "duration": 7,
    "start_time": "2023-04-03T13:18:20.800Z"
   },
   {
    "duration": 5,
    "start_time": "2023-04-03T13:18:20.808Z"
   },
   {
    "duration": 15,
    "start_time": "2023-04-03T13:18:20.816Z"
   },
   {
    "duration": 50,
    "start_time": "2023-04-03T13:18:20.834Z"
   },
   {
    "duration": 11,
    "start_time": "2023-04-03T13:18:20.886Z"
   },
   {
    "duration": 24,
    "start_time": "2023-04-03T13:18:20.899Z"
   },
   {
    "duration": 42,
    "start_time": "2023-04-03T13:18:20.925Z"
   },
   {
    "duration": 10,
    "start_time": "2023-04-03T13:18:20.976Z"
   },
   {
    "duration": 27,
    "start_time": "2023-04-03T13:19:00.365Z"
   },
   {
    "duration": 16,
    "start_time": "2023-04-03T13:19:55.366Z"
   },
   {
    "duration": 5,
    "start_time": "2023-04-03T13:20:22.004Z"
   },
   {
    "duration": 16,
    "start_time": "2023-04-03T13:20:41.466Z"
   },
   {
    "duration": 3,
    "start_time": "2023-04-03T13:20:46.043Z"
   },
   {
    "duration": 297,
    "start_time": "2023-04-03T13:20:46.048Z"
   },
   {
    "duration": 23,
    "start_time": "2023-04-03T13:20:46.348Z"
   },
   {
    "duration": 24,
    "start_time": "2023-04-03T13:20:46.376Z"
   },
   {
    "duration": 35,
    "start_time": "2023-04-03T13:20:46.402Z"
   },
   {
    "duration": 10,
    "start_time": "2023-04-03T13:20:46.440Z"
   },
   {
    "duration": 13,
    "start_time": "2023-04-03T13:20:46.452Z"
   },
   {
    "duration": 4,
    "start_time": "2023-04-03T13:20:46.476Z"
   },
   {
    "duration": 17,
    "start_time": "2023-04-03T13:20:46.483Z"
   },
   {
    "duration": 26,
    "start_time": "2023-04-03T13:20:46.502Z"
   },
   {
    "duration": 16,
    "start_time": "2023-04-03T13:20:46.529Z"
   },
   {
    "duration": 45,
    "start_time": "2023-04-03T13:20:46.547Z"
   },
   {
    "duration": 19,
    "start_time": "2023-04-03T13:20:46.594Z"
   },
   {
    "duration": 64,
    "start_time": "2023-04-03T13:20:46.615Z"
   },
   {
    "duration": 20,
    "start_time": "2023-04-03T13:20:46.681Z"
   },
   {
    "duration": 7,
    "start_time": "2023-04-03T13:20:46.705Z"
   },
   {
    "duration": 11,
    "start_time": "2023-04-03T13:20:46.714Z"
   },
   {
    "duration": 11,
    "start_time": "2023-04-03T13:20:46.728Z"
   },
   {
    "duration": 6,
    "start_time": "2023-04-03T13:20:46.742Z"
   },
   {
    "duration": 25,
    "start_time": "2023-04-03T13:20:46.750Z"
   },
   {
    "duration": 35,
    "start_time": "2023-04-03T13:20:46.777Z"
   },
   {
    "duration": 7,
    "start_time": "2023-04-03T13:20:46.814Z"
   },
   {
    "duration": 17,
    "start_time": "2023-04-03T13:20:46.823Z"
   },
   {
    "duration": 42,
    "start_time": "2023-04-03T13:20:46.845Z"
   },
   {
    "duration": 6,
    "start_time": "2023-04-03T13:20:46.889Z"
   },
   {
    "duration": 25,
    "start_time": "2023-04-03T13:20:46.897Z"
   },
   {
    "duration": 82,
    "start_time": "2023-04-03T13:20:46.924Z"
   },
   {
    "duration": 15,
    "start_time": "2023-04-03T13:20:47.008Z"
   },
   {
    "duration": 13,
    "start_time": "2023-04-03T13:20:47.025Z"
   },
   {
    "duration": 32,
    "start_time": "2023-04-03T13:20:47.040Z"
   },
   {
    "duration": 26,
    "start_time": "2023-04-03T13:20:47.073Z"
   },
   {
    "duration": 36,
    "start_time": "2023-04-03T13:20:47.100Z"
   },
   {
    "duration": 26,
    "start_time": "2023-04-03T13:20:47.138Z"
   },
   {
    "duration": 15,
    "start_time": "2023-04-03T13:20:47.166Z"
   },
   {
    "duration": 8,
    "start_time": "2023-04-03T13:20:47.183Z"
   },
   {
    "duration": 26,
    "start_time": "2023-04-03T13:20:47.193Z"
   },
   {
    "duration": 0,
    "start_time": "2023-04-03T13:20:47.221Z"
   },
   {
    "duration": 21,
    "start_time": "2023-04-03T13:21:06.499Z"
   },
   {
    "duration": 20,
    "start_time": "2023-04-03T13:21:08.782Z"
   },
   {
    "duration": 26,
    "start_time": "2023-04-03T13:21:47.573Z"
   },
   {
    "duration": 19,
    "start_time": "2023-04-03T13:22:08.043Z"
   },
   {
    "duration": 86,
    "start_time": "2023-04-03T13:25:16.999Z"
   },
   {
    "duration": 4,
    "start_time": "2023-04-03T13:25:22.248Z"
   },
   {
    "duration": 2,
    "start_time": "2023-04-03T13:26:53.773Z"
   },
   {
    "duration": 104,
    "start_time": "2023-04-03T13:26:53.778Z"
   },
   {
    "duration": 24,
    "start_time": "2023-04-03T13:26:53.884Z"
   },
   {
    "duration": 26,
    "start_time": "2023-04-03T13:26:53.910Z"
   },
   {
    "duration": 34,
    "start_time": "2023-04-03T13:26:53.940Z"
   },
   {
    "duration": 14,
    "start_time": "2023-04-03T13:26:53.976Z"
   },
   {
    "duration": 14,
    "start_time": "2023-04-03T13:26:53.992Z"
   },
   {
    "duration": 4,
    "start_time": "2023-04-03T13:26:54.008Z"
   },
   {
    "duration": 16,
    "start_time": "2023-04-03T13:26:54.015Z"
   },
   {
    "duration": 44,
    "start_time": "2023-04-03T13:26:54.035Z"
   },
   {
    "duration": 20,
    "start_time": "2023-04-03T13:26:54.083Z"
   },
   {
    "duration": 32,
    "start_time": "2023-04-03T13:26:54.104Z"
   },
   {
    "duration": 23,
    "start_time": "2023-04-03T13:26:54.139Z"
   },
   {
    "duration": 48,
    "start_time": "2023-04-03T13:26:54.164Z"
   },
   {
    "duration": 7,
    "start_time": "2023-04-03T13:26:54.214Z"
   },
   {
    "duration": 7,
    "start_time": "2023-04-03T13:26:54.224Z"
   },
   {
    "duration": 11,
    "start_time": "2023-04-03T13:26:54.233Z"
   },
   {
    "duration": 5,
    "start_time": "2023-04-03T13:26:54.246Z"
   },
   {
    "duration": 10,
    "start_time": "2023-04-03T13:26:54.254Z"
   },
   {
    "duration": 47,
    "start_time": "2023-04-03T13:26:54.266Z"
   },
   {
    "duration": 58,
    "start_time": "2023-04-03T13:26:54.317Z"
   },
   {
    "duration": 8,
    "start_time": "2023-04-03T13:26:54.380Z"
   },
   {
    "duration": 15,
    "start_time": "2023-04-03T13:26:54.390Z"
   },
   {
    "duration": 10,
    "start_time": "2023-04-03T13:26:54.407Z"
   },
   {
    "duration": 18,
    "start_time": "2023-04-03T13:26:54.419Z"
   },
   {
    "duration": 11,
    "start_time": "2023-04-03T13:26:54.439Z"
   },
   {
    "duration": 63,
    "start_time": "2023-04-03T13:26:54.452Z"
   },
   {
    "duration": 7,
    "start_time": "2023-04-03T13:26:54.518Z"
   },
   {
    "duration": 11,
    "start_time": "2023-04-03T13:26:54.529Z"
   },
   {
    "duration": 19,
    "start_time": "2023-04-03T13:26:54.543Z"
   },
   {
    "duration": 51,
    "start_time": "2023-04-03T13:26:54.565Z"
   },
   {
    "duration": 9,
    "start_time": "2023-04-03T13:26:54.618Z"
   },
   {
    "duration": 23,
    "start_time": "2023-04-03T13:26:54.629Z"
   },
   {
    "duration": 5,
    "start_time": "2023-04-03T13:26:54.654Z"
   },
   {
    "duration": 23,
    "start_time": "2023-04-03T13:26:54.676Z"
   },
   {
    "duration": 15,
    "start_time": "2023-04-03T13:26:54.701Z"
   },
   {
    "duration": 0,
    "start_time": "2023-04-03T13:26:54.718Z"
   },
   {
    "duration": 3,
    "start_time": "2023-04-03T13:32:42.740Z"
   },
   {
    "duration": 114,
    "start_time": "2023-04-03T13:32:42.745Z"
   },
   {
    "duration": 27,
    "start_time": "2023-04-03T13:32:42.861Z"
   },
   {
    "duration": 16,
    "start_time": "2023-04-03T13:32:42.898Z"
   },
   {
    "duration": 33,
    "start_time": "2023-04-03T13:32:42.918Z"
   },
   {
    "duration": 9,
    "start_time": "2023-04-03T13:32:42.953Z"
   },
   {
    "duration": 26,
    "start_time": "2023-04-03T13:32:42.964Z"
   },
   {
    "duration": 4,
    "start_time": "2023-04-03T13:32:42.997Z"
   },
   {
    "duration": 27,
    "start_time": "2023-04-03T13:32:43.004Z"
   },
   {
    "duration": 16,
    "start_time": "2023-04-03T13:32:43.033Z"
   },
   {
    "duration": 16,
    "start_time": "2023-04-03T13:32:43.051Z"
   },
   {
    "duration": 30,
    "start_time": "2023-04-03T13:32:43.069Z"
   },
   {
    "duration": 40,
    "start_time": "2023-04-03T13:32:43.101Z"
   },
   {
    "duration": 28,
    "start_time": "2023-04-03T13:32:43.143Z"
   },
   {
    "duration": 25,
    "start_time": "2023-04-03T13:32:43.173Z"
   },
   {
    "duration": 26,
    "start_time": "2023-04-03T13:32:43.201Z"
   },
   {
    "duration": 10,
    "start_time": "2023-04-03T13:32:43.230Z"
   },
   {
    "duration": 26,
    "start_time": "2023-04-03T13:32:43.242Z"
   },
   {
    "duration": 25,
    "start_time": "2023-04-03T13:32:43.271Z"
   },
   {
    "duration": 51,
    "start_time": "2023-04-03T13:32:43.298Z"
   },
   {
    "duration": 53,
    "start_time": "2023-04-03T13:32:43.352Z"
   },
   {
    "duration": 6,
    "start_time": "2023-04-03T13:32:43.408Z"
   },
   {
    "duration": 13,
    "start_time": "2023-04-03T13:32:43.417Z"
   },
   {
    "duration": 13,
    "start_time": "2023-04-03T13:32:43.434Z"
   },
   {
    "duration": 10,
    "start_time": "2023-04-03T13:32:43.449Z"
   },
   {
    "duration": 7,
    "start_time": "2023-04-03T13:32:43.475Z"
   },
   {
    "duration": 52,
    "start_time": "2023-04-03T13:32:43.484Z"
   },
   {
    "duration": 6,
    "start_time": "2023-04-03T13:32:43.538Z"
   },
   {
    "duration": 19,
    "start_time": "2023-04-03T13:32:43.546Z"
   },
   {
    "duration": 99,
    "start_time": "2023-04-03T13:32:43.567Z"
   },
   {
    "duration": 62,
    "start_time": "2023-04-03T13:32:43.668Z"
   },
   {
    "duration": 22,
    "start_time": "2023-04-03T13:32:43.732Z"
   },
   {
    "duration": 18,
    "start_time": "2023-04-03T13:32:43.756Z"
   },
   {
    "duration": 17,
    "start_time": "2023-04-03T13:32:43.776Z"
   },
   {
    "duration": 33,
    "start_time": "2023-04-03T13:32:43.796Z"
   },
   {
    "duration": 14,
    "start_time": "2023-04-03T13:32:43.831Z"
   },
   {
    "duration": 0,
    "start_time": "2023-04-03T13:32:43.847Z"
   },
   {
    "duration": 51,
    "start_time": "2023-04-04T06:40:27.913Z"
   },
   {
    "duration": 439,
    "start_time": "2023-04-04T06:40:31.923Z"
   },
   {
    "duration": 358,
    "start_time": "2023-04-04T06:40:32.364Z"
   },
   {
    "duration": 27,
    "start_time": "2023-04-04T06:40:32.724Z"
   },
   {
    "duration": 23,
    "start_time": "2023-04-04T06:40:32.753Z"
   },
   {
    "duration": 115,
    "start_time": "2023-04-04T06:40:32.779Z"
   },
   {
    "duration": 9,
    "start_time": "2023-04-04T06:40:32.897Z"
   },
   {
    "duration": 29,
    "start_time": "2023-04-04T06:40:32.908Z"
   },
   {
    "duration": 10,
    "start_time": "2023-04-04T06:40:32.939Z"
   },
   {
    "duration": 25,
    "start_time": "2023-04-04T06:40:32.951Z"
   },
   {
    "duration": 35,
    "start_time": "2023-04-04T06:40:32.979Z"
   },
   {
    "duration": 24,
    "start_time": "2023-04-04T06:40:33.015Z"
   },
   {
    "duration": 36,
    "start_time": "2023-04-04T06:40:33.041Z"
   },
   {
    "duration": 23,
    "start_time": "2023-04-04T06:40:33.079Z"
   },
   {
    "duration": 35,
    "start_time": "2023-04-04T06:40:33.105Z"
   },
   {
    "duration": 7,
    "start_time": "2023-04-04T06:40:33.142Z"
   },
   {
    "duration": 30,
    "start_time": "2023-04-04T06:40:33.150Z"
   },
   {
    "duration": 26,
    "start_time": "2023-04-04T06:40:33.182Z"
   },
   {
    "duration": 21,
    "start_time": "2023-04-04T06:40:33.210Z"
   },
   {
    "duration": 32,
    "start_time": "2023-04-04T06:40:33.233Z"
   },
   {
    "duration": 37,
    "start_time": "2023-04-04T06:40:33.267Z"
   },
   {
    "duration": 45,
    "start_time": "2023-04-04T06:40:33.306Z"
   },
   {
    "duration": 22,
    "start_time": "2023-04-04T06:40:33.353Z"
   },
   {
    "duration": 33,
    "start_time": "2023-04-04T06:40:33.377Z"
   },
   {
    "duration": 24,
    "start_time": "2023-04-04T06:40:33.412Z"
   },
   {
    "duration": 30,
    "start_time": "2023-04-04T06:40:33.438Z"
   },
   {
    "duration": 19,
    "start_time": "2023-04-04T06:40:33.470Z"
   },
   {
    "duration": 91,
    "start_time": "2023-04-04T06:40:33.491Z"
   },
   {
    "duration": 5,
    "start_time": "2023-04-04T06:40:33.584Z"
   },
   {
    "duration": 22,
    "start_time": "2023-04-04T06:40:33.590Z"
   },
   {
    "duration": 36,
    "start_time": "2023-04-04T06:40:33.613Z"
   },
   {
    "duration": 43,
    "start_time": "2023-04-04T06:40:33.650Z"
   },
   {
    "duration": 28,
    "start_time": "2023-04-04T06:40:33.694Z"
   },
   {
    "duration": 60,
    "start_time": "2023-04-04T06:40:33.724Z"
   },
   {
    "duration": 22,
    "start_time": "2023-04-04T06:40:33.785Z"
   },
   {
    "duration": 34,
    "start_time": "2023-04-04T06:40:33.809Z"
   },
   {
    "duration": 54,
    "start_time": "2023-04-04T06:40:33.845Z"
   },
   {
    "duration": 0,
    "start_time": "2023-04-04T06:40:33.901Z"
   },
   {
    "duration": 5,
    "start_time": "2023-04-04T06:44:28.217Z"
   },
   {
    "duration": 6,
    "start_time": "2023-04-04T06:46:06.655Z"
   },
   {
    "duration": 6,
    "start_time": "2023-04-04T06:46:07.822Z"
   },
   {
    "duration": 458,
    "start_time": "2023-04-04T06:46:15.382Z"
   },
   {
    "duration": 22,
    "start_time": "2023-04-04T06:47:17.628Z"
   },
   {
    "duration": 8,
    "start_time": "2023-04-04T06:52:29.405Z"
   },
   {
    "duration": 3,
    "start_time": "2023-04-04T06:52:39.927Z"
   },
   {
    "duration": 96,
    "start_time": "2023-04-04T06:52:39.932Z"
   },
   {
    "duration": 14,
    "start_time": "2023-04-04T06:52:40.030Z"
   },
   {
    "duration": 25,
    "start_time": "2023-04-04T06:52:40.046Z"
   },
   {
    "duration": 42,
    "start_time": "2023-04-04T06:52:40.072Z"
   },
   {
    "duration": 8,
    "start_time": "2023-04-04T06:52:40.115Z"
   },
   {
    "duration": 17,
    "start_time": "2023-04-04T06:52:40.125Z"
   },
   {
    "duration": 19,
    "start_time": "2023-04-04T06:52:40.144Z"
   },
   {
    "duration": 19,
    "start_time": "2023-04-04T06:52:40.166Z"
   },
   {
    "duration": 25,
    "start_time": "2023-04-04T06:52:40.187Z"
   },
   {
    "duration": 14,
    "start_time": "2023-04-04T06:52:40.214Z"
   },
   {
    "duration": 17,
    "start_time": "2023-04-04T06:52:40.229Z"
   },
   {
    "duration": 16,
    "start_time": "2023-04-04T06:52:40.248Z"
   },
   {
    "duration": 46,
    "start_time": "2023-04-04T06:52:40.266Z"
   },
   {
    "duration": 5,
    "start_time": "2023-04-04T06:52:40.314Z"
   },
   {
    "duration": 20,
    "start_time": "2023-04-04T06:52:40.320Z"
   },
   {
    "duration": 22,
    "start_time": "2023-04-04T06:52:40.342Z"
   },
   {
    "duration": 14,
    "start_time": "2023-04-04T06:52:40.366Z"
   },
   {
    "duration": 24,
    "start_time": "2023-04-04T06:52:40.381Z"
   },
   {
    "duration": 37,
    "start_time": "2023-04-04T06:52:40.406Z"
   },
   {
    "duration": 35,
    "start_time": "2023-04-04T06:52:40.444Z"
   },
   {
    "duration": 4,
    "start_time": "2023-04-04T06:52:40.481Z"
   },
   {
    "duration": 29,
    "start_time": "2023-04-04T06:52:40.487Z"
   },
   {
    "duration": 35,
    "start_time": "2023-04-04T06:52:40.521Z"
   },
   {
    "duration": 24,
    "start_time": "2023-04-04T06:52:40.558Z"
   },
   {
    "duration": 31,
    "start_time": "2023-04-04T06:52:40.583Z"
   },
   {
    "duration": 49,
    "start_time": "2023-04-04T06:52:40.615Z"
   },
   {
    "duration": 8,
    "start_time": "2023-04-04T06:52:40.665Z"
   },
   {
    "duration": 40,
    "start_time": "2023-04-04T06:52:40.674Z"
   },
   {
    "duration": 33,
    "start_time": "2023-04-04T06:52:40.715Z"
   },
   {
    "duration": 36,
    "start_time": "2023-04-04T06:52:40.750Z"
   },
   {
    "duration": 28,
    "start_time": "2023-04-04T06:52:40.788Z"
   },
   {
    "duration": 33,
    "start_time": "2023-04-04T06:52:40.818Z"
   },
   {
    "duration": 30,
    "start_time": "2023-04-04T06:52:40.853Z"
   },
   {
    "duration": 34,
    "start_time": "2023-04-04T06:52:40.885Z"
   },
   {
    "duration": 27,
    "start_time": "2023-04-04T06:52:40.922Z"
   },
   {
    "duration": 0,
    "start_time": "2023-04-04T06:52:40.951Z"
   },
   {
    "duration": 0,
    "start_time": "2023-04-04T06:52:40.952Z"
   },
   {
    "duration": 0,
    "start_time": "2023-04-04T06:52:40.954Z"
   },
   {
    "duration": 7,
    "start_time": "2023-04-04T06:52:52.428Z"
   },
   {
    "duration": 17,
    "start_time": "2023-04-04T06:52:55.087Z"
   },
   {
    "duration": 6,
    "start_time": "2023-04-04T06:53:07.956Z"
   },
   {
    "duration": 5,
    "start_time": "2023-04-04T06:54:05.379Z"
   },
   {
    "duration": 16,
    "start_time": "2023-04-04T06:54:06.808Z"
   },
   {
    "duration": 16,
    "start_time": "2023-04-04T06:54:24.957Z"
   },
   {
    "duration": 8,
    "start_time": "2023-04-04T06:55:08.003Z"
   },
   {
    "duration": 6,
    "start_time": "2023-04-04T06:55:16.542Z"
   },
   {
    "duration": 2,
    "start_time": "2023-04-04T06:55:33.433Z"
   },
   {
    "duration": 90,
    "start_time": "2023-04-04T06:55:33.437Z"
   },
   {
    "duration": 15,
    "start_time": "2023-04-04T06:55:33.529Z"
   },
   {
    "duration": 18,
    "start_time": "2023-04-04T06:55:33.546Z"
   },
   {
    "duration": 39,
    "start_time": "2023-04-04T06:55:33.566Z"
   },
   {
    "duration": 7,
    "start_time": "2023-04-04T06:55:33.607Z"
   },
   {
    "duration": 11,
    "start_time": "2023-04-04T06:55:33.616Z"
   },
   {
    "duration": 14,
    "start_time": "2023-04-04T06:55:33.629Z"
   },
   {
    "duration": 16,
    "start_time": "2023-04-04T06:55:33.645Z"
   },
   {
    "duration": 15,
    "start_time": "2023-04-04T06:55:33.663Z"
   },
   {
    "duration": 14,
    "start_time": "2023-04-04T06:55:33.681Z"
   },
   {
    "duration": 22,
    "start_time": "2023-04-04T06:55:33.697Z"
   },
   {
    "duration": 17,
    "start_time": "2023-04-04T06:55:33.721Z"
   },
   {
    "duration": 24,
    "start_time": "2023-04-04T06:55:33.739Z"
   },
   {
    "duration": 2,
    "start_time": "2023-04-04T06:55:33.765Z"
   },
   {
    "duration": 8,
    "start_time": "2023-04-04T06:55:33.769Z"
   },
   {
    "duration": 15,
    "start_time": "2023-04-04T06:55:33.778Z"
   },
   {
    "duration": 18,
    "start_time": "2023-04-04T06:55:33.795Z"
   },
   {
    "duration": 11,
    "start_time": "2023-04-04T06:55:33.814Z"
   },
   {
    "duration": 22,
    "start_time": "2023-04-04T06:55:33.826Z"
   },
   {
    "duration": 29,
    "start_time": "2023-04-04T06:55:33.850Z"
   },
   {
    "duration": 5,
    "start_time": "2023-04-04T06:55:33.880Z"
   },
   {
    "duration": 20,
    "start_time": "2023-04-04T06:55:33.886Z"
   },
   {
    "duration": 19,
    "start_time": "2023-04-04T06:55:33.907Z"
   },
   {
    "duration": 8,
    "start_time": "2023-04-04T06:55:33.927Z"
   },
   {
    "duration": 7,
    "start_time": "2023-04-04T06:55:33.937Z"
   },
   {
    "duration": 36,
    "start_time": "2023-04-04T06:55:33.946Z"
   },
   {
    "duration": 5,
    "start_time": "2023-04-04T06:55:33.984Z"
   },
   {
    "duration": 16,
    "start_time": "2023-04-04T06:55:33.992Z"
   },
   {
    "duration": 33,
    "start_time": "2023-04-04T06:55:34.009Z"
   },
   {
    "duration": 33,
    "start_time": "2023-04-04T06:55:34.044Z"
   },
   {
    "duration": 14,
    "start_time": "2023-04-04T06:55:34.078Z"
   },
   {
    "duration": 15,
    "start_time": "2023-04-04T06:55:34.094Z"
   },
   {
    "duration": 7,
    "start_time": "2023-04-04T06:55:34.111Z"
   },
   {
    "duration": 23,
    "start_time": "2023-04-04T06:55:34.120Z"
   },
   {
    "duration": 9,
    "start_time": "2023-04-04T06:55:34.144Z"
   },
   {
    "duration": 26,
    "start_time": "2023-04-04T06:55:34.155Z"
   },
   {
    "duration": 7,
    "start_time": "2023-04-04T06:55:34.182Z"
   },
   {
    "duration": 16,
    "start_time": "2023-04-04T06:55:34.190Z"
   },
   {
    "duration": 0,
    "start_time": "2023-04-04T06:55:34.207Z"
   },
   {
    "duration": 3,
    "start_time": "2023-04-04T06:57:43.017Z"
   },
   {
    "duration": 4,
    "start_time": "2023-04-04T06:57:44.116Z"
   },
   {
    "duration": 4,
    "start_time": "2023-04-04T06:57:49.286Z"
   },
   {
    "duration": 4,
    "start_time": "2023-04-04T06:58:13.109Z"
   },
   {
    "duration": 5,
    "start_time": "2023-04-04T06:58:16.810Z"
   },
   {
    "duration": 4,
    "start_time": "2023-04-04T06:58:31.151Z"
   },
   {
    "duration": 2,
    "start_time": "2023-04-04T06:59:28.853Z"
   },
   {
    "duration": 101,
    "start_time": "2023-04-04T06:59:28.857Z"
   },
   {
    "duration": 15,
    "start_time": "2023-04-04T06:59:28.960Z"
   },
   {
    "duration": 29,
    "start_time": "2023-04-04T06:59:28.977Z"
   },
   {
    "duration": 47,
    "start_time": "2023-04-04T06:59:29.007Z"
   },
   {
    "duration": 8,
    "start_time": "2023-04-04T06:59:29.056Z"
   },
   {
    "duration": 25,
    "start_time": "2023-04-04T06:59:29.066Z"
   },
   {
    "duration": 20,
    "start_time": "2023-04-04T06:59:29.093Z"
   },
   {
    "duration": 20,
    "start_time": "2023-04-04T06:59:29.115Z"
   },
   {
    "duration": 47,
    "start_time": "2023-04-04T06:59:29.139Z"
   },
   {
    "duration": 43,
    "start_time": "2023-04-04T06:59:29.188Z"
   },
   {
    "duration": 20,
    "start_time": "2023-04-04T06:59:29.233Z"
   },
   {
    "duration": 20,
    "start_time": "2023-04-04T06:59:29.255Z"
   },
   {
    "duration": 23,
    "start_time": "2023-04-04T06:59:29.277Z"
   },
   {
    "duration": 16,
    "start_time": "2023-04-04T06:59:29.302Z"
   },
   {
    "duration": 7,
    "start_time": "2023-04-04T06:59:29.320Z"
   },
   {
    "duration": 14,
    "start_time": "2023-04-04T06:59:29.329Z"
   },
   {
    "duration": 6,
    "start_time": "2023-04-04T06:59:29.345Z"
   },
   {
    "duration": 19,
    "start_time": "2023-04-04T06:59:29.352Z"
   },
   {
    "duration": 40,
    "start_time": "2023-04-04T06:59:29.373Z"
   },
   {
    "duration": 38,
    "start_time": "2023-04-04T06:59:29.414Z"
   },
   {
    "duration": 5,
    "start_time": "2023-04-04T06:59:29.453Z"
   },
   {
    "duration": 13,
    "start_time": "2023-04-04T06:59:29.460Z"
   },
   {
    "duration": 18,
    "start_time": "2023-04-04T06:59:29.474Z"
   },
   {
    "duration": 6,
    "start_time": "2023-04-04T06:59:29.494Z"
   },
   {
    "duration": 15,
    "start_time": "2023-04-04T06:59:29.501Z"
   },
   {
    "duration": 12,
    "start_time": "2023-04-04T06:59:29.518Z"
   },
   {
    "duration": 5,
    "start_time": "2023-04-04T06:59:29.533Z"
   },
   {
    "duration": 8,
    "start_time": "2023-04-04T06:59:29.539Z"
   },
   {
    "duration": 11,
    "start_time": "2023-04-04T06:59:29.549Z"
   },
   {
    "duration": 8,
    "start_time": "2023-04-04T06:59:29.561Z"
   },
   {
    "duration": 26,
    "start_time": "2023-04-04T06:59:29.570Z"
   },
   {
    "duration": 19,
    "start_time": "2023-04-04T06:59:29.598Z"
   },
   {
    "duration": 14,
    "start_time": "2023-04-04T06:59:29.619Z"
   },
   {
    "duration": 9,
    "start_time": "2023-04-04T06:59:29.635Z"
   },
   {
    "duration": 24,
    "start_time": "2023-04-04T06:59:29.645Z"
   },
   {
    "duration": 4,
    "start_time": "2023-04-04T06:59:29.671Z"
   },
   {
    "duration": 42,
    "start_time": "2023-04-04T06:59:29.676Z"
   },
   {
    "duration": 4,
    "start_time": "2023-04-04T06:59:29.720Z"
   },
   {
    "duration": 16,
    "start_time": "2023-04-04T06:59:29.726Z"
   },
   {
    "duration": 0,
    "start_time": "2023-04-04T06:59:29.743Z"
   },
   {
    "duration": 5,
    "start_time": "2023-04-04T07:00:14.374Z"
   },
   {
    "duration": 4,
    "start_time": "2023-04-04T07:00:16.131Z"
   },
   {
    "duration": 2,
    "start_time": "2023-04-04T07:00:17.400Z"
   },
   {
    "duration": 21,
    "start_time": "2023-04-04T07:00:56.768Z"
   },
   {
    "duration": 9,
    "start_time": "2023-04-04T07:01:54.354Z"
   },
   {
    "duration": 11,
    "start_time": "2023-04-04T07:01:55.378Z"
   },
   {
    "duration": 3,
    "start_time": "2023-04-04T07:01:56.626Z"
   },
   {
    "duration": 4,
    "start_time": "2023-04-04T07:01:57.504Z"
   },
   {
    "duration": 5,
    "start_time": "2023-04-04T07:02:01.363Z"
   },
   {
    "duration": 23,
    "start_time": "2023-04-04T07:02:38.344Z"
   },
   {
    "duration": 5,
    "start_time": "2023-04-04T07:03:19.389Z"
   },
   {
    "duration": 3,
    "start_time": "2023-04-04T07:03:43.846Z"
   },
   {
    "duration": 6,
    "start_time": "2023-04-04T07:03:45.427Z"
   },
   {
    "duration": 5,
    "start_time": "2023-04-04T07:04:08.427Z"
   },
   {
    "duration": 2,
    "start_time": "2023-04-04T07:04:26.937Z"
   },
   {
    "duration": 96,
    "start_time": "2023-04-04T07:04:26.944Z"
   },
   {
    "duration": 15,
    "start_time": "2023-04-04T07:04:27.042Z"
   },
   {
    "duration": 23,
    "start_time": "2023-04-04T07:04:27.058Z"
   },
   {
    "duration": 39,
    "start_time": "2023-04-04T07:04:27.083Z"
   },
   {
    "duration": 8,
    "start_time": "2023-04-04T07:04:27.124Z"
   },
   {
    "duration": 29,
    "start_time": "2023-04-04T07:04:27.133Z"
   },
   {
    "duration": 42,
    "start_time": "2023-04-04T07:04:27.164Z"
   },
   {
    "duration": 18,
    "start_time": "2023-04-04T07:04:27.208Z"
   },
   {
    "duration": 57,
    "start_time": "2023-04-04T07:04:27.228Z"
   },
   {
    "duration": 27,
    "start_time": "2023-04-04T07:04:27.287Z"
   },
   {
    "duration": 19,
    "start_time": "2023-04-04T07:04:27.315Z"
   },
   {
    "duration": 18,
    "start_time": "2023-04-04T07:04:27.336Z"
   },
   {
    "duration": 34,
    "start_time": "2023-04-04T07:04:27.355Z"
   },
   {
    "duration": 16,
    "start_time": "2023-04-04T07:04:27.393Z"
   },
   {
    "duration": 18,
    "start_time": "2023-04-04T07:04:27.411Z"
   },
   {
    "duration": 17,
    "start_time": "2023-04-04T07:04:27.431Z"
   },
   {
    "duration": 15,
    "start_time": "2023-04-04T07:04:27.450Z"
   },
   {
    "duration": 24,
    "start_time": "2023-04-04T07:04:27.466Z"
   },
   {
    "duration": 38,
    "start_time": "2023-04-04T07:04:27.491Z"
   },
   {
    "duration": 32,
    "start_time": "2023-04-04T07:04:27.531Z"
   },
   {
    "duration": 5,
    "start_time": "2023-04-04T07:04:27.565Z"
   },
   {
    "duration": 22,
    "start_time": "2023-04-04T07:04:27.571Z"
   },
   {
    "duration": 24,
    "start_time": "2023-04-04T07:04:27.596Z"
   },
   {
    "duration": 15,
    "start_time": "2023-04-04T07:04:27.622Z"
   },
   {
    "duration": 23,
    "start_time": "2023-04-04T07:04:27.639Z"
   },
   {
    "duration": 43,
    "start_time": "2023-04-04T07:04:27.664Z"
   },
   {
    "duration": 36,
    "start_time": "2023-04-04T07:04:27.708Z"
   },
   {
    "duration": 19,
    "start_time": "2023-04-04T07:04:27.746Z"
   },
   {
    "duration": 13,
    "start_time": "2023-04-04T07:04:27.766Z"
   },
   {
    "duration": 13,
    "start_time": "2023-04-04T07:04:27.781Z"
   },
   {
    "duration": 24,
    "start_time": "2023-04-04T07:04:27.797Z"
   },
   {
    "duration": 26,
    "start_time": "2023-04-04T07:04:27.823Z"
   },
   {
    "duration": 39,
    "start_time": "2023-04-04T07:04:27.851Z"
   },
   {
    "duration": 31,
    "start_time": "2023-04-04T07:04:27.892Z"
   },
   {
    "duration": 31,
    "start_time": "2023-04-04T07:04:27.925Z"
   },
   {
    "duration": 22,
    "start_time": "2023-04-04T07:04:27.958Z"
   },
   {
    "duration": 51,
    "start_time": "2023-04-04T07:04:27.981Z"
   },
   {
    "duration": 13,
    "start_time": "2023-04-04T07:04:28.034Z"
   },
   {
    "duration": 47,
    "start_time": "2023-04-04T07:04:28.049Z"
   },
   {
    "duration": 12,
    "start_time": "2023-04-04T07:04:28.098Z"
   },
   {
    "duration": 14,
    "start_time": "2023-04-04T07:04:28.114Z"
   },
   {
    "duration": 0,
    "start_time": "2023-04-04T07:04:28.130Z"
   },
   {
    "duration": 3,
    "start_time": "2023-04-04T07:05:58.115Z"
   },
   {
    "duration": 5,
    "start_time": "2023-04-04T07:05:59.404Z"
   },
   {
    "duration": 4,
    "start_time": "2023-04-04T07:07:14.164Z"
   },
   {
    "duration": 5,
    "start_time": "2023-04-04T07:07:16.557Z"
   },
   {
    "duration": 8,
    "start_time": "2023-04-04T07:19:17.281Z"
   },
   {
    "duration": 6,
    "start_time": "2023-04-04T07:19:43.372Z"
   },
   {
    "duration": 23,
    "start_time": "2023-04-04T07:23:17.202Z"
   },
   {
    "duration": 5,
    "start_time": "2023-04-04T07:24:07.500Z"
   },
   {
    "duration": 7,
    "start_time": "2023-04-04T07:24:58.989Z"
   },
   {
    "duration": 3,
    "start_time": "2023-04-04T07:27:55.461Z"
   },
   {
    "duration": 128,
    "start_time": "2023-04-04T07:27:55.466Z"
   },
   {
    "duration": 15,
    "start_time": "2023-04-04T07:27:55.596Z"
   },
   {
    "duration": 37,
    "start_time": "2023-04-04T07:27:55.613Z"
   },
   {
    "duration": 47,
    "start_time": "2023-04-04T07:27:55.652Z"
   },
   {
    "duration": 8,
    "start_time": "2023-04-04T07:27:55.700Z"
   },
   {
    "duration": 52,
    "start_time": "2023-04-04T07:27:55.710Z"
   },
   {
    "duration": 15,
    "start_time": "2023-04-04T07:27:55.764Z"
   },
   {
    "duration": 25,
    "start_time": "2023-04-04T07:27:55.781Z"
   },
   {
    "duration": 38,
    "start_time": "2023-04-04T07:27:55.807Z"
   },
   {
    "duration": 24,
    "start_time": "2023-04-04T07:27:55.847Z"
   },
   {
    "duration": 18,
    "start_time": "2023-04-04T07:27:55.873Z"
   },
   {
    "duration": 40,
    "start_time": "2023-04-04T07:27:55.892Z"
   },
   {
    "duration": 36,
    "start_time": "2023-04-04T07:27:55.933Z"
   },
   {
    "duration": 9,
    "start_time": "2023-04-04T07:27:55.971Z"
   },
   {
    "duration": 10,
    "start_time": "2023-04-04T07:27:55.982Z"
   },
   {
    "duration": 33,
    "start_time": "2023-04-04T07:27:55.994Z"
   },
   {
    "duration": 31,
    "start_time": "2023-04-04T07:27:56.029Z"
   },
   {
    "duration": 11,
    "start_time": "2023-04-04T07:27:56.062Z"
   },
   {
    "duration": 61,
    "start_time": "2023-04-04T07:27:56.074Z"
   },
   {
    "duration": 40,
    "start_time": "2023-04-04T07:27:56.136Z"
   },
   {
    "duration": 5,
    "start_time": "2023-04-04T07:27:56.178Z"
   },
   {
    "duration": 14,
    "start_time": "2023-04-04T07:27:56.184Z"
   },
   {
    "duration": 8,
    "start_time": "2023-04-04T07:27:56.201Z"
   },
   {
    "duration": 21,
    "start_time": "2023-04-04T07:27:56.211Z"
   },
   {
    "duration": 35,
    "start_time": "2023-04-04T07:27:56.233Z"
   },
   {
    "duration": 35,
    "start_time": "2023-04-04T07:27:56.270Z"
   },
   {
    "duration": 35,
    "start_time": "2023-04-04T07:27:56.307Z"
   },
   {
    "duration": 25,
    "start_time": "2023-04-04T07:27:56.344Z"
   },
   {
    "duration": 21,
    "start_time": "2023-04-04T07:27:56.370Z"
   },
   {
    "duration": 21,
    "start_time": "2023-04-04T07:27:56.392Z"
   },
   {
    "duration": 45,
    "start_time": "2023-04-04T07:27:56.414Z"
   },
   {
    "duration": 5,
    "start_time": "2023-04-04T07:27:56.461Z"
   },
   {
    "duration": 21,
    "start_time": "2023-04-04T07:27:56.468Z"
   },
   {
    "duration": 0,
    "start_time": "2023-04-04T07:27:56.526Z"
   },
   {
    "duration": 17,
    "start_time": "2023-04-04T07:28:16.357Z"
   },
   {
    "duration": 20,
    "start_time": "2023-04-04T07:29:25.377Z"
   },
   {
    "duration": 14,
    "start_time": "2023-04-04T07:29:52.087Z"
   },
   {
    "duration": 4,
    "start_time": "2023-04-04T07:43:48.314Z"
   },
   {
    "duration": 16,
    "start_time": "2023-04-04T07:43:50.920Z"
   },
   {
    "duration": 23,
    "start_time": "2023-04-04T07:44:00.650Z"
   },
   {
    "duration": 27,
    "start_time": "2023-04-04T07:55:28.541Z"
   },
   {
    "duration": 32,
    "start_time": "2023-04-04T07:55:43.193Z"
   },
   {
    "duration": 39,
    "start_time": "2023-04-04T07:55:53.430Z"
   },
   {
    "duration": 16,
    "start_time": "2023-04-04T07:56:59.233Z"
   },
   {
    "duration": 25,
    "start_time": "2023-04-04T07:57:01.838Z"
   },
   {
    "duration": 27,
    "start_time": "2023-04-04T07:57:52.954Z"
   },
   {
    "duration": 20,
    "start_time": "2023-04-04T07:58:05.343Z"
   },
   {
    "duration": 23,
    "start_time": "2023-04-04T07:58:06.440Z"
   },
   {
    "duration": 3,
    "start_time": "2023-04-04T08:00:17.631Z"
   },
   {
    "duration": 101,
    "start_time": "2023-04-04T08:00:17.636Z"
   },
   {
    "duration": 18,
    "start_time": "2023-04-04T08:00:17.740Z"
   },
   {
    "duration": 29,
    "start_time": "2023-04-04T08:00:17.760Z"
   },
   {
    "duration": 45,
    "start_time": "2023-04-04T08:00:17.791Z"
   },
   {
    "duration": 10,
    "start_time": "2023-04-04T08:00:17.838Z"
   },
   {
    "duration": 14,
    "start_time": "2023-04-04T08:00:17.851Z"
   },
   {
    "duration": 18,
    "start_time": "2023-04-04T08:00:17.867Z"
   },
   {
    "duration": 18,
    "start_time": "2023-04-04T08:00:17.887Z"
   },
   {
    "duration": 38,
    "start_time": "2023-04-04T08:00:17.907Z"
   },
   {
    "duration": 15,
    "start_time": "2023-04-04T08:00:17.947Z"
   },
   {
    "duration": 18,
    "start_time": "2023-04-04T08:00:17.964Z"
   },
   {
    "duration": 27,
    "start_time": "2023-04-04T08:00:17.983Z"
   },
   {
    "duration": 37,
    "start_time": "2023-04-04T08:00:18.013Z"
   },
   {
    "duration": 3,
    "start_time": "2023-04-04T08:00:18.052Z"
   },
   {
    "duration": 13,
    "start_time": "2023-04-04T08:00:18.056Z"
   },
   {
    "duration": 15,
    "start_time": "2023-04-04T08:00:18.071Z"
   },
   {
    "duration": 14,
    "start_time": "2023-04-04T08:00:18.087Z"
   },
   {
    "duration": 14,
    "start_time": "2023-04-04T08:00:18.102Z"
   },
   {
    "duration": 29,
    "start_time": "2023-04-04T08:00:18.117Z"
   },
   {
    "duration": 39,
    "start_time": "2023-04-04T08:00:18.148Z"
   },
   {
    "duration": 7,
    "start_time": "2023-04-04T08:00:18.189Z"
   },
   {
    "duration": 23,
    "start_time": "2023-04-04T08:00:18.198Z"
   },
   {
    "duration": 10,
    "start_time": "2023-04-04T08:00:18.223Z"
   },
   {
    "duration": 34,
    "start_time": "2023-04-04T08:00:18.235Z"
   },
   {
    "duration": 30,
    "start_time": "2023-04-04T08:00:18.271Z"
   },
   {
    "duration": 124,
    "start_time": "2023-04-04T08:00:18.303Z"
   },
   {
    "duration": 24,
    "start_time": "2023-04-04T08:00:18.429Z"
   },
   {
    "duration": 27,
    "start_time": "2023-04-04T08:00:18.455Z"
   },
   {
    "duration": 42,
    "start_time": "2023-04-04T08:00:18.484Z"
   },
   {
    "duration": 20,
    "start_time": "2023-04-04T08:00:18.528Z"
   },
   {
    "duration": 40,
    "start_time": "2023-04-04T08:00:18.550Z"
   },
   {
    "duration": 21,
    "start_time": "2023-04-04T08:00:18.592Z"
   },
   {
    "duration": 47,
    "start_time": "2023-04-04T08:00:18.616Z"
   },
   {
    "duration": 25,
    "start_time": "2023-04-04T08:00:18.665Z"
   },
   {
    "duration": 29,
    "start_time": "2023-04-04T08:00:18.693Z"
   },
   {
    "duration": 29,
    "start_time": "2023-04-04T08:00:18.724Z"
   },
   {
    "duration": 32,
    "start_time": "2023-04-04T08:00:48.445Z"
   },
   {
    "duration": 6,
    "start_time": "2023-04-04T08:15:44.143Z"
   },
   {
    "duration": 31,
    "start_time": "2023-04-04T08:15:55.441Z"
   },
   {
    "duration": 34,
    "start_time": "2023-04-04T08:16:19.643Z"
   },
   {
    "duration": 14,
    "start_time": "2023-04-04T08:16:28.323Z"
   },
   {
    "duration": 124,
    "start_time": "2023-04-04T08:16:28.339Z"
   },
   {
    "duration": 15,
    "start_time": "2023-04-04T08:16:28.465Z"
   },
   {
    "duration": 75,
    "start_time": "2023-04-04T08:16:28.482Z"
   },
   {
    "duration": 49,
    "start_time": "2023-04-04T08:16:28.559Z"
   },
   {
    "duration": 16,
    "start_time": "2023-04-04T08:16:28.610Z"
   },
   {
    "duration": 44,
    "start_time": "2023-04-04T08:16:28.628Z"
   },
   {
    "duration": 42,
    "start_time": "2023-04-04T08:16:28.674Z"
   },
   {
    "duration": 60,
    "start_time": "2023-04-04T08:16:28.718Z"
   },
   {
    "duration": 72,
    "start_time": "2023-04-04T08:16:28.780Z"
   },
   {
    "duration": 32,
    "start_time": "2023-04-04T08:16:28.854Z"
   },
   {
    "duration": 40,
    "start_time": "2023-04-04T08:16:28.888Z"
   },
   {
    "duration": 57,
    "start_time": "2023-04-04T08:16:28.930Z"
   },
   {
    "duration": 52,
    "start_time": "2023-04-04T08:16:28.991Z"
   },
   {
    "duration": 35,
    "start_time": "2023-04-04T08:16:29.046Z"
   },
   {
    "duration": 58,
    "start_time": "2023-04-04T08:16:29.083Z"
   },
   {
    "duration": 27,
    "start_time": "2023-04-04T08:16:29.144Z"
   },
   {
    "duration": 40,
    "start_time": "2023-04-04T08:16:29.172Z"
   },
   {
    "duration": 41,
    "start_time": "2023-04-04T08:16:29.214Z"
   },
   {
    "duration": 50,
    "start_time": "2023-04-04T08:16:29.258Z"
   },
   {
    "duration": 87,
    "start_time": "2023-04-04T08:16:29.310Z"
   },
   {
    "duration": 6,
    "start_time": "2023-04-04T08:16:29.399Z"
   },
   {
    "duration": 55,
    "start_time": "2023-04-04T08:16:29.407Z"
   },
   {
    "duration": 18,
    "start_time": "2023-04-04T08:16:29.464Z"
   },
   {
    "duration": 59,
    "start_time": "2023-04-04T08:16:29.484Z"
   },
   {
    "duration": 42,
    "start_time": "2023-04-04T08:16:29.545Z"
   },
   {
    "duration": 43,
    "start_time": "2023-04-04T08:16:29.589Z"
   },
   {
    "duration": 57,
    "start_time": "2023-04-04T08:16:29.633Z"
   },
   {
    "duration": 22,
    "start_time": "2023-04-04T08:16:29.692Z"
   },
   {
    "duration": 73,
    "start_time": "2023-04-04T08:16:29.716Z"
   },
   {
    "duration": 25,
    "start_time": "2023-04-04T08:16:29.791Z"
   },
   {
    "duration": 57,
    "start_time": "2023-04-04T08:16:29.818Z"
   },
   {
    "duration": 13,
    "start_time": "2023-04-04T08:16:29.877Z"
   },
   {
    "duration": 47,
    "start_time": "2023-04-04T08:16:29.892Z"
   },
   {
    "duration": 19,
    "start_time": "2023-04-04T08:16:29.941Z"
   },
   {
    "duration": 28,
    "start_time": "2023-04-04T08:16:29.962Z"
   },
   {
    "duration": 51,
    "start_time": "2023-04-04T08:16:29.992Z"
   },
   {
    "duration": 13,
    "start_time": "2023-04-04T08:16:30.045Z"
   },
   {
    "duration": 46,
    "start_time": "2023-04-04T08:16:30.060Z"
   },
   {
    "duration": 21,
    "start_time": "2023-04-04T08:17:32.737Z"
   },
   {
    "duration": 7,
    "start_time": "2023-04-04T08:19:09.285Z"
   },
   {
    "duration": 54,
    "start_time": "2023-04-04T08:19:23.158Z"
   },
   {
    "duration": 34,
    "start_time": "2023-04-04T08:20:05.074Z"
   },
   {
    "duration": 6002,
    "start_time": "2023-04-04T08:32:16.914Z"
   },
   {
    "duration": 5210,
    "start_time": "2023-04-04T08:32:41.541Z"
   },
   {
    "duration": 340,
    "start_time": "2023-04-04T08:32:59.705Z"
   },
   {
    "duration": 28,
    "start_time": "2023-04-04T08:38:05.844Z"
   },
   {
    "duration": 12,
    "start_time": "2023-04-04T09:17:20.010Z"
   },
   {
    "duration": 5,
    "start_time": "2023-04-04T09:17:27.284Z"
   },
   {
    "duration": 6,
    "start_time": "2023-04-04T09:18:13.265Z"
   },
   {
    "duration": 5,
    "start_time": "2023-04-04T09:18:19.247Z"
   },
   {
    "duration": 6,
    "start_time": "2023-04-04T09:19:19.166Z"
   },
   {
    "duration": 199,
    "start_time": "2023-04-04T09:22:33.574Z"
   },
   {
    "duration": 35,
    "start_time": "2023-04-04T09:23:21.465Z"
   },
   {
    "duration": 178,
    "start_time": "2023-04-04T09:23:40.536Z"
   },
   {
    "duration": 207,
    "start_time": "2023-04-04T09:25:36.316Z"
   },
   {
    "duration": 40,
    "start_time": "2023-04-04T09:29:54.310Z"
   },
   {
    "duration": 16,
    "start_time": "2023-04-04T09:30:19.072Z"
   },
   {
    "duration": 171,
    "start_time": "2023-04-04T09:31:14.227Z"
   },
   {
    "duration": 190,
    "start_time": "2023-04-04T09:31:21.355Z"
   },
   {
    "duration": 633,
    "start_time": "2023-04-04T09:45:51.659Z"
   },
   {
    "duration": 440,
    "start_time": "2023-04-04T09:45:52.295Z"
   },
   {
    "duration": 28,
    "start_time": "2023-04-04T09:45:52.738Z"
   },
   {
    "duration": 22,
    "start_time": "2023-04-04T09:45:52.768Z"
   },
   {
    "duration": 111,
    "start_time": "2023-04-04T09:45:52.792Z"
   },
   {
    "duration": 8,
    "start_time": "2023-04-04T09:45:52.905Z"
   },
   {
    "duration": 60,
    "start_time": "2023-04-04T09:45:52.915Z"
   },
   {
    "duration": 13,
    "start_time": "2023-04-04T09:45:52.976Z"
   },
   {
    "duration": 25,
    "start_time": "2023-04-04T09:45:52.990Z"
   },
   {
    "duration": 47,
    "start_time": "2023-04-04T09:45:53.026Z"
   },
   {
    "duration": 31,
    "start_time": "2023-04-04T09:45:53.074Z"
   },
   {
    "duration": 38,
    "start_time": "2023-04-04T09:45:53.107Z"
   },
   {
    "duration": 19,
    "start_time": "2023-04-04T09:45:53.147Z"
   },
   {
    "duration": 61,
    "start_time": "2023-04-04T09:45:53.169Z"
   },
   {
    "duration": 9,
    "start_time": "2023-04-04T09:45:53.236Z"
   },
   {
    "duration": 14,
    "start_time": "2023-04-04T09:45:53.247Z"
   },
   {
    "duration": 89,
    "start_time": "2023-04-04T09:45:53.262Z"
   },
   {
    "duration": 23,
    "start_time": "2023-04-04T09:45:53.353Z"
   },
   {
    "duration": 30,
    "start_time": "2023-04-04T09:45:53.378Z"
   },
   {
    "duration": 35,
    "start_time": "2023-04-04T09:45:53.410Z"
   },
   {
    "duration": 62,
    "start_time": "2023-04-04T09:45:53.447Z"
   },
   {
    "duration": 26,
    "start_time": "2023-04-04T09:45:53.511Z"
   },
   {
    "duration": 39,
    "start_time": "2023-04-04T09:45:53.539Z"
   },
   {
    "duration": 22,
    "start_time": "2023-04-04T09:45:53.580Z"
   },
   {
    "duration": 54,
    "start_time": "2023-04-04T09:45:53.604Z"
   },
   {
    "duration": 36,
    "start_time": "2023-04-04T09:45:53.663Z"
   },
   {
    "duration": 68,
    "start_time": "2023-04-04T09:45:53.701Z"
   },
   {
    "duration": 34,
    "start_time": "2023-04-04T09:45:53.771Z"
   },
   {
    "duration": 41,
    "start_time": "2023-04-04T09:45:53.807Z"
   },
   {
    "duration": 49,
    "start_time": "2023-04-04T09:45:53.850Z"
   },
   {
    "duration": 36,
    "start_time": "2023-04-04T09:45:53.902Z"
   },
   {
    "duration": 69,
    "start_time": "2023-04-04T09:45:53.940Z"
   },
   {
    "duration": 47,
    "start_time": "2023-04-04T09:45:54.011Z"
   },
   {
    "duration": 34,
    "start_time": "2023-04-04T09:45:54.061Z"
   },
   {
    "duration": 14,
    "start_time": "2023-04-04T09:45:54.098Z"
   },
   {
    "duration": 45,
    "start_time": "2023-04-04T09:45:54.113Z"
   },
   {
    "duration": 44,
    "start_time": "2023-04-04T09:45:54.160Z"
   },
   {
    "duration": 20,
    "start_time": "2023-04-04T09:45:54.206Z"
   },
   {
    "duration": 54,
    "start_time": "2023-04-04T09:45:54.228Z"
   },
   {
    "duration": 523,
    "start_time": "2023-04-04T09:45:54.284Z"
   },
   {
    "duration": 22,
    "start_time": "2023-04-04T09:45:54.812Z"
   },
   {
    "duration": 29,
    "start_time": "2023-04-04T09:45:54.836Z"
   },
   {
    "duration": 227,
    "start_time": "2023-04-04T09:45:54.867Z"
   },
   {
    "duration": 4,
    "start_time": "2023-04-04T09:47:51.872Z"
   },
   {
    "duration": 5,
    "start_time": "2023-04-04T09:52:02.390Z"
   },
   {
    "duration": 5,
    "start_time": "2023-04-04T09:52:09.893Z"
   },
   {
    "duration": 4,
    "start_time": "2023-04-04T09:52:44.651Z"
   },
   {
    "duration": 5,
    "start_time": "2023-04-04T09:53:16.812Z"
   },
   {
    "duration": 7,
    "start_time": "2023-04-04T09:53:41.809Z"
   },
   {
    "duration": 12,
    "start_time": "2023-04-04T09:53:52.595Z"
   },
   {
    "duration": 185842,
    "start_time": "2023-04-04T09:54:05.496Z"
   },
   {
    "duration": 0,
    "start_time": "2023-04-04T09:57:11.448Z"
   },
   {
    "duration": 0,
    "start_time": "2023-04-04T09:57:11.450Z"
   },
   {
    "duration": 5,
    "start_time": "2023-04-04T09:57:45.343Z"
   },
   {
    "duration": 10,
    "start_time": "2023-04-04T09:57:58.618Z"
   },
   {
    "duration": 10,
    "start_time": "2023-04-04T09:59:26.294Z"
   },
   {
    "duration": 9,
    "start_time": "2023-04-04T10:00:13.388Z"
   },
   {
    "duration": 135,
    "start_time": "2023-04-04T10:00:30.842Z"
   },
   {
    "duration": 192,
    "start_time": "2023-04-04T10:00:49.714Z"
   },
   {
    "duration": 246,
    "start_time": "2023-04-04T10:04:11.704Z"
   },
   {
    "duration": 188,
    "start_time": "2023-04-04T10:04:27.899Z"
   },
   {
    "duration": 59,
    "start_time": "2023-04-04T10:06:07.470Z"
   },
   {
    "duration": 30,
    "start_time": "2023-04-04T10:13:15.910Z"
   },
   {
    "duration": 14,
    "start_time": "2023-04-04T10:13:25.265Z"
   },
   {
    "duration": 18,
    "start_time": "2023-04-04T10:13:34.462Z"
   },
   {
    "duration": 18,
    "start_time": "2023-04-04T10:13:37.592Z"
   },
   {
    "duration": 31,
    "start_time": "2023-04-04T10:14:23.599Z"
   },
   {
    "duration": 19,
    "start_time": "2023-04-04T10:14:40.240Z"
   },
   {
    "duration": 18,
    "start_time": "2023-04-04T10:15:21.830Z"
   },
   {
    "duration": 16,
    "start_time": "2023-04-04T10:15:46.187Z"
   },
   {
    "duration": 13,
    "start_time": "2023-04-04T10:15:47.880Z"
   },
   {
    "duration": 18,
    "start_time": "2023-04-04T10:15:52.933Z"
   },
   {
    "duration": 17,
    "start_time": "2023-04-04T10:16:09.976Z"
   },
   {
    "duration": 12,
    "start_time": "2023-04-04T10:17:53.107Z"
   },
   {
    "duration": 22,
    "start_time": "2023-04-04T10:17:54.490Z"
   },
   {
    "duration": 16,
    "start_time": "2023-04-04T10:18:02.897Z"
   },
   {
    "duration": 12,
    "start_time": "2023-04-04T10:18:06.501Z"
   },
   {
    "duration": 16,
    "start_time": "2023-04-04T10:18:27.444Z"
   },
   {
    "duration": 27,
    "start_time": "2023-04-04T10:18:29.140Z"
   },
   {
    "duration": 17,
    "start_time": "2023-04-04T10:18:33.267Z"
   },
   {
    "duration": 17,
    "start_time": "2023-04-04T10:18:37.091Z"
   },
   {
    "duration": 13,
    "start_time": "2023-04-04T10:22:17.497Z"
   },
   {
    "duration": 13,
    "start_time": "2023-04-04T10:22:20.149Z"
   },
   {
    "duration": 27,
    "start_time": "2023-04-04T10:22:22.455Z"
   },
   {
    "duration": 26,
    "start_time": "2023-04-04T10:22:26.210Z"
   },
   {
    "duration": 41,
    "start_time": "2023-04-04T10:22:49.394Z"
   },
   {
    "duration": 14,
    "start_time": "2023-04-04T10:25:37.360Z"
   },
   {
    "duration": 28,
    "start_time": "2023-04-04T10:25:38.962Z"
   },
   {
    "duration": 18,
    "start_time": "2023-04-04T10:25:45.936Z"
   },
   {
    "duration": 20,
    "start_time": "2023-04-04T10:25:48.604Z"
   },
   {
    "duration": 32,
    "start_time": "2023-04-04T10:30:42.756Z"
   },
   {
    "duration": 17,
    "start_time": "2023-04-04T10:30:46.766Z"
   },
   {
    "duration": 16,
    "start_time": "2023-04-04T10:30:56.647Z"
   },
   {
    "duration": 11,
    "start_time": "2023-04-04T10:31:15.081Z"
   },
   {
    "duration": 12,
    "start_time": "2023-04-04T10:31:40.041Z"
   },
   {
    "duration": 12,
    "start_time": "2023-04-04T10:31:56.743Z"
   },
   {
    "duration": 12,
    "start_time": "2023-04-04T10:47:06.013Z"
   },
   {
    "duration": 11,
    "start_time": "2023-04-04T10:51:42.817Z"
   },
   {
    "duration": 11,
    "start_time": "2023-04-04T10:51:58.360Z"
   },
   {
    "duration": 9,
    "start_time": "2023-04-04T10:52:13.376Z"
   },
   {
    "duration": 4,
    "start_time": "2023-04-04T10:52:42.304Z"
   },
   {
    "duration": 12,
    "start_time": "2023-04-04T10:52:43.645Z"
   },
   {
    "duration": 6,
    "start_time": "2023-04-04T10:53:04.006Z"
   },
   {
    "duration": 13,
    "start_time": "2023-04-04T10:53:06.384Z"
   },
   {
    "duration": 19,
    "start_time": "2023-04-04T10:53:24.616Z"
   },
   {
    "duration": 14,
    "start_time": "2023-04-04T10:53:25.854Z"
   },
   {
    "duration": 18,
    "start_time": "2023-04-04T10:53:38.082Z"
   },
   {
    "duration": 35,
    "start_time": "2023-04-04T10:53:39.108Z"
   },
   {
    "duration": 17,
    "start_time": "2023-04-04T10:53:44.733Z"
   },
   {
    "duration": 17,
    "start_time": "2023-04-04T10:53:47.628Z"
   },
   {
    "duration": 5,
    "start_time": "2023-04-04T11:12:01.078Z"
   },
   {
    "duration": 4,
    "start_time": "2023-04-04T11:12:13.987Z"
   },
   {
    "duration": 4,
    "start_time": "2023-04-04T11:12:34.949Z"
   },
   {
    "duration": 11,
    "start_time": "2023-04-04T11:12:36.784Z"
   },
   {
    "duration": 16,
    "start_time": "2023-04-04T11:12:39.345Z"
   },
   {
    "duration": 34,
    "start_time": "2023-04-04T11:12:53.008Z"
   },
   {
    "duration": 42,
    "start_time": "2023-04-04T11:12:56.097Z"
   },
   {
    "duration": 38,
    "start_time": "2023-04-04T11:13:01.847Z"
   },
   {
    "duration": 20,
    "start_time": "2023-04-04T11:13:05.046Z"
   },
   {
    "duration": 7,
    "start_time": "2023-04-04T11:13:31.632Z"
   },
   {
    "duration": 340,
    "start_time": "2023-04-04T11:13:31.643Z"
   },
   {
    "duration": 15,
    "start_time": "2023-04-04T11:13:31.985Z"
   },
   {
    "duration": 91,
    "start_time": "2023-04-04T11:13:32.001Z"
   },
   {
    "duration": 124,
    "start_time": "2023-04-04T11:13:32.094Z"
   },
   {
    "duration": 24,
    "start_time": "2023-04-04T11:13:32.221Z"
   },
   {
    "duration": 63,
    "start_time": "2023-04-04T11:13:32.248Z"
   },
   {
    "duration": 42,
    "start_time": "2023-04-04T11:13:32.313Z"
   },
   {
    "duration": 46,
    "start_time": "2023-04-04T11:13:32.357Z"
   },
   {
    "duration": 62,
    "start_time": "2023-04-04T11:13:32.405Z"
   },
   {
    "duration": 28,
    "start_time": "2023-04-04T11:13:32.469Z"
   },
   {
    "duration": 47,
    "start_time": "2023-04-04T11:13:32.500Z"
   },
   {
    "duration": 37,
    "start_time": "2023-04-04T11:13:32.550Z"
   },
   {
    "duration": 68,
    "start_time": "2023-04-04T11:13:32.589Z"
   },
   {
    "duration": 16,
    "start_time": "2023-04-04T11:13:32.659Z"
   },
   {
    "duration": 39,
    "start_time": "2023-04-04T11:13:32.676Z"
   },
   {
    "duration": 43,
    "start_time": "2023-04-04T11:13:32.717Z"
   },
   {
    "duration": 24,
    "start_time": "2023-04-04T11:13:32.762Z"
   },
   {
    "duration": 16,
    "start_time": "2023-04-04T11:13:32.787Z"
   },
   {
    "duration": 36,
    "start_time": "2023-04-04T11:13:32.805Z"
   },
   {
    "duration": 35,
    "start_time": "2023-04-04T11:13:32.842Z"
   },
   {
    "duration": 29,
    "start_time": "2023-04-04T11:13:32.879Z"
   },
   {
    "duration": 68,
    "start_time": "2023-04-04T11:13:32.909Z"
   },
   {
    "duration": 4,
    "start_time": "2023-04-04T11:13:32.981Z"
   },
   {
    "duration": 14,
    "start_time": "2023-04-04T11:13:32.987Z"
   },
   {
    "duration": 8,
    "start_time": "2023-04-04T11:13:33.002Z"
   },
   {
    "duration": 34,
    "start_time": "2023-04-04T11:13:33.011Z"
   },
   {
    "duration": 22,
    "start_time": "2023-04-04T11:13:33.048Z"
   },
   {
    "duration": 34,
    "start_time": "2023-04-04T11:13:33.071Z"
   },
   {
    "duration": 39,
    "start_time": "2023-04-04T11:13:33.116Z"
   },
   {
    "duration": 10,
    "start_time": "2023-04-04T11:13:33.157Z"
   },
   {
    "duration": 92,
    "start_time": "2023-04-04T11:13:33.169Z"
   },
   {
    "duration": 6,
    "start_time": "2023-04-04T11:13:33.262Z"
   },
   {
    "duration": 25,
    "start_time": "2023-04-04T11:13:33.270Z"
   },
   {
    "duration": 8,
    "start_time": "2023-04-04T11:13:33.297Z"
   },
   {
    "duration": 30,
    "start_time": "2023-04-04T11:13:33.306Z"
   },
   {
    "duration": 30,
    "start_time": "2023-04-04T11:13:33.340Z"
   },
   {
    "duration": 22,
    "start_time": "2023-04-04T11:13:33.371Z"
   },
   {
    "duration": 48,
    "start_time": "2023-04-04T11:13:33.395Z"
   },
   {
    "duration": 8,
    "start_time": "2023-04-04T11:13:33.445Z"
   },
   {
    "duration": 79,
    "start_time": "2023-04-04T11:13:33.456Z"
   },
   {
    "duration": 453,
    "start_time": "2023-04-04T11:13:33.538Z"
   },
   {
    "duration": 10,
    "start_time": "2023-04-04T11:13:34.022Z"
   },
   {
    "duration": 31,
    "start_time": "2023-04-04T11:13:34.035Z"
   },
   {
    "duration": 204,
    "start_time": "2023-04-04T11:13:34.068Z"
   },
   {
    "duration": 30,
    "start_time": "2023-04-04T11:13:34.273Z"
   },
   {
    "duration": 25,
    "start_time": "2023-04-04T11:14:21.030Z"
   },
   {
    "duration": 46,
    "start_time": "2023-04-04T11:14:26.009Z"
   },
   {
    "duration": 18,
    "start_time": "2023-04-04T11:14:29.139Z"
   },
   {
    "duration": 19,
    "start_time": "2023-04-04T11:14:36.980Z"
   },
   {
    "duration": 6,
    "start_time": "2023-04-04T11:17:39.575Z"
   },
   {
    "duration": 6,
    "start_time": "2023-04-04T11:18:20.043Z"
   },
   {
    "duration": 6,
    "start_time": "2023-04-04T11:30:37.155Z"
   },
   {
    "duration": 13,
    "start_time": "2023-04-04T11:33:10.397Z"
   },
   {
    "duration": 3,
    "start_time": "2023-04-04T11:33:24.281Z"
   },
   {
    "duration": 129,
    "start_time": "2023-04-04T11:33:24.286Z"
   },
   {
    "duration": 40,
    "start_time": "2023-04-04T11:33:24.417Z"
   },
   {
    "duration": 26,
    "start_time": "2023-04-04T11:33:24.459Z"
   },
   {
    "duration": 76,
    "start_time": "2023-04-04T11:33:24.488Z"
   },
   {
    "duration": 8,
    "start_time": "2023-04-04T11:33:24.566Z"
   },
   {
    "duration": 27,
    "start_time": "2023-04-04T11:33:24.576Z"
   },
   {
    "duration": 23,
    "start_time": "2023-04-04T11:33:24.605Z"
   },
   {
    "duration": 47,
    "start_time": "2023-04-04T11:33:24.631Z"
   },
   {
    "duration": 30,
    "start_time": "2023-04-04T11:33:24.680Z"
   },
   {
    "duration": 50,
    "start_time": "2023-04-04T11:33:24.712Z"
   },
   {
    "duration": 23,
    "start_time": "2023-04-04T11:33:24.764Z"
   },
   {
    "duration": 26,
    "start_time": "2023-04-04T11:33:24.788Z"
   },
   {
    "duration": 52,
    "start_time": "2023-04-04T11:33:24.818Z"
   },
   {
    "duration": 26,
    "start_time": "2023-04-04T11:33:24.872Z"
   },
   {
    "duration": 21,
    "start_time": "2023-04-04T11:33:24.901Z"
   },
   {
    "duration": 41,
    "start_time": "2023-04-04T11:33:24.926Z"
   },
   {
    "duration": 26,
    "start_time": "2023-04-04T11:33:24.969Z"
   },
   {
    "duration": 56,
    "start_time": "2023-04-04T11:33:24.997Z"
   },
   {
    "duration": 9,
    "start_time": "2023-04-04T11:33:25.055Z"
   },
   {
    "duration": 41,
    "start_time": "2023-04-04T11:33:25.066Z"
   },
   {
    "duration": 44,
    "start_time": "2023-04-04T11:33:25.110Z"
   },
   {
    "duration": 7,
    "start_time": "2023-04-04T11:33:25.157Z"
   },
   {
    "duration": 25,
    "start_time": "2023-04-04T11:33:25.166Z"
   },
   {
    "duration": 24,
    "start_time": "2023-04-04T11:33:25.193Z"
   },
   {
    "duration": 56,
    "start_time": "2023-04-04T11:33:25.221Z"
   },
   {
    "duration": 35,
    "start_time": "2023-04-04T11:33:25.279Z"
   },
   {
    "duration": 46,
    "start_time": "2023-04-04T11:33:25.316Z"
   },
   {
    "duration": 20,
    "start_time": "2023-04-04T11:33:25.363Z"
   },
   {
    "duration": 16,
    "start_time": "2023-04-04T11:33:25.385Z"
   },
   {
    "duration": 47,
    "start_time": "2023-04-04T11:33:25.402Z"
   },
   {
    "duration": 6,
    "start_time": "2023-04-04T11:33:25.451Z"
   },
   {
    "duration": 16,
    "start_time": "2023-04-04T11:33:25.460Z"
   },
   {
    "duration": 14,
    "start_time": "2023-04-04T11:33:25.478Z"
   },
   {
    "duration": 36,
    "start_time": "2023-04-04T11:33:25.494Z"
   },
   {
    "duration": 28,
    "start_time": "2023-04-04T11:33:25.533Z"
   },
   {
    "duration": 24,
    "start_time": "2023-04-04T11:33:25.563Z"
   },
   {
    "duration": 21,
    "start_time": "2023-04-04T11:33:25.589Z"
   },
   {
    "duration": 55,
    "start_time": "2023-04-04T11:33:25.612Z"
   },
   {
    "duration": 45,
    "start_time": "2023-04-04T11:33:25.668Z"
   },
   {
    "duration": 227,
    "start_time": "2023-04-04T11:33:25.718Z"
   },
   {
    "duration": 6,
    "start_time": "2023-04-04T11:33:25.947Z"
   },
   {
    "duration": 221,
    "start_time": "2023-04-04T11:33:25.955Z"
   },
   {
    "duration": 5,
    "start_time": "2023-04-04T11:33:26.177Z"
   },
   {
    "duration": 11,
    "start_time": "2023-04-04T11:34:02.735Z"
   },
   {
    "duration": 8,
    "start_time": "2023-04-04T11:35:12.359Z"
   },
   {
    "duration": 7,
    "start_time": "2023-04-04T11:36:20.580Z"
   },
   {
    "duration": 21,
    "start_time": "2023-04-04T11:57:17.300Z"
   },
   {
    "duration": 30,
    "start_time": "2023-04-04T12:21:32.423Z"
   },
   {
    "duration": 4,
    "start_time": "2023-04-04T12:23:42.386Z"
   },
   {
    "duration": 6,
    "start_time": "2023-04-04T12:24:00.863Z"
   },
   {
    "duration": 47,
    "start_time": "2023-04-04T12:24:19.822Z"
   },
   {
    "duration": 3,
    "start_time": "2023-04-04T12:28:53.540Z"
   },
   {
    "duration": 30,
    "start_time": "2023-04-04T12:28:55.960Z"
   },
   {
    "duration": 4,
    "start_time": "2023-04-04T12:30:02.594Z"
   },
   {
    "duration": 46,
    "start_time": "2023-04-04T12:30:03.506Z"
   },
   {
    "duration": 211,
    "start_time": "2023-04-04T12:30:16.395Z"
   },
   {
    "duration": 7,
    "start_time": "2023-04-04T12:31:06.735Z"
   },
   {
    "duration": 22,
    "start_time": "2023-04-04T12:34:28.112Z"
   },
   {
    "duration": 20,
    "start_time": "2023-04-04T12:37:52.992Z"
   },
   {
    "duration": 60,
    "start_time": "2023-04-05T06:30:16.224Z"
   },
   {
    "duration": 460,
    "start_time": "2023-04-05T06:30:20.859Z"
   },
   {
    "duration": 208,
    "start_time": "2023-04-05T06:30:21.321Z"
   },
   {
    "duration": 25,
    "start_time": "2023-04-05T06:30:21.531Z"
   },
   {
    "duration": 24,
    "start_time": "2023-04-05T06:30:21.558Z"
   },
   {
    "duration": 103,
    "start_time": "2023-04-05T06:30:21.587Z"
   },
   {
    "duration": 9,
    "start_time": "2023-04-05T06:30:21.692Z"
   },
   {
    "duration": 15,
    "start_time": "2023-04-05T06:30:21.702Z"
   },
   {
    "duration": 19,
    "start_time": "2023-04-05T06:30:21.719Z"
   },
   {
    "duration": 29,
    "start_time": "2023-04-05T06:30:21.740Z"
   },
   {
    "duration": 4,
    "start_time": "2023-04-05T06:30:21.772Z"
   },
   {
    "duration": 18,
    "start_time": "2023-04-05T06:30:21.778Z"
   },
   {
    "duration": 15,
    "start_time": "2023-04-05T06:30:21.798Z"
   },
   {
    "duration": 22,
    "start_time": "2023-04-05T06:30:21.815Z"
   },
   {
    "duration": 17,
    "start_time": "2023-04-05T06:30:21.839Z"
   },
   {
    "duration": 29,
    "start_time": "2023-04-05T06:30:21.858Z"
   },
   {
    "duration": 3,
    "start_time": "2023-04-05T06:30:21.889Z"
   },
   {
    "duration": 29,
    "start_time": "2023-04-05T06:30:21.894Z"
   },
   {
    "duration": 6,
    "start_time": "2023-04-05T06:30:21.925Z"
   },
   {
    "duration": 8,
    "start_time": "2023-04-05T06:30:21.932Z"
   },
   {
    "duration": 10,
    "start_time": "2023-04-05T06:30:21.942Z"
   },
   {
    "duration": 19,
    "start_time": "2023-04-05T06:30:21.953Z"
   },
   {
    "duration": 47,
    "start_time": "2023-04-05T06:30:21.973Z"
   },
   {
    "duration": 5,
    "start_time": "2023-04-05T06:30:22.021Z"
   },
   {
    "duration": 12,
    "start_time": "2023-04-05T06:30:22.028Z"
   },
   {
    "duration": 27,
    "start_time": "2023-04-05T06:30:22.041Z"
   },
   {
    "duration": 32,
    "start_time": "2023-04-05T06:30:22.069Z"
   },
   {
    "duration": 19,
    "start_time": "2023-04-05T06:30:22.103Z"
   },
   {
    "duration": 25,
    "start_time": "2023-04-05T06:30:22.126Z"
   },
   {
    "duration": 179,
    "start_time": "2023-04-05T06:30:22.153Z"
   },
   {
    "duration": 10,
    "start_time": "2023-04-05T06:30:22.334Z"
   },
   {
    "duration": 27,
    "start_time": "2023-04-05T06:30:22.346Z"
   },
   {
    "duration": 7,
    "start_time": "2023-04-05T06:30:22.375Z"
   },
   {
    "duration": 47,
    "start_time": "2023-04-05T06:30:22.384Z"
   },
   {
    "duration": 4,
    "start_time": "2023-04-05T06:30:22.433Z"
   },
   {
    "duration": 19,
    "start_time": "2023-04-05T06:30:22.439Z"
   },
   {
    "duration": 7,
    "start_time": "2023-04-05T06:30:22.460Z"
   },
   {
    "duration": 30,
    "start_time": "2023-04-05T06:30:22.469Z"
   },
   {
    "duration": 27,
    "start_time": "2023-04-05T06:30:22.501Z"
   },
   {
    "duration": 12,
    "start_time": "2023-04-05T06:30:22.530Z"
   },
   {
    "duration": 63,
    "start_time": "2023-04-05T06:30:22.544Z"
   },
   {
    "duration": 570,
    "start_time": "2023-04-05T06:30:22.609Z"
   },
   {
    "duration": 9,
    "start_time": "2023-04-05T06:30:23.181Z"
   },
   {
    "duration": 9,
    "start_time": "2023-04-05T06:30:23.192Z"
   },
   {
    "duration": 181,
    "start_time": "2023-04-05T06:30:23.203Z"
   },
   {
    "duration": 7,
    "start_time": "2023-04-05T06:30:23.387Z"
   },
   {
    "duration": 18,
    "start_time": "2023-04-05T06:30:23.395Z"
   },
   {
    "duration": 13,
    "start_time": "2023-04-05T06:30:23.414Z"
   },
   {
    "duration": 6,
    "start_time": "2023-04-05T06:30:23.429Z"
   },
   {
    "duration": 7,
    "start_time": "2023-04-05T06:32:24.118Z"
   },
   {
    "duration": 47,
    "start_time": "2023-04-05T06:37:03.213Z"
   },
   {
    "duration": 9,
    "start_time": "2023-04-05T06:37:09.029Z"
   },
   {
    "duration": 6,
    "start_time": "2023-04-05T06:38:36.705Z"
   },
   {
    "duration": 9,
    "start_time": "2023-04-05T06:39:05.533Z"
   },
   {
    "duration": 7,
    "start_time": "2023-04-05T06:39:18.052Z"
   },
   {
    "duration": 179,
    "start_time": "2023-04-05T06:47:44.996Z"
   },
   {
    "duration": 30,
    "start_time": "2023-04-05T06:53:41.645Z"
   },
   {
    "duration": 3,
    "start_time": "2023-04-05T06:53:45.489Z"
   },
   {
    "duration": 112,
    "start_time": "2023-04-05T06:53:45.495Z"
   },
   {
    "duration": 23,
    "start_time": "2023-04-05T06:53:45.610Z"
   },
   {
    "duration": 24,
    "start_time": "2023-04-05T06:53:45.636Z"
   },
   {
    "duration": 40,
    "start_time": "2023-04-05T06:53:45.688Z"
   },
   {
    "duration": 10,
    "start_time": "2023-04-05T06:53:45.730Z"
   },
   {
    "duration": 17,
    "start_time": "2023-04-05T06:53:45.742Z"
   },
   {
    "duration": 8,
    "start_time": "2023-04-05T06:53:45.761Z"
   },
   {
    "duration": 11,
    "start_time": "2023-04-05T06:53:45.833Z"
   },
   {
    "duration": 10,
    "start_time": "2023-04-05T06:53:45.847Z"
   },
   {
    "duration": 36,
    "start_time": "2023-04-05T06:53:45.859Z"
   },
   {
    "duration": 20,
    "start_time": "2023-04-05T06:53:45.898Z"
   },
   {
    "duration": 31,
    "start_time": "2023-04-05T06:53:45.921Z"
   },
   {
    "duration": 35,
    "start_time": "2023-04-05T06:53:45.954Z"
   },
   {
    "duration": 23,
    "start_time": "2023-04-05T06:53:45.992Z"
   },
   {
    "duration": 3,
    "start_time": "2023-04-05T06:53:46.017Z"
   },
   {
    "duration": 14,
    "start_time": "2023-04-05T06:53:46.022Z"
   },
   {
    "duration": 7,
    "start_time": "2023-04-05T06:53:46.038Z"
   },
   {
    "duration": 7,
    "start_time": "2023-04-05T06:53:46.047Z"
   },
   {
    "duration": 32,
    "start_time": "2023-04-05T06:53:46.056Z"
   },
   {
    "duration": 22,
    "start_time": "2023-04-05T06:53:46.091Z"
   },
   {
    "duration": 47,
    "start_time": "2023-04-05T06:53:46.115Z"
   },
   {
    "duration": 27,
    "start_time": "2023-04-05T06:53:46.164Z"
   },
   {
    "duration": 25,
    "start_time": "2023-04-05T06:53:46.195Z"
   },
   {
    "duration": 12,
    "start_time": "2023-04-05T06:53:46.222Z"
   },
   {
    "duration": 33,
    "start_time": "2023-04-05T06:53:46.236Z"
   },
   {
    "duration": 27,
    "start_time": "2023-04-05T06:53:46.271Z"
   },
   {
    "duration": 31,
    "start_time": "2023-04-05T06:53:46.299Z"
   },
   {
    "duration": 27,
    "start_time": "2023-04-05T06:53:46.333Z"
   },
   {
    "duration": 34,
    "start_time": "2023-04-05T06:53:46.362Z"
   },
   {
    "duration": 33,
    "start_time": "2023-04-05T06:53:46.399Z"
   },
   {
    "duration": 19,
    "start_time": "2023-04-05T06:53:46.434Z"
   },
   {
    "duration": 34,
    "start_time": "2023-04-05T06:53:46.456Z"
   },
   {
    "duration": 12,
    "start_time": "2023-04-05T06:53:46.493Z"
   },
   {
    "duration": 37,
    "start_time": "2023-04-05T06:53:46.507Z"
   },
   {
    "duration": 7,
    "start_time": "2023-04-05T06:53:46.546Z"
   },
   {
    "duration": 28,
    "start_time": "2023-04-05T06:53:46.557Z"
   },
   {
    "duration": 20,
    "start_time": "2023-04-05T06:53:46.587Z"
   },
   {
    "duration": 9,
    "start_time": "2023-04-05T06:53:46.609Z"
   },
   {
    "duration": 67,
    "start_time": "2023-04-05T06:53:46.620Z"
   },
   {
    "duration": 223,
    "start_time": "2023-04-05T06:53:46.689Z"
   },
   {
    "duration": 7,
    "start_time": "2023-04-05T06:53:46.914Z"
   },
   {
    "duration": 7,
    "start_time": "2023-04-05T06:53:46.923Z"
   },
   {
    "duration": 210,
    "start_time": "2023-04-05T06:53:46.932Z"
   },
   {
    "duration": 9,
    "start_time": "2023-04-05T06:53:47.143Z"
   },
   {
    "duration": 33,
    "start_time": "2023-04-05T06:53:47.154Z"
   },
   {
    "duration": 19,
    "start_time": "2023-04-05T06:53:47.190Z"
   },
   {
    "duration": 16,
    "start_time": "2023-04-05T06:53:47.211Z"
   },
   {
    "duration": 15,
    "start_time": "2023-04-05T06:53:47.230Z"
   },
   {
    "duration": 9,
    "start_time": "2023-04-05T06:53:47.248Z"
   },
   {
    "duration": 42,
    "start_time": "2023-04-05T06:53:47.259Z"
   },
   {
    "duration": 10,
    "start_time": "2023-04-05T06:53:47.304Z"
   },
   {
    "duration": 21,
    "start_time": "2023-04-05T06:53:47.316Z"
   },
   {
    "duration": 16,
    "start_time": "2023-04-05T06:53:47.341Z"
   },
   {
    "duration": 33,
    "start_time": "2023-04-05T06:53:47.360Z"
   },
   {
    "duration": 29,
    "start_time": "2023-04-05T06:53:47.395Z"
   },
   {
    "duration": 214,
    "start_time": "2023-04-05T06:53:47.427Z"
   },
   {
    "duration": 9,
    "start_time": "2023-04-05T06:54:24.090Z"
   },
   {
    "duration": 8,
    "start_time": "2023-04-05T06:54:26.058Z"
   },
   {
    "duration": 15,
    "start_time": "2023-04-05T06:54:27.370Z"
   },
   {
    "duration": 15,
    "start_time": "2023-04-05T06:54:28.914Z"
   },
   {
    "duration": 14,
    "start_time": "2023-04-05T06:54:30.695Z"
   },
   {
    "duration": 11,
    "start_time": "2023-04-05T06:54:31.671Z"
   },
   {
    "duration": 20,
    "start_time": "2023-04-05T06:54:33.629Z"
   },
   {
    "duration": 15,
    "start_time": "2023-04-05T06:57:15.214Z"
   },
   {
    "duration": 9,
    "start_time": "2023-04-05T06:57:34.669Z"
   },
   {
    "duration": 9,
    "start_time": "2023-04-05T06:57:41.489Z"
   },
   {
    "duration": 10,
    "start_time": "2023-04-05T06:57:49.886Z"
   },
   {
    "duration": 8,
    "start_time": "2023-04-05T06:58:00.711Z"
   },
   {
    "duration": 20,
    "start_time": "2023-04-05T06:58:12.074Z"
   },
   {
    "duration": 3,
    "start_time": "2023-04-05T06:58:24.880Z"
   },
   {
    "duration": 97,
    "start_time": "2023-04-05T06:58:24.885Z"
   },
   {
    "duration": 15,
    "start_time": "2023-04-05T06:58:24.987Z"
   },
   {
    "duration": 43,
    "start_time": "2023-04-05T06:58:25.003Z"
   },
   {
    "duration": 41,
    "start_time": "2023-04-05T06:58:25.049Z"
   },
   {
    "duration": 9,
    "start_time": "2023-04-05T06:58:25.091Z"
   },
   {
    "duration": 17,
    "start_time": "2023-04-05T06:58:25.102Z"
   },
   {
    "duration": 9,
    "start_time": "2023-04-05T06:58:25.122Z"
   },
   {
    "duration": 15,
    "start_time": "2023-04-05T06:58:25.133Z"
   },
   {
    "duration": 7,
    "start_time": "2023-04-05T06:58:25.150Z"
   },
   {
    "duration": 30,
    "start_time": "2023-04-05T06:58:25.160Z"
   },
   {
    "duration": 15,
    "start_time": "2023-04-05T06:58:25.192Z"
   },
   {
    "duration": 13,
    "start_time": "2023-04-05T06:58:25.209Z"
   },
   {
    "duration": 17,
    "start_time": "2023-04-05T06:58:25.224Z"
   },
   {
    "duration": 46,
    "start_time": "2023-04-05T06:58:25.242Z"
   },
   {
    "duration": 3,
    "start_time": "2023-04-05T06:58:25.290Z"
   },
   {
    "duration": 9,
    "start_time": "2023-04-05T06:58:25.295Z"
   },
   {
    "duration": 7,
    "start_time": "2023-04-05T06:58:25.305Z"
   },
   {
    "duration": 8,
    "start_time": "2023-04-05T06:58:25.314Z"
   },
   {
    "duration": 6,
    "start_time": "2023-04-05T06:58:25.324Z"
   },
   {
    "duration": 24,
    "start_time": "2023-04-05T06:58:25.332Z"
   },
   {
    "duration": 47,
    "start_time": "2023-04-05T06:58:25.358Z"
   },
   {
    "duration": 5,
    "start_time": "2023-04-05T06:58:25.407Z"
   },
   {
    "duration": 13,
    "start_time": "2023-04-05T06:58:25.414Z"
   },
   {
    "duration": 14,
    "start_time": "2023-04-05T06:58:25.428Z"
   },
   {
    "duration": 19,
    "start_time": "2023-04-05T06:58:25.444Z"
   },
   {
    "duration": 37,
    "start_time": "2023-04-05T06:58:25.465Z"
   },
   {
    "duration": 28,
    "start_time": "2023-04-05T06:58:25.503Z"
   },
   {
    "duration": 17,
    "start_time": "2023-04-05T06:58:25.535Z"
   },
   {
    "duration": 36,
    "start_time": "2023-04-05T06:58:25.554Z"
   },
   {
    "duration": 27,
    "start_time": "2023-04-05T06:58:25.592Z"
   },
   {
    "duration": 10,
    "start_time": "2023-04-05T06:58:25.621Z"
   },
   {
    "duration": 13,
    "start_time": "2023-04-05T06:58:25.633Z"
   },
   {
    "duration": 5,
    "start_time": "2023-04-05T06:58:25.648Z"
   },
   {
    "duration": 43,
    "start_time": "2023-04-05T06:58:25.655Z"
   },
   {
    "duration": 8,
    "start_time": "2023-04-05T06:58:25.700Z"
   },
   {
    "duration": 22,
    "start_time": "2023-04-05T06:58:25.710Z"
   },
   {
    "duration": 16,
    "start_time": "2023-04-05T06:58:25.734Z"
   },
   {
    "duration": 17,
    "start_time": "2023-04-05T06:58:25.752Z"
   },
   {
    "duration": 38,
    "start_time": "2023-04-05T06:58:25.770Z"
   },
   {
    "duration": 197,
    "start_time": "2023-04-05T06:58:25.810Z"
   },
   {
    "duration": 5,
    "start_time": "2023-04-05T06:58:26.009Z"
   },
   {
    "duration": 7,
    "start_time": "2023-04-05T06:58:26.016Z"
   },
   {
    "duration": 193,
    "start_time": "2023-04-05T06:58:26.025Z"
   },
   {
    "duration": 7,
    "start_time": "2023-04-05T06:58:26.220Z"
   },
   {
    "duration": 13,
    "start_time": "2023-04-05T06:58:26.229Z"
   },
   {
    "duration": 12,
    "start_time": "2023-04-05T06:58:26.244Z"
   },
   {
    "duration": 6,
    "start_time": "2023-04-05T06:58:26.288Z"
   },
   {
    "duration": 9,
    "start_time": "2023-04-05T06:58:26.296Z"
   },
   {
    "duration": 6,
    "start_time": "2023-04-05T06:58:26.307Z"
   },
   {
    "duration": 9,
    "start_time": "2023-04-05T06:58:26.315Z"
   },
   {
    "duration": 11,
    "start_time": "2023-04-05T06:58:26.325Z"
   },
   {
    "duration": 12,
    "start_time": "2023-04-05T06:58:26.338Z"
   },
   {
    "duration": 42,
    "start_time": "2023-04-05T06:58:26.352Z"
   },
   {
    "duration": 12,
    "start_time": "2023-04-05T06:58:26.395Z"
   },
   {
    "duration": 25,
    "start_time": "2023-04-05T06:58:26.408Z"
   },
   {
    "duration": 211,
    "start_time": "2023-04-05T06:58:26.435Z"
   },
   {
    "duration": 5,
    "start_time": "2023-04-05T07:00:30.635Z"
   },
   {
    "duration": 12,
    "start_time": "2023-04-05T07:03:58.659Z"
   },
   {
    "duration": 6,
    "start_time": "2023-04-05T07:04:06.633Z"
   },
   {
    "duration": 3,
    "start_time": "2023-04-05T07:05:16.178Z"
   },
   {
    "duration": 150,
    "start_time": "2023-04-05T07:05:16.184Z"
   },
   {
    "duration": 21,
    "start_time": "2023-04-05T07:05:16.337Z"
   },
   {
    "duration": 43,
    "start_time": "2023-04-05T07:05:16.360Z"
   },
   {
    "duration": 41,
    "start_time": "2023-04-05T07:05:16.407Z"
   },
   {
    "duration": 11,
    "start_time": "2023-04-05T07:05:16.450Z"
   },
   {
    "duration": 34,
    "start_time": "2023-04-05T07:05:16.463Z"
   },
   {
    "duration": 40,
    "start_time": "2023-04-05T07:05:16.499Z"
   },
   {
    "duration": 38,
    "start_time": "2023-04-05T07:05:16.542Z"
   },
   {
    "duration": 34,
    "start_time": "2023-04-05T07:05:16.582Z"
   },
   {
    "duration": 30,
    "start_time": "2023-04-05T07:05:16.618Z"
   },
   {
    "duration": 24,
    "start_time": "2023-04-05T07:05:16.650Z"
   },
   {
    "duration": 27,
    "start_time": "2023-04-05T07:05:16.676Z"
   },
   {
    "duration": 35,
    "start_time": "2023-04-05T07:05:16.708Z"
   },
   {
    "duration": 47,
    "start_time": "2023-04-05T07:05:16.745Z"
   },
   {
    "duration": 19,
    "start_time": "2023-04-05T07:05:16.795Z"
   },
   {
    "duration": 11,
    "start_time": "2023-04-05T07:05:16.817Z"
   },
   {
    "duration": 11,
    "start_time": "2023-04-05T07:05:16.830Z"
   },
   {
    "duration": 12,
    "start_time": "2023-04-05T07:05:16.843Z"
   },
   {
    "duration": 10,
    "start_time": "2023-04-05T07:05:16.857Z"
   },
   {
    "duration": 30,
    "start_time": "2023-04-05T07:05:16.869Z"
   },
   {
    "duration": 45,
    "start_time": "2023-04-05T07:05:16.901Z"
   },
   {
    "duration": 6,
    "start_time": "2023-04-05T07:05:16.949Z"
   },
   {
    "duration": 34,
    "start_time": "2023-04-05T07:05:16.957Z"
   },
   {
    "duration": 14,
    "start_time": "2023-04-05T07:05:16.993Z"
   },
   {
    "duration": 38,
    "start_time": "2023-04-05T07:05:17.010Z"
   },
   {
    "duration": 75,
    "start_time": "2023-04-05T07:05:17.055Z"
   },
   {
    "duration": 75,
    "start_time": "2023-04-05T07:05:17.133Z"
   },
   {
    "duration": 28,
    "start_time": "2023-04-05T07:05:17.211Z"
   },
   {
    "duration": 24,
    "start_time": "2023-04-05T07:05:17.241Z"
   },
   {
    "duration": 50,
    "start_time": "2023-04-05T07:05:17.267Z"
   },
   {
    "duration": 27,
    "start_time": "2023-04-05T07:05:17.319Z"
   },
   {
    "duration": 21,
    "start_time": "2023-04-05T07:05:17.349Z"
   },
   {
    "duration": 18,
    "start_time": "2023-04-05T07:05:17.378Z"
   },
   {
    "duration": 31,
    "start_time": "2023-04-05T07:05:17.399Z"
   },
   {
    "duration": 15,
    "start_time": "2023-04-05T07:05:17.432Z"
   },
   {
    "duration": 26,
    "start_time": "2023-04-05T07:05:17.449Z"
   },
   {
    "duration": 64,
    "start_time": "2023-04-05T07:05:17.481Z"
   },
   {
    "duration": 28,
    "start_time": "2023-04-05T07:05:17.550Z"
   },
   {
    "duration": 80,
    "start_time": "2023-04-05T07:05:17.580Z"
   },
   {
    "duration": 288,
    "start_time": "2023-04-05T07:05:17.666Z"
   },
   {
    "duration": 9,
    "start_time": "2023-04-05T07:05:17.956Z"
   },
   {
    "duration": 32,
    "start_time": "2023-04-05T07:05:17.967Z"
   },
   {
    "duration": 262,
    "start_time": "2023-04-05T07:05:18.001Z"
   },
   {
    "duration": 9,
    "start_time": "2023-04-05T07:05:18.265Z"
   },
   {
    "duration": 31,
    "start_time": "2023-04-05T07:05:18.277Z"
   },
   {
    "duration": 22,
    "start_time": "2023-04-05T07:05:18.311Z"
   },
   {
    "duration": 13,
    "start_time": "2023-04-05T07:05:18.335Z"
   },
   {
    "duration": 13,
    "start_time": "2023-04-05T07:05:18.352Z"
   },
   {
    "duration": 32,
    "start_time": "2023-04-05T07:05:18.368Z"
   },
   {
    "duration": 25,
    "start_time": "2023-04-05T07:05:18.403Z"
   },
   {
    "duration": 17,
    "start_time": "2023-04-05T07:05:18.431Z"
   },
   {
    "duration": 22,
    "start_time": "2023-04-05T07:05:18.452Z"
   },
   {
    "duration": 16,
    "start_time": "2023-04-05T07:05:18.477Z"
   },
   {
    "duration": 8,
    "start_time": "2023-04-05T07:05:18.495Z"
   },
   {
    "duration": 0,
    "start_time": "2023-04-05T07:05:18.505Z"
   },
   {
    "duration": 0,
    "start_time": "2023-04-05T07:05:18.506Z"
   },
   {
    "duration": 0,
    "start_time": "2023-04-05T07:05:18.508Z"
   },
   {
    "duration": 7,
    "start_time": "2023-04-05T07:05:24.491Z"
   },
   {
    "duration": 10,
    "start_time": "2023-04-05T07:05:28.780Z"
   },
   {
    "duration": 416,
    "start_time": "2023-04-05T07:05:53.387Z"
   },
   {
    "duration": 13,
    "start_time": "2023-04-05T07:12:58.454Z"
   },
   {
    "duration": 8,
    "start_time": "2023-04-05T07:13:00.591Z"
   },
   {
    "duration": 9,
    "start_time": "2023-04-05T07:13:02.196Z"
   },
   {
    "duration": 16,
    "start_time": "2023-04-05T07:13:10.621Z"
   },
   {
    "duration": 8,
    "start_time": "2023-04-05T07:13:45.012Z"
   },
   {
    "duration": 20,
    "start_time": "2023-04-05T07:13:49.534Z"
   },
   {
    "duration": 6,
    "start_time": "2023-04-05T07:13:50.372Z"
   },
   {
    "duration": 5,
    "start_time": "2023-04-05T07:14:02.509Z"
   },
   {
    "duration": 320,
    "start_time": "2023-04-05T07:14:02.519Z"
   },
   {
    "duration": 21,
    "start_time": "2023-04-05T07:14:02.842Z"
   },
   {
    "duration": 109,
    "start_time": "2023-04-05T07:14:02.865Z"
   },
   {
    "duration": 153,
    "start_time": "2023-04-05T07:14:02.976Z"
   },
   {
    "duration": 32,
    "start_time": "2023-04-05T07:14:03.134Z"
   },
   {
    "duration": 104,
    "start_time": "2023-04-05T07:14:03.169Z"
   },
   {
    "duration": 20,
    "start_time": "2023-04-05T07:14:03.275Z"
   },
   {
    "duration": 73,
    "start_time": "2023-04-05T07:14:03.298Z"
   },
   {
    "duration": 10,
    "start_time": "2023-04-05T07:14:03.374Z"
   },
   {
    "duration": 79,
    "start_time": "2023-04-05T07:14:03.388Z"
   },
   {
    "duration": 25,
    "start_time": "2023-04-05T07:14:03.469Z"
   },
   {
    "duration": 26,
    "start_time": "2023-04-05T07:14:03.496Z"
   },
   {
    "duration": 101,
    "start_time": "2023-04-05T07:14:03.526Z"
   },
   {
    "duration": 69,
    "start_time": "2023-04-05T07:14:03.629Z"
   },
   {
    "duration": 81,
    "start_time": "2023-04-05T07:14:03.700Z"
   },
   {
    "duration": 92,
    "start_time": "2023-04-05T07:14:03.784Z"
   },
   {
    "duration": 97,
    "start_time": "2023-04-05T07:14:03.878Z"
   },
   {
    "duration": 39,
    "start_time": "2023-04-05T07:14:03.977Z"
   },
   {
    "duration": 54,
    "start_time": "2023-04-05T07:14:04.018Z"
   },
   {
    "duration": 36,
    "start_time": "2023-04-05T07:14:04.074Z"
   },
   {
    "duration": 194,
    "start_time": "2023-04-05T07:14:04.113Z"
   },
   {
    "duration": 81,
    "start_time": "2023-04-05T07:14:04.312Z"
   },
   {
    "duration": 103,
    "start_time": "2023-04-05T07:14:04.395Z"
   },
   {
    "duration": 75,
    "start_time": "2023-04-05T07:14:04.500Z"
   },
   {
    "duration": 69,
    "start_time": "2023-04-05T07:14:04.578Z"
   },
   {
    "duration": 32,
    "start_time": "2023-04-05T07:14:04.649Z"
   },
   {
    "duration": 153,
    "start_time": "2023-04-05T07:14:04.684Z"
   },
   {
    "duration": 153,
    "start_time": "2023-04-05T07:14:04.844Z"
   },
   {
    "duration": 94,
    "start_time": "2023-04-05T07:14:05.000Z"
   },
   {
    "duration": 88,
    "start_time": "2023-04-05T07:14:05.097Z"
   },
   {
    "duration": 89,
    "start_time": "2023-04-05T07:14:05.189Z"
   },
   {
    "duration": 51,
    "start_time": "2023-04-05T07:14:05.280Z"
   },
   {
    "duration": 38,
    "start_time": "2023-04-05T07:14:05.335Z"
   },
   {
    "duration": 48,
    "start_time": "2023-04-05T07:14:05.375Z"
   },
   {
    "duration": 47,
    "start_time": "2023-04-05T07:14:05.425Z"
   },
   {
    "duration": 90,
    "start_time": "2023-04-05T07:14:05.474Z"
   },
   {
    "duration": 45,
    "start_time": "2023-04-05T07:14:05.566Z"
   },
   {
    "duration": 64,
    "start_time": "2023-04-05T07:14:05.614Z"
   },
   {
    "duration": 161,
    "start_time": "2023-04-05T07:14:05.680Z"
   },
   {
    "duration": 352,
    "start_time": "2023-04-05T07:14:05.847Z"
   },
   {
    "duration": 11,
    "start_time": "2023-04-05T07:14:06.203Z"
   },
   {
    "duration": 70,
    "start_time": "2023-04-05T07:14:06.216Z"
   },
   {
    "duration": 450,
    "start_time": "2023-04-05T07:14:06.289Z"
   },
   {
    "duration": 9,
    "start_time": "2023-04-05T07:14:06.742Z"
   },
   {
    "duration": 28,
    "start_time": "2023-04-05T07:14:06.753Z"
   },
   {
    "duration": 30,
    "start_time": "2023-04-05T07:14:06.783Z"
   },
   {
    "duration": 39,
    "start_time": "2023-04-05T07:14:06.815Z"
   },
   {
    "duration": 20,
    "start_time": "2023-04-05T07:14:06.857Z"
   },
   {
    "duration": 60,
    "start_time": "2023-04-05T07:14:06.879Z"
   },
   {
    "duration": 10,
    "start_time": "2023-04-05T07:14:06.941Z"
   },
   {
    "duration": 13,
    "start_time": "2023-04-05T07:14:06.953Z"
   },
   {
    "duration": 38,
    "start_time": "2023-04-05T07:14:06.968Z"
   },
   {
    "duration": 359,
    "start_time": "2023-04-05T07:14:07.008Z"
   },
   {
    "duration": 25,
    "start_time": "2023-04-05T07:15:13.829Z"
   },
   {
    "duration": 5,
    "start_time": "2023-04-05T07:15:16.080Z"
   },
   {
    "duration": 10,
    "start_time": "2023-04-05T07:15:19.719Z"
   },
   {
    "duration": 20,
    "start_time": "2023-04-05T07:15:20.935Z"
   },
   {
    "duration": 6,
    "start_time": "2023-04-05T07:15:46.721Z"
   },
   {
    "duration": 200,
    "start_time": "2023-04-05T07:15:46.739Z"
   },
   {
    "duration": 21,
    "start_time": "2023-04-05T07:15:46.943Z"
   },
   {
    "duration": 59,
    "start_time": "2023-04-05T07:15:46.969Z"
   },
   {
    "duration": 131,
    "start_time": "2023-04-05T07:15:47.035Z"
   },
   {
    "duration": 12,
    "start_time": "2023-04-05T07:15:47.168Z"
   },
   {
    "duration": 88,
    "start_time": "2023-04-05T07:15:47.182Z"
   },
   {
    "duration": 63,
    "start_time": "2023-04-05T07:15:47.273Z"
   },
   {
    "duration": 140,
    "start_time": "2023-04-05T07:15:47.339Z"
   },
   {
    "duration": 95,
    "start_time": "2023-04-05T07:15:47.481Z"
   },
   {
    "duration": 102,
    "start_time": "2023-04-05T07:15:47.580Z"
   },
   {
    "duration": 38,
    "start_time": "2023-04-05T07:15:47.685Z"
   },
   {
    "duration": 64,
    "start_time": "2023-04-05T07:15:47.725Z"
   },
   {
    "duration": 79,
    "start_time": "2023-04-05T07:15:47.792Z"
   },
   {
    "duration": 41,
    "start_time": "2023-04-05T07:15:47.873Z"
   },
   {
    "duration": 53,
    "start_time": "2023-04-05T07:15:47.916Z"
   },
   {
    "duration": 17,
    "start_time": "2023-04-05T07:15:47.971Z"
   },
   {
    "duration": 262,
    "start_time": "2023-04-05T07:15:47.991Z"
   },
   {
    "duration": 99,
    "start_time": "2023-04-05T07:15:48.255Z"
   },
   {
    "duration": 33,
    "start_time": "2023-04-05T07:15:48.356Z"
   },
   {
    "duration": 128,
    "start_time": "2023-04-05T07:15:48.393Z"
   },
   {
    "duration": 140,
    "start_time": "2023-04-05T07:15:48.524Z"
   },
   {
    "duration": 52,
    "start_time": "2023-04-05T07:15:48.667Z"
   },
   {
    "duration": 91,
    "start_time": "2023-04-05T07:15:48.721Z"
   },
   {
    "duration": 62,
    "start_time": "2023-04-05T07:15:48.815Z"
   },
   {
    "duration": 120,
    "start_time": "2023-04-05T07:15:48.879Z"
   },
   {
    "duration": 113,
    "start_time": "2023-04-05T07:15:49.001Z"
   },
   {
    "duration": 148,
    "start_time": "2023-04-05T07:15:49.116Z"
   },
   {
    "duration": 88,
    "start_time": "2023-04-05T07:15:49.272Z"
   },
   {
    "duration": 92,
    "start_time": "2023-04-05T07:15:49.362Z"
   },
   {
    "duration": 113,
    "start_time": "2023-04-05T07:15:49.456Z"
   },
   {
    "duration": 16,
    "start_time": "2023-04-05T07:15:49.572Z"
   },
   {
    "duration": 85,
    "start_time": "2023-04-05T07:15:49.591Z"
   },
   {
    "duration": 72,
    "start_time": "2023-04-05T07:15:49.679Z"
   },
   {
    "duration": 49,
    "start_time": "2023-04-05T07:15:49.753Z"
   },
   {
    "duration": 73,
    "start_time": "2023-04-05T07:15:49.805Z"
   },
   {
    "duration": 122,
    "start_time": "2023-04-05T07:15:49.880Z"
   },
   {
    "duration": 89,
    "start_time": "2023-04-05T07:15:50.005Z"
   },
   {
    "duration": 48,
    "start_time": "2023-04-05T07:15:50.096Z"
   },
   {
    "duration": 103,
    "start_time": "2023-04-05T07:15:50.147Z"
   },
   {
    "duration": 425,
    "start_time": "2023-04-05T07:15:50.254Z"
   },
   {
    "duration": 13,
    "start_time": "2023-04-05T07:15:50.682Z"
   },
   {
    "duration": 151,
    "start_time": "2023-04-05T07:15:50.698Z"
   },
   {
    "duration": 307,
    "start_time": "2023-04-05T07:15:50.852Z"
   },
   {
    "duration": 16,
    "start_time": "2023-04-05T07:15:51.163Z"
   },
   {
    "duration": 94,
    "start_time": "2023-04-05T07:15:51.183Z"
   },
   {
    "duration": 114,
    "start_time": "2023-04-05T07:15:51.279Z"
   },
   {
    "duration": 109,
    "start_time": "2023-04-05T07:15:51.396Z"
   },
   {
    "duration": 86,
    "start_time": "2023-04-05T07:15:51.507Z"
   },
   {
    "duration": 128,
    "start_time": "2023-04-05T07:15:51.600Z"
   },
   {
    "duration": 121,
    "start_time": "2023-04-05T07:15:51.733Z"
   },
   {
    "duration": 30,
    "start_time": "2023-04-05T07:15:51.856Z"
   },
   {
    "duration": 116,
    "start_time": "2023-04-05T07:15:51.895Z"
   },
   {
    "duration": 462,
    "start_time": "2023-04-05T07:15:52.014Z"
   },
   {
    "duration": 3,
    "start_time": "2023-04-05T07:16:17.758Z"
   },
   {
    "duration": 15,
    "start_time": "2023-04-05T07:16:20.934Z"
   },
   {
    "duration": 9,
    "start_time": "2023-04-05T07:16:37.537Z"
   },
   {
    "duration": 212,
    "start_time": "2023-04-05T07:16:37.549Z"
   },
   {
    "duration": 19,
    "start_time": "2023-04-05T07:16:37.765Z"
   },
   {
    "duration": 115,
    "start_time": "2023-04-05T07:16:37.787Z"
   },
   {
    "duration": 102,
    "start_time": "2023-04-05T07:16:37.905Z"
   },
   {
    "duration": 9,
    "start_time": "2023-04-05T07:16:38.010Z"
   },
   {
    "duration": 86,
    "start_time": "2023-04-05T07:16:38.021Z"
   },
   {
    "duration": 85,
    "start_time": "2023-04-05T07:16:38.110Z"
   },
   {
    "duration": 127,
    "start_time": "2023-04-05T07:16:38.198Z"
   },
   {
    "duration": 54,
    "start_time": "2023-04-05T07:16:38.334Z"
   },
   {
    "duration": 143,
    "start_time": "2023-04-05T07:16:38.401Z"
   },
   {
    "duration": 71,
    "start_time": "2023-04-05T07:16:38.547Z"
   },
   {
    "duration": 114,
    "start_time": "2023-04-05T07:16:38.623Z"
   },
   {
    "duration": 66,
    "start_time": "2023-04-05T07:16:38.750Z"
   },
   {
    "duration": 164,
    "start_time": "2023-04-05T07:16:38.818Z"
   },
   {
    "duration": 101,
    "start_time": "2023-04-05T07:16:38.984Z"
   },
   {
    "duration": 80,
    "start_time": "2023-04-05T07:16:39.087Z"
   },
   {
    "duration": 13,
    "start_time": "2023-04-05T07:16:39.173Z"
   },
   {
    "duration": 81,
    "start_time": "2023-04-05T07:16:39.191Z"
   },
   {
    "duration": 83,
    "start_time": "2023-04-05T07:16:39.274Z"
   },
   {
    "duration": 35,
    "start_time": "2023-04-05T07:16:39.360Z"
   },
   {
    "duration": 116,
    "start_time": "2023-04-05T07:16:39.398Z"
   },
   {
    "duration": 7,
    "start_time": "2023-04-05T07:16:39.516Z"
   },
   {
    "duration": 241,
    "start_time": "2023-04-05T07:16:39.525Z"
   },
   {
    "duration": 24,
    "start_time": "2023-04-05T07:16:39.768Z"
   },
   {
    "duration": 99,
    "start_time": "2023-04-05T07:16:39.794Z"
   },
   {
    "duration": 110,
    "start_time": "2023-04-05T07:16:39.895Z"
   },
   {
    "duration": 102,
    "start_time": "2023-04-05T07:16:40.009Z"
   },
   {
    "duration": 87,
    "start_time": "2023-04-05T07:16:40.117Z"
   },
   {
    "duration": 54,
    "start_time": "2023-04-05T07:16:40.216Z"
   },
   {
    "duration": 114,
    "start_time": "2023-04-05T07:16:40.272Z"
   },
   {
    "duration": 15,
    "start_time": "2023-04-05T07:16:40.392Z"
   },
   {
    "duration": 98,
    "start_time": "2023-04-05T07:16:40.415Z"
   },
   {
    "duration": 63,
    "start_time": "2023-04-05T07:16:40.519Z"
   },
   {
    "duration": 173,
    "start_time": "2023-04-05T07:16:40.585Z"
   },
   {
    "duration": 112,
    "start_time": "2023-04-05T07:16:40.760Z"
   },
   {
    "duration": 128,
    "start_time": "2023-04-05T07:16:40.878Z"
   },
   {
    "duration": 179,
    "start_time": "2023-04-05T07:16:41.009Z"
   },
   {
    "duration": 147,
    "start_time": "2023-04-05T07:16:41.193Z"
   },
   {
    "duration": 205,
    "start_time": "2023-04-05T07:16:41.345Z"
   },
   {
    "duration": 436,
    "start_time": "2023-04-05T07:16:41.566Z"
   },
   {
    "duration": 8,
    "start_time": "2023-04-05T07:16:42.004Z"
   },
   {
    "duration": 63,
    "start_time": "2023-04-05T07:16:42.014Z"
   },
   {
    "duration": 579,
    "start_time": "2023-04-05T07:16:42.079Z"
   },
   {
    "duration": 12,
    "start_time": "2023-04-05T07:16:42.670Z"
   },
   {
    "duration": 92,
    "start_time": "2023-04-05T07:16:42.684Z"
   },
   {
    "duration": 101,
    "start_time": "2023-04-05T07:16:42.779Z"
   },
   {
    "duration": 60,
    "start_time": "2023-04-05T07:16:42.882Z"
   },
   {
    "duration": 99,
    "start_time": "2023-04-05T07:16:42.947Z"
   },
   {
    "duration": 27,
    "start_time": "2023-04-05T07:16:43.048Z"
   },
   {
    "duration": 50,
    "start_time": "2023-04-05T07:16:43.078Z"
   },
   {
    "duration": 442,
    "start_time": "2023-04-05T07:16:43.131Z"
   },
   {
    "duration": 12,
    "start_time": "2023-04-05T07:16:49.733Z"
   },
   {
    "duration": 17,
    "start_time": "2023-04-05T07:17:26.939Z"
   },
   {
    "duration": 8,
    "start_time": "2023-04-05T07:17:40.839Z"
   },
   {
    "duration": 4,
    "start_time": "2023-04-05T07:19:20.358Z"
   },
   {
    "duration": 6,
    "start_time": "2023-04-05T07:19:23.668Z"
   },
   {
    "duration": 7,
    "start_time": "2023-04-05T07:19:24.514Z"
   },
   {
    "duration": 556,
    "start_time": "2023-04-05T07:19:41.831Z"
   },
   {
    "duration": 160,
    "start_time": "2023-04-05T07:19:42.395Z"
   },
   {
    "duration": 32,
    "start_time": "2023-04-05T07:19:42.557Z"
   },
   {
    "duration": 81,
    "start_time": "2023-04-05T07:19:42.592Z"
   },
   {
    "duration": 73,
    "start_time": "2023-04-05T07:19:42.675Z"
   },
   {
    "duration": 20,
    "start_time": "2023-04-05T07:19:42.754Z"
   },
   {
    "duration": 92,
    "start_time": "2023-04-05T07:19:42.776Z"
   },
   {
    "duration": 65,
    "start_time": "2023-04-05T07:19:42.870Z"
   },
   {
    "duration": 46,
    "start_time": "2023-04-05T07:19:42.938Z"
   },
   {
    "duration": 66,
    "start_time": "2023-04-05T07:19:42.988Z"
   },
   {
    "duration": 207,
    "start_time": "2023-04-05T07:19:43.057Z"
   },
   {
    "duration": 108,
    "start_time": "2023-04-05T07:19:43.266Z"
   },
   {
    "duration": 95,
    "start_time": "2023-04-05T07:19:43.376Z"
   },
   {
    "duration": 101,
    "start_time": "2023-04-05T07:19:43.472Z"
   },
   {
    "duration": 88,
    "start_time": "2023-04-05T07:19:43.575Z"
   },
   {
    "duration": 17,
    "start_time": "2023-04-05T07:19:43.666Z"
   },
   {
    "duration": 85,
    "start_time": "2023-04-05T07:19:43.685Z"
   },
   {
    "duration": 77,
    "start_time": "2023-04-05T07:19:43.772Z"
   },
   {
    "duration": 37,
    "start_time": "2023-04-05T07:19:43.851Z"
   },
   {
    "duration": 78,
    "start_time": "2023-04-05T07:19:43.892Z"
   },
   {
    "duration": 71,
    "start_time": "2023-04-05T07:19:43.972Z"
   },
   {
    "duration": 107,
    "start_time": "2023-04-05T07:19:44.045Z"
   },
   {
    "duration": 14,
    "start_time": "2023-04-05T07:19:44.155Z"
   },
   {
    "duration": 84,
    "start_time": "2023-04-05T07:19:44.171Z"
   },
   {
    "duration": 103,
    "start_time": "2023-04-05T07:19:44.257Z"
   },
   {
    "duration": 102,
    "start_time": "2023-04-05T07:19:44.362Z"
   },
   {
    "duration": 31,
    "start_time": "2023-04-05T07:19:44.466Z"
   },
   {
    "duration": 94,
    "start_time": "2023-04-05T07:19:44.502Z"
   },
   {
    "duration": 34,
    "start_time": "2023-04-05T07:19:44.600Z"
   },
   {
    "duration": 45,
    "start_time": "2023-04-05T07:19:44.637Z"
   },
   {
    "duration": 96,
    "start_time": "2023-04-05T07:19:44.684Z"
   },
   {
    "duration": 88,
    "start_time": "2023-04-05T07:19:44.783Z"
   },
   {
    "duration": 158,
    "start_time": "2023-04-05T07:19:44.874Z"
   },
   {
    "duration": 52,
    "start_time": "2023-04-05T07:19:45.036Z"
   },
   {
    "duration": 74,
    "start_time": "2023-04-05T07:19:45.091Z"
   },
   {
    "duration": 16,
    "start_time": "2023-04-05T07:19:45.166Z"
   },
   {
    "duration": 82,
    "start_time": "2023-04-05T07:19:45.183Z"
   },
   {
    "duration": 75,
    "start_time": "2023-04-05T07:19:45.267Z"
   },
   {
    "duration": 27,
    "start_time": "2023-04-05T07:19:45.349Z"
   },
   {
    "duration": 134,
    "start_time": "2023-04-05T07:19:45.378Z"
   },
   {
    "duration": 669,
    "start_time": "2023-04-05T07:19:45.514Z"
   },
   {
    "duration": 8,
    "start_time": "2023-04-05T07:19:46.186Z"
   },
   {
    "duration": 72,
    "start_time": "2023-04-05T07:19:46.196Z"
   },
   {
    "duration": 381,
    "start_time": "2023-04-05T07:19:46.270Z"
   },
   {
    "duration": 12,
    "start_time": "2023-04-05T07:19:46.653Z"
   },
   {
    "duration": 38,
    "start_time": "2023-04-05T07:19:46.667Z"
   },
   {
    "duration": 107,
    "start_time": "2023-04-05T07:19:46.707Z"
   },
   {
    "duration": 93,
    "start_time": "2023-04-05T07:19:46.817Z"
   },
   {
    "duration": 109,
    "start_time": "2023-04-05T07:19:46.912Z"
   },
   {
    "duration": 68,
    "start_time": "2023-04-05T07:19:47.024Z"
   },
   {
    "duration": 83,
    "start_time": "2023-04-05T07:19:47.095Z"
   },
   {
    "duration": 78,
    "start_time": "2023-04-05T07:19:47.180Z"
   },
   {
    "duration": 119,
    "start_time": "2023-04-05T07:19:47.261Z"
   },
   {
    "duration": 331,
    "start_time": "2023-04-05T07:19:47.382Z"
   },
   {
    "duration": 69,
    "start_time": "2023-04-05T07:20:51.254Z"
   },
   {
    "duration": 4,
    "start_time": "2023-04-05T07:21:39.081Z"
   },
   {
    "duration": 9,
    "start_time": "2023-04-05T07:21:41.673Z"
   },
   {
    "duration": 7,
    "start_time": "2023-04-05T07:21:42.922Z"
   },
   {
    "duration": 44,
    "start_time": "2023-04-05T07:22:04.583Z"
   },
   {
    "duration": 77,
    "start_time": "2023-04-05T07:22:48.454Z"
   },
   {
    "duration": 21,
    "start_time": "2023-04-05T07:24:26.834Z"
   },
   {
    "duration": 13,
    "start_time": "2023-04-05T07:24:30.210Z"
   },
   {
    "duration": 6,
    "start_time": "2023-04-05T07:24:38.476Z"
   },
   {
    "duration": 11,
    "start_time": "2023-04-05T07:24:41.679Z"
   },
   {
    "duration": 74,
    "start_time": "2023-04-05T07:26:12.430Z"
   },
   {
    "duration": 279,
    "start_time": "2023-04-05T07:26:31.381Z"
   },
   {
    "duration": 7,
    "start_time": "2023-04-05T07:32:52.680Z"
   },
   {
    "duration": 7,
    "start_time": "2023-04-05T07:33:51.907Z"
   },
   {
    "duration": 209,
    "start_time": "2023-04-05T07:42:31.156Z"
   },
   {
    "duration": 425,
    "start_time": "2023-04-05T07:43:09.018Z"
   },
   {
    "duration": 465,
    "start_time": "2023-04-05T07:49:39.386Z"
   },
   {
    "duration": 476,
    "start_time": "2023-04-05T07:49:49.584Z"
   },
   {
    "duration": 563,
    "start_time": "2023-04-05T07:50:08.702Z"
   },
   {
    "duration": 409,
    "start_time": "2023-04-05T07:52:21.200Z"
   },
   {
    "duration": 326,
    "start_time": "2023-04-05T07:52:40.782Z"
   },
   {
    "duration": 243,
    "start_time": "2023-04-05T07:55:24.758Z"
   },
   {
    "duration": 523,
    "start_time": "2023-04-05T07:55:38.051Z"
   },
   {
    "duration": 217,
    "start_time": "2023-04-05T07:57:12.014Z"
   },
   {
    "duration": 467,
    "start_time": "2023-04-05T07:59:04.103Z"
   },
   {
    "duration": 15,
    "start_time": "2023-04-05T08:03:14.802Z"
   },
   {
    "duration": 13,
    "start_time": "2023-04-05T08:03:38.517Z"
   },
   {
    "duration": 11,
    "start_time": "2023-04-05T08:05:43.529Z"
   },
   {
    "duration": 18,
    "start_time": "2023-04-05T08:29:40.842Z"
   },
   {
    "duration": 27,
    "start_time": "2023-04-05T08:33:07.222Z"
   },
   {
    "duration": 45,
    "start_time": "2023-04-05T08:40:33.543Z"
   },
   {
    "duration": 5,
    "start_time": "2023-04-05T08:43:20.184Z"
   },
   {
    "duration": 66,
    "start_time": "2023-04-05T08:43:46.111Z"
   },
   {
    "duration": 4,
    "start_time": "2023-04-05T08:44:26.653Z"
   },
   {
    "duration": 3,
    "start_time": "2023-04-05T08:44:34.712Z"
   },
   {
    "duration": 35,
    "start_time": "2023-04-05T08:44:36.119Z"
   },
   {
    "duration": 19,
    "start_time": "2023-04-05T08:46:35.246Z"
   },
   {
    "duration": 15,
    "start_time": "2023-04-05T08:47:33.347Z"
   },
   {
    "duration": 7,
    "start_time": "2023-04-05T08:48:05.016Z"
   },
   {
    "duration": 5,
    "start_time": "2023-04-05T08:48:21.953Z"
   },
   {
    "duration": 9,
    "start_time": "2023-04-05T08:48:34.436Z"
   },
   {
    "duration": 194,
    "start_time": "2023-04-05T08:48:34.454Z"
   },
   {
    "duration": 28,
    "start_time": "2023-04-05T08:48:34.651Z"
   },
   {
    "duration": 124,
    "start_time": "2023-04-05T08:48:34.682Z"
   },
   {
    "duration": 134,
    "start_time": "2023-04-05T08:48:34.810Z"
   },
   {
    "duration": 17,
    "start_time": "2023-04-05T08:48:34.948Z"
   },
   {
    "duration": 36,
    "start_time": "2023-04-05T08:48:34.967Z"
   },
   {
    "duration": 53,
    "start_time": "2023-04-05T08:48:35.010Z"
   },
   {
    "duration": 35,
    "start_time": "2023-04-05T08:48:35.070Z"
   },
   {
    "duration": 46,
    "start_time": "2023-04-05T08:48:35.112Z"
   },
   {
    "duration": 18,
    "start_time": "2023-04-05T08:48:35.160Z"
   },
   {
    "duration": 102,
    "start_time": "2023-04-05T08:48:35.180Z"
   },
   {
    "duration": 21,
    "start_time": "2023-04-05T08:48:35.285Z"
   },
   {
    "duration": 100,
    "start_time": "2023-04-05T08:48:35.308Z"
   },
   {
    "duration": 126,
    "start_time": "2023-04-05T08:48:35.412Z"
   },
   {
    "duration": 38,
    "start_time": "2023-04-05T08:48:35.541Z"
   },
   {
    "duration": 104,
    "start_time": "2023-04-05T08:48:35.583Z"
   },
   {
    "duration": 94,
    "start_time": "2023-04-05T08:48:35.690Z"
   },
   {
    "duration": 91,
    "start_time": "2023-04-05T08:48:35.793Z"
   },
   {
    "duration": 73,
    "start_time": "2023-04-05T08:48:35.886Z"
   },
   {
    "duration": 94,
    "start_time": "2023-04-05T08:48:35.962Z"
   },
   {
    "duration": 73,
    "start_time": "2023-04-05T08:48:36.060Z"
   },
   {
    "duration": 28,
    "start_time": "2023-04-05T08:48:36.135Z"
   },
   {
    "duration": 22,
    "start_time": "2023-04-05T08:48:36.164Z"
   },
   {
    "duration": 475,
    "start_time": "2023-04-05T08:48:36.195Z"
   },
   {
    "duration": 118,
    "start_time": "2023-04-05T08:48:36.671Z"
   },
   {
    "duration": 86,
    "start_time": "2023-04-05T08:48:36.792Z"
   },
   {
    "duration": 61,
    "start_time": "2023-04-05T08:48:36.880Z"
   },
   {
    "duration": 64,
    "start_time": "2023-04-05T08:48:36.950Z"
   },
   {
    "duration": 59,
    "start_time": "2023-04-05T08:48:37.019Z"
   },
   {
    "duration": 107,
    "start_time": "2023-04-05T08:48:37.080Z"
   },
   {
    "duration": 66,
    "start_time": "2023-04-05T08:48:37.189Z"
   },
   {
    "duration": 27,
    "start_time": "2023-04-05T08:48:37.257Z"
   },
   {
    "duration": 51,
    "start_time": "2023-04-05T08:48:37.292Z"
   },
   {
    "duration": 49,
    "start_time": "2023-04-05T08:48:37.345Z"
   },
   {
    "duration": 66,
    "start_time": "2023-04-05T08:48:37.396Z"
   },
   {
    "duration": 64,
    "start_time": "2023-04-05T08:48:37.472Z"
   },
   {
    "duration": 125,
    "start_time": "2023-04-05T08:48:37.541Z"
   },
   {
    "duration": 6,
    "start_time": "2023-04-05T08:48:37.668Z"
   },
   {
    "duration": 149,
    "start_time": "2023-04-05T08:48:37.675Z"
   },
   {
    "duration": 11,
    "start_time": "2023-04-05T08:48:37.827Z"
   },
   {
    "duration": 277,
    "start_time": "2023-04-05T08:48:37.841Z"
   },
   {
    "duration": 12,
    "start_time": "2023-04-05T08:48:38.122Z"
   },
   {
    "duration": 226,
    "start_time": "2023-04-05T08:48:38.139Z"
   },
   {
    "duration": 417,
    "start_time": "2023-04-05T08:48:38.367Z"
   },
   {
    "duration": 13,
    "start_time": "2023-04-05T08:48:38.810Z"
   },
   {
    "duration": 82,
    "start_time": "2023-04-05T08:48:38.830Z"
   },
   {
    "duration": 79,
    "start_time": "2023-04-05T08:48:38.914Z"
   },
   {
    "duration": 72,
    "start_time": "2023-04-05T08:48:38.995Z"
   },
   {
    "duration": 99,
    "start_time": "2023-04-05T08:48:39.069Z"
   },
   {
    "duration": 94,
    "start_time": "2023-04-05T08:48:39.170Z"
   },
   {
    "duration": 89,
    "start_time": "2023-04-05T08:48:39.267Z"
   },
   {
    "duration": 64,
    "start_time": "2023-04-05T08:48:39.359Z"
   },
   {
    "duration": 273,
    "start_time": "2023-04-05T08:48:39.425Z"
   },
   {
    "duration": 348,
    "start_time": "2023-04-05T08:48:39.700Z"
   },
   {
    "duration": 10,
    "start_time": "2023-04-05T08:48:40.052Z"
   },
   {
    "duration": 64,
    "start_time": "2023-04-05T08:48:40.069Z"
   },
   {
    "duration": 30,
    "start_time": "2023-04-05T08:48:40.135Z"
   },
   {
    "duration": 74,
    "start_time": "2023-04-05T08:48:40.167Z"
   },
   {
    "duration": 8,
    "start_time": "2023-04-05T08:48:40.243Z"
   },
   {
    "duration": 14,
    "start_time": "2023-04-05T08:48:40.253Z"
   },
   {
    "duration": 12,
    "start_time": "2023-04-05T08:49:28.190Z"
   },
   {
    "duration": 18,
    "start_time": "2023-04-05T08:49:33.507Z"
   },
   {
    "duration": 10,
    "start_time": "2023-04-05T08:51:52.043Z"
   },
   {
    "duration": 20,
    "start_time": "2023-04-05T08:52:38.749Z"
   },
   {
    "duration": 19,
    "start_time": "2023-04-05T08:57:27.478Z"
   },
   {
    "duration": 12,
    "start_time": "2023-04-05T08:57:35.480Z"
   },
   {
    "duration": 6,
    "start_time": "2023-04-05T09:08:03.046Z"
   },
   {
    "duration": 100,
    "start_time": "2023-04-05T09:08:53.701Z"
   },
   {
    "duration": 53,
    "start_time": "2023-04-05T09:10:07.714Z"
   },
   {
    "duration": 16,
    "start_time": "2023-04-05T09:10:26.457Z"
   },
   {
    "duration": 74,
    "start_time": "2023-04-05T09:10:32.579Z"
   },
   {
    "duration": 15,
    "start_time": "2023-04-05T09:11:32.364Z"
   },
   {
    "duration": 29,
    "start_time": "2023-04-05T09:11:43.728Z"
   },
   {
    "duration": 7,
    "start_time": "2023-04-05T09:11:58.270Z"
   },
   {
    "duration": 5,
    "start_time": "2023-04-05T09:16:34.163Z"
   },
   {
    "duration": 101,
    "start_time": "2023-04-05T09:16:39.682Z"
   },
   {
    "duration": 15,
    "start_time": "2023-04-05T09:17:20.386Z"
   },
   {
    "duration": 14,
    "start_time": "2023-04-05T09:18:33.259Z"
   },
   {
    "duration": 9,
    "start_time": "2023-04-05T09:21:46.967Z"
   },
   {
    "duration": 14,
    "start_time": "2023-04-05T09:21:51.201Z"
   },
   {
    "duration": 22,
    "start_time": "2023-04-05T09:22:13.019Z"
   },
   {
    "duration": 17,
    "start_time": "2023-04-05T09:23:15.375Z"
   },
   {
    "duration": 10,
    "start_time": "2023-04-05T09:23:42.816Z"
   },
   {
    "duration": 19,
    "start_time": "2023-04-05T09:23:44.236Z"
   },
   {
    "duration": 32,
    "start_time": "2023-04-05T09:24:08.777Z"
   },
   {
    "duration": 11,
    "start_time": "2023-04-05T09:27:50.858Z"
   },
   {
    "duration": 15,
    "start_time": "2023-04-05T09:28:17.617Z"
   },
   {
    "duration": 11,
    "start_time": "2023-04-05T09:29:38.758Z"
   },
   {
    "duration": 10,
    "start_time": "2023-04-05T09:31:23.056Z"
   },
   {
    "duration": 157,
    "start_time": "2023-04-05T09:34:50.391Z"
   },
   {
    "duration": 26,
    "start_time": "2023-04-05T09:34:58.603Z"
   },
   {
    "duration": 17,
    "start_time": "2023-04-05T09:36:07.616Z"
   },
   {
    "duration": 9,
    "start_time": "2023-04-05T09:36:31.627Z"
   },
   {
    "duration": 11,
    "start_time": "2023-04-05T09:36:34.356Z"
   },
   {
    "duration": 2576,
    "start_time": "2023-04-05T09:38:13.983Z"
   },
   {
    "duration": 11,
    "start_time": "2023-04-05T09:41:43.203Z"
   },
   {
    "duration": 2798,
    "start_time": "2023-04-05T09:41:44.171Z"
   },
   {
    "duration": 24,
    "start_time": "2023-04-05T09:43:34.730Z"
   },
   {
    "duration": 2696,
    "start_time": "2023-04-05T09:46:21.671Z"
   },
   {
    "duration": 4202,
    "start_time": "2023-04-05T09:46:37.362Z"
   },
   {
    "duration": 12,
    "start_time": "2023-04-05T09:47:45.651Z"
   },
   {
    "duration": 18,
    "start_time": "2023-04-05T09:50:05.115Z"
   },
   {
    "duration": 10,
    "start_time": "2023-04-05T09:50:39.559Z"
   },
   {
    "duration": 12,
    "start_time": "2023-04-05T09:52:01.868Z"
   },
   {
    "duration": 12,
    "start_time": "2023-04-05T09:52:14.214Z"
   },
   {
    "duration": 14,
    "start_time": "2023-04-05T09:52:15.226Z"
   },
   {
    "duration": 12,
    "start_time": "2023-04-05T09:53:31.662Z"
   },
   {
    "duration": 7,
    "start_time": "2023-04-05T09:56:26.355Z"
   },
   {
    "duration": 2242,
    "start_time": "2023-04-05T09:56:53.974Z"
   },
   {
    "duration": 1846,
    "start_time": "2023-04-05T09:57:15.811Z"
   },
   {
    "duration": 9,
    "start_time": "2023-04-05T09:58:33.408Z"
   },
   {
    "duration": 36,
    "start_time": "2023-04-05T10:26:52.271Z"
   },
   {
    "duration": 5,
    "start_time": "2023-04-05T10:31:19.357Z"
   },
   {
    "duration": 16,
    "start_time": "2023-04-05T10:32:55.567Z"
   },
   {
    "duration": 698,
    "start_time": "2023-04-05T10:34:51.067Z"
   },
   {
    "duration": 8,
    "start_time": "2023-04-05T10:37:00.168Z"
   },
   {
    "duration": 15,
    "start_time": "2023-04-05T10:37:19.290Z"
   },
   {
    "duration": 745,
    "start_time": "2023-04-05T10:37:23.210Z"
   },
   {
    "duration": 35,
    "start_time": "2023-04-05T10:38:39.618Z"
   },
   {
    "duration": 7,
    "start_time": "2023-04-05T10:40:30.479Z"
   },
   {
    "duration": 6,
    "start_time": "2023-04-05T10:40:40.864Z"
   },
   {
    "duration": 858,
    "start_time": "2023-04-05T10:41:40.766Z"
   },
   {
    "duration": 13,
    "start_time": "2023-04-05T10:42:12.839Z"
   },
   {
    "duration": 10,
    "start_time": "2023-04-05T10:42:15.421Z"
   },
   {
    "duration": 5,
    "start_time": "2023-04-05T10:42:19.548Z"
   },
   {
    "duration": 8,
    "start_time": "2023-04-05T10:45:56.972Z"
   },
   {
    "duration": 7,
    "start_time": "2023-04-05T10:47:17.850Z"
   },
   {
    "duration": 34,
    "start_time": "2023-04-05T11:33:40.684Z"
   },
   {
    "duration": 400,
    "start_time": "2023-04-05T13:06:39.845Z"
   },
   {
    "duration": 623,
    "start_time": "2023-04-05T13:06:40.246Z"
   },
   {
    "duration": 19,
    "start_time": "2023-04-05T13:06:40.874Z"
   },
   {
    "duration": 13,
    "start_time": "2023-04-05T13:06:40.895Z"
   },
   {
    "duration": 70,
    "start_time": "2023-04-05T13:06:40.910Z"
   },
   {
    "duration": 9,
    "start_time": "2023-04-05T13:06:40.982Z"
   },
   {
    "duration": 22,
    "start_time": "2023-04-05T13:06:40.993Z"
   },
   {
    "duration": 8,
    "start_time": "2023-04-05T13:06:41.016Z"
   },
   {
    "duration": 9,
    "start_time": "2023-04-05T13:06:41.026Z"
   },
   {
    "duration": 21,
    "start_time": "2023-04-05T13:06:41.037Z"
   },
   {
    "duration": 17,
    "start_time": "2023-04-05T13:06:41.060Z"
   },
   {
    "duration": 17,
    "start_time": "2023-04-05T13:06:41.079Z"
   },
   {
    "duration": 15,
    "start_time": "2023-04-05T13:06:41.097Z"
   },
   {
    "duration": 32,
    "start_time": "2023-04-05T13:06:41.113Z"
   },
   {
    "duration": 18,
    "start_time": "2023-04-05T13:06:41.149Z"
   },
   {
    "duration": 3,
    "start_time": "2023-04-05T13:06:41.168Z"
   },
   {
    "duration": 4,
    "start_time": "2023-04-05T13:06:41.172Z"
   },
   {
    "duration": 2,
    "start_time": "2023-04-05T13:06:41.178Z"
   },
   {
    "duration": 3,
    "start_time": "2023-04-05T13:06:41.182Z"
   },
   {
    "duration": 4,
    "start_time": "2023-04-05T13:06:41.186Z"
   },
   {
    "duration": 19,
    "start_time": "2023-04-05T13:06:41.192Z"
   },
   {
    "duration": 67,
    "start_time": "2023-04-05T13:06:41.212Z"
   },
   {
    "duration": 5,
    "start_time": "2023-04-05T13:06:41.280Z"
   },
   {
    "duration": 17,
    "start_time": "2023-04-05T13:06:41.286Z"
   },
   {
    "duration": 4,
    "start_time": "2023-04-05T13:06:41.305Z"
   },
   {
    "duration": 48,
    "start_time": "2023-04-05T13:06:41.310Z"
   },
   {
    "duration": 15,
    "start_time": "2023-04-05T13:06:41.362Z"
   },
   {
    "duration": 25,
    "start_time": "2023-04-05T13:06:41.379Z"
   },
   {
    "duration": 15,
    "start_time": "2023-04-05T13:06:41.405Z"
   },
   {
    "duration": 6,
    "start_time": "2023-04-05T13:06:41.421Z"
   },
   {
    "duration": 40,
    "start_time": "2023-04-05T13:06:41.428Z"
   },
   {
    "duration": 6,
    "start_time": "2023-04-05T13:06:41.470Z"
   },
   {
    "duration": 50,
    "start_time": "2023-04-05T13:06:41.478Z"
   },
   {
    "duration": 13,
    "start_time": "2023-04-05T13:06:41.529Z"
   },
   {
    "duration": 16,
    "start_time": "2023-04-05T13:06:41.543Z"
   },
   {
    "duration": 3,
    "start_time": "2023-04-05T13:06:41.561Z"
   },
   {
    "duration": 16,
    "start_time": "2023-04-05T13:06:41.566Z"
   },
   {
    "duration": 16,
    "start_time": "2023-04-05T13:06:41.583Z"
   },
   {
    "duration": 44,
    "start_time": "2023-04-05T13:06:41.601Z"
   },
   {
    "duration": 28,
    "start_time": "2023-04-05T13:06:41.660Z"
   },
   {
    "duration": 5,
    "start_time": "2023-04-05T13:06:41.690Z"
   },
   {
    "duration": 394,
    "start_time": "2023-04-05T13:06:41.696Z"
   },
   {
    "duration": 6,
    "start_time": "2023-04-05T13:06:42.091Z"
   },
   {
    "duration": 3,
    "start_time": "2023-04-05T13:06:42.099Z"
   },
   {
    "duration": 170,
    "start_time": "2023-04-05T13:06:42.104Z"
   },
   {
    "duration": 7,
    "start_time": "2023-04-05T13:06:42.275Z"
   },
   {
    "duration": 11,
    "start_time": "2023-04-05T13:06:42.284Z"
   },
   {
    "duration": 12,
    "start_time": "2023-04-05T13:06:42.297Z"
   },
   {
    "duration": 37,
    "start_time": "2023-04-05T13:06:42.310Z"
   },
   {
    "duration": 11,
    "start_time": "2023-04-05T13:06:42.349Z"
   },
   {
    "duration": 3,
    "start_time": "2023-04-05T13:06:42.362Z"
   },
   {
    "duration": 10,
    "start_time": "2023-04-05T13:06:42.367Z"
   },
   {
    "duration": 25,
    "start_time": "2023-04-05T13:06:42.379Z"
   },
   {
    "duration": 168,
    "start_time": "2023-04-05T13:06:42.405Z"
   },
   {
    "duration": 227,
    "start_time": "2023-04-05T13:06:42.576Z"
   },
   {
    "duration": 7,
    "start_time": "2023-04-05T13:06:42.805Z"
   },
   {
    "duration": 3,
    "start_time": "2023-04-05T13:06:42.814Z"
   },
   {
    "duration": 3,
    "start_time": "2023-04-05T13:06:42.818Z"
   },
   {
    "duration": 35,
    "start_time": "2023-04-05T13:06:42.846Z"
   },
   {
    "duration": 5,
    "start_time": "2023-04-05T13:06:42.882Z"
   },
   {
    "duration": 5,
    "start_time": "2023-04-05T13:06:42.888Z"
   },
   {
    "duration": 4,
    "start_time": "2023-04-05T13:06:42.894Z"
   },
   {
    "duration": 59,
    "start_time": "2023-04-05T13:06:42.899Z"
   },
   {
    "duration": 6,
    "start_time": "2023-04-05T13:06:42.959Z"
   },
   {
    "duration": 7,
    "start_time": "2023-04-05T13:06:42.967Z"
   },
   {
    "duration": 5,
    "start_time": "2023-04-05T13:06:42.975Z"
   },
   {
    "duration": 6,
    "start_time": "2023-04-05T13:06:42.981Z"
   },
   {
    "duration": 5,
    "start_time": "2023-04-05T13:06:42.989Z"
   },
   {
    "duration": 7,
    "start_time": "2023-04-05T13:06:42.995Z"
   },
   {
    "duration": 50,
    "start_time": "2023-04-05T13:06:43.003Z"
   },
   {
    "duration": 5,
    "start_time": "2023-04-05T13:06:43.057Z"
   },
   {
    "duration": 6,
    "start_time": "2023-04-05T13:06:43.064Z"
   },
   {
    "duration": 19,
    "start_time": "2023-04-05T13:06:43.072Z"
   },
   {
    "duration": 5,
    "start_time": "2023-04-05T13:06:43.092Z"
   },
   {
    "duration": 53,
    "start_time": "2023-04-06T07:00:47.842Z"
   },
   {
    "duration": 423,
    "start_time": "2023-04-06T07:00:53.370Z"
   },
   {
    "duration": 214,
    "start_time": "2023-04-06T07:00:53.795Z"
   },
   {
    "duration": 25,
    "start_time": "2023-04-06T07:00:54.011Z"
   },
   {
    "duration": 26,
    "start_time": "2023-04-06T07:00:54.038Z"
   },
   {
    "duration": 98,
    "start_time": "2023-04-06T07:00:54.066Z"
   },
   {
    "duration": 12,
    "start_time": "2023-04-06T07:00:54.166Z"
   },
   {
    "duration": 27,
    "start_time": "2023-04-06T07:00:54.180Z"
   },
   {
    "duration": 18,
    "start_time": "2023-04-06T07:00:54.209Z"
   },
   {
    "duration": 19,
    "start_time": "2023-04-06T07:00:54.229Z"
   },
   {
    "duration": 25,
    "start_time": "2023-04-06T07:00:54.251Z"
   },
   {
    "duration": 32,
    "start_time": "2023-04-06T07:00:54.278Z"
   },
   {
    "duration": 27,
    "start_time": "2023-04-06T07:00:54.312Z"
   },
   {
    "duration": 24,
    "start_time": "2023-04-06T07:00:54.341Z"
   },
   {
    "duration": 29,
    "start_time": "2023-04-06T07:00:54.367Z"
   },
   {
    "duration": 34,
    "start_time": "2023-04-06T07:00:54.398Z"
   },
   {
    "duration": 30,
    "start_time": "2023-04-06T07:00:54.433Z"
   },
   {
    "duration": 13,
    "start_time": "2023-04-06T07:00:54.466Z"
   },
   {
    "duration": 20,
    "start_time": "2023-04-06T07:00:54.481Z"
   },
   {
    "duration": 13,
    "start_time": "2023-04-06T07:00:54.503Z"
   },
   {
    "duration": 27,
    "start_time": "2023-04-06T07:00:54.518Z"
   },
   {
    "duration": 40,
    "start_time": "2023-04-06T07:00:54.548Z"
   },
   {
    "duration": 56,
    "start_time": "2023-04-06T07:00:54.590Z"
   },
   {
    "duration": 5,
    "start_time": "2023-04-06T07:00:54.648Z"
   },
   {
    "duration": 18,
    "start_time": "2023-04-06T07:00:54.655Z"
   },
   {
    "duration": 20,
    "start_time": "2023-04-06T07:00:54.675Z"
   },
   {
    "duration": 21,
    "start_time": "2023-04-06T07:00:54.696Z"
   },
   {
    "duration": 35,
    "start_time": "2023-04-06T07:00:54.719Z"
   },
   {
    "duration": 39,
    "start_time": "2023-04-06T07:00:54.757Z"
   },
   {
    "duration": 42,
    "start_time": "2023-04-06T07:00:54.799Z"
   },
   {
    "duration": 6,
    "start_time": "2023-04-06T07:00:54.843Z"
   },
   {
    "duration": 28,
    "start_time": "2023-04-06T07:00:54.850Z"
   },
   {
    "duration": 15,
    "start_time": "2023-04-06T07:00:54.881Z"
   },
   {
    "duration": 102,
    "start_time": "2023-04-06T07:00:54.897Z"
   },
   {
    "duration": 15,
    "start_time": "2023-04-06T07:00:55.001Z"
   },
   {
    "duration": 59,
    "start_time": "2023-04-06T07:00:55.019Z"
   },
   {
    "duration": 21,
    "start_time": "2023-04-06T07:00:55.081Z"
   },
   {
    "duration": 30,
    "start_time": "2023-04-06T07:00:55.104Z"
   },
   {
    "duration": 30,
    "start_time": "2023-04-06T07:00:55.136Z"
   },
   {
    "duration": 11,
    "start_time": "2023-04-06T07:00:55.168Z"
   },
   {
    "duration": 46,
    "start_time": "2023-04-06T07:00:55.181Z"
   },
   {
    "duration": 17,
    "start_time": "2023-04-06T07:00:55.230Z"
   },
   {
    "duration": 700,
    "start_time": "2023-04-06T07:00:55.248Z"
   },
   {
    "duration": 9,
    "start_time": "2023-04-06T07:00:55.950Z"
   },
   {
    "duration": 25,
    "start_time": "2023-04-06T07:00:55.961Z"
   },
   {
    "duration": 184,
    "start_time": "2023-04-06T07:00:55.988Z"
   },
   {
    "duration": 8,
    "start_time": "2023-04-06T07:00:56.174Z"
   },
   {
    "duration": 27,
    "start_time": "2023-04-06T07:00:56.184Z"
   },
   {
    "duration": 34,
    "start_time": "2023-04-06T07:00:56.213Z"
   },
   {
    "duration": 22,
    "start_time": "2023-04-06T07:00:56.249Z"
   },
   {
    "duration": 13,
    "start_time": "2023-04-06T07:00:56.273Z"
   },
   {
    "duration": 6,
    "start_time": "2023-04-06T07:00:56.287Z"
   },
   {
    "duration": 14,
    "start_time": "2023-04-06T07:00:56.294Z"
   },
   {
    "duration": 59,
    "start_time": "2023-04-06T07:00:56.310Z"
   },
   {
    "duration": 178,
    "start_time": "2023-04-06T07:00:56.371Z"
   },
   {
    "duration": 323,
    "start_time": "2023-04-06T07:00:56.551Z"
   },
   {
    "duration": 9,
    "start_time": "2023-04-06T07:00:56.876Z"
   },
   {
    "duration": 19,
    "start_time": "2023-04-06T07:00:56.887Z"
   },
   {
    "duration": 12,
    "start_time": "2023-04-06T07:00:56.908Z"
   },
   {
    "duration": 38,
    "start_time": "2023-04-06T07:00:56.922Z"
   },
   {
    "duration": 8,
    "start_time": "2023-04-06T07:00:56.962Z"
   },
   {
    "duration": 14,
    "start_time": "2023-04-06T07:00:56.972Z"
   },
   {
    "duration": 5,
    "start_time": "2023-04-06T07:00:56.989Z"
   },
   {
    "duration": 54,
    "start_time": "2023-04-06T07:00:56.996Z"
   },
   {
    "duration": 8,
    "start_time": "2023-04-06T07:00:57.051Z"
   },
   {
    "duration": 21,
    "start_time": "2023-04-06T07:00:57.061Z"
   },
   {
    "duration": 37,
    "start_time": "2023-04-06T07:00:57.084Z"
   },
   {
    "duration": 9,
    "start_time": "2023-04-06T07:00:57.123Z"
   },
   {
    "duration": 14,
    "start_time": "2023-04-06T07:00:57.133Z"
   },
   {
    "duration": 12,
    "start_time": "2023-04-06T07:00:57.149Z"
   },
   {
    "duration": 17,
    "start_time": "2023-04-06T07:00:57.162Z"
   },
   {
    "duration": 12,
    "start_time": "2023-04-06T07:00:57.181Z"
   },
   {
    "duration": 8,
    "start_time": "2023-04-06T07:00:57.195Z"
   },
   {
    "duration": 10,
    "start_time": "2023-04-06T07:00:57.206Z"
   },
   {
    "duration": 15,
    "start_time": "2023-04-06T07:00:57.218Z"
   },
   {
    "duration": 19,
    "start_time": "2023-04-06T07:04:40.084Z"
   },
   {
    "duration": 17,
    "start_time": "2023-04-06T07:04:42.129Z"
   },
   {
    "duration": 6,
    "start_time": "2023-04-06T07:08:58.751Z"
   },
   {
    "duration": 7,
    "start_time": "2023-04-06T07:09:58.252Z"
   },
   {
    "duration": 20,
    "start_time": "2023-04-06T07:10:15.300Z"
   },
   {
    "duration": 301,
    "start_time": "2023-04-06T07:11:28.521Z"
   },
   {
    "duration": 105,
    "start_time": "2023-04-06T07:11:39.527Z"
   },
   {
    "duration": 19,
    "start_time": "2023-04-06T07:11:53.853Z"
   },
   {
    "duration": 19,
    "start_time": "2023-04-06T07:12:43.685Z"
   },
   {
    "duration": 21,
    "start_time": "2023-04-06T07:14:34.694Z"
   },
   {
    "duration": 41,
    "start_time": "2023-04-06T07:20:40.897Z"
   },
   {
    "duration": 7,
    "start_time": "2023-04-06T07:22:34.412Z"
   },
   {
    "duration": 11,
    "start_time": "2023-04-06T07:23:30.519Z"
   },
   {
    "duration": 6,
    "start_time": "2023-04-06T07:24:43.008Z"
   },
   {
    "duration": 18,
    "start_time": "2023-04-06T07:24:58.727Z"
   },
   {
    "duration": 20,
    "start_time": "2023-04-06T07:25:50.861Z"
   },
   {
    "duration": 6,
    "start_time": "2023-04-06T07:26:59.024Z"
   },
   {
    "duration": 19,
    "start_time": "2023-04-06T07:27:00.174Z"
   },
   {
    "duration": 2,
    "start_time": "2023-04-06T07:27:08.027Z"
   },
   {
    "duration": 110,
    "start_time": "2023-04-06T07:27:08.031Z"
   },
   {
    "duration": 15,
    "start_time": "2023-04-06T07:27:08.143Z"
   },
   {
    "duration": 30,
    "start_time": "2023-04-06T07:27:08.159Z"
   },
   {
    "duration": 39,
    "start_time": "2023-04-06T07:27:08.192Z"
   },
   {
    "duration": 8,
    "start_time": "2023-04-06T07:27:08.233Z"
   },
   {
    "duration": 32,
    "start_time": "2023-04-06T07:27:08.243Z"
   },
   {
    "duration": 11,
    "start_time": "2023-04-06T07:27:08.276Z"
   },
   {
    "duration": 26,
    "start_time": "2023-04-06T07:27:08.288Z"
   },
   {
    "duration": 8,
    "start_time": "2023-04-06T07:27:08.316Z"
   },
   {
    "duration": 28,
    "start_time": "2023-04-06T07:27:08.326Z"
   },
   {
    "duration": 16,
    "start_time": "2023-04-06T07:27:08.356Z"
   },
   {
    "duration": 19,
    "start_time": "2023-04-06T07:27:08.374Z"
   },
   {
    "duration": 29,
    "start_time": "2023-04-06T07:27:08.395Z"
   },
   {
    "duration": 29,
    "start_time": "2023-04-06T07:27:08.427Z"
   },
   {
    "duration": 3,
    "start_time": "2023-04-06T07:27:08.458Z"
   },
   {
    "duration": 17,
    "start_time": "2023-04-06T07:27:08.463Z"
   },
   {
    "duration": 26,
    "start_time": "2023-04-06T07:27:08.482Z"
   },
   {
    "duration": 16,
    "start_time": "2023-04-06T07:27:08.509Z"
   },
   {
    "duration": 8,
    "start_time": "2023-04-06T07:27:08.527Z"
   },
   {
    "duration": 24,
    "start_time": "2023-04-06T07:27:08.537Z"
   },
   {
    "duration": 29,
    "start_time": "2023-04-06T07:27:08.563Z"
   },
   {
    "duration": 15,
    "start_time": "2023-04-06T07:27:08.594Z"
   },
   {
    "duration": 36,
    "start_time": "2023-04-06T07:27:08.611Z"
   },
   {
    "duration": 52,
    "start_time": "2023-04-06T07:27:08.649Z"
   },
   {
    "duration": 8,
    "start_time": "2023-04-06T07:27:08.703Z"
   },
   {
    "duration": 19,
    "start_time": "2023-04-06T07:27:08.713Z"
   },
   {
    "duration": 40,
    "start_time": "2023-04-06T07:27:08.733Z"
   },
   {
    "duration": 11,
    "start_time": "2023-04-06T07:27:08.777Z"
   },
   {
    "duration": 11,
    "start_time": "2023-04-06T07:27:08.790Z"
   },
   {
    "duration": 30,
    "start_time": "2023-04-06T07:27:08.803Z"
   },
   {
    "duration": 19,
    "start_time": "2023-04-06T07:27:08.835Z"
   },
   {
    "duration": 26,
    "start_time": "2023-04-06T07:27:08.855Z"
   },
   {
    "duration": 15,
    "start_time": "2023-04-06T07:27:08.883Z"
   },
   {
    "duration": 14,
    "start_time": "2023-04-06T07:27:08.900Z"
   },
   {
    "duration": 43,
    "start_time": "2023-04-06T07:27:08.915Z"
   },
   {
    "duration": 21,
    "start_time": "2023-04-06T07:27:08.959Z"
   },
   {
    "duration": 30,
    "start_time": "2023-04-06T07:27:08.983Z"
   },
   {
    "duration": 33,
    "start_time": "2023-04-06T07:27:09.016Z"
   },
   {
    "duration": 25,
    "start_time": "2023-04-06T07:27:09.051Z"
   },
   {
    "duration": 14,
    "start_time": "2023-04-06T07:27:09.078Z"
   },
   {
    "duration": 26,
    "start_time": "2023-04-06T07:27:09.094Z"
   },
   {
    "duration": 17,
    "start_time": "2023-04-06T07:27:09.122Z"
   },
   {
    "duration": 23,
    "start_time": "2023-04-06T07:27:09.141Z"
   },
   {
    "duration": 42,
    "start_time": "2023-04-06T07:27:09.166Z"
   },
   {
    "duration": 8,
    "start_time": "2023-04-06T07:27:09.210Z"
   },
   {
    "duration": 188,
    "start_time": "2023-04-06T07:27:09.219Z"
   },
   {
    "duration": 6,
    "start_time": "2023-04-06T07:27:09.409Z"
   },
   {
    "duration": 8,
    "start_time": "2023-04-06T07:27:09.418Z"
   },
   {
    "duration": 181,
    "start_time": "2023-04-06T07:27:09.428Z"
   },
   {
    "duration": 7,
    "start_time": "2023-04-06T07:27:09.611Z"
   },
   {
    "duration": 28,
    "start_time": "2023-04-06T07:27:09.619Z"
   },
   {
    "duration": 15,
    "start_time": "2023-04-06T07:27:09.649Z"
   },
   {
    "duration": 11,
    "start_time": "2023-04-06T07:27:09.665Z"
   },
   {
    "duration": 9,
    "start_time": "2023-04-06T07:27:09.678Z"
   },
   {
    "duration": 5,
    "start_time": "2023-04-06T07:27:09.689Z"
   },
   {
    "duration": 13,
    "start_time": "2023-04-06T07:27:09.695Z"
   },
   {
    "duration": 21,
    "start_time": "2023-04-06T07:27:09.740Z"
   },
   {
    "duration": 176,
    "start_time": "2023-04-06T07:27:09.763Z"
   },
   {
    "duration": 230,
    "start_time": "2023-04-06T07:27:09.941Z"
   },
   {
    "duration": 10,
    "start_time": "2023-04-06T07:27:10.172Z"
   },
   {
    "duration": 31,
    "start_time": "2023-04-06T07:27:10.184Z"
   },
   {
    "duration": 36,
    "start_time": "2023-04-06T07:27:10.216Z"
   },
   {
    "duration": 55,
    "start_time": "2023-04-06T07:27:10.255Z"
   },
   {
    "duration": 29,
    "start_time": "2023-04-06T07:27:10.311Z"
   },
   {
    "duration": 38,
    "start_time": "2023-04-06T07:27:10.341Z"
   },
   {
    "duration": 17,
    "start_time": "2023-04-06T07:27:10.381Z"
   },
   {
    "duration": 64,
    "start_time": "2023-04-06T07:27:10.400Z"
   },
   {
    "duration": 76,
    "start_time": "2023-04-06T07:27:10.467Z"
   },
   {
    "duration": 62,
    "start_time": "2023-04-06T07:27:10.544Z"
   },
   {
    "duration": 15,
    "start_time": "2023-04-06T07:27:10.607Z"
   },
   {
    "duration": 23,
    "start_time": "2023-04-06T07:27:10.624Z"
   },
   {
    "duration": 14,
    "start_time": "2023-04-06T07:27:10.648Z"
   },
   {
    "duration": 11,
    "start_time": "2023-04-06T07:27:10.664Z"
   },
   {
    "duration": 8,
    "start_time": "2023-04-06T07:27:10.677Z"
   },
   {
    "duration": 18,
    "start_time": "2023-04-06T07:27:10.687Z"
   },
   {
    "duration": 9,
    "start_time": "2023-04-06T07:27:10.707Z"
   },
   {
    "duration": 12,
    "start_time": "2023-04-06T07:27:10.718Z"
   },
   {
    "duration": 13,
    "start_time": "2023-04-06T07:27:10.732Z"
   },
   {
    "duration": 8,
    "start_time": "2023-04-06T07:29:24.890Z"
   },
   {
    "duration": 20,
    "start_time": "2023-04-06T07:29:41.244Z"
   },
   {
    "duration": 12,
    "start_time": "2023-04-06T07:30:57.187Z"
   },
   {
    "duration": 7,
    "start_time": "2023-04-06T07:31:17.896Z"
   },
   {
    "duration": 12,
    "start_time": "2023-04-06T07:31:18.980Z"
   },
   {
    "duration": 8,
    "start_time": "2023-04-06T07:31:29.055Z"
   },
   {
    "duration": 15,
    "start_time": "2023-04-06T07:31:31.429Z"
   },
   {
    "duration": 3,
    "start_time": "2023-04-06T07:31:34.209Z"
   },
   {
    "duration": 101,
    "start_time": "2023-04-06T07:31:34.214Z"
   },
   {
    "duration": 34,
    "start_time": "2023-04-06T07:31:34.317Z"
   },
   {
    "duration": 29,
    "start_time": "2023-04-06T07:31:34.353Z"
   },
   {
    "duration": 41,
    "start_time": "2023-04-06T07:31:34.386Z"
   },
   {
    "duration": 17,
    "start_time": "2023-04-06T07:31:34.430Z"
   },
   {
    "duration": 37,
    "start_time": "2023-04-06T07:31:34.449Z"
   },
   {
    "duration": 12,
    "start_time": "2023-04-06T07:31:34.488Z"
   },
   {
    "duration": 17,
    "start_time": "2023-04-06T07:31:34.502Z"
   },
   {
    "duration": 16,
    "start_time": "2023-04-06T07:31:34.521Z"
   },
   {
    "duration": 17,
    "start_time": "2023-04-06T07:31:34.539Z"
   },
   {
    "duration": 23,
    "start_time": "2023-04-06T07:31:34.558Z"
   },
   {
    "duration": 16,
    "start_time": "2023-04-06T07:31:34.583Z"
   },
   {
    "duration": 15,
    "start_time": "2023-04-06T07:31:34.603Z"
   },
   {
    "duration": 27,
    "start_time": "2023-04-06T07:31:34.642Z"
   },
   {
    "duration": 3,
    "start_time": "2023-04-06T07:31:34.671Z"
   },
   {
    "duration": 14,
    "start_time": "2023-04-06T07:31:34.676Z"
   },
   {
    "duration": 8,
    "start_time": "2023-04-06T07:31:34.692Z"
   },
   {
    "duration": 7,
    "start_time": "2023-04-06T07:31:34.703Z"
   },
   {
    "duration": 13,
    "start_time": "2023-04-06T07:31:34.711Z"
   },
   {
    "duration": 31,
    "start_time": "2023-04-06T07:31:34.726Z"
   },
   {
    "duration": 43,
    "start_time": "2023-04-06T07:31:34.759Z"
   },
   {
    "duration": 45,
    "start_time": "2023-04-06T07:31:34.804Z"
   },
   {
    "duration": 41,
    "start_time": "2023-04-06T07:31:34.851Z"
   },
   {
    "duration": 23,
    "start_time": "2023-04-06T07:31:34.894Z"
   },
   {
    "duration": 15,
    "start_time": "2023-04-06T07:31:34.920Z"
   },
   {
    "duration": 19,
    "start_time": "2023-04-06T07:31:34.937Z"
   },
   {
    "duration": 19,
    "start_time": "2023-04-06T07:31:34.962Z"
   },
   {
    "duration": 16,
    "start_time": "2023-04-06T07:31:34.983Z"
   },
   {
    "duration": 7,
    "start_time": "2023-04-06T07:31:35.001Z"
   },
   {
    "duration": 20,
    "start_time": "2023-04-06T07:31:35.010Z"
   },
   {
    "duration": 25,
    "start_time": "2023-04-06T07:31:35.032Z"
   },
   {
    "duration": 30,
    "start_time": "2023-04-06T07:31:35.060Z"
   },
   {
    "duration": 15,
    "start_time": "2023-04-06T07:31:35.092Z"
   },
   {
    "duration": 9,
    "start_time": "2023-04-06T07:31:35.109Z"
   },
   {
    "duration": 55,
    "start_time": "2023-04-06T07:31:35.119Z"
   },
   {
    "duration": 15,
    "start_time": "2023-04-06T07:31:35.176Z"
   },
   {
    "duration": 14,
    "start_time": "2023-04-06T07:31:35.192Z"
   },
   {
    "duration": 14,
    "start_time": "2023-04-06T07:31:35.208Z"
   },
   {
    "duration": 32,
    "start_time": "2023-04-06T07:31:35.223Z"
   },
   {
    "duration": 22,
    "start_time": "2023-04-06T07:31:35.261Z"
   },
   {
    "duration": 15,
    "start_time": "2023-04-06T07:31:35.284Z"
   },
   {
    "duration": 18,
    "start_time": "2023-04-06T07:31:35.300Z"
   },
   {
    "duration": 13,
    "start_time": "2023-04-06T07:31:35.321Z"
   },
   {
    "duration": 44,
    "start_time": "2023-04-06T07:31:35.340Z"
   },
   {
    "duration": 7,
    "start_time": "2023-04-06T07:31:35.386Z"
   },
   {
    "duration": 218,
    "start_time": "2023-04-06T07:31:35.394Z"
   },
   {
    "duration": 9,
    "start_time": "2023-04-06T07:31:35.614Z"
   },
   {
    "duration": 31,
    "start_time": "2023-04-06T07:31:35.625Z"
   },
   {
    "duration": 216,
    "start_time": "2023-04-06T07:31:35.658Z"
   },
   {
    "duration": 8,
    "start_time": "2023-04-06T07:31:35.877Z"
   },
   {
    "duration": 32,
    "start_time": "2023-04-06T07:31:35.887Z"
   },
   {
    "duration": 40,
    "start_time": "2023-04-06T07:31:35.921Z"
   },
   {
    "duration": 23,
    "start_time": "2023-04-06T07:31:35.964Z"
   },
   {
    "duration": 19,
    "start_time": "2023-04-06T07:31:35.989Z"
   },
   {
    "duration": 10,
    "start_time": "2023-04-06T07:31:36.010Z"
   },
   {
    "duration": 42,
    "start_time": "2023-04-06T07:31:36.023Z"
   },
   {
    "duration": 21,
    "start_time": "2023-04-06T07:31:36.067Z"
   },
   {
    "duration": 156,
    "start_time": "2023-04-06T07:31:36.090Z"
   },
   {
    "duration": 228,
    "start_time": "2023-04-06T07:31:36.247Z"
   },
   {
    "duration": 10,
    "start_time": "2023-04-06T07:31:36.476Z"
   },
   {
    "duration": 4,
    "start_time": "2023-04-06T07:31:36.487Z"
   },
   {
    "duration": 11,
    "start_time": "2023-04-06T07:31:36.493Z"
   },
   {
    "duration": 44,
    "start_time": "2023-04-06T07:31:36.505Z"
   },
   {
    "duration": 6,
    "start_time": "2023-04-06T07:31:36.551Z"
   },
   {
    "duration": 12,
    "start_time": "2023-04-06T07:31:36.558Z"
   },
   {
    "duration": 17,
    "start_time": "2023-04-06T07:31:36.572Z"
   },
   {
    "duration": 55,
    "start_time": "2023-04-06T07:31:36.593Z"
   },
   {
    "duration": 17,
    "start_time": "2023-04-06T07:31:36.650Z"
   },
   {
    "duration": 12,
    "start_time": "2023-04-06T07:31:36.670Z"
   },
   {
    "duration": 10,
    "start_time": "2023-04-06T07:31:36.684Z"
   },
   {
    "duration": 12,
    "start_time": "2023-04-06T07:31:36.696Z"
   },
   {
    "duration": 16,
    "start_time": "2023-04-06T07:31:36.710Z"
   },
   {
    "duration": 7,
    "start_time": "2023-04-06T07:31:36.742Z"
   },
   {
    "duration": 11,
    "start_time": "2023-04-06T07:31:36.751Z"
   },
   {
    "duration": 10,
    "start_time": "2023-04-06T07:31:36.764Z"
   },
   {
    "duration": 98,
    "start_time": "2023-04-06T07:31:36.775Z"
   },
   {
    "duration": 13,
    "start_time": "2023-04-06T07:31:36.875Z"
   },
   {
    "duration": 13,
    "start_time": "2023-04-06T07:31:36.890Z"
   },
   {
    "duration": 12,
    "start_time": "2023-04-06T07:32:06.461Z"
   },
   {
    "duration": 3,
    "start_time": "2023-04-06T07:32:15.589Z"
   },
   {
    "duration": 207,
    "start_time": "2023-04-06T07:32:15.595Z"
   },
   {
    "duration": 36,
    "start_time": "2023-04-06T07:32:15.805Z"
   },
   {
    "duration": 37,
    "start_time": "2023-04-06T07:32:15.844Z"
   },
   {
    "duration": 52,
    "start_time": "2023-04-06T07:32:15.883Z"
   },
   {
    "duration": 9,
    "start_time": "2023-04-06T07:32:15.937Z"
   },
   {
    "duration": 22,
    "start_time": "2023-04-06T07:32:15.948Z"
   },
   {
    "duration": 13,
    "start_time": "2023-04-06T07:32:15.973Z"
   },
   {
    "duration": 32,
    "start_time": "2023-04-06T07:32:15.989Z"
   },
   {
    "duration": 11,
    "start_time": "2023-04-06T07:32:16.024Z"
   },
   {
    "duration": 25,
    "start_time": "2023-04-06T07:32:16.039Z"
   },
   {
    "duration": 25,
    "start_time": "2023-04-06T07:32:16.066Z"
   },
   {
    "duration": 14,
    "start_time": "2023-04-06T07:32:16.092Z"
   },
   {
    "duration": 15,
    "start_time": "2023-04-06T07:32:16.108Z"
   },
   {
    "duration": 28,
    "start_time": "2023-04-06T07:32:16.125Z"
   },
   {
    "duration": 3,
    "start_time": "2023-04-06T07:32:16.155Z"
   },
   {
    "duration": 9,
    "start_time": "2023-04-06T07:32:16.160Z"
   },
   {
    "duration": 7,
    "start_time": "2023-04-06T07:32:16.170Z"
   },
   {
    "duration": 9,
    "start_time": "2023-04-06T07:32:16.178Z"
   },
   {
    "duration": 13,
    "start_time": "2023-04-06T07:32:16.189Z"
   },
   {
    "duration": 21,
    "start_time": "2023-04-06T07:32:16.204Z"
   },
   {
    "duration": 36,
    "start_time": "2023-04-06T07:32:16.228Z"
   },
   {
    "duration": 18,
    "start_time": "2023-04-06T07:32:16.266Z"
   },
   {
    "duration": 22,
    "start_time": "2023-04-06T07:32:16.286Z"
   },
   {
    "duration": 44,
    "start_time": "2023-04-06T07:32:16.310Z"
   },
   {
    "duration": 9,
    "start_time": "2023-04-06T07:32:16.356Z"
   },
   {
    "duration": 27,
    "start_time": "2023-04-06T07:32:16.367Z"
   },
   {
    "duration": 11,
    "start_time": "2023-04-06T07:32:16.396Z"
   },
   {
    "duration": 9,
    "start_time": "2023-04-06T07:32:16.412Z"
   },
   {
    "duration": 22,
    "start_time": "2023-04-06T07:32:16.423Z"
   },
   {
    "duration": 24,
    "start_time": "2023-04-06T07:32:16.447Z"
   },
   {
    "duration": 17,
    "start_time": "2023-04-06T07:32:16.473Z"
   },
   {
    "duration": 28,
    "start_time": "2023-04-06T07:32:16.492Z"
   },
   {
    "duration": 15,
    "start_time": "2023-04-06T07:32:16.541Z"
   },
   {
    "duration": 14,
    "start_time": "2023-04-06T07:32:16.558Z"
   },
   {
    "duration": 31,
    "start_time": "2023-04-06T07:32:16.574Z"
   },
   {
    "duration": 7,
    "start_time": "2023-04-06T07:32:16.607Z"
   },
   {
    "duration": 15,
    "start_time": "2023-04-06T07:32:16.616Z"
   },
   {
    "duration": 16,
    "start_time": "2023-04-06T07:32:16.632Z"
   },
   {
    "duration": 66,
    "start_time": "2023-04-06T07:32:16.651Z"
   },
   {
    "duration": 62,
    "start_time": "2023-04-06T07:32:16.719Z"
   },
   {
    "duration": 62,
    "start_time": "2023-04-06T07:32:16.783Z"
   },
   {
    "duration": 71,
    "start_time": "2023-04-06T07:32:16.847Z"
   },
   {
    "duration": 77,
    "start_time": "2023-04-06T07:32:16.920Z"
   },
   {
    "duration": 82,
    "start_time": "2023-04-06T07:32:16.999Z"
   },
   {
    "duration": 4,
    "start_time": "2023-04-06T07:32:17.083Z"
   },
   {
    "duration": 182,
    "start_time": "2023-04-06T07:32:17.089Z"
   },
   {
    "duration": 5,
    "start_time": "2023-04-06T07:32:17.273Z"
   },
   {
    "duration": 7,
    "start_time": "2023-04-06T07:32:17.280Z"
   },
   {
    "duration": 180,
    "start_time": "2023-04-06T07:32:17.289Z"
   },
   {
    "duration": 7,
    "start_time": "2023-04-06T07:32:17.470Z"
   },
   {
    "duration": 22,
    "start_time": "2023-04-06T07:32:17.479Z"
   },
   {
    "duration": 25,
    "start_time": "2023-04-06T07:32:17.504Z"
   },
   {
    "duration": 10,
    "start_time": "2023-04-06T07:32:17.542Z"
   },
   {
    "duration": 9,
    "start_time": "2023-04-06T07:32:17.554Z"
   },
   {
    "duration": 11,
    "start_time": "2023-04-06T07:32:17.564Z"
   },
   {
    "duration": 14,
    "start_time": "2023-04-06T07:32:17.577Z"
   },
   {
    "duration": 25,
    "start_time": "2023-04-06T07:32:17.593Z"
   },
   {
    "duration": 204,
    "start_time": "2023-04-06T07:32:17.621Z"
   },
   {
    "duration": 229,
    "start_time": "2023-04-06T07:32:17.827Z"
   },
   {
    "duration": 10,
    "start_time": "2023-04-06T07:32:18.057Z"
   },
   {
    "duration": 17,
    "start_time": "2023-04-06T07:32:18.068Z"
   },
   {
    "duration": 25,
    "start_time": "2023-04-06T07:32:18.087Z"
   },
   {
    "duration": 37,
    "start_time": "2023-04-06T07:32:18.115Z"
   },
   {
    "duration": 6,
    "start_time": "2023-04-06T07:32:18.155Z"
   },
   {
    "duration": 13,
    "start_time": "2023-04-06T07:32:18.163Z"
   },
   {
    "duration": 17,
    "start_time": "2023-04-06T07:32:18.179Z"
   },
   {
    "duration": 37,
    "start_time": "2023-04-06T07:32:18.198Z"
   },
   {
    "duration": 11,
    "start_time": "2023-04-06T07:32:18.236Z"
   },
   {
    "duration": 15,
    "start_time": "2023-04-06T07:32:18.248Z"
   },
   {
    "duration": 17,
    "start_time": "2023-04-06T07:32:18.266Z"
   },
   {
    "duration": 8,
    "start_time": "2023-04-06T07:32:18.286Z"
   },
   {
    "duration": 14,
    "start_time": "2023-04-06T07:32:18.296Z"
   },
   {
    "duration": 20,
    "start_time": "2023-04-06T07:32:18.312Z"
   },
   {
    "duration": 11,
    "start_time": "2023-04-06T07:32:18.335Z"
   },
   {
    "duration": 10,
    "start_time": "2023-04-06T07:32:18.348Z"
   },
   {
    "duration": 15,
    "start_time": "2023-04-06T07:32:18.359Z"
   },
   {
    "duration": 15,
    "start_time": "2023-04-06T07:32:18.376Z"
   },
   {
    "duration": 16,
    "start_time": "2023-04-06T07:32:18.392Z"
   },
   {
    "duration": 3,
    "start_time": "2023-04-06T07:35:08.077Z"
   },
   {
    "duration": 15,
    "start_time": "2023-04-06T07:35:10.360Z"
   },
   {
    "duration": 14,
    "start_time": "2023-04-06T07:35:11.806Z"
   },
   {
    "duration": 14,
    "start_time": "2023-04-06T07:35:13.512Z"
   },
   {
    "duration": 169,
    "start_time": "2023-04-06T07:40:20.651Z"
   },
   {
    "duration": 174,
    "start_time": "2023-04-06T07:43:10.738Z"
   },
   {
    "duration": 219,
    "start_time": "2023-04-06T07:44:36.510Z"
   },
   {
    "duration": 172,
    "start_time": "2023-04-06T07:45:18.800Z"
   },
   {
    "duration": 188,
    "start_time": "2023-04-06T07:53:43.945Z"
   },
   {
    "duration": 191,
    "start_time": "2023-04-06T08:02:18.690Z"
   },
   {
    "duration": 325,
    "start_time": "2023-04-06T08:02:47.517Z"
   },
   {
    "duration": 175,
    "start_time": "2023-04-06T08:04:22.160Z"
   },
   {
    "duration": 4,
    "start_time": "2023-04-06T08:06:20.079Z"
   },
   {
    "duration": 102,
    "start_time": "2023-04-06T08:06:20.086Z"
   },
   {
    "duration": 17,
    "start_time": "2023-04-06T08:06:20.190Z"
   },
   {
    "duration": 20,
    "start_time": "2023-04-06T08:06:20.240Z"
   },
   {
    "duration": 61,
    "start_time": "2023-04-06T08:06:20.262Z"
   },
   {
    "duration": 8,
    "start_time": "2023-04-06T08:06:20.326Z"
   },
   {
    "duration": 21,
    "start_time": "2023-04-06T08:06:20.336Z"
   },
   {
    "duration": 24,
    "start_time": "2023-04-06T08:06:20.360Z"
   },
   {
    "duration": 23,
    "start_time": "2023-04-06T08:06:20.388Z"
   },
   {
    "duration": 7,
    "start_time": "2023-04-06T08:06:20.413Z"
   },
   {
    "duration": 19,
    "start_time": "2023-04-06T08:06:20.422Z"
   },
   {
    "duration": 16,
    "start_time": "2023-04-06T08:06:20.443Z"
   },
   {
    "duration": 30,
    "start_time": "2023-04-06T08:06:20.461Z"
   },
   {
    "duration": 46,
    "start_time": "2023-04-06T08:06:20.495Z"
   },
   {
    "duration": 49,
    "start_time": "2023-04-06T08:06:20.543Z"
   },
   {
    "duration": 20,
    "start_time": "2023-04-06T08:06:20.594Z"
   },
   {
    "duration": 40,
    "start_time": "2023-04-06T08:06:20.616Z"
   },
   {
    "duration": 24,
    "start_time": "2023-04-06T08:06:20.659Z"
   },
   {
    "duration": 17,
    "start_time": "2023-04-06T08:06:20.685Z"
   },
   {
    "duration": 19,
    "start_time": "2023-04-06T08:06:20.705Z"
   },
   {
    "duration": 28,
    "start_time": "2023-04-06T08:06:20.727Z"
   },
   {
    "duration": 54,
    "start_time": "2023-04-06T08:06:20.758Z"
   },
   {
    "duration": 44,
    "start_time": "2023-04-06T08:06:20.815Z"
   },
   {
    "duration": 40,
    "start_time": "2023-04-06T08:06:20.867Z"
   },
   {
    "duration": 49,
    "start_time": "2023-04-06T08:06:20.909Z"
   },
   {
    "duration": 11,
    "start_time": "2023-04-06T08:06:20.962Z"
   },
   {
    "duration": 17,
    "start_time": "2023-04-06T08:06:20.976Z"
   },
   {
    "duration": 21,
    "start_time": "2023-04-06T08:06:21.000Z"
   },
   {
    "duration": 28,
    "start_time": "2023-04-06T08:06:21.023Z"
   },
   {
    "duration": 22,
    "start_time": "2023-04-06T08:06:21.053Z"
   },
   {
    "duration": 23,
    "start_time": "2023-04-06T08:06:21.078Z"
   },
   {
    "duration": 22,
    "start_time": "2023-04-06T08:06:21.103Z"
   },
   {
    "duration": 78,
    "start_time": "2023-04-06T08:06:21.127Z"
   },
   {
    "duration": 38,
    "start_time": "2023-04-06T08:06:21.207Z"
   },
   {
    "duration": 19,
    "start_time": "2023-04-06T08:06:21.247Z"
   },
   {
    "duration": 45,
    "start_time": "2023-04-06T08:06:21.269Z"
   },
   {
    "duration": 12,
    "start_time": "2023-04-06T08:06:21.316Z"
   },
   {
    "duration": 27,
    "start_time": "2023-04-06T08:06:21.330Z"
   },
   {
    "duration": 33,
    "start_time": "2023-04-06T08:06:21.359Z"
   },
   {
    "duration": 51,
    "start_time": "2023-04-06T08:06:21.395Z"
   },
   {
    "duration": 29,
    "start_time": "2023-04-06T08:06:21.448Z"
   },
   {
    "duration": 40,
    "start_time": "2023-04-06T08:06:21.479Z"
   },
   {
    "duration": 29,
    "start_time": "2023-04-06T08:06:21.521Z"
   },
   {
    "duration": 21,
    "start_time": "2023-04-06T08:06:21.553Z"
   },
   {
    "duration": 39,
    "start_time": "2023-04-06T08:06:21.576Z"
   },
   {
    "duration": 6,
    "start_time": "2023-04-06T08:06:21.617Z"
   },
   {
    "duration": 193,
    "start_time": "2023-04-06T08:06:21.625Z"
   },
   {
    "duration": 8,
    "start_time": "2023-04-06T08:06:21.821Z"
   },
   {
    "duration": 4,
    "start_time": "2023-04-06T08:06:21.842Z"
   },
   {
    "duration": 212,
    "start_time": "2023-04-06T08:06:21.848Z"
   },
   {
    "duration": 12,
    "start_time": "2023-04-06T08:06:22.062Z"
   },
   {
    "duration": 27,
    "start_time": "2023-04-06T08:06:22.076Z"
   },
   {
    "duration": 29,
    "start_time": "2023-04-06T08:06:22.106Z"
   },
   {
    "duration": 48,
    "start_time": "2023-04-06T08:06:22.141Z"
   },
   {
    "duration": 50,
    "start_time": "2023-04-06T08:06:22.191Z"
   },
   {
    "duration": 18,
    "start_time": "2023-04-06T08:06:22.244Z"
   },
   {
    "duration": 38,
    "start_time": "2023-04-06T08:06:22.264Z"
   },
   {
    "duration": 50,
    "start_time": "2023-04-06T08:06:22.304Z"
   },
   {
    "duration": 229,
    "start_time": "2023-04-06T08:06:22.356Z"
   },
   {
    "duration": 275,
    "start_time": "2023-04-06T08:06:22.588Z"
   },
   {
    "duration": 15,
    "start_time": "2023-04-06T08:06:22.865Z"
   },
   {
    "duration": 14,
    "start_time": "2023-04-06T08:06:22.883Z"
   },
   {
    "duration": 12,
    "start_time": "2023-04-06T08:06:22.900Z"
   },
   {
    "duration": 77,
    "start_time": "2023-04-06T08:06:22.915Z"
   },
   {
    "duration": 10,
    "start_time": "2023-04-06T08:06:22.995Z"
   },
   {
    "duration": 38,
    "start_time": "2023-04-06T08:06:23.008Z"
   },
   {
    "duration": 16,
    "start_time": "2023-04-06T08:06:23.050Z"
   },
   {
    "duration": 63,
    "start_time": "2023-04-06T08:06:23.069Z"
   },
   {
    "duration": 13,
    "start_time": "2023-04-06T08:06:23.141Z"
   },
   {
    "duration": 38,
    "start_time": "2023-04-06T08:06:23.156Z"
   },
   {
    "duration": 40,
    "start_time": "2023-04-06T08:06:23.196Z"
   },
   {
    "duration": 22,
    "start_time": "2023-04-06T08:06:23.239Z"
   },
   {
    "duration": 25,
    "start_time": "2023-04-06T08:06:23.263Z"
   },
   {
    "duration": 19,
    "start_time": "2023-04-06T08:06:23.291Z"
   },
   {
    "duration": 29,
    "start_time": "2023-04-06T08:06:23.313Z"
   },
   {
    "duration": 17,
    "start_time": "2023-04-06T08:06:23.345Z"
   },
   {
    "duration": 20,
    "start_time": "2023-04-06T08:06:23.365Z"
   },
   {
    "duration": 24,
    "start_time": "2023-04-06T08:06:23.388Z"
   },
   {
    "duration": 29,
    "start_time": "2023-04-06T08:06:23.415Z"
   },
   {
    "duration": 34,
    "start_time": "2023-04-06T08:07:53.689Z"
   },
   {
    "duration": 39,
    "start_time": "2023-04-06T08:08:28.664Z"
   },
   {
    "duration": 184,
    "start_time": "2023-04-06T08:13:02.775Z"
   },
   {
    "duration": 127,
    "start_time": "2023-04-06T08:30:52.764Z"
   },
   {
    "duration": 146,
    "start_time": "2023-04-06T08:36:41.161Z"
   },
   {
    "duration": 7,
    "start_time": "2023-04-06T08:56:32.657Z"
   },
   {
    "duration": 15,
    "start_time": "2023-04-06T08:56:34.322Z"
   },
   {
    "duration": 4,
    "start_time": "2023-04-06T08:56:42.350Z"
   },
   {
    "duration": 6,
    "start_time": "2023-04-06T08:56:44.308Z"
   },
   {
    "duration": 6,
    "start_time": "2023-04-06T08:56:45.526Z"
   },
   {
    "duration": 3,
    "start_time": "2023-04-06T08:56:51.184Z"
   },
   {
    "duration": 282,
    "start_time": "2023-04-06T08:56:51.189Z"
   },
   {
    "duration": 17,
    "start_time": "2023-04-06T08:56:51.473Z"
   },
   {
    "duration": 49,
    "start_time": "2023-04-06T08:56:51.492Z"
   },
   {
    "duration": 85,
    "start_time": "2023-04-06T08:56:51.544Z"
   },
   {
    "duration": 10,
    "start_time": "2023-04-06T08:56:51.631Z"
   },
   {
    "duration": 58,
    "start_time": "2023-04-06T08:56:51.643Z"
   },
   {
    "duration": 46,
    "start_time": "2023-04-06T08:56:51.703Z"
   },
   {
    "duration": 44,
    "start_time": "2023-04-06T08:56:51.751Z"
   },
   {
    "duration": 21,
    "start_time": "2023-04-06T08:56:51.797Z"
   },
   {
    "duration": 46,
    "start_time": "2023-04-06T08:56:51.821Z"
   },
   {
    "duration": 33,
    "start_time": "2023-04-06T08:56:51.870Z"
   },
   {
    "duration": 39,
    "start_time": "2023-04-06T08:56:51.905Z"
   },
   {
    "duration": 81,
    "start_time": "2023-04-06T08:56:51.946Z"
   },
   {
    "duration": 55,
    "start_time": "2023-04-06T08:56:52.030Z"
   },
   {
    "duration": 19,
    "start_time": "2023-04-06T08:56:52.088Z"
   },
   {
    "duration": 24,
    "start_time": "2023-04-06T08:56:52.110Z"
   },
   {
    "duration": 72,
    "start_time": "2023-04-06T08:56:52.136Z"
   },
   {
    "duration": 42,
    "start_time": "2023-04-06T08:56:52.210Z"
   },
   {
    "duration": 58,
    "start_time": "2023-04-06T08:56:52.254Z"
   },
   {
    "duration": 34,
    "start_time": "2023-04-06T08:56:52.315Z"
   },
   {
    "duration": 34,
    "start_time": "2023-04-06T08:56:52.352Z"
   },
   {
    "duration": 24,
    "start_time": "2023-04-06T08:56:52.388Z"
   },
   {
    "duration": 130,
    "start_time": "2023-04-06T08:56:52.413Z"
   },
   {
    "duration": 71,
    "start_time": "2023-04-06T08:56:52.545Z"
   },
   {
    "duration": 62,
    "start_time": "2023-04-06T08:56:52.619Z"
   },
   {
    "duration": 52,
    "start_time": "2023-04-06T08:56:52.684Z"
   },
   {
    "duration": 49,
    "start_time": "2023-04-06T08:56:52.738Z"
   },
   {
    "duration": 45,
    "start_time": "2023-04-06T08:56:52.793Z"
   },
   {
    "duration": 65,
    "start_time": "2023-04-06T08:56:52.840Z"
   },
   {
    "duration": 19,
    "start_time": "2023-04-06T08:56:52.908Z"
   },
   {
    "duration": 28,
    "start_time": "2023-04-06T08:56:52.929Z"
   },
   {
    "duration": 29,
    "start_time": "2023-04-06T08:56:52.960Z"
   },
   {
    "duration": 20,
    "start_time": "2023-04-06T08:56:52.992Z"
   },
   {
    "duration": 7,
    "start_time": "2023-04-06T08:56:53.014Z"
   },
   {
    "duration": 36,
    "start_time": "2023-04-06T08:56:53.024Z"
   },
   {
    "duration": 34,
    "start_time": "2023-04-06T08:56:53.062Z"
   },
   {
    "duration": 44,
    "start_time": "2023-04-06T08:56:53.098Z"
   },
   {
    "duration": 49,
    "start_time": "2023-04-06T08:56:53.145Z"
   },
   {
    "duration": 11,
    "start_time": "2023-04-06T08:56:53.196Z"
   },
   {
    "duration": 69,
    "start_time": "2023-04-06T08:56:53.210Z"
   },
   {
    "duration": 26,
    "start_time": "2023-04-06T08:56:53.282Z"
   },
   {
    "duration": 156,
    "start_time": "2023-04-06T08:56:53.310Z"
   },
   {
    "duration": 24,
    "start_time": "2023-04-06T08:56:53.469Z"
   },
   {
    "duration": 24,
    "start_time": "2023-04-06T08:56:53.495Z"
   },
   {
    "duration": 34,
    "start_time": "2023-04-06T08:56:53.521Z"
   },
   {
    "duration": 24,
    "start_time": "2023-04-06T08:56:53.558Z"
   },
   {
    "duration": 21,
    "start_time": "2023-04-06T08:56:53.584Z"
   },
   {
    "duration": 42,
    "start_time": "2023-04-06T08:56:53.607Z"
   },
   {
    "duration": 64,
    "start_time": "2023-04-06T08:56:53.652Z"
   },
   {
    "duration": 6,
    "start_time": "2023-04-06T08:56:53.719Z"
   },
   {
    "duration": 193,
    "start_time": "2023-04-06T08:56:53.727Z"
   },
   {
    "duration": 6,
    "start_time": "2023-04-06T08:56:53.922Z"
   },
   {
    "duration": 28,
    "start_time": "2023-04-06T08:56:53.930Z"
   },
   {
    "duration": 218,
    "start_time": "2023-04-06T08:56:53.961Z"
   },
   {
    "duration": 8,
    "start_time": "2023-04-06T08:56:54.182Z"
   },
   {
    "duration": 43,
    "start_time": "2023-04-06T08:56:54.192Z"
   },
   {
    "duration": 25,
    "start_time": "2023-04-06T08:56:54.237Z"
   },
   {
    "duration": 31,
    "start_time": "2023-04-06T08:56:54.265Z"
   },
   {
    "duration": 30,
    "start_time": "2023-04-06T08:56:54.299Z"
   },
   {
    "duration": 11,
    "start_time": "2023-04-06T08:56:54.331Z"
   },
   {
    "duration": 30,
    "start_time": "2023-04-06T08:56:54.345Z"
   },
   {
    "duration": 33,
    "start_time": "2023-04-06T08:56:54.377Z"
   },
   {
    "duration": 194,
    "start_time": "2023-04-06T08:56:54.412Z"
   },
   {
    "duration": 252,
    "start_time": "2023-04-06T08:56:54.608Z"
   },
   {
    "duration": 9,
    "start_time": "2023-04-06T08:56:54.863Z"
   },
   {
    "duration": 148,
    "start_time": "2023-04-06T08:56:54.874Z"
   },
   {
    "duration": 5,
    "start_time": "2023-04-06T08:56:55.024Z"
   },
   {
    "duration": 6,
    "start_time": "2023-04-06T08:56:55.041Z"
   },
   {
    "duration": 61,
    "start_time": "2023-04-06T08:56:55.049Z"
   },
   {
    "duration": 7,
    "start_time": "2023-04-06T08:56:55.114Z"
   },
   {
    "duration": 12,
    "start_time": "2023-04-06T08:56:55.123Z"
   },
   {
    "duration": 11,
    "start_time": "2023-04-06T08:56:55.138Z"
   },
   {
    "duration": 36,
    "start_time": "2023-04-06T08:56:55.152Z"
   },
   {
    "duration": 9,
    "start_time": "2023-04-06T08:56:55.191Z"
   },
   {
    "duration": 16,
    "start_time": "2023-04-06T08:56:55.201Z"
   },
   {
    "duration": 22,
    "start_time": "2023-04-06T08:56:55.223Z"
   },
   {
    "duration": 29,
    "start_time": "2023-04-06T08:56:55.247Z"
   },
   {
    "duration": 23,
    "start_time": "2023-04-06T08:56:55.278Z"
   },
   {
    "duration": 18,
    "start_time": "2023-04-06T08:56:55.304Z"
   },
   {
    "duration": 0,
    "start_time": "2023-04-06T08:56:55.325Z"
   },
   {
    "duration": 0,
    "start_time": "2023-04-06T08:56:55.327Z"
   },
   {
    "duration": 0,
    "start_time": "2023-04-06T08:56:55.329Z"
   },
   {
    "duration": 0,
    "start_time": "2023-04-06T08:56:55.331Z"
   },
   {
    "duration": 0,
    "start_time": "2023-04-06T08:56:55.332Z"
   },
   {
    "duration": 4,
    "start_time": "2023-04-06T08:58:41.264Z"
   },
   {
    "duration": 112,
    "start_time": "2023-04-06T08:58:41.271Z"
   },
   {
    "duration": 17,
    "start_time": "2023-04-06T08:58:41.384Z"
   },
   {
    "duration": 50,
    "start_time": "2023-04-06T08:58:41.404Z"
   },
   {
    "duration": 41,
    "start_time": "2023-04-06T08:58:41.457Z"
   },
   {
    "duration": 9,
    "start_time": "2023-04-06T08:58:41.501Z"
   },
   {
    "duration": 30,
    "start_time": "2023-04-06T08:58:41.512Z"
   },
   {
    "duration": 12,
    "start_time": "2023-04-06T08:58:41.544Z"
   },
   {
    "duration": 22,
    "start_time": "2023-04-06T08:58:41.560Z"
   },
   {
    "duration": 23,
    "start_time": "2023-04-06T08:58:41.585Z"
   },
   {
    "duration": 39,
    "start_time": "2023-04-06T08:58:41.610Z"
   },
   {
    "duration": 23,
    "start_time": "2023-04-06T08:58:41.651Z"
   },
   {
    "duration": 41,
    "start_time": "2023-04-06T08:58:41.677Z"
   },
   {
    "duration": 27,
    "start_time": "2023-04-06T08:58:41.720Z"
   },
   {
    "duration": 35,
    "start_time": "2023-04-06T08:58:41.749Z"
   },
   {
    "duration": 5,
    "start_time": "2023-04-06T08:58:41.787Z"
   },
   {
    "duration": 13,
    "start_time": "2023-04-06T08:58:41.794Z"
   },
   {
    "duration": 25,
    "start_time": "2023-04-06T08:58:41.809Z"
   },
   {
    "duration": 11,
    "start_time": "2023-04-06T08:58:41.836Z"
   },
   {
    "duration": 23,
    "start_time": "2023-04-06T08:58:41.849Z"
   },
   {
    "duration": 12,
    "start_time": "2023-04-06T08:58:41.875Z"
   },
   {
    "duration": 14,
    "start_time": "2023-04-06T08:58:41.889Z"
   },
   {
    "duration": 10,
    "start_time": "2023-04-06T08:58:41.906Z"
   },
   {
    "duration": 7,
    "start_time": "2023-04-06T08:58:41.922Z"
   },
   {
    "duration": 10,
    "start_time": "2023-04-06T08:58:41.931Z"
   },
   {
    "duration": 31,
    "start_time": "2023-04-06T08:58:41.943Z"
   },
   {
    "duration": 43,
    "start_time": "2023-04-06T08:58:41.976Z"
   },
   {
    "duration": 31,
    "start_time": "2023-04-06T08:58:42.021Z"
   },
   {
    "duration": 33,
    "start_time": "2023-04-06T08:58:42.055Z"
   },
   {
    "duration": 38,
    "start_time": "2023-04-06T08:58:42.091Z"
   },
   {
    "duration": 16,
    "start_time": "2023-04-06T08:58:42.132Z"
   },
   {
    "duration": 16,
    "start_time": "2023-04-06T08:58:42.151Z"
   },
   {
    "duration": 15,
    "start_time": "2023-04-06T08:58:42.170Z"
   },
   {
    "duration": 26,
    "start_time": "2023-04-06T08:58:42.188Z"
   },
   {
    "duration": 14,
    "start_time": "2023-04-06T08:58:42.217Z"
   },
   {
    "duration": 28,
    "start_time": "2023-04-06T08:58:42.233Z"
   },
   {
    "duration": 37,
    "start_time": "2023-04-06T08:58:42.264Z"
   },
   {
    "duration": 41,
    "start_time": "2023-04-06T08:58:42.303Z"
   },
   {
    "duration": 23,
    "start_time": "2023-04-06T08:58:42.346Z"
   },
   {
    "duration": 14,
    "start_time": "2023-04-06T08:58:42.372Z"
   },
   {
    "duration": 53,
    "start_time": "2023-04-06T08:58:42.388Z"
   },
   {
    "duration": 25,
    "start_time": "2023-04-06T08:58:42.444Z"
   },
   {
    "duration": 31,
    "start_time": "2023-04-06T08:58:42.472Z"
   },
   {
    "duration": 40,
    "start_time": "2023-04-06T08:58:42.506Z"
   },
   {
    "duration": 42,
    "start_time": "2023-04-06T08:58:42.548Z"
   },
   {
    "duration": 27,
    "start_time": "2023-04-06T08:58:42.593Z"
   },
   {
    "duration": 39,
    "start_time": "2023-04-06T08:58:42.622Z"
   },
   {
    "duration": 29,
    "start_time": "2023-04-06T08:58:42.663Z"
   },
   {
    "duration": 40,
    "start_time": "2023-04-06T08:58:42.694Z"
   },
   {
    "duration": 88,
    "start_time": "2023-04-06T08:58:42.736Z"
   },
   {
    "duration": 6,
    "start_time": "2023-04-06T08:58:42.827Z"
   },
   {
    "duration": 245,
    "start_time": "2023-04-06T08:58:42.836Z"
   },
   {
    "duration": 9,
    "start_time": "2023-04-06T08:58:43.084Z"
   },
   {
    "duration": 35,
    "start_time": "2023-04-06T08:58:43.095Z"
   },
   {
    "duration": 281,
    "start_time": "2023-04-06T08:58:43.132Z"
   },
   {
    "duration": 10,
    "start_time": "2023-04-06T08:58:43.416Z"
   },
   {
    "duration": 31,
    "start_time": "2023-04-06T08:58:43.428Z"
   },
   {
    "duration": 18,
    "start_time": "2023-04-06T08:58:43.461Z"
   },
   {
    "duration": 26,
    "start_time": "2023-04-06T08:58:43.482Z"
   },
   {
    "duration": 11,
    "start_time": "2023-04-06T08:58:43.510Z"
   },
   {
    "duration": 7,
    "start_time": "2023-04-06T08:58:43.542Z"
   },
   {
    "duration": 27,
    "start_time": "2023-04-06T08:58:43.551Z"
   },
   {
    "duration": 25,
    "start_time": "2023-04-06T08:58:43.580Z"
   },
   {
    "duration": 186,
    "start_time": "2023-04-06T08:58:43.607Z"
   },
   {
    "duration": 269,
    "start_time": "2023-04-06T08:58:43.795Z"
   },
   {
    "duration": 10,
    "start_time": "2023-04-06T08:58:44.066Z"
   },
   {
    "duration": 156,
    "start_time": "2023-04-06T08:58:44.079Z"
   },
   {
    "duration": 8,
    "start_time": "2023-04-06T08:58:44.237Z"
   },
   {
    "duration": 9,
    "start_time": "2023-04-06T08:58:44.252Z"
   },
   {
    "duration": 59,
    "start_time": "2023-04-06T08:58:44.263Z"
   },
   {
    "duration": 17,
    "start_time": "2023-04-06T08:58:44.325Z"
   },
   {
    "duration": 16,
    "start_time": "2023-04-06T08:58:44.345Z"
   },
   {
    "duration": 10,
    "start_time": "2023-04-06T08:58:44.364Z"
   },
   {
    "duration": 52,
    "start_time": "2023-04-06T08:58:44.377Z"
   },
   {
    "duration": 17,
    "start_time": "2023-04-06T08:58:44.431Z"
   },
   {
    "duration": 15,
    "start_time": "2023-04-06T08:58:44.451Z"
   },
   {
    "duration": 20,
    "start_time": "2023-04-06T08:58:44.468Z"
   },
   {
    "duration": 32,
    "start_time": "2023-04-06T08:58:44.490Z"
   },
   {
    "duration": 11,
    "start_time": "2023-04-06T08:58:44.524Z"
   },
   {
    "duration": 14,
    "start_time": "2023-04-06T08:58:44.537Z"
   },
   {
    "duration": 9,
    "start_time": "2023-04-06T09:00:39.793Z"
   },
   {
    "duration": 11,
    "start_time": "2023-04-06T09:02:31.895Z"
   },
   {
    "duration": 12,
    "start_time": "2023-04-06T09:02:50.569Z"
   },
   {
    "duration": 12,
    "start_time": "2023-04-06T09:06:13.337Z"
   },
   {
    "duration": 11,
    "start_time": "2023-04-06T09:07:49.674Z"
   },
   {
    "duration": 12,
    "start_time": "2023-04-06T09:08:45.026Z"
   },
   {
    "duration": 12,
    "start_time": "2023-04-06T09:09:37.087Z"
   },
   {
    "duration": 14,
    "start_time": "2023-04-06T09:09:54.834Z"
   },
   {
    "duration": 12,
    "start_time": "2023-04-06T09:11:27.358Z"
   },
   {
    "duration": 14,
    "start_time": "2023-04-06T09:13:38.126Z"
   },
   {
    "duration": 13,
    "start_time": "2023-04-06T09:14:26.067Z"
   },
   {
    "duration": 14,
    "start_time": "2023-04-06T09:15:07.296Z"
   },
   {
    "duration": 11,
    "start_time": "2023-04-06T09:25:07.569Z"
   },
   {
    "duration": 4,
    "start_time": "2023-04-06T09:42:26.009Z"
   },
   {
    "duration": 9,
    "start_time": "2023-04-06T09:45:42.304Z"
   },
   {
    "duration": 11,
    "start_time": "2023-04-06T09:46:51.046Z"
   },
   {
    "duration": 27,
    "start_time": "2023-04-06T09:47:03.434Z"
   },
   {
    "duration": 3,
    "start_time": "2023-04-06T09:51:01.503Z"
   },
   {
    "duration": 137,
    "start_time": "2023-04-06T09:51:01.514Z"
   },
   {
    "duration": 18,
    "start_time": "2023-04-06T09:51:01.654Z"
   },
   {
    "duration": 106,
    "start_time": "2023-04-06T09:51:01.675Z"
   },
   {
    "duration": 105,
    "start_time": "2023-04-06T09:51:01.783Z"
   },
   {
    "duration": 28,
    "start_time": "2023-04-06T09:51:01.891Z"
   },
   {
    "duration": 44,
    "start_time": "2023-04-06T09:51:01.921Z"
   },
   {
    "duration": 67,
    "start_time": "2023-04-06T09:51:01.967Z"
   },
   {
    "duration": 40,
    "start_time": "2023-04-06T09:51:02.036Z"
   },
   {
    "duration": 33,
    "start_time": "2023-04-06T09:51:02.078Z"
   },
   {
    "duration": 39,
    "start_time": "2023-04-06T09:51:02.114Z"
   },
   {
    "duration": 22,
    "start_time": "2023-04-06T09:51:02.156Z"
   },
   {
    "duration": 69,
    "start_time": "2023-04-06T09:51:02.180Z"
   },
   {
    "duration": 43,
    "start_time": "2023-04-06T09:51:02.252Z"
   },
   {
    "duration": 29,
    "start_time": "2023-04-06T09:51:02.298Z"
   },
   {
    "duration": 3,
    "start_time": "2023-04-06T09:51:02.329Z"
   },
   {
    "duration": 33,
    "start_time": "2023-04-06T09:51:02.334Z"
   },
   {
    "duration": 12,
    "start_time": "2023-04-06T09:51:02.369Z"
   },
   {
    "duration": 11,
    "start_time": "2023-04-06T09:51:02.383Z"
   },
   {
    "duration": 13,
    "start_time": "2023-04-06T09:51:02.396Z"
   },
   {
    "duration": 20,
    "start_time": "2023-04-06T09:51:02.411Z"
   },
   {
    "duration": 16,
    "start_time": "2023-04-06T09:51:02.433Z"
   },
   {
    "duration": 14,
    "start_time": "2023-04-06T09:51:02.452Z"
   },
   {
    "duration": 12,
    "start_time": "2023-04-06T09:51:02.468Z"
   },
   {
    "duration": 19,
    "start_time": "2023-04-06T09:51:02.482Z"
   },
   {
    "duration": 35,
    "start_time": "2023-04-06T09:51:02.503Z"
   },
   {
    "duration": 37,
    "start_time": "2023-04-06T09:51:02.541Z"
   },
   {
    "duration": 19,
    "start_time": "2023-04-06T09:51:02.580Z"
   },
   {
    "duration": 50,
    "start_time": "2023-04-06T09:51:02.601Z"
   },
   {
    "duration": 36,
    "start_time": "2023-04-06T09:51:02.654Z"
   },
   {
    "duration": 23,
    "start_time": "2023-04-06T09:51:02.692Z"
   },
   {
    "duration": 8,
    "start_time": "2023-04-06T09:51:02.717Z"
   },
   {
    "duration": 33,
    "start_time": "2023-04-06T09:51:02.727Z"
   },
   {
    "duration": 14,
    "start_time": "2023-04-06T09:51:02.762Z"
   },
   {
    "duration": 16,
    "start_time": "2023-04-06T09:51:02.778Z"
   },
   {
    "duration": 49,
    "start_time": "2023-04-06T09:51:02.796Z"
   },
   {
    "duration": 32,
    "start_time": "2023-04-06T09:51:02.848Z"
   },
   {
    "duration": 57,
    "start_time": "2023-04-06T09:51:02.882Z"
   },
   {
    "duration": 30,
    "start_time": "2023-04-06T09:51:02.942Z"
   },
   {
    "duration": 63,
    "start_time": "2023-04-06T09:51:02.975Z"
   },
   {
    "duration": 65,
    "start_time": "2023-04-06T09:51:03.041Z"
   },
   {
    "duration": 77,
    "start_time": "2023-04-06T09:51:03.113Z"
   },
   {
    "duration": 25,
    "start_time": "2023-04-06T09:51:03.192Z"
   },
   {
    "duration": 65,
    "start_time": "2023-04-06T09:51:03.219Z"
   },
   {
    "duration": 25,
    "start_time": "2023-04-06T09:51:03.287Z"
   },
   {
    "duration": 149,
    "start_time": "2023-04-06T09:51:03.314Z"
   },
   {
    "duration": 34,
    "start_time": "2023-04-06T09:51:03.466Z"
   },
   {
    "duration": 55,
    "start_time": "2023-04-06T09:51:03.502Z"
   },
   {
    "duration": 36,
    "start_time": "2023-04-06T09:51:03.559Z"
   },
   {
    "duration": 27,
    "start_time": "2023-04-06T09:51:03.597Z"
   },
   {
    "duration": 34,
    "start_time": "2023-04-06T09:51:03.627Z"
   },
   {
    "duration": 30,
    "start_time": "2023-04-06T09:51:03.664Z"
   },
   {
    "duration": 65,
    "start_time": "2023-04-06T09:51:03.696Z"
   },
   {
    "duration": 46,
    "start_time": "2023-04-06T09:51:03.763Z"
   },
   {
    "duration": 212,
    "start_time": "2023-04-06T09:51:03.812Z"
   },
   {
    "duration": 16,
    "start_time": "2023-04-06T09:51:04.027Z"
   },
   {
    "duration": 7,
    "start_time": "2023-04-06T09:51:04.045Z"
   },
   {
    "duration": 190,
    "start_time": "2023-04-06T09:51:04.055Z"
   },
   {
    "duration": 8,
    "start_time": "2023-04-06T09:51:04.247Z"
   },
   {
    "duration": 28,
    "start_time": "2023-04-06T09:51:04.256Z"
   },
   {
    "duration": 34,
    "start_time": "2023-04-06T09:51:04.286Z"
   },
   {
    "duration": 37,
    "start_time": "2023-04-06T09:51:04.322Z"
   },
   {
    "duration": 14,
    "start_time": "2023-04-06T09:51:04.361Z"
   },
   {
    "duration": 21,
    "start_time": "2023-04-06T09:51:04.377Z"
   },
   {
    "duration": 152,
    "start_time": "2023-04-06T09:51:04.400Z"
   },
   {
    "duration": 103,
    "start_time": "2023-04-06T09:51:04.555Z"
   },
   {
    "duration": 208,
    "start_time": "2023-04-06T09:51:04.660Z"
   },
   {
    "duration": 279,
    "start_time": "2023-04-06T09:51:04.871Z"
   },
   {
    "duration": 10,
    "start_time": "2023-04-06T09:51:05.152Z"
   },
   {
    "duration": 160,
    "start_time": "2023-04-06T09:51:05.164Z"
   },
   {
    "duration": 5,
    "start_time": "2023-04-06T09:51:05.326Z"
   },
   {
    "duration": 16,
    "start_time": "2023-04-06T09:51:05.342Z"
   },
   {
    "duration": 49,
    "start_time": "2023-04-06T09:51:05.360Z"
   },
   {
    "duration": 9,
    "start_time": "2023-04-06T09:51:05.411Z"
   },
   {
    "duration": 24,
    "start_time": "2023-04-06T09:51:05.423Z"
   },
   {
    "duration": 10,
    "start_time": "2023-04-06T09:51:05.450Z"
   },
   {
    "duration": 53,
    "start_time": "2023-04-06T09:51:05.462Z"
   },
   {
    "duration": 8,
    "start_time": "2023-04-06T09:51:05.517Z"
   },
   {
    "duration": 18,
    "start_time": "2023-04-06T09:51:05.527Z"
   },
   {
    "duration": 16,
    "start_time": "2023-04-06T09:51:05.547Z"
   },
   {
    "duration": 16,
    "start_time": "2023-04-06T09:51:05.565Z"
   },
   {
    "duration": 29,
    "start_time": "2023-04-06T09:51:05.583Z"
   },
   {
    "duration": 15,
    "start_time": "2023-04-06T09:51:05.615Z"
   },
   {
    "duration": 20,
    "start_time": "2023-04-06T09:51:05.632Z"
   },
   {
    "duration": 17,
    "start_time": "2023-04-06T09:51:05.654Z"
   },
   {
    "duration": 38,
    "start_time": "2023-04-06T09:51:05.674Z"
   },
   {
    "duration": 422,
    "start_time": "2023-04-07T05:43:39.603Z"
   },
   {
    "duration": 497,
    "start_time": "2023-04-07T05:43:40.028Z"
   },
   {
    "duration": 22,
    "start_time": "2023-04-07T05:43:40.527Z"
   },
   {
    "duration": 24,
    "start_time": "2023-04-07T05:43:40.550Z"
   },
   {
    "duration": 148,
    "start_time": "2023-04-07T05:43:40.577Z"
   },
   {
    "duration": 7,
    "start_time": "2023-04-07T05:43:40.727Z"
   },
   {
    "duration": 35,
    "start_time": "2023-04-07T05:43:40.736Z"
   },
   {
    "duration": 53,
    "start_time": "2023-04-07T05:43:40.772Z"
   },
   {
    "duration": 21,
    "start_time": "2023-04-07T05:43:40.827Z"
   },
   {
    "duration": 9,
    "start_time": "2023-04-07T05:43:40.850Z"
   },
   {
    "duration": 34,
    "start_time": "2023-04-07T05:43:40.860Z"
   },
   {
    "duration": 48,
    "start_time": "2023-04-07T05:43:40.895Z"
   },
   {
    "duration": 19,
    "start_time": "2023-04-07T05:43:40.945Z"
   },
   {
    "duration": 67,
    "start_time": "2023-04-07T05:43:40.967Z"
   },
   {
    "duration": 33,
    "start_time": "2023-04-07T05:43:41.036Z"
   },
   {
    "duration": 59,
    "start_time": "2023-04-07T05:43:41.071Z"
   },
   {
    "duration": 30,
    "start_time": "2023-04-07T05:43:41.132Z"
   },
   {
    "duration": 18,
    "start_time": "2023-04-07T05:43:41.164Z"
   },
   {
    "duration": 52,
    "start_time": "2023-04-07T05:43:41.189Z"
   },
   {
    "duration": 32,
    "start_time": "2023-04-07T05:43:41.242Z"
   },
   {
    "duration": 9,
    "start_time": "2023-04-07T05:43:41.275Z"
   },
   {
    "duration": 49,
    "start_time": "2023-04-07T05:43:41.287Z"
   },
   {
    "duration": 32,
    "start_time": "2023-04-07T05:43:41.337Z"
   },
   {
    "duration": 55,
    "start_time": "2023-04-07T05:43:41.371Z"
   },
   {
    "duration": 9,
    "start_time": "2023-04-07T05:43:41.430Z"
   },
   {
    "duration": 28,
    "start_time": "2023-04-07T05:43:41.441Z"
   },
   {
    "duration": 37,
    "start_time": "2023-04-07T05:43:41.471Z"
   },
   {
    "duration": 20,
    "start_time": "2023-04-07T05:43:41.509Z"
   },
   {
    "duration": 23,
    "start_time": "2023-04-07T05:43:41.531Z"
   },
   {
    "duration": 50,
    "start_time": "2023-04-07T05:43:41.556Z"
   },
   {
    "duration": 22,
    "start_time": "2023-04-07T05:43:41.611Z"
   },
   {
    "duration": 6,
    "start_time": "2023-04-07T05:43:41.634Z"
   },
   {
    "duration": 8,
    "start_time": "2023-04-07T05:43:41.642Z"
   },
   {
    "duration": 10,
    "start_time": "2023-04-07T05:43:41.651Z"
   },
   {
    "duration": 9,
    "start_time": "2023-04-07T05:43:41.663Z"
   },
   {
    "duration": 76,
    "start_time": "2023-04-07T05:43:41.674Z"
   },
   {
    "duration": 24,
    "start_time": "2023-04-07T05:43:41.752Z"
   },
   {
    "duration": 65,
    "start_time": "2023-04-07T05:43:41.778Z"
   },
   {
    "duration": 19,
    "start_time": "2023-04-07T05:43:41.845Z"
   },
   {
    "duration": 74,
    "start_time": "2023-04-07T05:43:41.867Z"
   },
   {
    "duration": 33,
    "start_time": "2023-04-07T05:43:41.948Z"
   },
   {
    "duration": 71,
    "start_time": "2023-04-07T05:43:41.984Z"
   },
   {
    "duration": 21,
    "start_time": "2023-04-07T05:43:42.057Z"
   },
   {
    "duration": 78,
    "start_time": "2023-04-07T05:43:42.080Z"
   },
   {
    "duration": 70,
    "start_time": "2023-04-07T05:43:42.160Z"
   },
   {
    "duration": 49,
    "start_time": "2023-04-07T05:43:42.232Z"
   },
   {
    "duration": 62,
    "start_time": "2023-04-07T05:43:42.282Z"
   },
   {
    "duration": 21,
    "start_time": "2023-04-07T05:43:42.346Z"
   },
   {
    "duration": 17,
    "start_time": "2023-04-07T05:43:42.369Z"
   },
   {
    "duration": 79,
    "start_time": "2023-04-07T05:43:42.391Z"
   },
   {
    "duration": 32,
    "start_time": "2023-04-07T05:43:42.472Z"
   },
   {
    "duration": 50,
    "start_time": "2023-04-07T05:43:42.505Z"
   },
   {
    "duration": 101,
    "start_time": "2023-04-07T05:43:42.557Z"
   },
   {
    "duration": 5,
    "start_time": "2023-04-07T05:43:42.659Z"
   },
   {
    "duration": 511,
    "start_time": "2023-04-07T05:43:42.665Z"
   },
   {
    "duration": 16,
    "start_time": "2023-04-07T05:43:43.178Z"
   },
   {
    "duration": 68,
    "start_time": "2023-04-07T05:43:43.196Z"
   },
   {
    "duration": 239,
    "start_time": "2023-04-07T05:43:43.266Z"
   },
   {
    "duration": 18,
    "start_time": "2023-04-07T05:43:43.507Z"
   },
   {
    "duration": 35,
    "start_time": "2023-04-07T05:43:43.530Z"
   },
   {
    "duration": 96,
    "start_time": "2023-04-07T05:43:43.567Z"
   },
   {
    "duration": 35,
    "start_time": "2023-04-07T05:43:43.665Z"
   },
   {
    "duration": 37,
    "start_time": "2023-04-07T05:43:43.702Z"
   },
   {
    "duration": 23,
    "start_time": "2023-04-07T05:43:43.741Z"
   },
   {
    "duration": 64,
    "start_time": "2023-04-07T05:43:43.767Z"
   },
   {
    "duration": 93,
    "start_time": "2023-04-07T05:43:43.833Z"
   },
   {
    "duration": 194,
    "start_time": "2023-04-07T05:43:43.931Z"
   },
   {
    "duration": 289,
    "start_time": "2023-04-07T05:43:44.127Z"
   },
   {
    "duration": 10,
    "start_time": "2023-04-07T05:43:44.418Z"
   },
   {
    "duration": 142,
    "start_time": "2023-04-07T05:43:44.429Z"
   },
   {
    "duration": 4,
    "start_time": "2023-04-07T05:43:44.573Z"
   },
   {
    "duration": 67,
    "start_time": "2023-04-07T05:43:44.579Z"
   },
   {
    "duration": 66,
    "start_time": "2023-04-07T05:43:44.648Z"
   },
   {
    "duration": 22,
    "start_time": "2023-04-07T05:43:44.717Z"
   },
   {
    "duration": 46,
    "start_time": "2023-04-07T05:43:44.742Z"
   },
   {
    "duration": 61,
    "start_time": "2023-04-07T05:43:44.789Z"
   },
   {
    "duration": 49,
    "start_time": "2023-04-07T05:43:44.852Z"
   },
   {
    "duration": 91,
    "start_time": "2023-04-07T05:43:44.903Z"
   },
   {
    "duration": 56,
    "start_time": "2023-04-07T05:43:44.999Z"
   },
   {
    "duration": 14,
    "start_time": "2023-04-07T05:43:45.057Z"
   },
   {
    "duration": 19,
    "start_time": "2023-04-07T05:43:45.073Z"
   },
   {
    "duration": 42,
    "start_time": "2023-04-07T05:43:45.096Z"
   },
   {
    "duration": 11,
    "start_time": "2023-04-07T05:43:45.140Z"
   },
   {
    "duration": 16,
    "start_time": "2023-04-07T05:43:45.152Z"
   },
   {
    "duration": 13,
    "start_time": "2023-04-07T05:43:45.170Z"
   },
   {
    "duration": 45,
    "start_time": "2023-04-07T05:43:45.184Z"
   },
   {
    "duration": 50,
    "start_time": "2023-04-10T08:43:11.983Z"
   },
   {
    "duration": 364,
    "start_time": "2023-04-10T08:43:18.197Z"
   },
   {
    "duration": 202,
    "start_time": "2023-04-10T08:43:18.563Z"
   },
   {
    "duration": 18,
    "start_time": "2023-04-10T08:43:18.767Z"
   },
   {
    "duration": 22,
    "start_time": "2023-04-10T08:43:18.786Z"
   },
   {
    "duration": 107,
    "start_time": "2023-04-10T08:43:18.810Z"
   },
   {
    "duration": 6,
    "start_time": "2023-04-10T08:43:18.919Z"
   },
   {
    "duration": 20,
    "start_time": "2023-04-10T08:43:18.927Z"
   },
   {
    "duration": 11,
    "start_time": "2023-04-10T08:43:18.949Z"
   },
   {
    "duration": 23,
    "start_time": "2023-04-10T08:43:18.962Z"
   },
   {
    "duration": 17,
    "start_time": "2023-04-10T08:43:18.987Z"
   },
   {
    "duration": 22,
    "start_time": "2023-04-10T08:43:19.005Z"
   },
   {
    "duration": 19,
    "start_time": "2023-04-10T08:43:19.028Z"
   },
   {
    "duration": 15,
    "start_time": "2023-04-10T08:43:19.048Z"
   },
   {
    "duration": 33,
    "start_time": "2023-04-10T08:43:19.066Z"
   },
   {
    "duration": 36,
    "start_time": "2023-04-10T08:43:19.101Z"
   },
   {
    "duration": 12,
    "start_time": "2023-04-10T08:43:19.139Z"
   },
   {
    "duration": 9,
    "start_time": "2023-04-10T08:43:19.153Z"
   },
   {
    "duration": 7,
    "start_time": "2023-04-10T08:43:19.164Z"
   },
   {
    "duration": 7,
    "start_time": "2023-04-10T08:43:19.172Z"
   },
   {
    "duration": 7,
    "start_time": "2023-04-10T08:43:19.180Z"
   },
   {
    "duration": 5,
    "start_time": "2023-04-10T08:43:19.188Z"
   },
   {
    "duration": 5,
    "start_time": "2023-04-10T08:43:19.195Z"
   },
   {
    "duration": 14,
    "start_time": "2023-04-10T08:43:19.201Z"
   },
   {
    "duration": 9,
    "start_time": "2023-04-10T08:43:19.216Z"
   },
   {
    "duration": 7,
    "start_time": "2023-04-10T08:43:19.227Z"
   },
   {
    "duration": 19,
    "start_time": "2023-04-10T08:43:19.235Z"
   },
   {
    "duration": 34,
    "start_time": "2023-04-10T08:43:19.256Z"
   },
   {
    "duration": 17,
    "start_time": "2023-04-10T08:43:19.293Z"
   },
   {
    "duration": 19,
    "start_time": "2023-04-10T08:43:19.334Z"
   },
   {
    "duration": 25,
    "start_time": "2023-04-10T08:43:19.355Z"
   },
   {
    "duration": 15,
    "start_time": "2023-04-10T08:43:19.382Z"
   },
   {
    "duration": 7,
    "start_time": "2023-04-10T08:43:19.398Z"
   },
   {
    "duration": 9,
    "start_time": "2023-04-10T08:43:19.406Z"
   },
   {
    "duration": 6,
    "start_time": "2023-04-10T08:43:19.416Z"
   },
   {
    "duration": 15,
    "start_time": "2023-04-10T08:43:19.423Z"
   },
   {
    "duration": 28,
    "start_time": "2023-04-10T08:43:19.439Z"
   },
   {
    "duration": 17,
    "start_time": "2023-04-10T08:43:19.468Z"
   },
   {
    "duration": 25,
    "start_time": "2023-04-10T08:43:19.486Z"
   },
   {
    "duration": 15,
    "start_time": "2023-04-10T08:43:19.513Z"
   },
   {
    "duration": 8,
    "start_time": "2023-04-10T08:43:19.530Z"
   },
   {
    "duration": 6,
    "start_time": "2023-04-10T08:43:19.543Z"
   },
   {
    "duration": 21,
    "start_time": "2023-04-10T08:43:19.550Z"
   },
   {
    "duration": 6,
    "start_time": "2023-04-10T08:43:19.572Z"
   },
   {
    "duration": 22,
    "start_time": "2023-04-10T08:43:19.580Z"
   },
   {
    "duration": 9,
    "start_time": "2023-04-10T08:43:19.603Z"
   },
   {
    "duration": 54,
    "start_time": "2023-04-10T08:43:19.613Z"
   },
   {
    "duration": 6,
    "start_time": "2023-04-10T08:43:19.669Z"
   },
   {
    "duration": 24,
    "start_time": "2023-04-10T08:43:19.677Z"
   },
   {
    "duration": 6,
    "start_time": "2023-04-10T08:43:19.702Z"
   },
   {
    "duration": 17,
    "start_time": "2023-04-10T08:43:19.709Z"
   },
   {
    "duration": 16,
    "start_time": "2023-04-10T08:43:19.728Z"
   },
   {
    "duration": 8,
    "start_time": "2023-04-10T08:43:19.745Z"
   },
   {
    "duration": 34,
    "start_time": "2023-04-10T08:43:19.754Z"
   },
   {
    "duration": 4,
    "start_time": "2023-04-10T08:43:19.790Z"
   },
   {
    "duration": 710,
    "start_time": "2023-04-10T08:43:19.796Z"
   },
   {
    "duration": 5,
    "start_time": "2023-04-10T08:43:20.508Z"
   },
   {
    "duration": 353,
    "start_time": "2023-04-10T08:43:20.514Z"
   },
   {
    "duration": 0,
    "start_time": "2023-04-10T08:43:20.869Z"
   },
   {
    "duration": 0,
    "start_time": "2023-04-10T08:43:20.870Z"
   },
   {
    "duration": 0,
    "start_time": "2023-04-10T08:43:20.871Z"
   },
   {
    "duration": 0,
    "start_time": "2023-04-10T08:43:20.873Z"
   },
   {
    "duration": 0,
    "start_time": "2023-04-10T08:43:20.874Z"
   },
   {
    "duration": 0,
    "start_time": "2023-04-10T08:43:20.875Z"
   },
   {
    "duration": 0,
    "start_time": "2023-04-10T08:43:20.876Z"
   },
   {
    "duration": 0,
    "start_time": "2023-04-10T08:43:20.877Z"
   },
   {
    "duration": 0,
    "start_time": "2023-04-10T08:43:20.878Z"
   },
   {
    "duration": 0,
    "start_time": "2023-04-10T08:43:20.880Z"
   },
   {
    "duration": 0,
    "start_time": "2023-04-10T08:43:20.881Z"
   },
   {
    "duration": 1,
    "start_time": "2023-04-10T08:43:20.882Z"
   },
   {
    "duration": 0,
    "start_time": "2023-04-10T08:43:20.884Z"
   },
   {
    "duration": 0,
    "start_time": "2023-04-10T08:43:20.886Z"
   },
   {
    "duration": 0,
    "start_time": "2023-04-10T08:43:20.887Z"
   },
   {
    "duration": 0,
    "start_time": "2023-04-10T08:43:20.888Z"
   },
   {
    "duration": 0,
    "start_time": "2023-04-10T08:43:20.889Z"
   },
   {
    "duration": 0,
    "start_time": "2023-04-10T08:43:20.890Z"
   },
   {
    "duration": 0,
    "start_time": "2023-04-10T08:43:20.892Z"
   },
   {
    "duration": 0,
    "start_time": "2023-04-10T08:43:20.893Z"
   },
   {
    "duration": 0,
    "start_time": "2023-04-10T08:43:20.894Z"
   },
   {
    "duration": 0,
    "start_time": "2023-04-10T08:43:20.934Z"
   },
   {
    "duration": 0,
    "start_time": "2023-04-10T08:43:20.936Z"
   },
   {
    "duration": 0,
    "start_time": "2023-04-10T08:43:20.937Z"
   },
   {
    "duration": 0,
    "start_time": "2023-04-10T08:43:20.938Z"
   },
   {
    "duration": 0,
    "start_time": "2023-04-10T08:43:20.940Z"
   },
   {
    "duration": 0,
    "start_time": "2023-04-10T08:43:20.941Z"
   },
   {
    "duration": 0,
    "start_time": "2023-04-10T08:43:20.942Z"
   },
   {
    "duration": 0,
    "start_time": "2023-04-10T08:43:20.944Z"
   },
   {
    "duration": 0,
    "start_time": "2023-04-10T08:43:20.945Z"
   },
   {
    "duration": 9,
    "start_time": "2023-04-10T08:49:35.289Z"
   },
   {
    "duration": 10,
    "start_time": "2023-04-10T08:50:46.670Z"
   },
   {
    "duration": 9,
    "start_time": "2023-04-10T08:58:06.500Z"
   },
   {
    "duration": 6,
    "start_time": "2023-04-10T08:58:16.140Z"
   }
  ],
  "colab": {
   "name": "DA+. Сборный проект 1. Шаблон (1).ipynb",
   "provenance": []
  },
  "kernelspec": {
   "display_name": "Python 3 (ipykernel)",
   "language": "python",
   "name": "python3"
  },
  "language_info": {
   "codemirror_mode": {
    "name": "ipython",
    "version": 3
   },
   "file_extension": ".py",
   "mimetype": "text/x-python",
   "name": "python",
   "nbconvert_exporter": "python",
   "pygments_lexer": "ipython3",
   "version": "3.9.5"
  },
  "toc": {
   "base_numbering": 1,
   "nav_menu": {},
   "number_sections": true,
   "sideBar": true,
   "skip_h1_title": true,
   "title_cell": "Table of Contents",
   "title_sidebar": "Contents",
   "toc_cell": false,
   "toc_position": {
    "height": "calc(100% - 180px)",
    "left": "10px",
    "top": "150px",
    "width": "375.391px"
   },
   "toc_section_display": true,
   "toc_window_display": false
  }
 },
 "nbformat": 4,
 "nbformat_minor": 1
}
